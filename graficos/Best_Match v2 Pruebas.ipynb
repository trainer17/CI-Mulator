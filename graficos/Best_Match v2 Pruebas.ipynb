{
 "cells": [
  {
   "cell_type": "markdown",
   "metadata": {},
   "source": [
    "Este archivo contiene la parte práctica de Reasignación de Frecuencias propuesto para Innovación Emergente\n",
    "\n",
    "Ojo que todo lo que use nota.sintetizar3 en adelante (anterior a Best_Match v4) sintetiza mal, una 8va arriba"
   ]
  },
  {
   "cell_type": "code",
   "execution_count": null,
   "metadata": {},
   "outputs": [],
   "source": [
    "#Correr esto para importar la librería y etc\n",
    "import os\n",
    "os.chdir(r'C:\\Users\\Graciela\\Desktop\\Cochlear Implants\\CODE ultima version')\n",
    "%run \"CIS_6_Best_Match v3.ipynb\"\n",
    "\n",
    "MISMATCH = 0\n",
    "CHANNEL_INTERACTION_INDEX = 0\n",
    "DISPERTION = 0.001\n",
    "WIN_LEN_ACE = 100\n",
    "MODE = CONTINOUS\n",
    "MAXIMA = 5\n",
    "ORDEN = 6\n",
    "\n",
    "GENERIC_MEDEL3 = Elec_Array(N=12, xi = 28, dx = 23.1/11) #El de Francisco, Flex28\n",
    "GENERIC_MEDEL3.freqsAnalisis = [120,235,384,579,836, 1175,1624,2222,3019,4084,5507,7410]\n",
    "GENERIC_MEDEL3.name = 'Medel Francisco Opus 2 FLEX28'\n",
    "GENERIC_MEDEL3.manufacturer = MEDEL\n",
    "GENERIC_MEDEL3.channel1_lowcut = 70 #FSP = 70Hz, HDCIS = 250Hz\n",
    "\n",
    "GENERIC_MEDEL3.setearParametros()\n",
    "elec_array = GENERIC_MEDEL3\n",
    "\n",
    "\n",
    "\n",
    "GENERIC_MEDEL6 = Elec_Array(N=12, xi = 31.5, dx=26.4/11) #monopolar  Jace Wolfe p339\n",
    "GENERIC_MEDEL6.freqsAnalisis = freqs_estandar\n",
    "GENERIC_MEDEL6.name = 'Standard'\n",
    "GENERIC_MEDEL6.manufacturer = MEDEL\n",
    "\n",
    "GENERIC_COCHLEAR3 = Elec_Array(N=22, xi= 25, dx = 20/21 )\n",
    "GENERIC_COCHLEAR3.freqsAnalisis = freqTable22\n",
    "GENERIC_COCHLEAR3.name = 'Slim Straight (xi = 25mm)'\n",
    "GENERIC_COCHLEAR3.manufacturer = COCHLEAR\n",
    "\n",
    "\n",
    "saw = [1/i for i in range(1,10)]\n",
    "tri = [1/(i**2) for i in range(1,10)]\n",
    "sq =  [1/i for i in range(1,10)]\n",
    "for i in range(len(sq)): \n",
    "    if i %2 ==1: sq[i] = 0."
   ]
  },
  {
   "cell_type": "code",
   "execution_count": null,
   "metadata": {},
   "outputs": [],
   "source": [
    "print(GENERIC_MEDEL3.freqsAnalisis)\n",
    "print()\n",
    "print(np.round(GENERIC_MEDEL3.freqsElectrodos))"
   ]
  },
  {
   "cell_type": "code",
   "execution_count": null,
   "metadata": {},
   "outputs": [],
   "source": [
    "def test_suite_Nota(nota,elec_array, nChann,max_di):\n",
    "\n",
    "    sig =  pureNote(nota.freq, nota.amps, 2, elec_array.SR )*10\n",
    "\n",
    "    print('Señal original')\n",
    "    plt.plot(sig[0:100])\n",
    "    display(Audio(sig, rate= elec_array.SR))\n",
    "    plot_stft_señalsola(sig, elec_array.freqsElectrodos)\n",
    "\n",
    "    print('Señal sintetizada para que elicite esa altura')\n",
    "    A = elec_array.generarSenialMejorMatchNota(nota.freq, nota.amps, nChann,max_di, 2)\n",
    "    display(Audio(A, rate = elec_array.SR))\n",
    "    #plot_stft_señalsola(A)\n",
    "    plot_stft(A, elec_array, analisis = True, mini = True)\n",
    "\n",
    "    print('Señal que daría el implante')\n",
    "    out = elec_array.CIS(A)\n",
    "    display(Audio(out, rate = OUT_SR))\n",
    "    plot_stft(out,elec_array, analisis = False, mini = True)"
   ]
  },
  {
   "cell_type": "markdown",
   "metadata": {},
   "source": [
    "## Prueba preliminar 1\n",
    "Chequeo de sanidad : 1 armónico perfectamente alineado"
   ]
  },
  {
   "cell_type": "code",
   "execution_count": null,
   "metadata": {},
   "outputs": [],
   "source": [
    "MISMATCH = 0\n",
    "CHANNEL_INTERACTION_INDEX = 0\n",
    "DISPERTION = 0.001\n",
    "WIN_LEN_ACE = 1000\n",
    "MODE = CONTINOUS\n",
    "MAXIMA = 5\n",
    "ORDEN = 6\n",
    "\n",
    "#Parámetros de la prueba\n",
    "nChann = 1\n",
    "max_di = 700\n",
    "\n",
    "fund = 893\n",
    "amp_armonicos = [1]\n",
    "dur_seg = 2\n",
    "sig = 0.5* np.sum([puretone(fund*(i+1), dur_seg, IMPLANT_SR )*amp_armonicos[i] for i in range(len(amp_armonicos))] , axis=0)\n",
    "\n",
    "\n",
    "#Nota:\n",
    "nota = Nota(fund, amp_armonicos, dur_seg)\n",
    "\n",
    "print('Señal con altura original (puede ser representada por el 4to canal) \\n Amarillo: Frecuencia de los electrodos')\n",
    "display(Audio(sig, rate=IMPLANT_SR))\n",
    "plot_stft_señalsola(sig, GENERIC_MEDEL3.freqsElectrodos)\n",
    "\n",
    "print('Señal sintetizada para que elicite esa altura (estimula el 4to canal de análisis)')\n",
    "A = GENERIC_MEDEL3.generarSenialMejorMatchNota(nota, nChann,max_di)\n",
    "display(Audio(A, rate = IMPLANT_SR))\n",
    "#plot_stft_señalsola(A)\n",
    "plot_stft(A, GENERIC_MEDEL3, analisis = True, mini = True)\n",
    "\n",
    "print('Señal que daría el implante (estimula el 4to canal)')\n",
    "out = GENERIC_MEDEL3.CIS(A)\n",
    "display(Audio(out, rate = OUT_SR))\n",
    "plot_stft(out,GENERIC_MEDEL3, analisis = False, mini = True)\n",
    "print()"
   ]
  },
  {
   "cell_type": "markdown",
   "metadata": {},
   "source": [
    "Vemos ya un problema: Aunque la señal tenga, en teoría, un solo \"canal\", lo que escucha la persona son varios canales. Esto es porque los filtros *de análisis* no son lo suficientemente abruptos.\n",
    "Veamos que sucede en cambio si cambiamos el orden:"
   ]
  },
  {
   "cell_type": "code",
   "execution_count": null,
   "metadata": {},
   "outputs": [],
   "source": [
    "ORDEN = 12\n",
    "\n",
    "print('Señal que daría el implante')\n",
    "out = GENERIC_MEDEL3.CIS(A)\n",
    "display(Audio(out, rate = OUT_SR))\n",
    "plot_stft(out,GENERIC_MEDEL3, analisis = False, mini = True)\n",
    "print()"
   ]
  },
  {
   "cell_type": "markdown",
   "metadata": {},
   "source": [
    "Y, sí, nos da algo más pronunciado"
   ]
  },
  {
   "cell_type": "markdown",
   "metadata": {},
   "source": [
    "## Prueba Preliminar 1b\n",
    "Una frecuencia, cercana a un electrodo\n",
    "Debería volver a darme el canal 4 como activado, pero esta vez, ya no es una altura cercana a la original"
   ]
  },
  {
   "cell_type": "code",
   "execution_count": null,
   "metadata": {},
   "outputs": [],
   "source": [
    "fund = 1050\n",
    "ORDEN = 12\n",
    "DISPERTION  = 0.01\n",
    "MAXIMA  = 1\n",
    "\n",
    "sig = 0.5* np.sum([puretone(fund*(i+1), dur_seg, IMPLANT_SR )*amp_armonicos[i] for i in range(len(amp_armonicos))] , axis=0)\n",
    "\n",
    "print('Señal con altura original (entre 4to y 5to canal, más cerca del 4to)')\n",
    "display(Audio(sig, rate=IMPLANT_SR))\n",
    "plot_stft_señalsola(sig, GENERIC_MEDEL3.freqsElectrodos)\n",
    "\n",
    "print('Señal sintetizada para que excite al canal más cercano')\n",
    "A = GENERIC_MEDEL3.generarSenialMejorMatchNota(nota, 1,700)\n",
    "display(Audio(A, rate = IMPLANT_SR))\n",
    "plot_stft(A, GENERIC_MEDEL3, analisis = True, mini = True)\n",
    "\n",
    "print('Señal que daría el implante (estimula el 4to canal)')\n",
    "out = GENERIC_MEDEL3.CIS(A)\n",
    "display(Audio(out, rate = OUT_SR))\n",
    "plot_stft(out,GENERIC_MEDEL3, analisis = False, mini = True)\n",
    "print()"
   ]
  },
  {
   "cell_type": "markdown",
   "metadata": {},
   "source": [
    "## Prueba Preliminar 2\n",
    "Dos armónicos, en relación de 8va"
   ]
  },
  {
   "cell_type": "code",
   "execution_count": null,
   "metadata": {},
   "outputs": [],
   "source": [
    "ORDEN = 20\n",
    "\n",
    "nChann = 2\n",
    "max_di = 50\n",
    "\n",
    "fund = 870\n",
    "amp_armonicos = [1,1]\n",
    "dur_seg = 2\n",
    "sig = 0.5* np.sum([puretone(fund*(i+1), dur_seg, IMPLANT_SR )*amp_armonicos[i] for i in range(len(amp_armonicos))] , axis=0)\n",
    "\n",
    "nota = Nota(fund, amp_armonicos, dur_seg)\n",
    "\n",
    "print('Señal con altura original (parciales cerca del 4to y 6to canal)')\n",
    "display(Audio(sig, rate=IMPLANT_SR))\n",
    "plot_stft_señalsola(sig, GENERIC_MEDEL3.freqsElectrodos)\n",
    "\n",
    "print('Señal sintetizada para que elicite esa altura (estimula el 4to y 6to canal de análisis)')\n",
    "A = GENERIC_MEDEL3.generarSenialMejorMatchNota(nota, nChann,max_di)\n",
    "display(Audio(A, rate = IMPLANT_SR))\n",
    "#plot_stft_señalsola(A)\n",
    "plot_stft(A, GENERIC_MEDEL3, analisis = True, mini = True)\n",
    "\n",
    "print('Señal que daría el implante (estimula el 4to y 6to canal. EL error es < 50 cents')\n",
    "out = GENERIC_MEDEL3.CIS(A)\n",
    "display(Audio(out, rate = OUT_SR))\n",
    "plot_stft(out,GENERIC_MEDEL3, analisis = False, mini = True)\n",
    "print()"
   ]
  },
  {
   "cell_type": "markdown",
   "metadata": {},
   "source": [
    "# Gráficos JJI "
   ]
  },
  {
   "cell_type": "markdown",
   "metadata": {},
   "source": [
    "## Gráfico 1 - Veo electrodos activados Con mi programa"
   ]
  },
  {
   "cell_type": "code",
   "execution_count": null,
   "metadata": {},
   "outputs": [],
   "source": [
    "nota.parciales"
   ]
  },
  {
   "cell_type": "code",
   "execution_count": null,
   "metadata": {},
   "outputs": [],
   "source": [
    "fund = 870\n",
    "amp_armonicos = [1,1, 0,0,1]\n",
    "dur_seg = 2\n",
    "nota = Nota(fund, amp_armonicos, dur_seg, [])\n",
    "sig = nota.sintetizar(elec_array.SR)\n",
    "\n",
    "print('Señal con altura original (parciales cerca del 4to y 6to canal)')\n",
    "display(Audio(sig, rate=IMPLANT_SR))\n",
    "plot_stft_señalsola(sig, elec_array.freqsElectrodos)\n"
   ]
  },
  {
   "cell_type": "markdown",
   "metadata": {},
   "source": [
    "Calculo electrodos activados normalmente"
   ]
  },
  {
   "cell_type": "code",
   "execution_count": null,
   "metadata": {},
   "outputs": [],
   "source": [
    "MISMATCH = 0\n",
    "CHANNEL_INTERACTION_INDEX = 0\n",
    "DISPERTION = 0.001\n",
    "WIN_LEN_ACE = 1000\n",
    "MODE = CONTINOUS\n",
    "MAXIMA = 5\n",
    "ORDEN = 20\n",
    "\n",
    "elec_array = GENERIC_MEDEL3\n",
    "out_normal = elec_array.CIS(sig)\n",
    "display(Audio(out_normal, rate=OUT_SR))"
   ]
  },
  {
   "cell_type": "markdown",
   "metadata": {},
   "source": [
    "Reasigno frecuencias para activar los que yo quiero"
   ]
  },
  {
   "cell_type": "code",
   "execution_count": null,
   "metadata": {},
   "outputs": [],
   "source": [
    "nChann = 4\n",
    "max_di = 50\n",
    "\n",
    "print('Señal sintetizada para elicitar esa altura (estimula el 4to y 6to canal de análisis)')\n",
    "out_reasignada = elec_array.generarSenialMejorMatchNota(nota, nChann,max_di)\n",
    "display(Audio(out_reasignada, rate = elec_array.SR))\n",
    "#plot_stft_señalsola(A)\n",
    "plot_stft(out_reasignada, elec_array, analisis = True, mini = True)\n",
    "\n",
    "print('Señal que daría el implante (estimula el 4to y 6to canal. EL error es < 50 cents para los primeros 2')\n",
    "out = elec_array.CIS(out_reasignada)\n",
    "display(Audio(out, rate = OUT_SR))\n",
    "plot_stft(out,elec_array, analisis = False, mini = True)\n",
    "print()"
   ]
  },
  {
   "cell_type": "markdown",
   "metadata": {},
   "source": [
    "Grafico juntas las FFT (se re superponen... descarto esta idea)"
   ]
  },
  {
   "cell_type": "code",
   "execution_count": null,
   "metadata": {},
   "outputs": [],
   "source": [
    "\n",
    "from scipy.fft import rfft, rfftfreq\n",
    "\n",
    "#Generales\n",
    "f_from = 200\n",
    "f_to = 10000\n",
    "range_dB = 50 \n",
    "norm = 1\n",
    "logx = True\n",
    "\n",
    "sr = OUT_SR\n",
    "T = 1/sr #periodo\n",
    "N = len(sig)\n",
    "t = np.arange(0, N*T, T) # Sampling times\n",
    "\n",
    "# FFT and bin centers\n",
    "f = rfftfreq(N, T)\n",
    "#df : sr/N  --> f(i) = i* sr/N --> i = f*N/sr  \n",
    "if(f_to == 0): fto = sr/2\n",
    "ifrom = round(f_from*N/sr)\n",
    "ito = round(f_to*N/sr)\n",
    "\n",
    "# Plot spectrum\n",
    "fig, ax = plt.subplots(dpi = 200)\n",
    "if(logx): ax.set_xscale('log')\n",
    "\n",
    "\n",
    "#Plot señales\n",
    "for sigcolor_pair in [(sig,'black') , (out_normal, 'red'), (out_reasignada, 'blue')]:\n",
    " \n",
    "  sig, color = sigcolor_pair[0] , sigcolor_pair[1]\n",
    "\n",
    "  y = rfft(sig)\n",
    "  y = np.abs(y)*2/N\n",
    "  y /= norm\n",
    "  #y = 20*np.log10(np.abs(y)) #dB\n",
    "  y_db = 20*np.log10(y)\n",
    "\n",
    "  ax.plot(f[ifrom:ito], y_db[ifrom:ito], color = color, linewidth = 0.5) #eje lineal, y logaritmico\n",
    "  y_max =  max(y) +5\n",
    "  y_min = max(y) -range_dB\n",
    "  ax.set_ylim(y_min , y_max)\n",
    "\n",
    "ax.legend((f'I = {CHANNEL_INTERACTION_INDEX}, A = 0', f'I = {CHANNEL_INTERACTION_INDEX}, A = {ASYMMETRY_INDEX}'), loc=\"upper right\")\n",
    "\n",
    "plt.xlabel('Frecuencia (Hz)')\n",
    "plt.ylabel('Amplitud (dB)')  \n",
    "plt.grid(alpha  = 0.8)\n"
   ]
  },
  {
   "cell_type": "markdown",
   "metadata": {},
   "source": [
    "Grafico con puntos. Intento juntar los tres espectrogramas de linea arriba en uno solo"
   ]
  },
  {
   "cell_type": "code",
   "execution_count": null,
   "metadata": {},
   "outputs": [],
   "source": [
    "#####################################\n",
    "#Electrodos:\n",
    "#Medio:  Nota y sus armónicos\n",
    "#Abajo: Electrodos activados\n",
    "\n",
    "freqs_electrodos = elec_array.freqsElectrodos\n",
    "y1 = [ 0.7 for f in freqs_electrodos]\n",
    "\n",
    "freqs_nota = nota.parciales\n",
    "y2 = [ 0.45 for f in freqs_nota]\n",
    "\n",
    "freqs_activadas = nota.parciales\n",
    "y3 = [0.2 for f in freqs_activadas]\n",
    "\n",
    "###########\n",
    "\n",
    "import matplotlib.ticker as ticker\n",
    "xmin = 220\n",
    "xmax = 13000\n",
    "\n",
    "fig, ax = plt.subplots(figsize=(16,6), dpi= 130)\n",
    "ax.set_xscale('log')\n",
    "ax.set_xlabel('Frecuencia (Hz)', labelpad = 15,fontdict={'size':25} )\n",
    "ax.xaxis.set_tick_params(pad = 18)\n",
    "ax.set_xlim(xmin , xmax)\n",
    "ax.set_ylim(0 , 1)\n",
    "ax.set_yticks([])\n",
    "ax.set_xticks([])\n",
    "ax.hlines(y=[0.7,0.45, 0.2], xmin=xmin, xmax=xmax, color='gray', alpha=0.85, linewidth=1, linestyles='dashdot')\n",
    "\n",
    "#cambiar esto a Title\n",
    "ax.set_title('Electrodos activados para una nota de frecuencia 870Hz', color = 'k', style = 'italic', pad = 20, fontdict={'size':32, 'font': 'Times New Roman'}, )\n",
    "\n",
    "#Texto para cada marquita de los elec\n",
    "elec_labels = ['$e_{' +str(i) +'}$ ' for i in range(elec_array.Nchann) ]\n",
    "act_labels  = ['$e_{' +str(i) +'}$ ' for i in [3,4,8] ]\n",
    "\n",
    "#############################################3\n",
    "\n",
    "\n",
    "step = 1\n",
    "\n",
    "tuple2 = (freqs_nota, 'maroon', 'Componentes de la nota objetivo', _, y2)\n",
    "tuple3 = (freqs_activadas, 'navy', 'Electrodos activados', act_labels, y3)\n",
    "\n",
    "#Grafico las tres lineas de puntitos\n",
    "for freq_color_label_ticklabels_y in [tuple1, tuple2 , tuple3]:\n",
    "\n",
    "    (freqs, color, label, ticklabels, y) = freq_color_label_ticklabels_y #unpack\n",
    "\n",
    "    ax.scatter(y=y, x=freqs, s=75, color=color, alpha=0.85, label = label) #Los puntitos\n",
    "    ax.grid(alpha = 0.7)\n",
    "\n",
    "\n",
    "#Eje de arriba y de abajo\n",
    "for pair in  [(tuple1, 'top') , (tuple3, 'bottom')]:\n",
    "\n",
    "    freq_color_label_ticklabels_y, pos = pair[0], pair[1]\n",
    "    (freqs, color, label, ticklabels, y) = freq_color_label_ticklabels_y\n",
    "\n",
    "    secax = ax.secondary_xaxis(pos) #eje secundario arriba    \n",
    "    secax_freqs = ax.secondary_xaxis(pos) #eje secundario arriba    \n",
    "\n",
    "    freq_labels = [f'${round(freq)}$ ' for freq in freqs ]\n",
    "\n",
    "    secax.set_xticks(freqs[::step], labels = ticklabels[::step])\n",
    "    secax.xaxis.set_tick_params(pad = 25, labelcolor = color, labelsize = 20, rotation = 30)\n",
    "    secax_freqs.set_xticks(freqs, labels = freq_labels[::step])\n",
    "    secax_freqs.xaxis.set_tick_params(pad = 6, labelcolor = color, labelsize= 20)\n",
    "    for i in range(1,len(freqs)//step+1):\n",
    "        secax.get_xticklabels()[-i].set_rotation_mode('anchor')\n",
    "\n",
    "#ax.set_xticks([], minor=True)\n",
    "\n",
    "\n",
    "\n",
    "\n",
    "######################################\n",
    "\n",
    "# Title, Label, Ticks and Ylim\n",
    "#ax.set_yticks(df.index)\n",
    "#ax.set_yticklabels(df.manufacturer.str.title(), fontdict={'horizontalalignment': 'right'})\n",
    "plt.legend(framealpha=1, shadow=True,  loc = 'upper right',  prop={'size': 20})\n",
    "plt.show()"
   ]
  },
  {
   "cell_type": "markdown",
   "metadata": {},
   "source": [
    "Lo mejoro para resultados generales (no le meto a mano el resultado sino que va parametrizado)"
   ]
  },
  {
   "cell_type": "code",
   "execution_count": null,
   "metadata": {},
   "outputs": [],
   "source": [
    "fund = 870\n",
    "amp_armonicos = [1,1, 1,1,1, 1,1,1]\n",
    "dur_seg = 2\n",
    "nota = Nota(fund, amp_armonicos, dur_seg, [])\n",
    "elec_array = GENERIC_MEDEL3\n",
    "\n",
    "nChann = 4\n",
    "max_di = 50\n",
    "\n",
    "mejorPatron = encontrarMejorMatch2(nota, elec_array.freqsElectrodos, nChann, max_di)\n",
    "mejorPatron.print()"
   ]
  },
  {
   "cell_type": "code",
   "execution_count": null,
   "metadata": {},
   "outputs": [],
   "source": [
    "\n",
    "\n",
    "#####################################\n",
    "#Electrodos: Arriba\n",
    "#Medio:  Nota y sus armónicos\n",
    "#Abajo: Electrodos activados\n",
    "\n",
    "\n",
    "freqs_electrodos = elec_array.freqsElectrodos\n",
    "y1 = [ 0.6 for f in freqs_electrodos]\n",
    "\n",
    "freqs_nota = nota.parciales\n",
    "y2 = [ 0.45 for f in freqs_nota]\n",
    "\n",
    "freqs_activadas = [elec.freq for elec in mejorPatron.canalesActivos()]\n",
    "y3 = [0.3 for f in freqs_activadas]\n",
    "\n",
    "###########\n",
    "\n",
    "import matplotlib.ticker as ticker\n",
    "xmin = 220\n",
    "xmax = 13000\n",
    "\n",
    "fig, ax = plt.subplots(figsize=(16,6), dpi= 130)\n",
    "ax.set_xscale('log')\n",
    "ax.set_xlabel('Frecuencia (Hz)', labelpad = 35,fontdict={'size':25} )\n",
    "ax.xaxis.set_tick_params(pad = 7)\n",
    "ax.set_xlim(xmin , xmax)\n",
    "ax.set_ylim(0.1 , 1)\n",
    "ax.set_yticks([])\n",
    "ax.set_xticks([])\n",
    "ax.hlines(y=[0.6,0.45, 0.3], xmin=xmin, xmax=xmax, color='gray', alpha=0.85, linewidth=1, linestyles='dashdot')\n",
    "ax.vlines(x=freqs_electrodos, ymin=0, ymax=1, color='gray', alpha=0.6, linewidth=1.2, linestyles='dashdot')\n",
    "ax.vlines(x=freqs_electrodos, ymin=y3[0], ymax=y1[0], color='darkgray', alpha=0.95, linewidth=2, linestyles='dashdot') #Igual pero más corta y marcada\n",
    "\n",
    "#cambiar esto a Title\n",
    "ax.set_title('Electrodos activados con el esquema de reasignación', color = 'k', style = 'italic', pad = 20, fontdict={'size':32, 'font': 'Times New Roman'}, )\n",
    "\n",
    "#Texto para cada marquita de los elec\n",
    "elec_labels = ['$e_{' +str(i+1) +'}$ ' for i in range(elec_array.Nchann) ]\n",
    "act_labels  = ['$e_{' +str(i+1) +'}$ ' for i in [3,4,8] ]\n",
    "\n",
    "#############################################3\n",
    "step = 1\n",
    "\n",
    "tuple1 = (freqs_electrodos, 'navy', 'Frecuencias de electrodos', elec_labels, y1)\n",
    "tuple2 = (freqs_nota, 'maroon', 'Componentes de la nota objetivo', _, y2)\n",
    "tuple3 = (freqs_activadas, 'darkgreen', 'Electrodos activados', act_labels, y3)\n",
    "\n",
    "#Grafico las tres lineas de puntitos\n",
    "for freq_color_label_ticklabels_y in [tuple1, tuple2 , tuple3]:\n",
    "\n",
    "    (freqs, color, label, ticklabels, y) = freq_color_label_ticklabels_y #unpack\n",
    "\n",
    "    ax.scatter(y=y, x=freqs, s=300, color=color, alpha=0.85, label = label) #Los puntitos\n",
    "    ax.grid(alpha = 0.7)\n",
    "\n",
    "#Para los electodos apagados en la linea 3, repito más transparente la última linea y le agrego cositas:\n",
    "ax.scatter(y=[y3[0] for f in freqs_electrodos], x=freqs_electrodos, s=125, color='navy', alpha=0.45) #Los puntitos chiquitos y transparentes\n",
    "ax.scatter(y=y3, x=freqs_activadas, s=125, color='yellow', alpha=0.9, marker = '2') \n",
    "\n",
    "#Eje de arriba y de abajo\n",
    "for pair in  [(tuple1, 'top') , (tuple3, 'bottom')]:\n",
    "\n",
    "    freq_color_label_ticklabels_y, pos = pair[0], pair[1]\n",
    "    (freqs, color, label, ticklabels, y) = freq_color_label_ticklabels_y\n",
    "\n",
    "    secax = ax.secondary_xaxis(pos) #eje secundario arriba    \n",
    "    secax_freqs = ax.secondary_xaxis(pos) #eje secundario arriba    \n",
    "\n",
    "    freq_labels = [f'${round(freq)}$ ' for freq in freqs ]\n",
    "\n",
    "    secax.set_xticks(freqs[::step], labels = ticklabels[::step])\n",
    "    secax.xaxis.set_tick_params(pad = 25, labelcolor = color, labelsize = 20, rotation = 30)\n",
    "    secax_freqs.set_xticks(freqs, labels = freq_labels[::step])\n",
    "    secax_freqs.xaxis.set_tick_params(pad = 7, labelcolor = color, labelsize= 20)\n",
    "    for i in range(1,len(freqs)//step+1):\n",
    "        secax.get_xticklabels()[-i].set_rotation_mode('anchor')\n",
    "\n",
    "#ax.set_xticks([], minor=True)\n",
    "\n",
    "\n",
    "######################################\n",
    "\n",
    "# Title, Label, Ticks and Ylim\n",
    "#ax.set_yticks(df.index)\n",
    "#ax.set_yticklabels(df.manufacturer.str.title(), fontdict={'horizontalalignment': 'right'})\n",
    "plt.legend(framealpha=1, shadow=True,  loc = 'upper right',  prop={'size': 20})\n",
    "plt.show()"
   ]
  },
  {
   "cell_type": "markdown",
   "metadata": {},
   "source": [
    "Repito sin la primer fila, me di cuenta después que va a ser más claro de esta forma"
   ]
  },
  {
   "cell_type": "code",
   "execution_count": null,
   "metadata": {},
   "outputs": [],
   "source": [
    "fund = 870\n",
    "amp_armonicos = [1,1, 1,1,1, 1,1,1]\n",
    "dur_seg = 2\n",
    "nota = Nota(fund, amp_armonicos, dur_seg, [])\n",
    "elec_array = GENERIC_MEDEL3\n",
    "\n",
    "nChann = 4\n",
    "max_di = 50\n",
    "\n",
    "mejorPatron = encontrarMejorMatch2(nota, elec_array.freqsElectrodos, nChann, max_di)\n",
    "mejorPatron.print()\n",
    "\n",
    "elecs_activados = []\n",
    "for i, elec in enumerate(mejorPatron.elecs):\n",
    "    if elec.on: elecs_activados.append(i)\n"
   ]
  },
  {
   "cell_type": "code",
   "execution_count": null,
   "metadata": {},
   "outputs": [],
   "source": [
    "\n",
    "\n",
    "#####################################\n",
    "#Electrodos: Arriba\n",
    "#Medio:  Nota y sus armónicos\n",
    "#Abajo: Electrodos activados\n",
    "\n",
    "\n",
    "freqs_electrodos = elec_array.freqsElectrodos\n",
    "y1 = [ 0.6 for f in freqs_electrodos]\n",
    "\n",
    "freqs_nota = nota.parciales\n",
    "y2 = [ 0.45 for f in freqs_nota]\n",
    "\n",
    "freqs_activadas = [elec.freq for elec in mejorPatron.canalesActivos()]\n",
    "y3 = [0.3 for f in freqs_activadas]\n",
    "\n",
    "###########\n",
    "\n",
    "import matplotlib.ticker as ticker\n",
    "xmin = 700\n",
    "xmax = 9000\n",
    "\n",
    "fig, ax = plt.subplots(figsize=(16,6), dpi= 130)\n",
    "ax.set_xscale('log')\n",
    "ax.set_xlabel('Frecuencia (Hz)', labelpad = 35,fontdict={'size':25} )\n",
    "ax.xaxis.set_tick_params(pad = 7)\n",
    "ax.set_xlim(xmin , xmax)\n",
    "ax.set_ylim(0.1 , 0.8)\n",
    "ax.set_yticks([])\n",
    "ax.set_xticks([])\n",
    "ax.hlines(y=[0.45, 0.3], xmin=xmin, xmax=xmax, color='gray', alpha=0.85, linewidth=1, linestyles='dashdot')\n",
    "ax.vlines(x=freqs_electrodos, ymin=0, ymax=1, color='gray', alpha=0.6, linewidth=1.2, linestyles='dashdot')\n",
    "ax.vlines(x=freqs_electrodos, ymin=y3[0], ymax=y1[0], color='darkgray', alpha=0.95, linewidth=2, linestyles='dashdot') #Igual pero más corta y marcada\n",
    "\n",
    "#cambiar esto a Title\n",
    "ax.set_title('Electrodos seleccionados utilizando el esquema de reasignación', color = 'k', style = 'italic', pad = 20, fontdict={'size':32, 'font': 'Times New Roman'}, )\n",
    "\n",
    "#Texto para cada marquita de los elec\n",
    "elec_labels = ['$e_{' +str(i+1) +'}$ ' for i in range(elec_array.Nchann) ]\n",
    "act_labels  = ['$e_{' +str(i+1) +'}$ ' for i in elecs_activados ]\n",
    "\n",
    "#############################################3\n",
    "step = 1\n",
    "\n",
    "tuple1 = (freqs_electrodos, 'navy', 'Frecuencias de electrodos', elec_labels, y1, 'x')\n",
    "tuple2 = (freqs_nota, 'maroon', 'Armónicos de la nota objetivo', _, y2, 's')\n",
    "tuple3 = (freqs_activadas, 'darkgreen', 'Electrodos seleccionados', act_labels, y3, 'o')\n",
    "\n",
    "#Grafico las tres lineas de puntitos\n",
    "for freq_color_label_ticklabels_y_forma in [tuple2 , tuple3]:\n",
    "\n",
    "    (freqs, color, label, ticklabels, y, formita) = freq_color_label_ticklabels_y_forma #unpack\n",
    "\n",
    "    ax.scatter(y=y, x=freqs, s=600, color=color, alpha=0.9, label = label ,marker = formita) #Los puntitos\n",
    "    ax.grid(alpha = 0.7)\n",
    "\n",
    "#Para los electodos apagados en la linea 3, repito más transparente la última linea y le agrego cositas:\n",
    "ax.scatter(y=[y3[0] for f in freqs_electrodos], x=freqs_electrodos, s=125, color='navy', alpha=0.45) #Los puntitos chiquitos y transparentes\n",
    "ax.scatter(y=y3, x=freqs_activadas, s=125, color='yellow', alpha=0.9, marker = '2') \n",
    "\n",
    "#Eje de arriba: Toda la info\n",
    "(freqs, color, label, ticklabels, y, formita) = tuple1\n",
    "\n",
    "secax = ax.secondary_xaxis('top')  \n",
    "secax_freqs = ax.secondary_xaxis('top')  \n",
    "freq_labels = [f'${round(freq)}$ ' for freq in freqs ]\n",
    "secax.set_xticks(freqs[::step], labels = ticklabels[::step])\n",
    "secax.xaxis.set_tick_params(pad = 33, labelcolor = color, labelsize = 20, rotation = 30)\n",
    "secax_freqs.set_xticks(freqs, labels = freq_labels[::step])\n",
    "secax_freqs.xaxis.set_tick_params(pad = 7, labelcolor = color, labelsize= 25)\n",
    "for i in range(1,len(freqs)//step+1):\n",
    "    secax.get_xticklabels()[-i].set_rotation_mode('anchor')\n",
    "\n",
    "#Eje de abajo: Solo electrodos activados\n",
    "(freqs, color, label, ticklabels, y, formita) = tuple3\n",
    "secax = ax.secondary_xaxis('bottom')  \n",
    "secax.set_xticks(freqs[::step], labels = ticklabels[::step])\n",
    "secax.xaxis.set_tick_params(pad = 5, labelcolor = color, labelsize = 30, rotation = 30)\n",
    "for i in range(1,len(freqs)//step+1):\n",
    "    secax.get_xticklabels()[-i].set_rotation_mode('anchor')\n",
    "\n",
    "\n",
    "#Freqs de los armónicos\n",
    "for i, freq in enumerate(nota.parciales):\n",
    "    plt.text(freq, 0.5-0.13*(i%2), int(freq), fontdict={'size':30, 'font': 'Times New Roman', 'color':'maroon'})\n",
    "    plt.text(freq*0.98, 0.435, int(i+1), fontdict={'size':25, 'font': 'Times New Roman', 'color':'yellow'})\n",
    "\n",
    "\n",
    "#ax.set_xticks([], minor=True)\n",
    "\n",
    "\n",
    "######################################\n",
    "\n",
    "# Title, Label, Ticks and Ylim\n",
    "#ax.set_yticks(df.index)\n",
    "#ax.set_yticklabels(df.manufacturer.str.title(), fontdict={'horizontalalignment': 'right'})\n",
    "plt.legend(framealpha=1, shadow=True,  loc = 'upper right',  prop={'size': 24})\n",
    "plt.show()"
   ]
  },
  {
   "cell_type": "markdown",
   "metadata": {},
   "source": [
    "## Gráfico 1 hecho función"
   ]
  },
  {
   "cell_type": "markdown",
   "metadata": {},
   "source": [
    "Excelente. Ahora hago esto una función para reutilizarlo y hacer gráficos más fácil. "
   ]
  },
  {
   "cell_type": "code",
   "execution_count": null,
   "metadata": {},
   "outputs": [],
   "source": [
    "def grafico1(elec_array, nota, nChann, max_di, step, xmin= 500, xmax = 9000):\n",
    "\n",
    "    mejorPatron = encontrarMejorMatch2(nota, elec_array.freqsElectrodos, nChann, max_di)\n",
    "    mejorPatron.print()\n",
    "\n",
    "    elecs_activados = []\n",
    "    for i, elec in enumerate(mejorPatron.elecs):\n",
    "        if elec.on: elecs_activados.append(i)\n",
    "\n",
    "    if elecs_activados == []: return\n",
    "    \n",
    "    #####################################\n",
    "    #Medio:  Nota y sus armónicos\n",
    "    #Abajo: Electrodos activados\n",
    "\n",
    "    freqs_electrodos = elec_array.freqsElectrodos\n",
    "    y1 = [ 0.6 for f in freqs_electrodos]\n",
    "\n",
    "    freqs_nota = nota.parciales\n",
    "    y2 = [ 0.45 for f in freqs_nota]\n",
    "\n",
    "    freqs_activadas = [elec.freq for elec in mejorPatron.canalesActivos()]\n",
    "    y3 = [0.3 for f in freqs_activadas]\n",
    "\n",
    "    ###########\n",
    "\n",
    "    import matplotlib.ticker as ticker\n",
    "\n",
    "    fig, ax = plt.subplots(figsize=(16,6), dpi= 130)\n",
    "    ax.set_xscale('log')\n",
    "    ax.set_xlabel('Frecuencia (Hz)', labelpad = 35,fontdict={'size':25} )\n",
    "    ax.xaxis.set_tick_params(pad = 7)\n",
    "    ax.set_xlim(xmin , xmax)\n",
    "    ax.set_ylim(0.1 , 0.8)\n",
    "    ax.set_yticks([])\n",
    "    ax.set_xticks([])\n",
    "    ax.hlines(y=[0.45, 0.3], xmin=xmin, xmax=xmax, color='gray', alpha=0.85, linewidth=1, linestyles='dashdot')\n",
    "    ax.vlines(x=freqs_electrodos, ymin=0, ymax=1, color='gray', alpha=0.6, linewidth=1.2, linestyles='dashdot')\n",
    "    ax.vlines(x=freqs_electrodos, ymin=y3[0], ymax=y1[0], color='darkgray', alpha=0.95, linewidth=2, linestyles='dashdot') #Igual pero más corta y marcada\n",
    "\n",
    "    #cambiar esto a Title\n",
    "    ax.set_title('Electrodos seleccionados con el esquema de reasignación', color = 'k', style = 'italic', pad = 20, fontdict={'size':32, 'font': 'Times New Roman'}, )\n",
    "\n",
    "    #Texto para cada marquita de los elec\n",
    "    elec_labels = ['$e_{' +str(i+1) +'}$ ' for i in range(elec_array.Nchann) ]\n",
    "    act_labels  = ['$e_{' +str(i+1) +'}$ ' for i in elecs_activados ]\n",
    "\n",
    "    #############################################3\n",
    "\n",
    "    tuple1 = (freqs_electrodos, 'navy', 'Frecuencias de electrodos', elec_labels, y1, 'x')\n",
    "    tuple2 = (freqs_nota, 'maroon', 'Armónicos de la nota objetivo', _, y2, 's')\n",
    "    tuple3 = (freqs_activadas, 'darkgreen', 'Electrodos seleccionados', act_labels, y3, 'o')\n",
    "\n",
    "    #Grafico las tres lineas de puntitos\n",
    "    for freq_color_label_ticklabels_y_forma in [tuple2 , tuple3]:\n",
    "\n",
    "        (freqs, color, label, ticklabels, y, formita) = freq_color_label_ticklabels_y_forma #unpack\n",
    "\n",
    "        ax.scatter(y=y, x=freqs, s=600, color=color, alpha=0.9, label = label ,marker = formita) #Los puntitos\n",
    "        ax.grid(alpha = 0.7)\n",
    "\n",
    "    #Para los electodos apagados en la linea 3, repito más transparente la última linea y le agrego cositas:\n",
    "    ax.scatter(y=[y3[0] for f in freqs_electrodos], x=freqs_electrodos, s=125, color='navy', alpha=0.45) #Los puntitos chiquitos y transparentes\n",
    "    ax.scatter(y=y3, x=freqs_activadas, s=125, color='yellow', alpha=0.9, marker = '2') \n",
    "\n",
    "    #Eje de arriba: Toda la info\n",
    "    (freqs, color, label, ticklabels, y, formita) = tuple1\n",
    "\n",
    "    secax = ax.secondary_xaxis('top')  \n",
    "    secax_freqs = ax.secondary_xaxis('top')  \n",
    "    freq_labels = [f'${round(freq)}$ ' for freq in freqs ]\n",
    "    secax.set_xticks(freqs[::step], labels = ticklabels[::step])\n",
    "    secax.xaxis.set_tick_params(pad = 30, labelcolor = color, labelsize = 20, rotation = 30)\n",
    "    secax_freqs.set_xticks(freqs[::step], labels = freq_labels[::step])\n",
    "    secax_freqs.xaxis.set_tick_params(pad = 7, labelcolor = color, labelsize= 20)\n",
    "    for i in range(1,len(freqs)//step+1):\n",
    "        secax.get_xticklabels()[-i].set_rotation_mode('anchor')\n",
    "\n",
    "    #Eje de abajo: Solo electrodos activados\n",
    "    (freqs, color, label, ticklabels, y, formita) = tuple3\n",
    "    secax = ax.secondary_xaxis('bottom')  \n",
    "    secax.set_xticks(freqs, labels = ticklabels)\n",
    "    secax.xaxis.set_tick_params(pad = 5, labelcolor = color, labelsize = 30, rotation = 30)\n",
    "    for i in range(1,len(freqs)//step+1):\n",
    "        secax.get_xticklabels()[-i].set_rotation_mode('anchor')\n",
    "\n",
    "\n",
    "    #Freqs de los armónicos\n",
    "    for i, freq in enumerate(nota.parciales):\n",
    "        plt.text(freq, 0.5, int(freq), fontdict={'size':20, 'font': 'Times New Roman', 'color':'maroon'})\n",
    "        plt.text(freq*0.975, 0.44, int(i+1), fontdict={'size':20, 'font': 'Times New Roman', 'color':'yellow'})\n",
    "\n",
    "\n",
    "    #ax.set_xticks([], minor=True)\n",
    "\n",
    "\n",
    "    ######################################\n",
    "\n",
    "    # Title, Label, Ticks and Ylim\n",
    "    #ax.set_yticks(df.index)\n",
    "    #ax.set_yticklabels(df.manufacturer.str.title(), fontdict={'horizontalalignment': 'right'})\n",
    "    plt.legend(framealpha=1, shadow=True,  loc = 'upper right',  prop={'size': 24})\n",
    "    plt.show()"
   ]
  },
  {
   "cell_type": "markdown",
   "metadata": {},
   "source": [
    "## Tablas 2 y 3: Con Cochlear "
   ]
  },
  {
   "cell_type": "code",
   "execution_count": null,
   "metadata": {},
   "outputs": [],
   "source": [
    "fund = 870\n",
    "amp_armonicos = [1,1, 1,1,1, 1]\n",
    "dur_seg = 2\n",
    "nota = Nota(fund, amp_armonicos, dur_seg, [])\n",
    "elec_array = GENERIC_COCHLEAR3\n",
    "\n",
    "nChann = 4\n",
    "max_di = 30\n",
    "\n",
    "step = 2 #para la info de los elecs\n",
    "\n",
    "grafico1(GENERIC_COCHLEAR3, nota, nChann, max_di, step)\n"
   ]
  },
  {
   "cell_type": "markdown",
   "metadata": {},
   "source": [
    "Diente de sierra (6 canales)"
   ]
  },
  {
   "cell_type": "code",
   "execution_count": null,
   "metadata": {},
   "outputs": [],
   "source": [
    "fund = 870\n",
    "amp_armonicos = [1,1/2, 1/3,1/4,1/5, 1/6, 1/7, 1/8]\n",
    "dur_seg = 2\n",
    "nota = Nota(fund, amp_armonicos, dur_seg, [])\n",
    "elec_array = GENERIC_COCHLEAR3\n",
    "\n",
    "nChann = 6\n",
    "max_di = 30\n",
    "\n",
    "step = 2 #para la info de los elecs\n",
    "\n",
    "grafico1(GENERIC_COCHLEAR3, nota, nChann, max_di, step)\n"
   ]
  },
  {
   "cell_type": "markdown",
   "metadata": {},
   "source": [
    "Diente de sierra (4 canales)"
   ]
  },
  {
   "cell_type": "code",
   "execution_count": null,
   "metadata": {},
   "outputs": [],
   "source": [
    "fund = 870\n",
    "amp_armonicos = [1,1/2, 1/3,1/4,1/5, 1/6, 1/7, 1/8]\n",
    "dur_seg = 2\n",
    "nota = Nota(fund, amp_armonicos, dur_seg, [])\n",
    "elec_array = GENERIC_COCHLEAR3\n",
    "\n",
    "nChann = 4\n",
    "max_di = 30\n",
    "\n",
    "step = 2 #para la info de los elecs\n",
    "\n",
    "grafico1(GENERIC_COCHLEAR3, nota, nChann, max_di, step)\n"
   ]
  },
  {
   "cell_type": "markdown",
   "metadata": {},
   "source": [
    "4J por debajo"
   ]
  },
  {
   "cell_type": "code",
   "execution_count": null,
   "metadata": {},
   "outputs": [],
   "source": [
    "fund = 870 *3/4 #4J por debajo\n",
    "amp_armonicos = [1,1/2, 1/3,1/4,1/5, 1/6, 1/7, 1/8]\n",
    "dur_seg = 2\n",
    "nota = Nota(fund, amp_armonicos, dur_seg, [])\n",
    "elec_array = GENERIC_COCHLEAR3\n",
    "\n",
    "nChann = 4\n",
    "max_di = 30\n",
    "\n",
    "step = 2 #para la info de los elecs\n",
    "\n",
    "grafico1(GENERIC_COCHLEAR3, nota, nChann, max_di, step)\n"
   ]
  },
  {
   "cell_type": "markdown",
   "metadata": {},
   "source": [
    "5J por arriba"
   ]
  },
  {
   "cell_type": "code",
   "execution_count": null,
   "metadata": {},
   "outputs": [],
   "source": [
    "fund = 870 *3/2 #5J por arriba\n",
    "amp_armonicos = [1,1/2, 1/3,1/4,1/5, 1/6, 1/7, 1/8]\n",
    "dur_seg = 2\n",
    "nota = Nota(fund, amp_armonicos, dur_seg, [])\n",
    "elec_array = GENERIC_COCHLEAR3\n",
    "\n",
    "nChann = 6\n",
    "max_di = 30\n",
    "\n",
    "step = 2 #para la info de los elecs\n",
    "\n",
    "grafico1(GENERIC_COCHLEAR3, nota, nChann, max_di, step, xmin = 1000, xmax = 13000)\n"
   ]
  },
  {
   "cell_type": "markdown",
   "metadata": {},
   "source": [
    "## Resultado\n",
    "Rinse & repeat para una escala mayor (veo solo los resultados numéricos para reunir en una tabla el mayor error)"
   ]
  },
  {
   "cell_type": "code",
   "execution_count": null,
   "metadata": {},
   "outputs": [],
   "source": [
    "i = 1\n",
    "for I in [1, 9/8, 5/4, 4/3, 3/2, 8/5, 5/3, 2]:\n",
    "\n",
    "    fund = 870 *2/3 *I\n",
    "    amp_armonicos = [1,1/2, 1/3,1/4,1/5, 1/6, 1/7, 1/8]\n",
    "    dur_seg = 2\n",
    "    nota = Nota(fund, amp_armonicos, dur_seg, [])\n",
    "    elec_array = GENERIC_COCHLEAR3\n",
    "\n",
    "    nChann = 6\n",
    "    max_di = 100\n",
    "\n",
    "    step = 2 #para la info de los elecs\n",
    "    print(fund, i)\n",
    "    print()\n",
    "    grafico1(GENERIC_COCHLEAR3, nota, nChann, max_di, step, xmin = fund*0.9, xmax = 13000)\n",
    "    print('---------------')\n",
    "    i += 1"
   ]
  },
  {
   "cell_type": "markdown",
   "metadata": {},
   "source": [
    "Resultado: Para Cochlear se pudo representar una escala mayor con error individual por armónico de hasta 100cents y con entre 5 y 6 canales x vez\n",
    "\n",
    "--------------------------------"
   ]
  },
  {
   "cell_type": "code",
   "execution_count": null,
   "metadata": {},
   "outputs": [],
   "source": [
    "i = 1\n",
    "for I in [1, 9/8, 5/4, 4/3, 3/2, 8/5, 5/3, 2]:\n",
    "\n",
    "    fund = 870*3/4 *I\n",
    "    amp_armonicos = [1,1/2, 1/3,1/4,1/5, 1/6, 1/7, 1/8]\n",
    "    dur_seg = 2\n",
    "    nota = Nota(fund, amp_armonicos, dur_seg, [])\n",
    "    elec_array = GENERIC_COCHLEAR3\n",
    "\n",
    "    nChann = 6\n",
    "    max_di = 100\n",
    "\n",
    "    step = 2 #para la info de los elecs\n",
    "    print(fund, i)\n",
    "    print()\n",
    "    grafico1(GENERIC_MEDEL3, nota, nChann, max_di, step, xmin = fund*0.9, xmax = 13000)\n",
    "    print('---------------')\n",
    "    i += 1"
   ]
  },
  {
   "cell_type": "markdown",
   "metadata": {},
   "source": [
    "Resultado: No tan bueno para Medel"
   ]
  },
  {
   "cell_type": "markdown",
   "metadata": {},
   "source": [
    "----------"
   ]
  },
  {
   "cell_type": "markdown",
   "metadata": {},
   "source": [
    "Gráfico 3 - Junto la comparación de electrodos de Medel y Cochlear en uno solo, que quedo bueno! (intento luego)\n",
    "----"
   ]
  },
  {
   "cell_type": "code",
   "execution_count": null,
   "metadata": {},
   "outputs": [],
   "source": [
    "fund = 870\n",
    "amp_armonicos = [1,1, 1,1,1, 1]\n",
    "dur_seg = 2\n",
    "nota = Nota(fund, amp_armonicos, dur_seg, [])\n",
    "\n",
    "nChann = 4\n",
    "max_di = 300\n",
    "\n",
    "step = 2\n",
    "\n",
    "y1, y2, y3 = 0.4, 0.45, 0.55\n",
    "\n",
    "mejorPatronMedel = encontrarMejorMatch2(nota, GENERIC_MEDEL3.freqsElectrodos, nChann, max_di)\n",
    "mejorPatronCochlear = encontrarMejorMatch2(nota, GENERIC_COCHLEAR3.freqsElectrodos, nChann, max_di)\n",
    "\n",
    "elecs_activados_Medel, freqs_Medel = [], []\n",
    "elecs_activados_Cochlear, freqs_Cochlear = [], []\n",
    "\n",
    "for i, elec in enumerate(mejorPatronMedel.elecs):\n",
    "    if elec.on: \n",
    "        elecs_activados_Medel.append(i)\n",
    "        freqs_Medel.append(elec.freq)\n",
    "for i, elec in enumerate(mejorPatronCochlear.elecs):\n",
    "    if elec.on: \n",
    "        elecs_activados_Cochlear.append(i)\n",
    "        freqs_Cochlear.append(elec.freq)\n",
    "\n",
    "#####################################\n",
    "#Electrodos: Arriba\n",
    "#Medio:  Nota y sus armónicos\n",
    "#Abajo: Electrodos activados\n",
    "\n",
    "\n",
    "###########\n",
    "\n",
    "import matplotlib.ticker as ticker\n",
    "xmin = 500\n",
    "xmax = 9000\n",
    "\n",
    "fig, ax = plt.subplots(figsize=(16,6), dpi= 130)\n",
    "ax.set_xscale('log')\n",
    "ax.set_xlabel('Frecuencia (Hz)', labelpad = 35,fontdict={'size':25} )\n",
    "ax.xaxis.set_tick_params(pad = 7)\n",
    "ax.set_xlim(xmin , xmax)\n",
    "ax.set_ylim(0.1 , 0.6)\n",
    "ax.set_yticks([])\n",
    "ax.set_xticks([])\n",
    "ax.hlines(y=[y1,y2,y3], xmin=xmin, xmax=xmax, color='gray', alpha=0.85, linewidth=1, linestyles='dashdot')\n",
    "\n",
    "ax.vlines(x=nota.parciales, ymin=0, ymax=1, color='gray', alpha=0.6, linewidth=1.2, linestyles='dashdot')\n",
    "ax.vlines(x=nota.parciales, ymin=y3, ymax=y1, color='darkgray', alpha=0.95, linewidth=2, linestyles='dashdot') #Igual pero más corta y marcada\n",
    "\n",
    "#cambiar esto a Title\n",
    "ax.set_title('Electrodos seleccionados con el esquema de reasignación', color = 'k', style = 'italic', pad = 20, fontdict={'size':32, 'font': 'Times New Roman'}, )\n",
    "\n",
    "#Texto para cada marquita de los elec\n",
    "medel_labels = ['$e_{' +str(i+1) +'}$ ' for i in elecs_activados_Medel ]\n",
    "cochlear_labels  = ['$e_{' +str(i+1) +'}$ ' for i in elecs_activados_Cochlear]\n",
    "\n",
    "#############################################3\n",
    "\n",
    "tuple1 = (freqs_Medel, 'navy', 'Flex28 (N=12)',medel_labels , 0.6, 'x')\n",
    "tuple2 = (nota.parciales, 'maroon', 'Armónicos de la nota objetivo', _, 0.45, 's')\n",
    "tuple3 = (freqs_Cochlear, 'darkgreen', 'Contour Advance (N=22)',cochlear_labels , 0.3, '.')\n",
    "\n",
    "\n",
    "#Grafico las tres lineas de puntitos\n",
    "for freq_color_label_ticklabels_y_forma in [tuple1, tuple2 , tuple3]:\n",
    "\n",
    "    (freqs, color, label, ticklabels, y0, formita) = freq_color_label_ticklabels_y_forma #unpack\n",
    "    \n",
    "    y = [y0 for _ in freqs]\n",
    "\n",
    "    ax.scatter(y=y, x=freqs, s=600, color=color, alpha=0.9, label = label ,marker = formita) #Los puntitos\n",
    "    ax.grid(alpha = 0.7)\n",
    "\n",
    "#Para los electodos apagados en la linea 1 y 3, agrego bolitas transparentes:\n",
    "ax.scatter(y=[y3 for _ in range(GENERIC_MEDEL3.Nchann)], x=GENERIC_MEDEL3.freqsElectrodos, s=125, color='navy', alpha=0.45) #Los puntitos chiquitos y transparentes\n",
    "ax.scatter(y=[y3 for _ in elecs_activados_Medel], x=elecs_activados_Medel, s=125, color='yellow', alpha=0.9, marker = '2') \n",
    "\n",
    "#Eje de arriba: Toda la info\n",
    "for pair in [('top', tuple1), ('bottom', tuple3)]:\n",
    "    pos, tuplex = pair[0], pair[1] \n",
    "    (freqs, color, label, ticklabels, y, formita) = tuplex\n",
    "\n",
    "    secax = ax.secondary_xaxis(pos)  \n",
    "    secax_freqs = ax.secondary_xaxis(pos)  \n",
    "    freq_labels = [f'${round(freq)}$ ' for freq in freqs ]\n",
    "    secax.set_xticks(freqs[::step], labels = ticklabels[::step])\n",
    "    secax.xaxis.set_tick_params(pad = 30, labelcolor = color, labelsize = 20, rotation = 30)\n",
    "    secax_freqs.set_xticks(freqs[::step], labels = freq_labels[::step])\n",
    "    secax_freqs.xaxis.set_tick_params(pad = 7, labelcolor = color, labelsize= 20)\n",
    "    for i in range(1,len(freqs)//step+1):\n",
    "        secax.get_xticklabels()[-i].set_rotation_mode('anchor')\n",
    "\n",
    "\n",
    "#Freqs de los armónicos (medio)\n",
    "for i, freq in enumerate(nota.parciales):\n",
    "    plt.text(freq, y2*0.9, int(freq), fontdict={'size':20, 'font': 'Times New Roman', 'color':'maroon'})\n",
    "    plt.text(freq*0.975, y2*0.98, int(i+1), fontdict={'size':20, 'font': 'Times New Roman', 'color':'yellow'})\n",
    "\n",
    "\n",
    "#ax.set_xticks([], minor=True)\n",
    "\n",
    "\n",
    "######################################\n",
    "\n",
    "# Title, Label, Ticks and Ylim\n",
    "#ax.set_yticks(df.index)\n",
    "#ax.set_yticklabels(df.manufacturer.str.title(), fontdict={'horizontalalignment': 'right'})\n",
    "plt.legend(framealpha=1, shadow=True,  loc = 'lower left',  prop={'size': 24})\n",
    "plt.show()"
   ]
  },
  {
   "cell_type": "markdown",
   "metadata": {},
   "source": [
    "---------------------"
   ]
  },
  {
   "cell_type": "markdown",
   "metadata": {},
   "source": [
    "Y ahora va de vuelta sin usar reasignación"
   ]
  },
  {
   "cell_type": "code",
   "execution_count": null,
   "metadata": {},
   "outputs": [],
   "source": [
    "sig = nota.sintetizar(elec_array.SR)\n",
    "\n",
    "print('Nota original' )\n",
    "display(Audio(sig, rate=IMPLANT_SR))\n",
    "plot_stft_señalsola(sig, elec_array.freqsAnalisis)"
   ]
  },
  {
   "cell_type": "markdown",
   "metadata": {},
   "source": [
    "Hago un gráfico con el espectrograma de:\n",
    "-Nota original\n",
    "-Señal producida normalmente por el implante\n",
    "-Señal producida con la reasignación"
   ]
  },
  {
   "cell_type": "code",
   "execution_count": null,
   "metadata": {},
   "outputs": [],
   "source": [
    "from scipy.fft import rfft, rfftfreq\n",
    "\n",
    "DISPERTION = 0.1\n",
    "\n",
    "sig = nota.sintetizar(OUT_SR)\n",
    "out_normal = elec_array.CIS(sig, OUT_SR)*200\n",
    "out_reasignada = elec_array.CIS(elec_array.generarSenialMejorMatchNota(nota, 4, 50), OUT_SR)*100\n",
    "\n",
    "#Generales\n",
    "sr = OUT_SR\n",
    "f_from = 200\n",
    "f_to = 10000\n",
    "range_dB = 50 \n",
    "norm = 1\n",
    "logx = True\n",
    "\n",
    "T = 1/sr #periodo\n",
    "N = len(sig)\n",
    "t = np.arange(0, N*T, T) # Sampling times\n",
    "\n",
    "# FFT and bin centers\n",
    "f = rfftfreq(N, T)\n",
    "#df : sr/N  --> f(i) = i* sr/N --> i = f*N/sr  \n",
    "if(f_to == 0): fto = sr/2\n",
    "ifrom = round(f_from*N/sr)\n",
    "ito = round(f_to*N/sr)\n",
    "\n",
    "# Plot spectrum\n",
    "fig, ax = plt.subplots(dpi = 200)\n",
    "if(logx): ax.set_xscale('log')\n",
    "\n",
    "\n",
    "#Plot señales\n",
    "for sigcolor_pair in [(sig,'black') , (out_normal, 'red'), (out_reasignada, 'blue')]:\n",
    " \n",
    "  (x, color) = sigcolor_pair #unpack\n",
    "\n",
    "  y = rfft(x)\n",
    "  y = np.abs(y)*2/N\n",
    "  y /= norm\n",
    "  #y = 20*np.log10(np.abs(y)) #dB\n",
    "  y_db = 20*np.log10(y)\n",
    "\n",
    "  ax.plot(f[ifrom:ito], y_db[ifrom:ito], color = color, linewidth = 0.5) #eje lineal, y logaritmico\n",
    "  y_max =  max(y) +5\n",
    "  y_min = max(y) -range_dB\n",
    "  #ax.set_xlim(f_from, f_to)\n",
    "  ax.set_ylim(y_min , y_max)\n",
    "\n",
    "ax.legend((f'Señal de entrada', f'Simulación (sin reasignación)', f'Simulación (con reasignación)'), loc=\"upper right\")\n",
    "\n",
    "#Graficar lineas verticales para los electrodos\n",
    "showElecs = True\n",
    "if(showElecs):\n",
    "  color = 'blue'\n",
    "  secax = ax.secondary_xaxis('top') #eje secundario arriba\n",
    "  secax.set_xlabel('(Frecuencia característica de los electrodos)', color = 'dimgray', style = 'italic')\n",
    "      \n",
    "\n",
    "  #Creo marquitas para los elec\n",
    "  elec_labels = ['$e_{' +str(i) +'}$ ' for i in range(elec_array.Nchann) ]\n",
    "\n",
    "  #Agrego marquitas\n",
    "  step =1 \n",
    "  secax.set_xticks(elec_array.freqsElectrodos[::step], labels = elec_labels[::step])\n",
    "  \n",
    "  #Les pongo color\n",
    "  for i in range(1,elec_array.Nchann//step+1):\n",
    "    secax.get_xticklabels()[-i].set_color('limegreen')\n",
    "    secax.get_xticklabels()[-i].set_rotation(45)\n",
    "    secax.get_xticklabels()[-i].set_rotation_mode('anchor')\n",
    "\n",
    "\n",
    "  ax.vlines(elec_array.freqsElectrodos,y_min , y_max , colors=color, linewidth = 1.3, linestyle = (0, (1,5)), alpha = 0.5)\n",
    "\n",
    "\n",
    "plt.xlabel('Frecuencia (Hz)')\n",
    "plt.ylabel('Amplitud (dB)')  \n",
    "plt.grid(alpha  = 0.8)\n"
   ]
  },
  {
   "cell_type": "markdown",
   "metadata": {},
   "source": [
    "Hallo las frecuencias con mayor energía de un espectrograma. Esto no lo uso más porque no me anduvo en otros casos"
   ]
  },
  {
   "cell_type": "code",
   "execution_count": null,
   "metadata": {},
   "outputs": [],
   "source": [
    "fund = 870\n",
    "amp_armonicos = [1,1/2, 1/3,1/4,1/5, 1/6,1/7,1/8]\n",
    "dur_seg = 2\n",
    "nota = Nota(fund, amp_armonicos, dur_seg, [])\n",
    "\n",
    "sig = nota.sintetizar(OUT_SR)\n",
    "\n",
    "y= rfft(sig)\n",
    "y = np.abs(y)*2/N\n",
    "#store list in tmp to retrieve index\n",
    "\n",
    "#lista de indices  según energía, de mayor a menor\n",
    "def indices_ordenados(lista):\n",
    "    out = sorted(range(len(lista)), key=lambda x: lista[x])\n",
    "    out.reverse()\n",
    "    return out\n",
    "\n",
    "print('Frecuencias de la nota sintetizada:', nota.parciales)\n",
    "print('Frecuencias con mayor energia en FFT:' , f[indices_ordenados(y)][0:5])\n"
   ]
  },
  {
   "cell_type": "markdown",
   "metadata": {},
   "source": [
    "---------------"
   ]
  },
  {
   "cell_type": "markdown",
   "metadata": {},
   "source": [
    "Repito el gráfico de los puntos para comparar el esquema sin reasignación vs con reasignación"
   ]
  },
  {
   "cell_type": "code",
   "execution_count": null,
   "metadata": {},
   "outputs": [],
   "source": [
    "#Defino la nota que quiero\n",
    "\n",
    "fund = 870\n",
    "amp_armonicos = [1,0, 2,0,1/5, 1.5]\n",
    "dur_seg = 2 #larga, para afinar bien con picos únicos la fft\n",
    "nota = Nota(fund, amp_armonicos, dur_seg, [])\n",
    "\n",
    "DISPERTION = 0 #Uso sinusoides para sintetizar la salida, así queda más fácil encontrar los picos\n",
    "sig = nota.sintetizar(OUT_SR)\n",
    "out_normal = elec_array.CIS(sig, OUT_SR)\n",
    "out_reasignada = elec_array.CIS(elec_array.generarSenialMejorMatchNota(nota, 4, 50), OUT_SR)\n",
    "\n",
    "T = 1/OUT_SR #periodo\n",
    "N = len(sig)\n",
    "t = np.arange(0, N*T, T) # Sampling time\n",
    "\n",
    "# FFT and bin centers\n",
    "freqs_fft = rfftfreq(N, T)\n",
    "y= rfft(out_normal)\n",
    "y = np.abs(y)*2/N\n",
    "y /= max(y) #norm\n"
   ]
  },
  {
   "cell_type": "code",
   "execution_count": null,
   "metadata": {},
   "outputs": [],
   "source": [
    "print(np.round(elec_array.freqsElectrodos))\n",
    "print()\n",
    "\n",
    "from scipy.signal import find_peaks\n",
    "peaks, _ = find_peaks(y, distance = 100, prominence= 0.05) \n",
    "\n",
    "print(freqs_fft[peaks])\n",
    "print()\n",
    "print('Frecuencias con mayor energia en FFT:' , freqs_fft[peaks[indices_ordenados(peaks)]][0:5])\n",
    "\n",
    "plt.plot(freqs_fft, y) #Versión suavizada\n",
    "plt.plot(freqs_fft[peaks], y[peaks], \"x\", color = 'red')"
   ]
  },
  {
   "cell_type": "code",
   "execution_count": null,
   "metadata": {},
   "outputs": [],
   "source": [
    "\n",
    "#####################################\n",
    "#Arriba: Electrodos activados (sin reasignación)\n",
    "#Medio:  Nota y sus armónicos\n",
    "#Abajo: Electrodos activados (con reasignación)\n",
    "\n",
    "#Para calcular las frecuencias máximas, voy a usar \"find_peaks\", sobre la fft\n",
    "\n",
    "###########\n",
    "\n",
    "import matplotlib.ticker as ticker\n",
    "xmin = 220\n",
    "xmax = 13000\n",
    "\n",
    "fig, ax = plt.subplots(figsize=(16,6), dpi= 130)\n",
    "ax.set_xscale('log')\n",
    "ax.set_xlabel('Frecuencia (Hz)', labelpad = 35,fontdict={'size':25} )\n",
    "ax.xaxis.set_tick_params(pad = 7)\n",
    "ax.set_xlim(xmin , xmax)\n",
    "ax.set_ylim(0.1 , 1)\n",
    "ax.set_yticks([])\n",
    "ax.set_xticks([])\n",
    "ax.hlines(y=[0.6,0.45, 0.3], xmin=xmin, xmax=xmax, color='gray', alpha=0.85, linewidth=1, linestyles='dashdot')\n",
    "ax.vlines(x=elec_array.freqsElectrodos, ymin=0, ymax=1, color='gray', alpha=0.6, linewidth=1.2, linestyles='dashdot')\n",
    "ax.vlines(x=elec_array.freqsElectrodos, ymin=0.3, ymax=0.6, color='darkgray', alpha=0.95, linewidth=2, linestyles='dashdot') #Igual pero más corta y marcada\n",
    "\n",
    "#cambiar esto a Title\n",
    "ax.set_title('Electrodos estimulados', color = 'k', style = 'italic', pad = 20, fontdict={'size':32, 'font': 'Times New Roman'}, )\n",
    "\n",
    "#Texto para cada marquita de los elec\n",
    "elec_labels = ['$e_{' +str(i+1) +'}$ ' for i in range(elec_array.Nchann) ]\n",
    "\n",
    "#############################################3\n",
    "step = 1\n",
    "\n",
    "def espectroNormalizado(s):\n",
    "    Fs = rfft(s)\n",
    "    Fs = np.abs(Fs)*2/len(s)\n",
    "    Fs /= max(Fs) #norm\n",
    "    return Fs #Cambio el primer componente\n",
    "\n",
    "\n",
    "\n",
    "F1 = espectroNormalizado(sig)\n",
    "F2 = espectroNormalizado(out_normal)\n",
    "F3 = espectroNormalizado(out_reasignada)\n",
    "tuple1 = (F1, 'navy', 'Activaciones (sin reasignación)', elec_labels, 0.6)\n",
    "tuple2 = (F2, 'maroon', 'Componentes de la nota objetivo', _, 0.45)\n",
    "tuple3 = (F3, 'darkgreen', 'Activaciones (con reasignación)', act_labels, 0.3)\n",
    "\n",
    "#Grafico las tres lineas de puntitos\n",
    "#El tamaño de los puntos es proporcional a la amplitud del espectro\n",
    "for Fs_color_label_ticklabels_y in [tuple1, tuple2 , tuple3]:\n",
    "   \n",
    "    (Fs, color, label, ticklabels, y0) = Fs_color_label_ticklabels_y #unpack\n",
    "    \n",
    "    #Encuentro los picos\n",
    "    peaks, _ = find_peaks(Fs, distance = 100, prominence= 0.05) \n",
    "    #Me quedo con los n más grandes\n",
    "    max_freqs = freqs_fft[peaks] \n",
    "\n",
    "\n",
    "    #Grafico\n",
    "    y = [ y0 for f in max_freqs]\n",
    "    tamaños = np.array(Fs[peaks]) #De los circulitos\n",
    "    ax.scatter(y=y, x=max_freqs, s=300*tamaños, color=color, alpha=0.85, label = label) #Los puntitos\n",
    "    ax.grid(alpha = 0.7)\n",
    "\n",
    "#Para los electodos apagados en la linea 3, repito más transparente la última linea y le agrego cositas:\n",
    "ax.scatter(y=[0.3 for f in elec_array.freqsElectrodos], x=elec_array.freqsElectrodos, s=125, color='navy', alpha=0.45) #Los puntitos chiquitos y transparentes\n",
    "\n",
    "#Eje de arriba y de abajo\n",
    "for pair in  [(tuple1, 'top') , (tuple3, 'bottom')]:\n",
    "\n",
    "    Fs_color_label_ticklabels_y, pos = pair[0], pair[1]\n",
    "    (Fs, color, label, ticklabels, y) = Fs_color_label_ticklabels_y\n",
    "\n",
    "    #Calculo esto de vuelta\n",
    "    peaks, _ = find_peaks(Fs, distance = 100, prominence= 0.05) \n",
    "    max_freqs = freqs_fft[peaks] \n",
    "\n",
    "    secax = ax.secondary_xaxis(pos) #eje secundario (texto)    \n",
    "    secax_freqs = ax.secondary_xaxis(pos) #eje secundario (numeros)    \n",
    "    print(max_freqs)\n",
    "\n",
    "    freq_labels = [f'${round(freq)}$ ' for freq in max_freqs ]\n",
    "\n",
    "    secax.set_xticks(max_freqs[::step], labels = ticklabels[::step])\n",
    "    secax.xaxis.set_tick_params(pad = 25, labelcolor = color, labelsize = 20, rotation = 30)\n",
    "    secax_freqs.set_xticks(max_freqs, labels = freq_labels[::step])\n",
    "    secax_freqs.xaxis.set_tick_params(pad = 7, labelcolor = color, labelsize= 20)\n",
    "    for i in range(1,len(max_freqs)//step+1):\n",
    "        secax.get_xticklabels()[-i].set_rotation_mode('anchor')\n",
    "\n",
    "#ax.set_xticks([], minor=True)\n",
    "\n",
    "\n",
    "######################################\n",
    "\n",
    "# Title, Label, Ticks and Ylim\n",
    "#ax.set_yticks(df.index)\n",
    "#ax.set_yticklabels(df.manufacturer.str.title(), fontdict={'horizontalalignment': 'right'})\n",
    "plt.legend(framealpha=1, shadow=True,  loc = 'upper right',  prop={'size': 20})\n",
    "plt.show()"
   ]
  },
  {
   "cell_type": "markdown",
   "metadata": {},
   "source": [
    "Yyyy me doy cuenta después de todo esto que en realidad era mucho más fácil: En vez de buscar los picos del espectro, voy a ver cuanto dio la fft en la freq de los electrodos... ayayay era así de simple"
   ]
  },
  {
   "cell_type": "markdown",
   "metadata": {},
   "source": [
    "## Grafico 2 - Comparo electrodos activados Con y Sin mi programa"
   ]
  },
  {
   "cell_type": "code",
   "execution_count": null,
   "metadata": {},
   "outputs": [],
   "source": [
    "#Saca la fft completa y despues mira algunos indices\n",
    "def espectroElectrodos(s, norm = True):\n",
    "    Fs = rfft(s)\n",
    "    Fs = np.abs(Fs)*2/len(s)\n",
    "    if(norm): Fs /= max(Fs) \n",
    "\n",
    "    indices_electrodos = np.int32(np.round(np.array(fes) * dur_seg))\n",
    "    Fs = Fs[indices_electrodos]\n",
    "    return Fs\n",
    "\n",
    "#Saco solo la dft de las freqs que me intersan. Más robusto por los indices tambien\n",
    "def espectroElectrodos2(s, sr, norm = True):\n",
    "    \n",
    "    dur = len(s)/sr\n",
    "    Fs = []\n",
    "    for f in elec_array.freqsElectrodos:\n",
    "        sinsig = puretone(f,dur, sr, phase = 0)\n",
    "        cossig = puretone(f,dur,sr, phase = 90)\n",
    "\n",
    "        A = np.dot(sinsig, s)**2 + np.dot(cossig, s)**2\n",
    "        A = np.sqrt(A)\n",
    "        Fs.append(A)\n",
    "        \n",
    "    if(norm): Fs/=max(Fs)\n",
    "    return Fs"
   ]
  },
  {
   "cell_type": "code",
   "execution_count": null,
   "metadata": {},
   "outputs": [],
   "source": [
    "#Defino la nota que quiero\n",
    "fund = 870\n",
    "amp_armonicos = [1,0.5, 2,0.1,1/5, 1.5]\n",
    "dur_seg = 2 \n",
    "nota = Nota(fund, amp_armonicos, dur_seg, [])\n",
    "\n",
    "DISPERTION = 0.01 #Uso bandas de ruido finas para la salida, porque agarro los picos por los indices aproximados\n",
    "ORDEN = 12\n",
    "CHANNEL_INTERACTION_INDEX = 0\n",
    "elec_array = GENERIC_MEDEL3\n",
    "\n",
    "sig = nota.sintetizar(OUT_SR)\n",
    "out_normal = elec_array.CIS(sig, OUT_SR)\n",
    "out_reasignada = elec_array.CIS(elec_array.generarSenialMejorMatchNota(nota, 4, 50), OUT_SR)"
   ]
  },
  {
   "cell_type": "code",
   "execution_count": null,
   "metadata": {},
   "outputs": [],
   "source": [
    "#####################################\n",
    "#Arriba: Electrodos activados (sin reasignación)\n",
    "#Medio:  Nota y sus armónicos\n",
    "#Abajo: Electrodos activados (con reasignación)\n",
    "\n",
    "#Para calcular las frecuencias máximas, voy a usar \"find_peaks\", sobre la fft\n",
    "\n",
    "###########\n",
    "\n",
    "import matplotlib.ticker as ticker\n",
    "xmin = 450\n",
    "xmax = 6500\n",
    "\n",
    "fes = elec_array.freqsElectrodos\n",
    "\n",
    "(y1, y2, y3) = (0.58,0.5, 0.42)\n",
    "\n",
    "#Generalidades gráfico\n",
    "fig, ax = plt.subplots(figsize=(16,6), dpi= 130)\n",
    "ax.set_xscale('log')\n",
    "ax.set_xlabel('Frecuencia (Hz)', labelpad = 28,fontdict={'size':30} )\n",
    "ax.xaxis.set_tick_params(pad = 7)\n",
    "ax.set_xlim(xmin , xmax)\n",
    "ax.set_ylim(0.35 , 0.8)\n",
    "ax.set_yticks([])\n",
    "ax.set_xticks([])\n",
    "ax.hlines(y=[y1, y2, y3], xmin=xmin, xmax=xmax, color='gray', alpha=0.85, linewidth=1, linestyles='dashdot')\n",
    "ax.vlines(x=fes, ymin=0, ymax=1, color='gray', alpha=0.6, linewidth=1.8, linestyles='dashdot')\n",
    "ax.vlines(x=nota.parciales, ymin=0, ymax=1, color='maroon', alpha=0.5, linewidth=1, linestyles='dashed')\n",
    "#ax.vlines(x=elec_array.freqsElectrodos, ymin=0.3, ymax=0.6, color='darkgray', alpha=0.95, linewidth=2, linestyles='dashdot') #Igual pero más corta y marcada\n",
    "\n",
    "#Title\n",
    "ax.set_title('Simulación de electrodos estimulados con el esquema de reasignación', color = 'k', style = 'italic', pad = 20, fontdict={'size':32, 'font': 'Times New Roman'}, )\n",
    "\n",
    "#Texto para cada marquita de los elec\n",
    "elec_labels = ['$e_{' +str(i+1) +'}$ ' for i in range(elec_array.Nchann) ]\n",
    "\n",
    "#############################################3\n",
    "step = 1\n",
    "\n",
    "\n",
    "F2 = espectroElectrodos2(out_normal, OUT_SR)\n",
    "F3 = espectroElectrodos2(out_reasignada, OUT_SR)*3\n",
    "tuple_nota = (nota.parciales,nota.amps, 'maroon', 'Componentes de la nota objetivo' , _, y2,'s')\n",
    "tuple_normal = (fes, F2, 'navy', 'Activaciones (sin reasignación)' , elec_labels, y1, 'D')\n",
    "tuple_realoc = (fes, F3, 'darkgreen', 'Activaciones (con reasignación)', elec_labels, y3, 'P')\n",
    "\n",
    "#Grafico las tres lineas de puntitos\n",
    "#El tamaño de los puntos es proporcional a la amplitud del espectro\n",
    "for frecuencias_amplitudes_color_label_ticklabels_y_marker in [tuple_normal ,tuple_nota, tuple_realoc]:\n",
    "   \n",
    "    (freqs, amps, color, label, ticklabels, y0, forma) = frecuencias_amplitudes_color_label_ticklabels_y_marker #unpack\n",
    "    \n",
    "    #Grafico\n",
    "    y = [ y0 for f in freqs]\n",
    "    ax.scatter(y=y, x=freqs, s=650*np.array(amps)**0.5, color=color, alpha=0.85, label = label, marker=forma) #Los puntitos\n",
    "    ax.grid(alpha = 0.7)\n",
    "\n",
    "#Para los electodos apagados en la linea 3, repito más transparente la última linea y le agrego cositas:\n",
    "#ax.scatter(y=[0.3 for f in elec_array.freqsElectrodos], x=elec_array.freqsElectrodos, s=125, color='navy', alpha=0.45) #Los puntitos chiquitos y transparentes\n",
    "\n",
    "#Eje de arriba: e1, e2...\n",
    "secax = ax.secondary_xaxis('top') #eje secundario (texto)    \n",
    "secax.set_xticks(fes[::step], labels = elec_labels[::step])\n",
    "secax.xaxis.set_tick_params(pad = 8, labelcolor = 'navy', labelsize = 30, rotation = 30)\n",
    "for i in range(1,len(fes)//step+1):\n",
    "    secax.get_xticklabels()[-i].set_rotation_mode('anchor')\n",
    "\n",
    "#Eje de arriba: Freqs electrodos\n",
    "secax_freqs = ax.secondary_xaxis('top') #eje secundario (numeros)    \n",
    "freq_labels = [f'${round(freq)}$ ' for freq in fes ]\n",
    "secax_freqs.set_xticks(fes, labels = freq_labels[::step])\n",
    "secax_freqs.xaxis.set_tick_params(pad = 30, labelcolor = 'navy', labelsize= 20)\n",
    "\n",
    "\n",
    "#Eje de abajo: freqs nota\n",
    "secax_freqs_nota = ax.secondary_xaxis('bottom') #eje secundario (numeros)    \n",
    "freq_labels = [f'${round(freq)}$ ' for freq in nota.parciales ]\n",
    "secax_freqs_nota.set_xticks(nota.parciales, labels = freq_labels[::step])\n",
    "secax_freqs_nota.xaxis.set_tick_params(pad = 7, labelcolor = 'maroon', labelsize= 20)\n",
    "\n",
    "#ax.set_xticks([], minor=True)\n",
    "\n",
    "#Freqs de los armónicos\n",
    "for i, freq in enumerate(nota.parciales):\n",
    "    plt.text(freq*0.975, 0.49, str(int(i+1))+'°', fontdict={'size':20, 'font': 'Times New Roman', 'color':'yellow'})\n",
    "\n",
    "\n",
    "######################################\n",
    "\n",
    "# Title, Label, Ticks and Ylim\n",
    "#ax.set_yticks(df.index)\n",
    "#ax.set_yticklabels(df.manufacturer.str.title(), fontdict={'horizontalalignment': 'right'})\n",
    "plt.legend(framealpha=1, shadow=True,  loc = 'upper left',  prop={'size': 24})\n",
    "plt.show()"
   ]
  },
  {
   "cell_type": "code",
   "execution_count": null,
   "metadata": {},
   "outputs": [],
   "source": [
    "plt.plot(freqs_fft[0:4000], espectroNormalizado(out_reasignada)[0:4000])\n",
    "plt.plot(freqs_fft[0:4000], espectroNormalizado(out_normal)[0:4000])\n",
    "plt.plot(nota.parciales, nota.amps)"
   ]
  },
  {
   "cell_type": "code",
   "execution_count": null,
   "metadata": {},
   "outputs": [],
   "source": [
    "nChann = 4\n",
    "max_di = 50\n",
    "#amp_armonicos = [1,0.5, 2,0,1/5, 1.5]\n",
    "mejorPatron = encontrarMejorMatch2(nota, elec_array.freqsElectrodos, nChann, max_di)\n",
    "mejorPatron.print()"
   ]
  },
  {
   "cell_type": "markdown",
   "metadata": {},
   "source": [
    "## Resultado 2 - Mejor Trasposicion de una escala"
   ]
  },
  {
   "cell_type": "markdown",
   "metadata": {},
   "source": [
    "Med-El"
   ]
  },
  {
   "cell_type": "code",
   "execution_count": null,
   "metadata": {},
   "outputs": [],
   "source": [
    "\n",
    "fund = 870\n",
    "amp_armonicos = [1/n for n in range(1,9)]\n",
    "I = [1, 9/8, 5/4, 4/3, 3/2, 8/5, 5/3, 2]\n",
    "dur_seg = 2 \n",
    "\n",
    "notas = [Nota(fund*i, amp_armonicos, dur_seg, []) for i in I]  #Melodía: Escala Mayor\n",
    "\n",
    "nChann = 4\n",
    "max_di = 50\n",
    "\n",
    "Melodias_Medel = GENERIC_MEDEL3.buscarMejorTrasposicionMelodia(Melodia(notas), nChann, max_di) #lista de mejores patrones para cada trasposicion de la melodia"
   ]
  },
  {
   "cell_type": "code",
   "execution_count": null,
   "metadata": {},
   "outputs": [],
   "source": [
    "for melodia in Melodias_Medel:\n",
    "    print(np.round(melodia.notasExtremas()), np.round(melodia.score()))"
   ]
  },
  {
   "cell_type": "code",
   "execution_count": null,
   "metadata": {},
   "outputs": [],
   "source": [
    "grafico1(GENERIC_MEDEL3, Melodias_Medel[0].notas[7], nChann, max_di, step=1, xmin= 500, xmax = 9000)"
   ]
  },
  {
   "cell_type": "markdown",
   "metadata": {},
   "source": [
    "Las dos mejores fueron del registro [1280. 2560.] (#14) y [ 636. 1271.] (#8). Pero la #8 no es posible con la restriccion de max_di. En cambio, la #9, que tiene más puntaje, sí"
   ]
  },
  {
   "cell_type": "code",
   "execution_count": null,
   "metadata": {},
   "outputs": [],
   "source": [
    "Melodias_Medel[-3].mejorSecuenciaPatrones[1].print()"
   ]
  },
  {
   "cell_type": "code",
   "execution_count": null,
   "metadata": {},
   "outputs": [],
   "source": [
    "fund = 870\n",
    "amp_armonicos = [1/n for n in range(1,9)]\n",
    "I = [1, 9/8, 5/4, 4/3, 3/2, 8/5, 5/3, 2]\n",
    "dur_seg = 2 \n",
    "\n",
    "notas = [Nota(fund*i, amp_armonicos, dur_seg, []) for i in I]  #Melodía: Escala Mayor\n",
    "\n",
    "nChann = 4\n",
    "max_di = 50\n",
    "\n",
    "Melodias_Cochlear = GENERIC_COCHLEAR3.buscarMejorTrasposicionMelodia(Melodia(notas), nChann, max_di) #lista de mejores patrones para cada trasposicion de la melodia"
   ]
  },
  {
   "cell_type": "code",
   "execution_count": null,
   "metadata": {},
   "outputs": [],
   "source": [
    "for melodia in Melodias_Cochlear[20:]:\n",
    "    print(np.round(melodia.notasExtremas()), np.round(melodia.score()))"
   ]
  },
  {
   "cell_type": "markdown",
   "metadata": {},
   "source": [
    "La mejor es la #10 (803, 1605), pero es una poronga, no representa nadaaaa"
   ]
  },
  {
   "cell_type": "code",
   "execution_count": null,
   "metadata": {},
   "outputs": [],
   "source": [
    "grafico1(GENERIC_COCHLEAR3, Melodias_Cochlear[24].notas[4], nChann, max_di, step=1, xmin= 500, xmax = 9000)\n",
    "Melodias_Cochlear[1].mejorSecuenciaPatrones[5].print()"
   ]
  },
  {
   "cell_type": "markdown",
   "metadata": {},
   "source": [
    "# Prueba Preliminar 2b\n",
    "Dos armónicos, en relación de 8v+5ta (2°H y 3°H)"
   ]
  },
  {
   "cell_type": "code",
   "execution_count": null,
   "metadata": {},
   "outputs": [],
   "source": [
    "ORDEN = 20\n",
    "nChann = 2\n",
    "max_di = 200\n",
    "fund = 870\n",
    "amp_armonicos = [0,1,1]\n",
    "\n",
    "\n",
    "test_suite_Nota(fund, amp_armonicos, GENERIC_MEDEL3, nChann,max_di)"
   ]
  },
  {
   "cell_type": "markdown",
   "metadata": {},
   "source": [
    "# Prueba Preliminar 3: Nota completa sintetizada\n",
    "Este es un caso interesante y demuestra que los armonicos superiores se pueden priorizar por sobre los mas bajos si uno no tiene cuidado\n",
    "En este caso, el intervalo entre la fundamental y el electrodo 4 es bajo, pero hay un armonico superior que resulta tener intervalo aun mas bajo y el algoritmo lo prioriza. Esto se nota más cuando hay pocos canales.\n",
    "\n",
    "Que el algoritmo priorice los armonicos tan superiores es malo, asi que voy a corregir el algoritmo hasta que masomenos elija la fundamental"
   ]
  },
  {
   "cell_type": "code",
   "execution_count": null,
   "metadata": {},
   "outputs": [],
   "source": [
    "def scoreRelacion(f, dist, amp, armonico_i):\n",
    "    return (dist * amp)**2"
   ]
  },
  {
   "cell_type": "code",
   "execution_count": null,
   "metadata": {},
   "outputs": [],
   "source": [
    "fund = 870\n",
    "amp_armonicos = saw\n",
    "dur_seg = 3\n",
    "\n",
    "print('Intervalo entre fundamental y electrodo 4: '+ str(cents(fund,GENERIC_MEDEL3.freqsElectrodos[3] )))\n",
    "print('Intervalo entre armonico 5  y electrodo 9: '+ str(cents(fund*5,GENERIC_MEDEL3.freqsElectrodos[8] )))\n",
    "print('Intervalo entre armonico 9  y electrodo 11: '+ str(cents(fund*9,GENERIC_MEDEL3.freqsElectrodos[10] )))\n",
    "\n",
    "print()\n",
    "\n",
    "print('Error para fundamental y electrodo 4: '  + str(scoreRelacion(fund, -45, 1, 1)))\n",
    "print('Error para armonico 5 y electrodo 9:  '  + str(scoreRelacion(fund*5, 25, 1/5, 5)))"
   ]
  },
  {
   "cell_type": "code",
   "execution_count": null,
   "metadata": {},
   "outputs": [],
   "source": [
    "ORDEN = 20\n",
    "nChann = 2\n",
    "max_di = 200\n",
    "\n",
    "test_suite_Nota(fund, amp_armonicos, GENERIC_MEDEL3, nChann,max_di)"
   ]
  },
  {
   "cell_type": "markdown",
   "metadata": {},
   "source": [
    "## 3B: Pruebo cambios en la funcion hasta que no pase"
   ]
  },
  {
   "cell_type": "code",
   "execution_count": null,
   "metadata": {},
   "outputs": [],
   "source": [
    "def scoreRelacion(f, dist, amp, armonico_i):\n",
    "    return (dist/50)**2 * (2**armonico_i)"
   ]
  },
  {
   "cell_type": "code",
   "execution_count": null,
   "metadata": {},
   "outputs": [],
   "source": [
    "fund = 870\n",
    "amp_armonicos = saw\n",
    "dur_seg = 3\n",
    "\n",
    "print('Intervalo entre fundamental y electrodo 4: '+ str(cents(fund,GENERIC_MEDEL3.freqsElectrodos[3] )))\n",
    "print('Intervalo entre armonico 5  y electrodo 9: '+ str(cents(fund*5,GENERIC_MEDEL3.freqsElectrodos[8] )))\n",
    "print('Intervalo entre armonico 9  y electrodo 11: '+ str(cents(fund*9,GENERIC_MEDEL3.freqsElectrodos[10] )))\n",
    "\n",
    "print()\n",
    "\n",
    "print('Error para fundamental y electrodo 4: '  + str(scoreRelacion(fund, -45, 1, 1)))\n",
    "print('Error para armonico 5 y electrodo 9:  '  + str(scoreRelacion(fund*5, 25, 1/5, 5)))\n",
    "print('Error para armonico 9 y electrodo 11:  '  + str(scoreRelacion(fund*9, 13, 1/9, 9)))"
   ]
  },
  {
   "cell_type": "markdown",
   "metadata": {},
   "source": [
    "Con esto gana la fundamental por sobre el armonico 5 y el 9"
   ]
  },
  {
   "cell_type": "code",
   "execution_count": null,
   "metadata": {},
   "outputs": [],
   "source": [
    "ORDEN = 20\n",
    "amp_armonicos = saw\n",
    "nChann = 2\n",
    "max_di = 200\n",
    "\n",
    "test_suite_Nota(fund, amp_armonicos, GENERIC_MEDEL3, nChann,max_di)"
   ]
  },
  {
   "cell_type": "markdown",
   "metadata": {},
   "source": [
    "Ahora, si cambio la forma de onda a una que tenga solo armonicos impares..."
   ]
  },
  {
   "cell_type": "code",
   "execution_count": null,
   "metadata": {},
   "outputs": [],
   "source": [
    "ORDEN = 20\n",
    "amp_armonicos = sq\n",
    "nChann = 2\n",
    "max_di = 200\n",
    "\n",
    "test_suite_Nota(fund, amp_armonicos, GENERIC_MEDEL3, nChann,max_di)"
   ]
  },
  {
   "cell_type": "markdown",
   "metadata": {},
   "source": [
    "Cambia la relación! Al faltar el armónico 2, que hubiera sido elegido con la diente de sierra.\n",
    "Por eso es importante usar una buena forma de onda base para darle al algoritmo que estoy diseñando"
   ]
  },
  {
   "cell_type": "markdown",
   "metadata": {},
   "source": [
    "# Prueba preliminar 4: Pequeña melodía"
   ]
  },
  {
   "cell_type": "markdown",
   "metadata": {},
   "source": [
    "Acá vemos un problema claro: Con pocos canales, nada me garantiza que en una melodía una nota preserve sus armónicos bajos\n",
    "Con dos canales:"
   ]
  },
  {
   "cell_type": "code",
   "execution_count": null,
   "metadata": {},
   "outputs": [],
   "source": [
    "def test_suite_Melodia(funds, amps, durs, elec_array, nChann,max_di):\n",
    "    MISMATCH = 0\n",
    "    CHANNEL_INTERACTION_INDEX = 0\n",
    "    DISPERTION = 0.001\n",
    "    WIN_LEN_ACE = 1000\n",
    "    MODE = CONTINOUS\n",
    "    MAXIMA = 5\n",
    "    amps_list = [amps]* len(funds) #lista duplicada n veces\n",
    "\n",
    "    sig =  melody(funds, amps, durs, elec_array.SR)\n",
    "    print('Señal original')\n",
    "    plt.plot(sig[0:100])\n",
    "    display(Audio(sig, rate= elec_array.SR))\n",
    "    plot_stft_señalsola(sig, elec_array.freqsElectrodos)\n",
    "\n",
    "    print('Señal sintetizada para que elicite esa altura')\n",
    "    A = elec_array.generarSenialMejorMatchMelodia(funds, amps_list, nChann,max_di, durs)\n",
    "    display(Audio(A, rate = elec_array.SR))\n",
    "    #plot_stft_señalsola(A)\n",
    "    plot_stft(A, elec_array, analisis = True, mini = True)\n",
    "\n",
    "    print('Señal que daría el implante')\n",
    "    out = elec_array.CIS(A)\n",
    "    display(Audio(out, rate = OUT_SR))\n",
    "    plot_stft(out,elec_array, analisis = False, mini = True)"
   ]
  },
  {
   "cell_type": "code",
   "execution_count": null,
   "metadata": {},
   "outputs": [],
   "source": [
    "arpegioMayor = [69, 73, 76, 81]\n",
    "intervalo5J = [69, 69+7]\n",
    "freqs = [midi2freq(f) for f in arpegioMayor] #arpegio La Mayor\n",
    "amps = saw\n",
    "durs = [1,1,1,1]\n",
    "melodia = melody(freqs, saw, durs, GENERIC_MEDEL3.SR)\n",
    "test_suite_Melodia(freqs, amps, durs, GENERIC_MEDEL3, 2, 200)"
   ]
  },
  {
   "cell_type": "markdown",
   "metadata": {},
   "source": [
    "Con 4 canales y permitiendo más margen de error en la diferencia en cents (200->300):"
   ]
  },
  {
   "cell_type": "code",
   "execution_count": null,
   "metadata": {},
   "outputs": [],
   "source": [
    "test_suite_Melodia(freqs, amps, durs, GENERIC_MEDEL3, 4, 300)"
   ]
  },
  {
   "cell_type": "markdown",
   "metadata": {},
   "source": [
    "Mirá que interesante: Las fundamentales mapeadas del 3er y 5to armónico quedan fijas..."
   ]
  },
  {
   "cell_type": "markdown",
   "metadata": {},
   "source": [
    "-----------------------------------------------------------------------------"
   ]
  },
  {
   "cell_type": "markdown",
   "metadata": {},
   "source": [
    "# Prueba Preliminar 5 - Mejor traspocisión\n",
    "\n",
    "Busco que trasposición es la que menos distorsiona a una melodía para un implante dado\n",
    "\n",
    "A modo de ejemplo, probemos el mismo arpegio de arriba una 8va abajo y una 8va arriba:"
   ]
  },
  {
   "cell_type": "markdown",
   "metadata": {},
   "source": [
    "8va arriba: Canales demasiado separados"
   ]
  },
  {
   "cell_type": "code",
   "execution_count": null,
   "metadata": {},
   "outputs": [],
   "source": [
    "arpegioMayor = [69, 73, 76, 81]\n",
    "freqs = [midi2freq(n)*2 for n in arpegioMayor] #arpegio La Mayor\n",
    "amps = saw\n",
    "durs = [1,1,1,1]\n",
    "melodia = melody(freqs, amps, durs, GENERIC_MEDEL3.SR)\n",
    "test_suite_Melodia(freqs, amps, durs, GENERIC_MEDEL3, 3, 300)"
   ]
  },
  {
   "cell_type": "markdown",
   "metadata": {},
   "source": [
    "8va abajo : No hay separacion suficiente entre los armonicos para cubrir electrodos\n",
    "\n",
    "(con max d = 200 cents es estatico, con max d= 300 cents mejora pero se sigue perdiendo la direccionalidad)"
   ]
  },
  {
   "cell_type": "code",
   "execution_count": null,
   "metadata": {},
   "outputs": [],
   "source": [
    "arpegioMayor = [69, 73, 76, 81]\n",
    "freqs = [midi2freq(n)/2 for n in arpegioMayor] #arpegio La Mayor\n",
    "melodia = melody(freqs, saw, durs, GENERIC_MEDEL3.SR)\n",
    "test_suite_Melodia(freqs, amps, durs, GENERIC_MEDEL3, 3, 300)"
   ]
  },
  {
   "cell_type": "markdown",
   "metadata": {},
   "source": [
    "Busco la trasposición óptima, que genere menos distorsión:"
   ]
  },
  {
   "cell_type": "code",
   "execution_count": null,
   "metadata": {},
   "outputs": [],
   "source": [
    "amps_list = [amps]* len(freqs) #lista duplicada n veces\n",
    "\n",
    "M = GENERIC_MEDEL3.buscarMejorTrasposicionMelodia(freqs, amps_list, 2, 300, durs) #lista de mejores patrones para cada trasposicion de la melodia"
   ]
  },
  {
   "cell_type": "code",
   "execution_count": null,
   "metadata": {},
   "outputs": [],
   "source": [
    "scores = []\n",
    "for patron_list in M:\n",
    "    scores.append(sumaScores(patron_list))\n",
    "print(scores)"
   ]
  },
  {
   "cell_type": "code",
   "execution_count": null,
   "metadata": {},
   "outputs": [],
   "source": [
    "#Como se ve arriba, hay mucha variacion en los scores\n",
    "#Parto de 250Hz y voy subiendo de a un semitono para probar.\n",
    "#Escuchemos algunas trasposiciones que propone esto\n",
    "fbase = 250 \n",
    "ffinal = 3000\n",
    "step = np.sqrt(16/15 * 2**(1/12)) #compromiso entre semitono justo y temperado . Con este step, hace 40 iteraciones\n",
    "\n",
    "fundamentales_trnsp = np.array(freqs) * fbase/freqs[0] \n",
    "mejoresPatrones_list = []\n",
    "\n",
    "for i in range(0,30,5):\n",
    "    print('Trasposicion ' + str(i))\n",
    "    fundamentales_trnsp = np.array(freqs) * (step**i) \n",
    "    sig = melody(fundamentales_trnsp, saw, durs, GENERIC_MEDEL3.SR)\n",
    "    display(Audio(sig, rate = GENERIC_MEDEL3.SR))\n",
    "    plot_stft_señalsola(sig, lineas = GENERIC_MEDEL3.freqsElectrodos)\n"
   ]
  },
  {
   "cell_type": "markdown",
   "metadata": {},
   "source": [
    "Comparemos las primeras 5:"
   ]
  },
  {
   "cell_type": "code",
   "execution_count": null,
   "metadata": {},
   "outputs": [],
   "source": [
    "for patron_list in M[0:5]:\n",
    "    s = []\n",
    "    for patron in patron_list:\n",
    "        s += list(GENERIC_MEDEL3.generarSenialPatron(patron, 1, [1]))\n",
    "    plot_stft(s,  GENERIC_MEDEL3, analisis = True, mini = True)\n",
    "    display(Audio(s, rate = GENERIC_MEDEL3.SR))"
   ]
  },
  {
   "cell_type": "markdown",
   "metadata": {},
   "source": [
    "Comparemos la mejor contra la peor\n",
    "\n",
    "ANDA MAL, prque la mejor es horrible y la peor no es tan mala. Corregir"
   ]
  },
  {
   "cell_type": "code",
   "execution_count": null,
   "metadata": {},
   "outputs": [],
   "source": [
    "mejor_i = scores.index(min(scores))\n",
    "peor_i = scores.index(max(scores))\n",
    "mejor = M[mejor_i]\n",
    "peor = M[peor_i]\n",
    "print('Mejor y peor: ' + str(mejor_i) +' ' + str(peor_i))\n",
    "\n",
    "for patron_list in (M[mejor_i], M[peor_i]):\n",
    "    s = []\n",
    "    for patron in patron_list:\n",
    "        s += list(GENERIC_MEDEL3.generarSenialPatron(patron, 1, [1]))\n",
    "    plot_stft(s,  GENERIC_MEDEL3, analisis = True, mini = True)\n",
    "    display(Audio(s, rate = GENERIC_MEDEL3.SR))\n"
   ]
  },
  {
   "cell_type": "markdown",
   "metadata": {},
   "source": [
    "------------------------------------------------------"
   ]
  },
  {
   "cell_type": "code",
   "execution_count": null,
   "metadata": {},
   "outputs": [],
   "source": [
    "filtered_bank = filter_bank_CIS(A, GENERIC_MEDEL3, ORDEN, analisis = True)"
   ]
  },
  {
   "cell_type": "code",
   "execution_count": null,
   "metadata": {},
   "outputs": [],
   "source": [
    "ff = filtered_bank[3]\n",
    "plt.plot(ff[1000:])\n",
    "Audio(ff, rate = IMPLANT_SR)\n"
   ]
  },
  {
   "cell_type": "code",
   "execution_count": null,
   "metadata": {},
   "outputs": [],
   "source": [
    " filter_bank_CIS(wnoise, elec_array, ORDEN, analisis = False)"
   ]
  },
  {
   "cell_type": "code",
   "execution_count": null,
   "metadata": {},
   "outputs": [],
   "source": [
    "#envelopes = [envelope_Cochlear(filtered_bank[i], ENVELOPE_FC, ENVELOPE_FULLWAVE) for i in range(N)] # CIS convencional\n",
    "envelopes = [envelope_Hilbert(filtered_bank[i]) for i in range(12)] # \"CIS+\""
   ]
  },
  {
   "cell_type": "code",
   "execution_count": null,
   "metadata": {},
   "outputs": [],
   "source": [
    "k=5\n",
    "#plt.plot(envelopes[k])\n",
    "plt.plot(filtered_bank[k])"
   ]
  },
  {
   "cell_type": "code",
   "execution_count": null,
   "metadata": {},
   "outputs": [],
   "source": [
    "wnoise = wnoise_sig(len(out))\n",
    "filtered_noises = filter_bank_CIS(wnoise, GENERIC_MEDEL3, ORDEN, analisis = False)\n"
   ]
  },
  {
   "cell_type": "code",
   "execution_count": null,
   "metadata": {},
   "outputs": [],
   "source": [
    "Audio(filtered_noises[4], rate = OUT_SR)"
   ]
  },
  {
   "cell_type": "code",
   "execution_count": null,
   "metadata": {},
   "outputs": [],
   "source": [
    "\n",
    "s, phi = puretonePhase(550, 1, 44100, 0)\n",
    "s2, _ = puretonePhase(700, 1, 44100, phi)\n",
    "s += s2\n",
    "plot_stft_señalsola(s)\n",
    "display(Audio(s, rate=44100))"
   ]
  },
  {
   "cell_type": "code",
   "execution_count": null,
   "metadata": {},
   "outputs": [],
   "source": [
    "x= np.exp([ 7*(-i/500) for i in range(500)])\n",
    "plt.plot(x)"
   ]
  },
  {
   "cell_type": "code",
   "execution_count": null,
   "metadata": {},
   "outputs": [],
   "source": [
    "s = puretone(500, 1, 44100)\n",
    "s = adsre(150,300, 0.2, 200, s, 44100)\n",
    "\n",
    "plt.plot(s)\n",
    "display(Audio(s, rate = 44100))"
   ]
  },
  {
   "cell_type": "markdown",
   "metadata": {},
   "source": [
    "# Prueba 6 - Comparación auditiva de la afincación de las notas originales vs las que elijo representar"
   ]
  },
  {
   "cell_type": "code",
   "execution_count": null,
   "metadata": {},
   "outputs": [],
   "source": [
    "import import_ipynb\n",
    "from CIS_6_Best_Match_v4 import * \n",
    "from IPython.display import Audio \n"
   ]
  },
  {
   "cell_type": "markdown",
   "metadata": {},
   "source": [
    "Ejemplo de importar una melodia midi, sintetizarla, y ver mas o menos que tanto se distorsionaria en la persona que la reciba\n",
    "\n",
    "SIN TRASPOCISION \n",
    "\n",
    "emm eso de Trasposicion, solo fundamental, etc quedó viejo. Va la melo con la reasignacion completa v4 ya"
   ]
  },
  {
   "cell_type": "markdown",
   "metadata": {},
   "source": [
    "## Solo la fundamental"
   ]
  },
  {
   "cell_type": "code",
   "execution_count": null,
   "metadata": {},
   "outputs": [],
   "source": [
    "amplitudes_armonicos = np.array([1]*2)\n",
    "\n",
    "m = Melodia.leerMidi(r\"midis\\Pablo Pasea.mid\", amplitudes_armonicos)\n",
    "out = m.sintetizar(44100, vibratoDepth = 0.2, vibratoFreq = 2)\n",
    "\n",
    "print('Melo original - Pablo pasea')\n",
    "Audio(out, rate = 44100)"
   ]
  },
  {
   "cell_type": "markdown",
   "metadata": {},
   "source": [
    "Medel"
   ]
  },
  {
   "cell_type": "code",
   "execution_count": null,
   "metadata": {},
   "outputs": [],
   "source": [
    "elec_array = GENERIC_MEDEL3\n",
    "nChann = 3\n",
    "max_di = 800\n",
    "m.notas = m.notas[0:21] \n",
    "\n",
    "#patron =  encontrarMejorMatchMelodia(m, elec_array.freqsElectrodos, nChann, max_di)\n",
    "combinaciones = buscarMejoresCombinacionesMelodia(elec_array.freqsElectrodos, m , nChann, nChann, max_di)"
   ]
  },
  {
   "cell_type": "code",
   "execution_count": null,
   "metadata": {},
   "outputs": [],
   "source": [
    "import pickle\n",
    "if(not combinaciones): Exception('No sigass')\n",
    "with open('una nota medel temp.pkl', 'wb') as f:  # Python 3: open(..., 'rb')\n",
    "    pickle.dump(combinaciones, f)"
   ]
  },
  {
   "cell_type": "code",
   "execution_count": null,
   "metadata": {},
   "outputs": [],
   "source": [
    "elec_array = GENERIC_MEDEL3\n",
    "import pickle\n",
    "with open('una nota medel temp.pkl', 'rb') as f:  # Python 3: open(..., 'rb')\n",
    "    combinaciones = pickle.load(f)"
   ]
  },
  {
   "cell_type": "code",
   "execution_count": null,
   "metadata": {},
   "outputs": [],
   "source": [
    "elec_array.generarTodasSeniales(combinaciones[3][0], sr = 44100)"
   ]
  },
  {
   "cell_type": "markdown",
   "metadata": {},
   "source": [
    "Cochlear  (quedo viejo, para best_match v2 o v3 seguramente)"
   ]
  },
  {
   "cell_type": "code",
   "execution_count": null,
   "metadata": {},
   "outputs": [],
   "source": [
    "patron =  encontrarMejorMatchMelodia(m, GENERIC_COCHLEAR3.freqsElectrodos, nChann, max_di)"
   ]
  },
  {
   "cell_type": "code",
   "execution_count": null,
   "metadata": {},
   "outputs": [],
   "source": [
    "for p in patron:\n",
    "    n = len(p.canalesActivos())\n",
    "    print(n)"
   ]
  },
  {
   "cell_type": "code",
   "execution_count": null,
   "metadata": {},
   "outputs": [],
   "source": [
    "elec_array = GENERIC_COCHLEAR3\n",
    "\n",
    "nChann = 6\n",
    "max_di = 300\n",
    "\n",
    "#patron =  encontrarMejorMatchMelodia(m, elec_array.freqsElectrodos, nChann, max_di)\n",
    "out_intermedio = elec_array.generarSenialMejorMatchMelodia(m, nChann,max_di, sr = IMPLANT_SR)\n",
    "\n",
    "print('Melo para el implante')\n",
    "Audio(out_intermedio, rate = IMPLANT_SR)\n",
    "\n",
    "out_final = elec_array.CIS(out_intermedio, input_sr = IMPLANT_SR)\n",
    "\n",
    "print('Melo que se escucha con el implante')\n",
    "Audio(out_final, rate = OUT_SR)"
   ]
  },
  {
   "cell_type": "markdown",
   "metadata": {},
   "source": [
    "## Con algunos armonicos"
   ]
  },
  {
   "cell_type": "markdown",
   "metadata": {},
   "source": [
    "# Prueba 7 - Comparación auditiva del espectro de las notas originales vs el espectro que les elijo representar"
   ]
  },
  {
   "cell_type": "markdown",
   "metadata": {},
   "source": [
    "Emm ya está en las demas pruebas esto"
   ]
  },
  {
   "cell_type": "code",
   "execution_count": null,
   "metadata": {},
   "outputs": [],
   "source": [
    "amplitudes_armonicos = saw\n",
    "\n",
    "m = Melodia.leerMidi(r\"C:\\Users\\Graciela\\Desktop\\Cochlear Implants\\CODE ultima version\\midis\\Pablo Pasea.mid\", amplitudes_armonicos)\n",
    "out = m.sintetizar(44100, vibratoDepth = 0.2, vibratoFreq = 2)\n",
    "\n",
    "print('Melo original: Pablo pasea')\n",
    "Audio(out, rate = 44100)"
   ]
  },
  {
   "cell_type": "markdown",
   "metadata": {},
   "source": [
    "# Prueba 8 - Comparar con y sin Vibrato"
   ]
  },
  {
   "cell_type": "markdown",
   "metadata": {},
   "source": [
    "no importante ahora considero"
   ]
  },
  {
   "cell_type": "markdown",
   "metadata": {},
   "source": [
    "# Prueba 9 - Como se escuchan notas solo con los N armonicos superiores"
   ]
  },
  {
   "cell_type": "markdown",
   "metadata": {},
   "source": [
    "Estas pruebas de concepto son importantes para ver si el principio que quiero aplicar con implantes funciona con oyentes"
   ]
  },
  {
   "cell_type": "markdown",
   "metadata": {},
   "source": [
    "Resultado: Se escucha re bien, se entiende la melodía *para alguien con entrenamiento previo*"
   ]
  },
  {
   "cell_type": "code",
   "execution_count": null,
   "metadata": {},
   "outputs": [],
   "source": [
    "import import_ipynb\n",
    "#from CIS_6 import *\n",
    "from CIS_6_Best_Match_v4 import *"
   ]
  },
  {
   "cell_type": "code",
   "execution_count": null,
   "metadata": {},
   "outputs": [],
   "source": [
    "def prueba_armonicos_sup(amplitudes_armonicos):\n",
    "    m = Melodia.leerMidi(r\"midis\\Pablo Pasea.mid\", amplitudes_armonicos)\n",
    "    out = m.sintetizar(44100, vibratoDepth = 0.2, vibratoFreq = 2)\n",
    "\n",
    "    print('Pablo pasea')\n",
    "    display(Audio(out, rate = 44100))"
   ]
  },
  {
   "cell_type": "markdown",
   "metadata": {},
   "source": [
    "Armonicos 3-5"
   ]
  },
  {
   "cell_type": "code",
   "execution_count": null,
   "metadata": {},
   "outputs": [],
   "source": [
    "amplitudes_armonicos = np.array([0,0,1,1,0.8])\n",
    "prueba_armonicos_sup(amplitudes_armonicos)\n"
   ]
  },
  {
   "cell_type": "markdown",
   "metadata": {},
   "source": [
    "Armonicos 4-5"
   ]
  },
  {
   "cell_type": "code",
   "execution_count": null,
   "metadata": {},
   "outputs": [],
   "source": [
    "amplitudes_armonicos = np.array([0,0,0,1,0.8])\n",
    "prueba_armonicos_sup(amplitudes_armonicos)\n"
   ]
  },
  {
   "cell_type": "markdown",
   "metadata": {},
   "source": [
    "Armonico 5 solo"
   ]
  },
  {
   "cell_type": "code",
   "execution_count": null,
   "metadata": {},
   "outputs": [],
   "source": [
    "amplitudes_armonicos = np.array([0,0,0,0,1,0.05])\n",
    "prueba_armonicos_sup(amplitudes_armonicos)"
   ]
  },
  {
   "cell_type": "markdown",
   "metadata": {},
   "source": [
    "Armonicos 5-6"
   ]
  },
  {
   "cell_type": "code",
   "execution_count": null,
   "metadata": {},
   "outputs": [],
   "source": [
    "amplitudes_armonicos = np.array([0,0,0,0,1,0.8])\n",
    "prueba_armonicos_sup(amplitudes_armonicos)\n"
   ]
  },
  {
   "cell_type": "markdown",
   "metadata": {},
   "source": [
    "Armónicos 5-8"
   ]
  },
  {
   "cell_type": "code",
   "execution_count": null,
   "metadata": {},
   "outputs": [],
   "source": [
    "amplitudes_armonicos = np.array([0,0,0,0,1,1,1,1])\n",
    "prueba_armonicos_sup(amplitudes_armonicos)\n"
   ]
  },
  {
   "cell_type": "markdown",
   "metadata": {},
   "source": [
    "Armónicos 5-10"
   ]
  },
  {
   "cell_type": "code",
   "execution_count": null,
   "metadata": {},
   "outputs": [],
   "source": [
    "amplitudes_armonicos = np.array([0,0,0,0,1,1,1,1,1,1])\n",
    "prueba_armonicos_sup(amplitudes_armonicos)\n"
   ]
  },
  {
   "cell_type": "markdown",
   "metadata": {},
   "source": [
    "Armónicos 7-10"
   ]
  },
  {
   "cell_type": "code",
   "execution_count": null,
   "metadata": {},
   "outputs": [],
   "source": [
    "amplitudes_armonicos = np.array([0,0,0,0,0,0,1,1,1,1,1])\n",
    "prueba_armonicos_sup(amplitudes_armonicos)\n"
   ]
  },
  {
   "cell_type": "markdown",
   "metadata": {},
   "source": [
    "Ok. Se percibe una melodía en esa octava. Es tremendo. Faltan los 6 primeros armonicos y aun asi se escucha clarita la altura...\n",
    "\n",
    " Ahora a trasponer 5J y armonicos 5-8"
   ]
  },
  {
   "cell_type": "code",
   "execution_count": null,
   "metadata": {},
   "outputs": [],
   "source": [
    "amplitudes_armonicos = np.array([0,0,0,0,1,1,1,1])\n",
    "\n",
    "m = Melodia.leerMidi(r\"midis\\Pablo Pasea.mid\", amplitudes_armonicos)\n",
    "m.transportar(1.5) #una 5ta arriba\n",
    "out = m.sintetizar(44100, vibratoDepth = 0.2, vibratoFreq = 2)\n",
    "\n",
    "print('Melo original - Pablo pasea + 5J')\n",
    "Audio(out, rate = 44100)"
   ]
  },
  {
   "cell_type": "markdown",
   "metadata": {},
   "source": [
    "Para nosotros pasa a entrar en el limite de lo comodo ya. Una 8va mas y es inescuchable\n",
    "\n",
    "Ahora armonicos 3-5 + 5J"
   ]
  },
  {
   "cell_type": "code",
   "execution_count": null,
   "metadata": {},
   "outputs": [],
   "source": [
    "amplitudes_armonicos = np.array([0,0,1,1,1])\n",
    "\n",
    "m = Melodia.leerMidi(r\"midis\\Pablo Pasea.mid\", amplitudes_armonicos)\n",
    "m.transportar(1.5) #una 5ta arriba\n",
    "out = m.sintetizar(44100, vibratoDepth = 0.2, vibratoFreq = 2)\n",
    "\n",
    "print('Melo original - Pablo pasea + 5J')\n",
    "Audio(out, rate = 44100)"
   ]
  },
  {
   "cell_type": "markdown",
   "metadata": {},
   "source": [
    "Mejora. A partir de esto se podría definir un ámbito ideal para la melodía"
   ]
  },
  {
   "cell_type": "code",
   "execution_count": null,
   "metadata": {},
   "outputs": [],
   "source": [
    "amplitudes_armonicos = np.array([1/k for k in range(1,10)])\n",
    "\n",
    "m = Melodia.leerMidi(r\"midis\\Pablo Pasea.mid\", amplitudes_armonicos)\n",
    "m.transportar(0.75) \n",
    "out = m.sintetizar(44100, vibratoDepth = 0.2, vibratoFreq = 2)\n",
    "\n",
    "print('Melo original - Pablo pasea -4J')\n",
    "Audio(out, rate = 44100)"
   ]
  },
  {
   "cell_type": "markdown",
   "metadata": {},
   "source": [
    "## Prueba 9b - timbre cambiante todo el tiempo (ponele nota a nota)"
   ]
  },
  {
   "cell_type": "markdown",
   "metadata": {},
   "source": [
    "Usando sawwaves de base"
   ]
  },
  {
   "cell_type": "code",
   "execution_count": null,
   "metadata": {},
   "outputs": [],
   "source": [
    "amplitudes_armonicos = np.array([0,0,1/3,1/4,1/5])  #3-5\n",
    "m = Melodia.leerMidi(r\"midis\\Pablo Pasea.mid\", amplitudes_armonicos)\n",
    "m.transportar(0.66) #una 5ta abajo\n",
    "out1 = m.sintetizar(44100, vibratoDepth = 0.2, vibratoFreq = 2)\n",
    "\n",
    "amplitudes_armonicos = np.array([0,0,0,0+1/4,1/5,1/6,1/7])  #4-8\n",
    "m = Melodia.leerMidi(r\"midis\\Pablo Pasea.mid\", amplitudes_armonicos)\n",
    "m.transportar(0.66) #una 5ta abajo\n",
    "out2 = m.sintetizar(44100, vibratoDepth = 0.2, vibratoFreq = 2)\n",
    "\n",
    "amplitudes_armonicos = np.array([0,0,0,0,1/5,1/6,1/7])  #5-7\n",
    "m = Melodia.leerMidi(r\"midis\\Pablo Pasea.mid\", amplitudes_armonicos)\n",
    "m.transportar(0.66) #una 5ta abajo\n",
    "out3 = m.sintetizar(44100, vibratoDepth = 0.2, vibratoFreq = 2)\n",
    "\n",
    "\n",
    "amplitudes_armonicos = np.array([0,0,0,0,0,1/6,1/7,1/8,1/9,1/10])  #6-10\n",
    "m = Melodia.leerMidi(r\"midis\\Pablo Pasea.mid\", amplitudes_armonicos)\n",
    "m.transportar(0.66) #una 5ta abajo\n",
    "out4 = m.sintetizar(44100, vibratoDepth = 0.2, vibratoFreq = 2)\n"
   ]
  },
  {
   "cell_type": "code",
   "execution_count": null,
   "metadata": {},
   "outputs": [],
   "source": [
    "out = np.zeros(len(out1))\n",
    "outs = [out1, out2, out3, out4]\n",
    "i = 0\n",
    "k = 0 #out_k\n",
    "\n",
    "import random\n",
    "while i < len(out):\n",
    "    j = random.choice([44100, 44100*2, 44100//2])\n",
    "    out[i:i+j] = outs[k][i:i+j] \n",
    "    i += j\n",
    "    k = (k+1) % 4\n",
    "\n",
    "print('Pablo pasea - Timbres mezclados')\n",
    "display(Audio(out, rate= 44100))"
   ]
  },
  {
   "cell_type": "markdown",
   "metadata": {},
   "source": [
    "Usando dirac deltas de base"
   ]
  },
  {
   "cell_type": "code",
   "execution_count": null,
   "metadata": {},
   "outputs": [],
   "source": [
    "amplitudes_armonicos = np.array([0,0,1,1,1])  #3-5\n",
    "m = Melodia.leerMidi(r\"midis\\Pablo Pasea.mid\", amplitudes_armonicos)\n",
    "m.transportar(0.66) #una 5ta abajo\n",
    "out1 = m.sintetizar(44100, vibratoDepth = 0.2, vibratoFreq = 2)\n",
    "\n",
    "amplitudes_armonicos = np.array([0,0,0,0,1,1,1,1])  #4-8\n",
    "m = Melodia.leerMidi(r\"midis\\Pablo Pasea.mid\", amplitudes_armonicos)\n",
    "m.transportar(0.66) #una 5ta abajo\n",
    "out2 = m.sintetizar(44100, vibratoDepth = 0.2, vibratoFreq = 2)\n",
    "\n",
    "amplitudes_armonicos = np.array([0,0,0,0,1,1,1])  #5-7\n",
    "m = Melodia.leerMidi(r\"midis\\Pablo Pasea.mid\", amplitudes_armonicos)\n",
    "m.transportar(0.66) #una 5ta abajo\n",
    "out3 = m.sintetizar(44100, vibratoDepth = 0.2, vibratoFreq = 2)\n",
    "\n",
    "\n",
    "amplitudes_armonicos = np.array([0,0,0,0,0,1,1,1,1,1])  #6-10\n",
    "m = Melodia.leerMidi(r\"midis\\Pablo Pasea.mid\", amplitudes_armonicos)\n",
    "m.transportar(0.66) #una 5ta abajo\n",
    "out4 = m.sintetizar(44100, vibratoDepth = 0.2, vibratoFreq = 2)\n"
   ]
  },
  {
   "cell_type": "code",
   "execution_count": null,
   "metadata": {},
   "outputs": [],
   "source": [
    "out = np.zeros(len(out1))\n",
    "outs = [out1, out2, out3, out4]\n",
    "i = 0\n",
    "k = 0 #out_k\n",
    "\n",
    "import random\n",
    "while i < len(out):\n",
    "    j = random.choice([44100, 44100*2, 44100//2])\n",
    "    out[i:i+j] = outs[k][i:i+j] \n",
    "    i += j\n",
    "    k = (k+1) % 4\n",
    "\n",
    "print('Pablo pasea - Timbres mezclados')\n",
    "display(Audio(out, rate= 44100))"
   ]
  },
  {
   "cell_type": "markdown",
   "metadata": {},
   "source": [
    "A estos ultimos tres, Axel dijo: \"Suenan HORRIBLES, muy molesto y muuy agudo\". Pero si le preguntas dice que lo puede considerar notas y que podria ser musica. No nota ninguna estructura interna en el audio.\n",
    "\n",
    "Igual ojo que dijo esto cuando la sintesis era una 8va arriba por error mio y si, era insufrible - sospecho que hasta mas de una 8va quizas"
   ]
  },
  {
   "cell_type": "markdown",
   "metadata": {},
   "source": [
    "## 9C : Fundamental ausente (pero armonicos no contiguos)"
   ]
  },
  {
   "cell_type": "code",
   "execution_count": null,
   "metadata": {},
   "outputs": [],
   "source": [
    "amplitudes_armonicos = np.array([0,0,1,0,1])\n",
    "prueba_armonicos_sup(amplitudes_armonicos)\n"
   ]
  },
  {
   "cell_type": "code",
   "execution_count": null,
   "metadata": {},
   "outputs": [],
   "source": [
    "amplitudes_armonicos = np.array([0,1,0,0,1,1])\n",
    "prueba_armonicos_sup(amplitudes_armonicos)\n"
   ]
  },
  {
   "cell_type": "code",
   "execution_count": null,
   "metadata": {},
   "outputs": [],
   "source": [
    "amplitudes_armonicos = np.array([0,0,1,0,0,1,0,1])\n",
    "prueba_armonicos_sup(amplitudes_armonicos)\n"
   ]
  },
  {
   "cell_type": "code",
   "execution_count": null,
   "metadata": {},
   "outputs": [],
   "source": [
    "amplitudes_armonicos = np.array([0,1,0,0,0,1,0,1])\n",
    "prueba_armonicos_sup(amplitudes_armonicos)\n"
   ]
  },
  {
   "cell_type": "code",
   "execution_count": null,
   "metadata": {},
   "outputs": [],
   "source": [
    "amplitudes_armonicos = np.array([0,1,0,0,0,1,1,1])\n",
    "prueba_armonicos_sup(amplitudes_armonicos)\n"
   ]
  },
  {
   "cell_type": "code",
   "execution_count": null,
   "metadata": {},
   "outputs": [],
   "source": [
    "amplitudes_armonicos = np.array([0,0,0,1,0,1,0,1]) #solo pares, suena 8va arriba\n",
    "prueba_armonicos_sup(amplitudes_armonicos)\n"
   ]
  },
  {
   "cell_type": "code",
   "execution_count": null,
   "metadata": {},
   "outputs": [],
   "source": [
    "amplitudes_armonicos = np.array([0,0,0,1,0,1,0,0,1]) #casi solo pares\n",
    "prueba_armonicos_sup(amplitudes_armonicos)\n"
   ]
  },
  {
   "cell_type": "code",
   "execution_count": null,
   "metadata": {},
   "outputs": [],
   "source": [
    "amplitudes_armonicos = np.array([0,0,0,1,0,0,1,1]) #casi solo pares\n",
    "prueba_armonicos_sup(amplitudes_armonicos)\n"
   ]
  },
  {
   "cell_type": "code",
   "execution_count": null,
   "metadata": {},
   "outputs": [],
   "source": [
    "amplitudes_armonicos = np.array([0,0,1,1,0,0,0,1,0,1]) #casi solo pares\n",
    "prueba_armonicos_sup(amplitudes_armonicos)\n"
   ]
  },
  {
   "cell_type": "markdown",
   "metadata": {},
   "source": [
    "# Prueba 10 - Desafinación de parciales"
   ]
  },
  {
   "cell_type": "code",
   "execution_count": null,
   "metadata": {},
   "outputs": [],
   "source": [
    "def probar_desafinaciones_pablopasea(desafinaciones, amplitudes_armonicos):\n",
    "\n",
    "    m = Melodia.leerMidi(r\"midis\\Pablo Pasea.mid\", amplitudes_armonicos, desafinaciones_cents = desafinaciones)\n",
    "    m.transportar(1.5) #una 5ta arriba\n",
    "    out = m.sintetizar(44100, vibratoDepth = 0.2, vibratoFreq = 2)\n",
    "    display(Audio(out, rate = 44100))"
   ]
  },
  {
   "cell_type": "markdown",
   "metadata": {},
   "source": [
    "Acá pruebo desafinando algunos cents los parciales de una nota y viendo como se perciben"
   ]
  },
  {
   "cell_type": "code",
   "execution_count": null,
   "metadata": {},
   "outputs": [],
   "source": [
    "amplitudes_armonicos = np.array([1,1])\n",
    "desafinaciones = np.array([-20,0]) #cents\n",
    "print('-20 cents')\n",
    "probar_desafinaciones_pablopasea(desafinaciones, amplitudes_armonicos)"
   ]
  },
  {
   "cell_type": "code",
   "execution_count": null,
   "metadata": {},
   "outputs": [],
   "source": [
    "amplitudes_armonicos = np.array([1,1/2, 1/3, 1/4, 1/5])\n",
    "desafinaciones = np.array([-50,0,0,0,0]) #cents\n",
    "print('-50 cents')\n",
    "probar_desafinaciones_pablopasea(desafinaciones, amplitudes_armonicos)"
   ]
  },
  {
   "cell_type": "code",
   "execution_count": null,
   "metadata": {},
   "outputs": [],
   "source": [
    "amplitudes_armonicos = np.array([1,1/2, 1/3, 1/4, 1/5])\n",
    "desafinaciones = np.array([-20,-20,0,0,0]) #cents\n",
    "probar_desafinaciones_pablopasea(desafinaciones, amplitudes_armonicos)"
   ]
  },
  {
   "cell_type": "code",
   "execution_count": null,
   "metadata": {},
   "outputs": [],
   "source": [
    "amplitudes_armonicos = np.array([1,1/2, 1/3, 1/4, 1/5])\n",
    "desafinaciones = np.array([-20,10,10,-10,-20]) #cents\n",
    "probar_desafinaciones_pablopasea(desafinaciones, amplitudes_armonicos)"
   ]
  },
  {
   "cell_type": "code",
   "execution_count": null,
   "metadata": {},
   "outputs": [],
   "source": [
    "amplitudes_armonicos = np.array([1,1/2, 1/3, 1/4, 1/5])\n",
    "desafinaciones = np.array([20,10,-10,-10,0]) #cents\n",
    "\n",
    "probar_desafinaciones_pablopasea(desafinaciones, amplitudes_armonicos)"
   ]
  },
  {
   "cell_type": "code",
   "execution_count": null,
   "metadata": {},
   "outputs": [],
   "source": [
    "amplitudes_armonicos = np.array([1,1/2, 1/3, 1/4, 1/5])\n",
    "desafinaciones = np.array([-20,20,-20,20,-20]) #cents\n",
    "\n",
    "probar_desafinaciones_pablopasea(desafinaciones, amplitudes_armonicos)"
   ]
  },
  {
   "cell_type": "code",
   "execution_count": null,
   "metadata": {},
   "outputs": [],
   "source": [
    "amplitudes_armonicos = np.array([1,1/2, 1/3, 1/4, 1/5])\n",
    "desafinaciones = np.array([-30,30,-30,30,-30]) #cents\n",
    "\n",
    "probar_desafinaciones_pablopasea(desafinaciones, amplitudes_armonicos)"
   ]
  },
  {
   "cell_type": "code",
   "execution_count": null,
   "metadata": {},
   "outputs": [],
   "source": [
    "amplitudes_armonicos = np.array([1,1/2, 1/3, 1/4, 1/5])\n",
    "desafinaciones = np.array([30,-30,30,-30,30]) #cents\n",
    "\n",
    "probar_desafinaciones_pablopasea(desafinaciones, amplitudes_armonicos)"
   ]
  },
  {
   "cell_type": "code",
   "execution_count": null,
   "metadata": {},
   "outputs": [],
   "source": [
    "amplitudes_armonicos = np.array([1,1/2, 1/3, 1/4, 1/5])\n",
    "desafinaciones = np.array([-50,50,-50,50,-50]) #cents\n",
    "\n",
    "probar_desafinaciones_pablopasea(desafinaciones, amplitudes_armonicos)"
   ]
  },
  {
   "cell_type": "code",
   "execution_count": null,
   "metadata": {},
   "outputs": [],
   "source": [
    "amplitudes_armonicos = np.array([1,1/2, 1/3, 1/4, 1/5])\n",
    "desafinaciones = np.array([50,-50,50,-50,50]) #cents\n",
    "\n",
    "probar_desafinaciones_pablopasea(desafinaciones, amplitudes_armonicos)"
   ]
  },
  {
   "cell_type": "markdown",
   "metadata": {},
   "source": [
    "Ok. Para desafinaciones \"regulares\" lo escucho \"pasable\". No lindo, pero se entiende todavia la melodia. Creo yo. A ver ahora con randoms"
   ]
  },
  {
   "cell_type": "markdown",
   "metadata": {},
   "source": [
    "## Prueba 10b - Desafinaciones random"
   ]
  },
  {
   "cell_type": "code",
   "execution_count": null,
   "metadata": {},
   "outputs": [],
   "source": [
    "import random\n",
    "def probar_desafinaciones_random_pablopasea(amplitudes_armonicos, dmax =50):\n",
    "\n",
    "    desafinaciones = []\n",
    "    for i in range(len(amplitudes_armonicos)):\n",
    "        desafinaciones.append(random.randint(-dmax,dmax))\n",
    "    m = Melodia.leerMidi(r\"midis\\Pablo Pasea.mid\", amplitudes_armonicos, desafinaciones_cents = desafinaciones)\n",
    "    m.transportar(1.5) #una 5ta arriba\n",
    "    print(desafinaciones)\n",
    "    out = m.sintetizar(44100, vibratoDepth = 0.2, vibratoFreq = 2)\n",
    "    display(Audio(out, rate = 44100))"
   ]
  },
  {
   "cell_type": "code",
   "execution_count": null,
   "metadata": {},
   "outputs": [],
   "source": [
    "amplitudes_armonicos = np.array([1,1/2, 1/3, 1/4, 1/5])\n",
    "for _ in range(5):\n",
    "    probar_desafinaciones_random_pablopasea(amplitudes_armonicos, dmax = 50)"
   ]
  },
  {
   "cell_type": "markdown",
   "metadata": {},
   "source": [
    "Y ahora lo mas importante. Con fundamental ausente\n",
    "\n",
    "\n",
    "Pero OJO!!! Por como lo hice en su momento, las amplitudes no pueden ser exactamente 0 (porque si no desp se pierde que numero de armonico era). Setearlas a casi 0. Eso deberia arreglarlo..."
   ]
  },
  {
   "cell_type": "code",
   "execution_count": null,
   "metadata": {},
   "outputs": [],
   "source": [
    "amplitudes_armonicos = np.array([0.001, 0.001,0.001, 1/4, 1/5, 1/6])\n",
    "for _ in range(5):\n",
    "    probar_desafinaciones_random_pablopasea(amplitudes_armonicos, dmax = 50)"
   ]
  },
  {
   "cell_type": "markdown",
   "metadata": {},
   "source": [
    "Ok. El caso real es más complejo por lo siguiente: Las desafinaciones cambian en cada nota (ej las desafinaciones de C4 son siempre las mismas, pero distintas a D4). Y son bandas de ruido y no sinusides. Y las frecs están muucho más discretizadas\n",
    "\n",
    "A partir de v4, en la tesis, trate de que  el timbre (amps) sea el mismo en toda la melo como acá. Antes, el timbre cambiaba nota a nota. \n",
    "Qué es mejor no sé. Pero se mantiene lo de que nota a nota las desafinaciones cambian a diferencia de este ejemplo"
   ]
  },
  {
   "cell_type": "markdown",
   "metadata": {},
   "source": [
    "## Prueba 10c - Desafinacion random en cada nota"
   ]
  },
  {
   "cell_type": "markdown",
   "metadata": {},
   "source": [
    "Ahora si aplico el comentario anterior. Para nosotros deberia estar todo bien por lo aprendido, por ej escuchamos alturas en notas de distintas campanas"
   ]
  },
  {
   "cell_type": "code",
   "execution_count": null,
   "metadata": {},
   "outputs": [],
   "source": [
    "import random\n",
    "def probar_desafinaciones_random_notaanota_pablopasea(amplitudes_armonicos, dmax =50):\n",
    "    m = Melodia.leerMidi(r\"midis\\Pablo Pasea.mid\", amplitudes_armonicos)\n",
    "\n",
    "    newNotas = []\n",
    "    for nota in m.notas:\n",
    "        desafinaciones = []\n",
    "        for i in range(len(amplitudes_armonicos)):\n",
    "            desafinaciones.append(random.randint(-dmax,dmax))\n",
    "        print(desafinaciones)\n",
    "        \n",
    "        newNotas.append(Nota(nota.freq, nota.amps,nota.dur, desafinaciones_cents= desafinaciones, ti = nota.ti))\n",
    "\n",
    "    m.notas = newNotas\n",
    "    #Ni idea por que no podia hacer nota = Nota(...) en el loop. No se guardaba sobre lo viejo final\n",
    "\n",
    "    out = m.sintetizar(44100, vibratoDepth = 0.2, vibratoFreq = 2)\n",
    "    display(Audio(out, rate = 44100))"
   ]
  },
  {
   "cell_type": "markdown",
   "metadata": {},
   "source": [
    "Con fundamental ausente de una"
   ]
  },
  {
   "cell_type": "code",
   "execution_count": null,
   "metadata": {},
   "outputs": [],
   "source": [
    "amplitudes_armonicos = np.array([0.001, 0.001,0.001, 1/4, 1/5, 1/6])\n",
    "probar_desafinaciones_random_notaanota_pablopasea(amplitudes_armonicos, dmax = 80)"
   ]
  },
  {
   "cell_type": "markdown",
   "metadata": {},
   "source": [
    "Esto si se acerca mas a lo que teoricamente yo predigo en la tesis que se escucharia con el implante"
   ]
  },
  {
   "cell_type": "markdown",
   "metadata": {},
   "source": [
    "## 10d - Con Noise"
   ]
  },
  {
   "cell_type": "code",
   "execution_count": null,
   "metadata": {},
   "outputs": [],
   "source": [
    "import random\n",
    "def probar_desafinaciones_random_notaanota_pablopasea_noise(amplitudes_armonicos, dmax =50, bw = 1.5):\n",
    "    m = Melodia.leerMidi(r\"midis\\Pablo Pasea.mid\", amplitudes_armonicos)\n",
    "\n",
    "    newNotas = []\n",
    "    for nota in m.notas:\n",
    "        desafinaciones = []\n",
    "        for i in range(len(amplitudes_armonicos)):\n",
    "            desafinaciones.append(random.randint(-dmax,dmax))\n",
    "        print(desafinaciones)\n",
    "        \n",
    "        newNotas.append(Nota(nota.freq, nota.amps,nota.dur, desafinaciones_cents= desafinaciones, ti = nota.ti))\n",
    "\n",
    "    m.notas = newNotas\n",
    "    #Ni idea por que no podia hacer nota = Nota(...) en el loop. No se guardaba sobre lo viejo final\n",
    "\n",
    "    out = m.sintetizarNoise(44100, bw = bw)\n",
    "    display(Audio(out, rate = 44100))"
   ]
  },
  {
   "cell_type": "code",
   "execution_count": null,
   "metadata": {},
   "outputs": [],
   "source": [
    "amplitudes_armonicos = np.array([0.001, 0.001,0.001, 1/4, 1/5, 1/6])\n",
    "probar_desafinaciones_random_notaanota_pablopasea_noise(amplitudes_armonicos, dmax = 120, bw = 1.5)"
   ]
  },
  {
   "cell_type": "markdown",
   "metadata": {},
   "source": [
    "# Prueba 11 - Prueba reasignacion con nota sola"
   ]
  },
  {
   "cell_type": "markdown",
   "metadata": {},
   "source": [
    "## Cochlear"
   ]
  },
  {
   "cell_type": "markdown",
   "metadata": {},
   "source": [
    "Para todas estas pruebas, la formula de puntaje utilizada fue\n",
    "\n",
    "     (dist/50)**2 * (2**armonico_i) "
   ]
  },
  {
   "cell_type": "code",
   "execution_count": null,
   "metadata": {},
   "outputs": [],
   "source": [
    "pablo = Melodia.leerMidi(r\"midis\\Pablo Pasea.mid\", [1]*8)\n",
    "pablo.notas = [pablo.notas[0]]"
   ]
  },
  {
   "cell_type": "code",
   "execution_count": null,
   "metadata": {},
   "outputs": [],
   "source": [
    "#Proceso. Tarda como 2hs para array cochlear\n",
    "nota_puntuada_porclase = buscarMejoresCombinacionesMelodia(CIS_6.Cochlear_Axel_Der.freqsElectrodos, pablo , 3, 6, 100)"
   ]
  },
  {
   "cell_type": "code",
   "execution_count": null,
   "metadata": {},
   "outputs": [],
   "source": [
    "#Guardo todo este resultado\n",
    "import pickle\n",
    "with open('output una nota Cochlear Derecho.pkl', 'wb') as f:  # Python 3: open(..., 'wb')\n",
    "    pickle.dump(nota_puntuada_porclase, f)"
   ]
  },
  {
   "cell_type": "code",
   "execution_count": null,
   "metadata": {},
   "outputs": [],
   "source": [
    "# Getting back the objects:\n",
    "import pickle\n",
    "with open('output una nota Cochlear Derecho.pkl', 'rb') as f:  # Python 3: open(..., 'rb')\n",
    "    nota_puntuada_porclase = pickle.load(f)"
   ]
  },
  {
   "cell_type": "code",
   "execution_count": null,
   "metadata": {},
   "outputs": [],
   "source": [
    "nota = nota_puntuada_porclase[3][0]\n",
    "nota.printInformeScores()\n",
    "\n",
    "sr = 44100\n",
    "print('Nota que quedó elegida como mejor')\n",
    "display(Audio(nota.sintetizar(sr, vibratoDepth = 0.2, vibratoFreq = 1.5, fc = 1500), rate = sr, normalize= False))\n",
    "print('Como se escucharía')\n",
    "display(Audio(nota.sintetizarNoise(sr, bw = 1.5), rate = sr, normalize= False))\n"
   ]
  },
  {
   "cell_type": "markdown",
   "metadata": {},
   "source": [
    "Escucho best matches por clase"
   ]
  },
  {
   "cell_type": "code",
   "execution_count": null,
   "metadata": {},
   "outputs": [],
   "source": [
    "def reporteCompleto(clases_melo, clase, puesto):\n",
    "    melo = clases_melo[clase][puesto]\n",
    "    melo.printInformeScores()\n",
    "\n",
    "    sr = 44100\n",
    "    print('Nota que quedó elegida como mejor')\n",
    "    display(CIS_6.Audio(melo.sintetizar(sr, vibratoDepth = 0.2, vibratoFreq = 1.5, fc = 1500), rate = sr, normalize= False))\n",
    "    print('Como se escucharía')\n",
    "    display(CIS_6.Audio(melo.sintetizarNoise(sr, bw = 1.5), rate = sr, normalize= False))\n"
   ]
  },
  {
   "cell_type": "markdown",
   "metadata": {},
   "source": [
    "N = 3"
   ]
  },
  {
   "cell_type": "markdown",
   "metadata": {},
   "source": [
    "Clase 4"
   ]
  },
  {
   "cell_type": "code",
   "execution_count": null,
   "metadata": {},
   "outputs": [],
   "source": [
    "reporteCompleto(nota_puntuada_porclase, 4, 0)"
   ]
  },
  {
   "cell_type": "markdown",
   "metadata": {},
   "source": [
    "N = 5"
   ]
  },
  {
   "cell_type": "code",
   "execution_count": null,
   "metadata": {},
   "outputs": [],
   "source": [
    "reporteCompleto(nota_puntuada_porclase, 5, 0)"
   ]
  },
  {
   "cell_type": "markdown",
   "metadata": {},
   "source": [
    "N = 6"
   ]
  },
  {
   "cell_type": "code",
   "execution_count": null,
   "metadata": {},
   "outputs": [],
   "source": [
    "reporteCompleto(nota_puntuada_porclase, 6, 0)"
   ]
  },
  {
   "cell_type": "markdown",
   "metadata": {},
   "source": [
    "Discutir en el informe los problemas de \"sensacion de altura\" con un implante. Que es super discutible y dificil. Pero que con melodias ahi quizas si"
   ]
  },
  {
   "cell_type": "markdown",
   "metadata": {},
   "source": [
    "## Medel"
   ]
  },
  {
   "cell_type": "markdown",
   "metadata": {},
   "source": [
    "Para estas pruebas, la formula de puntaje utilizada fue\n",
    "\n",
    "     (dist)**2 "
   ]
  },
  {
   "cell_type": "code",
   "execution_count": null,
   "metadata": {},
   "outputs": [],
   "source": [
    "pablo = Melodia.leerMidi(r\"midis\\Pablo Pasea.mid\", [1]*8)\n",
    "pablo.notas = [pablo.notas[0]]\n",
    "\n",
    "#Proceso. Tarda como 2hs para array cochlear\n",
    "nota_puntuada_porclase = buscarMejoresCombinacionesMelodia(CIS_6.GENERIC_MEDEL3.freqsElectrodos, pablo , 3, 6, 250)"
   ]
  },
  {
   "cell_type": "code",
   "execution_count": null,
   "metadata": {},
   "outputs": [],
   "source": [
    "#Guardo todo este resultado\n",
    "import pickle\n",
    "with open('output una nota Medel.pkl', 'wb') as f:  # Python 3: open(..., 'wb')\n",
    "    pickle.dump(nota_puntuada_porclase, f)"
   ]
  },
  {
   "cell_type": "code",
   "execution_count": null,
   "metadata": {},
   "outputs": [],
   "source": [
    "# Getting back the objects:\n",
    "import pickle\n",
    "with open('output una nota Medel.pkl', 'rb') as f:  # Python 3: open(..., 'rb')\n",
    "    nota_puntuada_porclase = pickle.load(f)\n",
    "\n",
    "reporteCompleto(nota_puntuada_porclase, 6, 0)"
   ]
  },
  {
   "cell_type": "markdown",
   "metadata": {},
   "source": [
    "# Prueba 12 - Prueba reasignacion con melodia"
   ]
  },
  {
   "cell_type": "markdown",
   "metadata": {},
   "source": [
    "funcion de puntaje utilizada... ni preguntes. Para coc debe ser la misma vieja que arriba, y medel la nueva"
   ]
  },
  {
   "cell_type": "markdown",
   "metadata": {},
   "source": [
    "## Cochlaer pentatonica"
   ]
  },
  {
   "cell_type": "code",
   "execution_count": null,
   "metadata": {},
   "outputs": [],
   "source": [
    "import import_ipynb\n",
    "from CIS_6 import *\n",
    "from CIS_6_Best_Match_v4 import *\n",
    "import pickle"
   ]
  },
  {
   "cell_type": "code",
   "execution_count": null,
   "metadata": {},
   "outputs": [],
   "source": [
    "def buscarMinMaxF0(melos):\n",
    "    f0min = np.inf\n",
    "    f0max = 0\n",
    "    n_validos = 0\n",
    "    for melo in melos:\n",
    "        if(melo.score < np.inf):\n",
    "            f0min = min(f0min, melo.notas[0].freq)\n",
    "            f0max = max(f0max, melo.notas[0].freq)\n",
    "            n_validos += 1\n",
    "    return f0min, f0max, n_validos"
   ]
  },
  {
   "cell_type": "code",
   "execution_count": null,
   "metadata": {},
   "outputs": [],
   "source": [
    "pablo = Melodia.leerMidi(r\"midis\\Pablo Pasea.mid\", [1]*8)\n",
    "pablo.notas = pablo.notas[1:3] + pablo.notas[4:6] + [pablo.notas[7]] #me quedo con las primeras notas nomas para acelerar esta prueba\n",
    "\n",
    "\n",
    "#Proceso. Tarda mas de 17hs para array cochlear\n",
    "melodias_puntuadas_porclase2 = buscarMejoresCombinacionesMelodia(CIS_6.Cochlear_Axel_Der.freqsElectrodos, pablo , 3, 6, 100)\n",
    "\n",
    "#Guardo lo procesado. En realidad eran cinco notas. Pero \"seis\" en total con el primer Re que omití\n",
    "with open('output seis notas Cochlear Derecho.pkl', 'wb') as f:  # Python 3: open(..., 'wb')\n",
    "    pickle.dump(melodias_puntuadas_porclase2, f)"
   ]
  },
  {
   "cell_type": "code",
   "execution_count": null,
   "metadata": {},
   "outputs": [],
   "source": [
    "# Getting back the objects:\n",
    "with open('output seis notas Cochlear Derecho.pkl', 'rb') as f:  # Python 3: open(..., 'rb')\n",
    "    melodias_puntuadas_porclase2 = pickle.load(f)"
   ]
  },
  {
   "cell_type": "code",
   "execution_count": null,
   "metadata": {},
   "outputs": [],
   "source": [
    "buscarMinMaxF0(melodias_puntuadas_porclase2[6])"
   ]
  },
  {
   "cell_type": "code",
   "execution_count": null,
   "metadata": {},
   "outputs": [],
   "source": [
    "len(melodias_puntuadas_porclase2[6][0].notas) "
   ]
  },
  {
   "cell_type": "code",
   "execution_count": null,
   "metadata": {},
   "outputs": [],
   "source": [
    "np.array(buscarMinMaxF0(melodias_puntuadas_porclase2[3]))*8/9 #el tono hacia abajo es porque esta melo no lleva el \"Re\" grave... solo los grados 23568. Lo compenso entonces \"trucho\""
   ]
  },
  {
   "cell_type": "markdown",
   "metadata": {},
   "source": [
    "### arpegio"
   ]
  },
  {
   "cell_type": "code",
   "execution_count": null,
   "metadata": {},
   "outputs": [],
   "source": [
    "pablo = Melodia.leerMidi(r\"midis\\Pablo Pasea.mid\", [1]*N_Mayus)\n",
    "pablo.notas = [pablo.notas[0], pablo.notas[2], pablo.notas[4], pablo.notas[9]]"
   ]
  },
  {
   "cell_type": "code",
   "execution_count": null,
   "metadata": {},
   "outputs": [],
   "source": [
    "#Proceso. Tarda mas de 17hs para array cochlear\n",
    "arpegios_puntuados_porclase = buscarMejoresCombinacionesMelodia(CIS_6.Cochlear_Axel_Der.freqsElectrodos, pablo , 3, 6, 100)"
   ]
  },
  {
   "cell_type": "code",
   "execution_count": null,
   "metadata": {},
   "outputs": [],
   "source": [
    "#Guardo lo procesado\n",
    "with open('output arpegio Cochlear Derecho.pkl', 'wb') as f:  # Python 3: open(..., 'wb')\n",
    "    pickle.dump(arpegios_puntuados_porclase, f)"
   ]
  },
  {
   "cell_type": "code",
   "execution_count": null,
   "metadata": {},
   "outputs": [],
   "source": [
    "# Getting back the objects:\n",
    "with open('output arpegio Cochlear Derecho.pkl', 'rb') as f:  # Python 3: open(..., 'rb')\n",
    "    arpegios_puntuados_porclase = pickle.load(f)"
   ]
  },
  {
   "cell_type": "code",
   "execution_count": null,
   "metadata": {},
   "outputs": [],
   "source": [
    "buscarMinMaxF0(arpegios_puntuados_porclase[5])"
   ]
  },
  {
   "cell_type": "code",
   "execution_count": null,
   "metadata": {},
   "outputs": [],
   "source": [
    "buscarMinMaxF0(arpegios_puntuados_porclase[4])"
   ]
  },
  {
   "cell_type": "markdown",
   "metadata": {},
   "source": [
    "Que haya mas combinaciones validas para la clase 5 que la 4 me hace dudas mucho de estos resultados... Voy a tener que chequearlo de alguna manera"
   ]
  },
  {
   "cell_type": "code",
   "execution_count": null,
   "metadata": {},
   "outputs": [],
   "source": [
    "arpegios_puntuados_porclase[6][75].printInformeScores()"
   ]
  },
  {
   "cell_type": "markdown",
   "metadata": {},
   "source": [
    "Lindos, hermosos resultados... Solo hubiera cambiado la funcion de puntaje, y mirado las distancias"
   ]
  },
  {
   "cell_type": "markdown",
   "metadata": {},
   "source": [
    "## Medel pentatonica MAL"
   ]
  },
  {
   "cell_type": "markdown",
   "metadata": {},
   "source": [
    "Ojo: Todos estos res que siguen estan remal. Los pongo bien abajo"
   ]
  },
  {
   "cell_type": "code",
   "execution_count": null,
   "metadata": {},
   "outputs": [],
   "source": [
    "pablo = Melodia.leerMidi(r\"midis\\Pablo Pasea.mid\", [1]*N_Mayus)\n",
    "penta = Melodia(pablo.notas[0:3] + pablo.notas[4:6] + [pablo.notas[7]]) #me quedo con las primeras notas nomas para acelerar esta prueba"
   ]
  },
  {
   "cell_type": "markdown",
   "metadata": {},
   "source": [
    "todo fix el matcheo entre elecs y patrones....\n",
    "\n",
    "y hacer un comentario o reprensar lo de electrodo asignado a frecuencia..."
   ]
  },
  {
   "cell_type": "code",
   "execution_count": null,
   "metadata": {},
   "outputs": [],
   "source": [
    "#Proceso. Tarda mas de 17hs para array cochlear y 30min para Medel\n",
    "melodias_puntuadas_porclase3 = buscarMejoresCombinacionesMelodia(GENERIC_MEDEL3.freqsElectrodos, penta , 3, 6, 200)"
   ]
  },
  {
   "cell_type": "markdown",
   "metadata": {},
   "source": [
    "todo desp con otro score de solo distancias... y listo..."
   ]
  },
  {
   "cell_type": "code",
   "execution_count": null,
   "metadata": {},
   "outputs": [],
   "source": [
    "#Guardo lo procesado\n",
    "import pickle\n",
    "\n",
    "with open('output siete notas Medel Flex28.pkl', 'wb') as f:  # Python 3: open(..., 'wb')\n",
    "    pickle.dump(melodias_puntuadas_porclase3, f)"
   ]
  },
  {
   "cell_type": "code",
   "execution_count": null,
   "metadata": {},
   "outputs": [],
   "source": [
    "# Getting back the objects:\n",
    "import pickle\n",
    "with open('output siete notas Medel Flex28.pkl', 'rb') as f:  # Python 3: open(..., 'rb')\n",
    "    melodias_puntuadas_porclase3 = pickle.load(f)"
   ]
  },
  {
   "cell_type": "code",
   "execution_count": null,
   "metadata": {},
   "outputs": [],
   "source": [
    "reporteCompleto(melodias_puntuadas_porclase3, 6, 0)"
   ]
  },
  {
   "cell_type": "markdown",
   "metadata": {},
   "source": [
    "--> Todas las configuraciones dieron error > 100cents"
   ]
  },
  {
   "cell_type": "markdown",
   "metadata": {},
   "source": [
    "### Medel pentatonica BIEN"
   ]
  },
  {
   "cell_type": "code",
   "execution_count": null,
   "metadata": {},
   "outputs": [],
   "source": [
    "#Proceso. Tarda mas de 17hs para array cochlear y 30min para Medel\n",
    "melodias_puntuadas_porclase3 = buscarMejoresCombinacionesMelodia(GENERIC_MEDEL3.freqsElectrodos, penta , 3, 6, 200)"
   ]
  },
  {
   "cell_type": "code",
   "execution_count": null,
   "metadata": {},
   "outputs": [],
   "source": [
    "buscarMinMaxF0(melodias_puntuadas_porclase3[3]) #unica valida. Todas las demás: 0"
   ]
  },
  {
   "cell_type": "code",
   "execution_count": null,
   "metadata": {},
   "outputs": [],
   "source": [
    "#Proceso. Tarda mas de 17hs para array cochlear y 30min para Medel\n",
    "melodias_puntuadas_porclase3 = buscarMejoresCombinacionesMelodia(GENERIC_MEDEL3.freqsElectrodos, penta , 3, 6, 250)"
   ]
  },
  {
   "cell_type": "markdown",
   "metadata": {},
   "source": [
    "### Medel Arpegio"
   ]
  },
  {
   "cell_type": "markdown",
   "metadata": {},
   "source": [
    "OJO: Ahora lo cambie en este bloque, pero todos los resultados que ya están, USAN UN ARPEGIO DE 3 NOTAS DISTINTAS: La ultima es igual. Me equivoqué yo al poner el indice y puse un 9"
   ]
  },
  {
   "cell_type": "code",
   "execution_count": null,
   "metadata": {},
   "outputs": [],
   "source": [
    "pablo = Melodia.leerMidi(r\"midis\\Pablo Pasea.mid\", [1]*N_Mayus)\n",
    "arp = Melodia([pablo.notas[0], pablo.notas[2], pablo.notas[4], pablo.notas[7]])\n"
   ]
  },
  {
   "cell_type": "code",
   "execution_count": null,
   "metadata": {},
   "outputs": [],
   "source": [
    "arpegiosmedel34 = buscarMejoresCombinacionesMelodia(GENERIC_MEDEL3.freqsElectrodos, arp , 3, 4, 500) #500... es una banda\n",
    "\n",
    "#Guardo lo procesado\n",
    "import pickle\n",
    "\n",
    "with open('output arp Medel Flex28 dmax500.pkl', 'wb') as f:  # Python 3: open(..., 'wb')\n",
    "    pickle.dump(arpegiosmedel34, f)"
   ]
  },
  {
   "cell_type": "markdown",
   "metadata": {},
   "source": [
    "Ese lo ignoro porque puse dmax = 500. Vamos con menos"
   ]
  },
  {
   "cell_type": "code",
   "execution_count": null,
   "metadata": {},
   "outputs": [],
   "source": [
    "\n",
    "#Proceso. Tarda mas de 17hs para array cochlear\n",
    "arpegios_puntuados_porclase2 = buscarMejoresCombinacionesMelodia(GENERIC_MEDEL3.freqsElectrodos, arp , 3, 6, 200)\n",
    "\n",
    "#Guardo lo procesado\n",
    "with open('output arpegio Medel dmax 200.pkl', 'wb') as f:  # Python 3: open(..., 'wb')\n",
    "    pickle.dump(arpegios_puntuados_porclase2, f)"
   ]
  },
  {
   "cell_type": "code",
   "execution_count": null,
   "metadata": {},
   "outputs": [],
   "source": [
    "arpegiosmedel34 = buscarMejoresCombinacionesMelodia(GENERIC_MEDEL3.freqsElectrodos, arp , 3, 4, 200)"
   ]
  },
  {
   "cell_type": "code",
   "execution_count": null,
   "metadata": {},
   "outputs": [],
   "source": [
    "arpegiosmedel56 = buscarMejoresCombinacionesMelodia(GENERIC_MEDEL3.freqsElectrodos, arp , 5, 6, 200)"
   ]
  },
  {
   "cell_type": "code",
   "execution_count": null,
   "metadata": {},
   "outputs": [],
   "source": [
    "buscarMinMaxF0(arpegiosmedel34[3])"
   ]
  },
  {
   "cell_type": "code",
   "execution_count": null,
   "metadata": {},
   "outputs": [],
   "source": [
    "buscarMinMaxF0(arpegiosmedel34[4])"
   ]
  },
  {
   "cell_type": "code",
   "execution_count": null,
   "metadata": {},
   "outputs": [],
   "source": [
    "buscarMinMaxF0(arpegiosmedel56[5])"
   ]
  },
  {
   "cell_type": "code",
   "execution_count": null,
   "metadata": {},
   "outputs": [],
   "source": [
    "buscarMinMaxF0(arpegiosmedel56[6])"
   ]
  }
 ],
 "metadata": {
  "kernelspec": {
   "display_name": "Python 3",
   "language": "python",
   "name": "python3"
  },
  "language_info": {
   "codemirror_mode": {
    "name": "ipython",
    "version": 3
   },
   "file_extension": ".py",
   "mimetype": "text/x-python",
   "name": "python",
   "nbconvert_exporter": "python",
   "pygments_lexer": "ipython3",
   "version": "3.13.1"
  },
  "orig_nbformat": 4
 },
 "nbformat": 4,
 "nbformat_minor": 2
}
