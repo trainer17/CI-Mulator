{
  "cells": [
    {
      "cell_type": "markdown",
      "metadata": {
        "id": "xGs_EzUT0H8X"
      },
      "source": [
        "Este archivo contiene las funciones que generan las gráficas usadas para el paper del Congreso de Acústica y el informe final de la beca (y más no usadas)"
      ]
    },
    {
      "cell_type": "code",
      "execution_count": null,
      "metadata": {
        "id": "8te3r9i10H8a"
      },
      "outputs": [],
      "source": [
        "import import_ipynb\n",
        "from CIS_6 import *"
      ]
    },
    {
      "cell_type": "markdown",
      "metadata": {
        "id": "LbB8FT3f0H8b"
      },
      "source": [
        "# Gráficos"
      ]
    },
    {
      "cell_type": "code",
      "execution_count": null,
      "metadata": {
        "id": "MgAQHoAl0H8c"
      },
      "outputs": [],
      "source": [
        "import os\n",
        "pathCarriers = r\"C:/Users/roman/OneDrive/Escritorio/Audio_Code/carriers/\"\n",
        "os.chdir(pathCarriers)"
      ]
    },
    {
      "cell_type": "code",
      "execution_count": null,
      "metadata": {
        "id": "FqHcpsBw0H8c"
      },
      "outputs": [],
      "source": [
        "#pip install standard-aifc Python >= 3.13.0\n",
        "#pip install standard-sunau  Python >= 3.13.0"
      ]
    },
    {
      "cell_type": "code",
      "execution_count": null,
      "metadata": {
        "id": "0f6HXegI0H8c"
      },
      "outputs": [],
      "source": [
        "s, _ = librosa.load('clari1.wav', sr = IMPLANT_SR)"
      ]
    },
    {
      "cell_type": "markdown",
      "metadata": {
        "id": "zCpc8xZo0H8d"
      },
      "source": [
        "## Envolventes Cochlear"
      ]
    },
    {
      "cell_type": "code",
      "execution_count": null,
      "metadata": {
        "id": "dk-s5Naj0H8d"
      },
      "outputs": [],
      "source": [
        "M = 500\n",
        "\n",
        "envelope = np.zeros(len(s))\n",
        "if(True):\n",
        "  for i in range(len(s)): envelope[i] = abs(s[i])\n",
        "\n",
        "else: #half_wave\n",
        "  for i in range(len(s)): envelope[i] = max(0., s[i])\n",
        "\n",
        "#Low - Pass: Butter de 2do orden\n",
        "\n",
        "b,a = signal.butter(1, 200, 'lowpass', output='ba', fs = IMPLANT_SR)\n",
        "envelope2 =  signal.filtfilt(b,a, envelope)\n",
        "\n",
        "sos = signal.butter(1, 200, 'lowpass', fs=IMPLANT_SR, output='sos')\n",
        "envelope3 = signal.sosfiltfilt(sos, envelope)\n",
        "\n",
        "b,a = signal.butter(2, 200, 'lowpass', output='ba', fs = IMPLANT_SR)\n",
        "envelope4 =  signal.lfilter(b,a, envelope)\n",
        "\n",
        "plt.plot(envelope2[:M], label = 'Envolvente (fase cero)')\n",
        "plt.plot(envelope4[:M], label = 'Envolvente')\n",
        "plt.plot(envelope3[:M], label = ' sos')\n",
        "\n",
        "plt.plot(s[:M], label = 'Señal', alpha = 0.3)\n",
        "plt.legend(framealpha=1, shadow=True)\n",
        "plt.grid(alpha=0.25)\n",
        "plt.show()"
      ]
    },
    {
      "cell_type": "code",
      "execution_count": null,
      "metadata": {
        "id": "X2lLyYnZ0H8e"
      },
      "outputs": [],
      "source": [
        "M = 10000\n",
        "FROM = 11000\n",
        "TO = 17000\n",
        "FILTERS_ZERO_PHASE = False\n",
        "\n",
        "s, _ = librosa.load('clari1.wav', sr = IMPLANT_SR)\n",
        "\n",
        "outs = filter_bank_CIS(s, GENERIC_COCHLEAR1)\n",
        "s = s[FROM:TO]\n",
        "s1 = outs[2][FROM:TO]\n",
        "plt.plot(s1[:M])\n",
        "\n",
        "ENVELOPE_ZEROPHASE = False\n",
        "\n",
        "env1 = envelope_Cochlear(s1[:M], 200, True, gain_compensation = True)\n",
        "s2 = outs[3][FROM:TO]\n",
        "plt.plot(s2[:M])\n",
        "\n",
        "ENVELOPE_ZEROPHASE = False\n",
        "env2 = envelope_Cochlear(s2[:M], 200, True, gain_compensation = True)\n",
        "\n",
        "plt.plot(env1)\n",
        "plt.plot(env2)\n",
        "display(Audio(s, rate = IMPLANT_SR))\n",
        "display(Audio(s1+s2, rate = IMPLANT_SR))"
      ]
    },
    {
      "cell_type": "code",
      "execution_count": null,
      "metadata": {
        "id": "79VmxsAi0H8f"
      },
      "outputs": [],
      "source": [
        "ts = [i/IMPLANT_SR for i in range(len(s2))]\n",
        "plt.plot(ts, s2[:M], label = 'Señal')\n",
        "plt.plot(ts, env2, label = 'Envolvente', color = 'r')\n",
        "plt.xlabel('Tiempo (s)')\n",
        "\n",
        "plt.legend(framealpha=1, shadow=True)\n",
        "plt.grid(alpha=0.4)\n",
        "plt.show()"
      ]
    },
    {
      "cell_type": "markdown",
      "metadata": {
        "id": "VFhqb-uL0H8f"
      },
      "source": [
        "## N of M"
      ]
    },
    {
      "cell_type": "code",
      "execution_count": null,
      "metadata": {
        "id": "eGn6OPry0H8f"
      },
      "outputs": [],
      "source": [
        "s, _ = librosa.load('clari1.wav', sr = IMPLANT_SR)\n",
        "outs = filter_bank_CIS(s, GENERIC_COCHLEAR1)\n",
        "ts = [i/IMPLANT_SR for i in range(len(s))]\n",
        "\n",
        "fig, axs = plt.subplots(9,1)\n",
        "axs[0].plot(ts, s, label = 'Señal de entrada')\n",
        "axs[0].legend(framealpha=0.8, shadow=True, loc = 'lower right',  prop={'size': 6})\n",
        "\n",
        "for i in range(1,9):\n",
        "  envi = envelope_Cochlear(outs[i-1], 200, True, gain_compensation = False)\n",
        "\n",
        "  axs[i].plot(ts, envi, color = 'black', label = 'Envolvente canal' + str(i))\n",
        "  axs[i].set_ylim(0, 0.065)\n",
        "\n",
        "  axs[i].legend(framealpha=0.8, shadow=True, loc = 'upper right',  prop={'size': 6})\n",
        "\n",
        "  #axs[i].plot(si, label = 'Banda ' + str(i+1), alpha = 0.85)\n",
        "\n",
        "  #axs[i].legend(framealpha=1, shadow=True, loc = 'lower left')\n",
        "plt.grid(alpha=0.4)\n",
        "plt.xlabel('Tiempo (s)')\n",
        "plt.show()\n",
        "display(Audio(s, rate = IMPLANT_SR))\n"
      ]
    },
    {
      "cell_type": "markdown",
      "metadata": {
        "id": "uAOYJ2QH0H8g"
      },
      "source": [
        "Funcion especial para graficar"
      ]
    },
    {
      "cell_type": "code",
      "execution_count": null,
      "metadata": {
        "id": "6vLZpISm0H8g"
      },
      "outputs": [],
      "source": [
        "def simulate_CIS_ACE_GraficoParalelo(s, elec_array, m):\n",
        "    filtered_bank = filter_bank_CIS(s, GENERIC_COCHLEAR1)\n",
        "    envs = [envelope_Cochlear(filtered_bank[i], ENVELOPE_FC, ENVELOPE_FULLWAVE, gain_compensation= False) for i in range(elec_array.Nchann)] # CIS convencional\n",
        "    n = len(envs[0])\n",
        "    out = np.zeros(n)\n",
        "    gs = elec_array.gs\n",
        "\n",
        "    WIN_SIZE = round(WIN_LEN_ACE * OUT_SR/1000)\n",
        "    i = 0\n",
        "\n",
        "    envs_seleccionadas = np.zeros((len(envs), n))\n",
        "    power = 1\n",
        "\n",
        "    while(i+WIN_SIZE<n):\n",
        "      #Extraigo las envolventes de mayor amplitud\n",
        "      amplitudes_promedio = [sum(np.array(envs[c][i: i+WIN_SIZE])**power) for c in range(elec_array.Nchann)] #Tomo la amplitud promedio en el ciclo de estimulación de cada envolvente\n",
        "      indices_max = np.argpartition(amplitudes_promedio, -m)[-m:] #Indices de las envolventes de mayor amplitud\n",
        "\n",
        "      #Estimulo bandas maximas\n",
        "      for max_channel in indices_max:\n",
        "        #out[i: i+WIN_SIZE] += filtered_noises[max_channel][i: i+WIN_SIZE] * envs[max_channel][i: i+WIN_SIZE]\n",
        "        envs_seleccionadas[max_channel][i:i+WIN_SIZE] = envs[max_channel][i:i+WIN_SIZE]\n",
        "\n",
        "        #Simulo channel interaction:\n",
        "        if(CHANNEL_INTERACTION_INDEX > 0):\n",
        "          for other_channel in range(elec_array.Nchann):\n",
        "            if(other_channel == max_channel): continue\n",
        "            out[i:i+WIN_SIZE] += filtered_noises[other_channel][i:i+WIN_SIZE] * envs[max_channel][i:i+WIN_SIZE]*gs[max_channel][other_channel]\n",
        "\n",
        "      i+=WIN_SIZE\n",
        "\n",
        "    return envs_seleccionadas"
      ]
    },
    {
      "cell_type": "markdown",
      "metadata": {
        "id": "hdU-8L9Y0H8h"
      },
      "source": [
        "Envolventes"
      ]
    },
    {
      "cell_type": "code",
      "execution_count": null,
      "metadata": {
        "id": "4X3NDyMe0H8h"
      },
      "outputs": [],
      "source": [
        "s, _ = librosa.load('clari1.wav', sr = IMPLANT_SR)\n",
        "n = len(s)#round(WIN_LEN_ACE*IMPLANT_SR/1000*30)\n",
        "s = s[:n]\n",
        "outs = filter_bank_CIS(s, GENERIC_COCHLEAR1)\n",
        "CHANNEL_INTERACTION_INDEX = 0\n",
        "envsSeleccionadas = simulate_CIS_ACE_GraficoParalelo(s, GENERIC_COCHLEAR1, 3)\n",
        "\n",
        "CANALES = 8\n",
        "\n",
        "ts = [i/IMPLANT_SR for i in range(len(s))]\n",
        "\n",
        "fig, axs = plt.subplots(CANALES+1,1)\n",
        "axs[0].plot(ts, s, label = 'Señal de entrada')\n",
        "axs[0].legend(framealpha=0.7, shadow=True, loc = 'lower right',  prop={'size': 6})\n",
        "\n",
        "for i in range(1,CANALES+1):\n",
        "\n",
        "  envi = envsSeleccionadas[i-1]\n",
        "\n",
        "  axs[i].plot(ts, envi, color = 'black', label = 'Envolvente resultante canal' + str(i))\n",
        "  axs[i].set_ylim(0, 0.08)\n",
        "\n",
        "  axs[i].legend(framealpha=0.8, shadow=True, loc = 'upper right',  prop={'size': 6})\n",
        "\n",
        "  #axs[i].plot(si, label = 'Banda ' + str(i+1), alpha = 0.85)\n",
        "\n",
        "  #axs[i].legend(framealpha=1, shadow=True, loc = 'lower left')\n",
        "plt.grid(alpha=0.4)\n",
        "plt.xlabel('Tiempo (s)')\n",
        "plt.show()\n",
        "display(Audio(s, rate = IMPLANT_SR))"
      ]
    },
    {
      "cell_type": "code",
      "execution_count": null,
      "metadata": {
        "id": "UMpoVoKV0H8h"
      },
      "outputs": [],
      "source": [
        "GENERIC_MEDEL2b.setearParametros()\n",
        "IMPLANT_SR = 17000\n",
        "s, _ = librosa.load('organ.wav', sr = IMPLANT_SR)\n",
        "s/= np.max(np.abs(s))\n",
        "outs = filter_bank_CIS(s, GENERIC_MEDEL2b)\n",
        "\n",
        "fig, axs = plt.subplots(9,2, figsize=(10,12))\n",
        "axs[0][0].plot(s, label = 'Señal de entrada')\n",
        "axs[0][0].legend(framealpha=1, shadow=True, loc = 'lower left',  prop={'size': 10})\n",
        "axs[0][0].get_xaxis().set_visible(False)\n",
        "ts = [i/IMPLANT_SR for i in range(len(s))]\n",
        "\n",
        "F = np.abs(fft(s)/len(s))\n",
        "freqsfft = [IMPLANT_SR/len(s)*i for i in range(len(s)//2) ]\n",
        "axs[0][1].plot(freqsfft, F[:len(s)//2], color = 'darkcyan', label = 'DFT señal original')\n",
        "axs[0][1].grid(alpha = 0.5)\n",
        "axs[0][1].legend(framealpha=1, shadow=True, loc = 'upper right')\n",
        "axs[0][1].get_xaxis().set_visible(False)\n",
        "\n",
        "for i in range(1,9):\n",
        "  si = outs[i]\n",
        "  Fi = np.abs(fft(si)/len(s))\n",
        "  axs[i][0].plot(ts, si, color = 'orange', label = 'Canal '+ str(i) + ' ( ' + str(GENERIC_MEDEL2b.freqsAnalisis[i][0]) + 'Hz - ' +str(GENERIC_MEDEL2b.freqsAnalisis[i][1])+ ' Hz)')\n",
        "  axs[i][0].set_ylim(-1,1)\n",
        "  axs[i][1].set_ylim(0,0.08)\n",
        "  axs[i][0].get_xaxis().set_visible(False)\n",
        "  axs[i][1].get_xaxis().set_visible(False)\n",
        "\n",
        "  axs[i][1].plot(freqsfft, Fi[:len(s)//2], color = 'fuchsia', label = 'DFT canal ' + str(i))\n",
        "\n",
        "  print(f'Canal {i}')\n",
        "  display(Audio(si, rate = IMPLANT_SR))\n",
        "  #axs[i][1].plot(si, label = 'Banda ' + str(i+1), alpha = 0.85)\n",
        "  axs[i][0].legend(framealpha=1, shadow=True, loc = 'lower left')\n",
        "  axs[i][1].legend(framealpha=1, shadow=True, loc = 'lower right')\n",
        "  axs[i][1].grid(alpha = 0.5)\n",
        "\n",
        "\n",
        "axs[8][0].set_xlabel('Tiempo (s)')\n",
        "axs[8][0].get_xaxis().set_visible(True)\n",
        "axs[8][1].set_xlabel('Freq (Hz)')\n",
        "axs[8][1].get_xaxis().set_visible(True)\n",
        "\n",
        "\n",
        "plt.show()"
      ]
    },
    {
      "cell_type": "code",
      "execution_count": null,
      "metadata": {
        "id": "rGT0bWKm0H8i"
      },
      "outputs": [],
      "source": [
        "display(Audio(s,rate= IMPLANT_SR))\n",
        "\n",
        "s2 = np.zeros(len(s))\n",
        "for i in range(5,9):\n",
        "  s2 += outs[i]\n",
        "\n",
        "display(Audio(s2,rate= IMPLANT_SR))\n",
        "plt.plot(np.abs(fft(s2)))\n",
        "plt.show()\n",
        "plt.plot(np.abs(fft(s)))"
      ]
    },
    {
      "cell_type": "markdown",
      "metadata": {
        "id": "qcLzYH7c0H8i"
      },
      "source": [
        "## Interleaved"
      ]
    },
    {
      "cell_type": "markdown",
      "metadata": {
        "id": "odAdhWpO0H8i"
      },
      "source": [
        "funcion grafico"
      ]
    },
    {
      "cell_type": "code",
      "execution_count": null,
      "metadata": {
        "id": "MBNT15xa0H8i"
      },
      "outputs": [],
      "source": [
        "def simulate_CIS_Interleaved_Grafico(s, elec_array, m):\n",
        "  filtered_bank = filter_bank_CIS(s, elec_array)\n",
        "  envs = [envelope_Cochlear(filtered_bank[i], ENVELOPE_FC, ENVELOPE_FULLWAVE, gain_compensation= False) for i in range(elec_array.Nchann)] # CIS convencional\n",
        "  n = len(envs[0])\n",
        "\n",
        "  WIN_SIZE = round(WIN_LEN_ACE * OUT_SR/1000)\n",
        "\n",
        "  power = 1\n",
        "\n",
        "  i = 0\n",
        "  pwnActivo = round(PW*OUT_SR) #samples en cada pulso\n",
        "  pwnCompleto = round(OUT_SR/m/PPS) #samples activos en cada pulso\n",
        "  gs = elec_array.gs\n",
        "  #out = np.zeros(n)\n",
        "  outs = np.zeros((len(envs), n))\n",
        "\n",
        "  while(i+pwnCompleto<n):\n",
        "\n",
        "\n",
        "    #Extraigo las envolventes de mayor amplitud\n",
        "    #amplitudes_promedio = [sum(envs[c][i:i+pwn]) for c in range(N_chann)] #Tomo la amplitud promedio en el ciclo de estimulación de cada envolvente\n",
        "    amplitudes_promedio = [sum(np.array(envs[c][i:i+pwnCompleto]**power)) for c in range(elec_array.Nchann)]\n",
        "    indices_max = np.argpartition(amplitudes_promedio, -m)[-m:] #Indices de las envolventes de mayor amplitud\n",
        "\n",
        "    for max_channel in indices_max:\n",
        "      #if(len(interacted_channels_maximos[c][fr: to])<pwn): continue  #LLegué al final de la señal   (todo: filtered_noises?)\n",
        "\n",
        "      fr = i+max_channel*pwnCompleto\n",
        "      to = fr + pwnActivo\n",
        "      #to = i+(max_channel+1)*pwnCompleto\n",
        "      di = to-fr\n",
        "\n",
        "      outs[max_channel][fr : to] =  amplitudes_promedio[max_channel]\n",
        "      outs[max_channel][fr:fr+ di//2] *= -1\n",
        "      #out[fr: to] = filtered_noises[max_channel][fr: to] * * amplitudes_promedio[max_channel][i//WIN_SIZE]\n",
        "\n",
        "      #Simulo channel interaction:\n",
        "      if(CHANNEL_INTERACTION_INDEX>0):\n",
        "        for other_channel in range(elec_array.Nchann):\n",
        "          if(other_channel == max_channel): continue\n",
        "          out[fr:to] += filtered_noises[other_channel][fr:to] * envs[max_channel][fr:to]*gs[max_channel][other_channel]\n",
        "\n",
        "\n",
        "    i+=m*pwnCompleto\n",
        "\n",
        "  return outs"
      ]
    },
    {
      "cell_type": "code",
      "execution_count": null,
      "metadata": {
        "id": "3bFGC5JR0H8i"
      },
      "outputs": [],
      "source": [
        "#PARAMETROS Y SEÑAL DE ENTRADA\n",
        "elec_array = GENERIC_MEDEL3\n",
        "elec_array.setearParametros()\n",
        "OUT_SR = 192000\n",
        "IMPLANT_SR = elec_array.SR\n",
        "s, _ = librosa.load('clari1.wav', sr = IMPLANT_SR)\n",
        "CHANNEL_INTERACTION_INDEX = 0\n",
        "\n",
        "CANALES = 5 #CANALES A MOSTRAR\n",
        "\n",
        "\n",
        "s/= max(abs(s)) #normalizo\n",
        "PW = 1/CANALES/PPS/2  #PW maximo = 1/canales/pps. Seteo la mitad del maximo ac\n",
        "outs1 = simulate_CIS_Interleaved_Grafico(s, elec_array, 5)\n",
        "\n",
        "PW = 1/CANALES/PPS  #PW maximo = 1/canales/pps. Seteo la mitad del maximo ac\n",
        "outs2 = simulate_CIS_Interleaved_Grafico(s, elec_array, 5)\n",
        "\n",
        "outs = [outs1[0], outs1[1], outs1[2], outs2[3], outs2[4]] #primeros tres canales con un PW, ultimos dos con otro\n",
        "\n",
        "ti = 110 #ms\n",
        "tf = ti + WIN_LEN_ACE #ms\n",
        "\n",
        "ts_in = np.array([i/IMPLANT_SR*1000 for i in range(len(s))])\n",
        "ts_out = np.array([i/OUT_SR*1000 for i in range(len(outs[0]))])\n",
        "\n",
        "fig, axs = plt.subplots(CANALES+1,1, layout = 'constrained' )\n",
        "axs[0].plot(ts_in, s, label = 'Señal de entrada')\n",
        "axs[0].legend(framealpha=0.7, shadow=True, loc = 'lower right',  prop={'size': 6})\n",
        "maxgraph = np.max(outs)*1.05\n",
        "\n",
        "for i in range(1,CANALES+1):\n",
        "\n",
        "  envi = outs[i-1]\n",
        "\n",
        "  axs[i].plot(ts_out, envi, color = 'black', label = 'Canal ' + str(i), )\n",
        "  axs[i].set_ylim(-maxgraph, maxgraph )\n",
        "  #axs[i].get_yaxis().set_visible(True)\n",
        "  axs[i].set_yticks([], labels = [])\n",
        "  axs[i].legend(framealpha=0.8, shadow=True,  prop={'size': 6})\n",
        "  axs[i].set_xlim(ti,tf)\n",
        "  axs[i].get_xaxis().set_visible(False)\n",
        "  #axs[i].grid(alpha=0.9)\n",
        "\n",
        "  #axs[i].plot(si, label = 'Banda ' + str(i+1), alpha = 0.85)\n",
        "\n",
        "  #axs[i].legend(framealpha=1, shadow=True, loc = 'lower left')\n",
        "axs[0].set_xlim(ti,ti + WIN_LEN_ACE)\n",
        "axs[3].set_ylabel('Amplitud', fontsize = 12)\n",
        "axs[0].get_xaxis().set_visible(False)\n",
        "axs[-1].get_xaxis().set_visible(True)\n",
        "\n",
        "\n",
        "plt.xlabel('Tiempo (ms)')\n",
        "plt.show()\n",
        "display(Audio(s, rate = IMPLANT_SR))\n",
        "print('PPS = ' + str(PPS))\n",
        "print('PW = ' + str(PW*1000) + 'ms = ' + str(PW*OUT_SR) + ' samples')"
      ]
    },
    {
      "cell_type": "code",
      "execution_count": null,
      "metadata": {
        "id": "WW-qLRK60H8j"
      },
      "outputs": [],
      "source": [
        "print(PW)\n",
        "print(1/5/PPS)"
      ]
    },
    {
      "cell_type": "markdown",
      "metadata": {
        "id": "V7jJfSQa0H8j"
      },
      "source": [
        "## Integración"
      ]
    },
    {
      "cell_type": "code",
      "execution_count": null,
      "metadata": {
        "id": "nU8gh3nc0H8j"
      },
      "outputs": [],
      "source": [
        "#Probamos si el algoritmo funciona bien,\n",
        "#chequeando que en cada momento solo se activen la cantidad especificada de electrodos\n",
        "\n",
        "#Prueba con habla\n",
        "#hspeech1 48khz.wav\n",
        "s, sr = librosa.load('clima (3).wav' , sr = IMPLANT_SR) #Hago el resampleo en este paso\n",
        "s = s[0:3*sr]\n",
        "elec_array = GENERIC_MEDEL1\n",
        "elec_array.setearParametros()\n",
        "MODE = ACE\n",
        "CHANNEL_INTERACTION_INDEX = 0\n",
        "MAXIMA = 2\n",
        "DISPERTION = 0.001\n",
        "WIN_LEN_ACE = 8 #ms\n",
        "#SETEAR_PPS(800)\n",
        "\n",
        "print('IN')\n",
        "display(Audio(s, rate = IMPLANT_SR))\n",
        "plot_stft(s,elec_array, analisis=True, mini= True)\n",
        "\n",
        "print('OUT')\n",
        "out = elec_array.CIS(s)\n",
        "display(Audio(out, rate = OUT_SR))\n",
        "graph = plot_stft(out,elec_array, analisis=False, mini = True, )"
      ]
    },
    {
      "cell_type": "code",
      "execution_count": null,
      "metadata": {
        "id": "MqtEMFUn0H8j"
      },
      "outputs": [],
      "source": [
        "print(len(s)//IMPLANT_SR)\n",
        "print(len(out)//OUT_SR)"
      ]
    },
    {
      "cell_type": "code",
      "execution_count": null,
      "metadata": {
        "id": "WuHxJJqD0H8j"
      },
      "outputs": [],
      "source": [
        "#Comprobar espectrograma"
      ]
    },
    {
      "cell_type": "code",
      "execution_count": null,
      "metadata": {
        "id": "pEMRfxGO0H8k"
      },
      "outputs": [],
      "source": [
        "#Probamos si el algoritmo funciona bien,\n",
        "#chequeando que en cada momento solo se activen la cantidad especificada de electrodos\n",
        "\n",
        "#Prueba con habla\n",
        "#hspeech1 48khz.wav\n",
        "s, sr = librosa.load('clima (3).wav' , sr = IMPLANT_SR) #Hago el resampleo en este paso\n",
        "s = s[0:3*sr]\n",
        "elec_array = GENERIC_MEDEL1\n",
        "elec_array.setearParametros()\n",
        "MODE = ACE\n",
        "CHANNEL_INTERACTION_INDEX = 0\n",
        "MAXIMA = 1\n",
        "DISPERTION = 0\n",
        "WIN_LEN_ACE = 4 #ms\n",
        "#SETEAR_PPS(800)\n",
        "\n",
        "print('IN')\n",
        "display(Audio(s, rate = IMPLANT_SR))\n",
        "plot_stft(s,elec_array, analisis=True, mini= True)\n",
        "\n",
        "print('OUT')\n",
        "out = elec_array.CIS(s)\n",
        "display(Audio(out, rate = OUT_SR))\n",
        "graph = plot_stft(out,elec_array, analisis=False, mini = True )"
      ]
    },
    {
      "cell_type": "code",
      "execution_count": null,
      "metadata": {
        "id": "vrPWmiMH0H8k"
      },
      "outputs": [],
      "source": [
        "pares = GENERIC_COCHLEAR1.freqsAnalisis\n",
        "for par in pares:\n",
        "  print('(' + str(round(par[0])) + ' - ' + str(round(par[1]))+')')\n",
        "\n"
      ]
    },
    {
      "cell_type": "code",
      "execution_count": null,
      "metadata": {
        "id": "sY1mYV_f0H8k"
      },
      "outputs": [],
      "source": [
        "#Implante\n",
        "elec_array = GENERIC_MEDEL1\n",
        "MODE = CONTINOUS\n",
        "DISPERTION = 0\n",
        "CHANNEL_INTERACTION_INDEX = 0\n",
        "\n",
        "#Señal\n",
        "freq = 409\n",
        "s = np.array(puretone(freq, 3, IMPLANT_SR))*np.array(puretone(0.5, 3, IMPLANT_SR))  #envolvente lenta\n",
        "print('Audio original')\n",
        "display(Audio(s, rate = IMPLANT_SR))\n",
        "plot_stft(s, elec_array, analisis = True, mini = True)\n",
        "\n",
        "#Procesamiento\n",
        "out = elec_array.CIS(s)\n",
        "outfile = 'Out: Generic MEDEL2 - CIS CONTINOUS PURETONE ' + str(freq) + 'hz.wav'\n",
        "wavfile.write(outfile, OUT_SR, out)\n",
        "\n",
        "print(outfile)\n",
        "display(Audio(out, rate = OUT_SR))\n",
        "plot_stft(out,elec_array, analisis = False)\n",
        "\n",
        "#Todo: Logear los parámetros usados"
      ]
    },
    {
      "cell_type": "code",
      "execution_count": null,
      "metadata": {
        "id": "fZe0xXvt0H8k"
      },
      "outputs": [],
      "source": [
        "#Implante\n",
        "elec_array = GENERIC_MEDEL1\n",
        "MODE = ACE\n",
        "DISPERTION = 1\n",
        "CHANNEL_INTERACTION_INDEX = 0\n",
        "MAXIMA = 1\n",
        "ORDEN = 6\n",
        "\n",
        "freq = 2409\n",
        "s = np.array(puretone(freq, 3, IMPLANT_SR))*np.array(puretone(0.5, 3, IMPLANT_SR))  #envolvente lenta\n",
        "\n",
        "#Procesamiento\n",
        "out = elec_array.CIS(s)\n",
        "\n",
        "outfile = 'Out: Generic MEDEL2 - CIS CONTINOUS PURETONE ' + str(freq) + 'hz.wav'\n",
        "wavfile.write(outfile, OUT_SR, out)\n",
        "\n",
        "print(outfile)\n",
        "display(Audio(out, rate = OUT_SR))\n",
        "plot_stft(out,elec_array, analisis = False, mini = True)\n",
        "\n",
        "#Todo: Logear los parámetros usados"
      ]
    },
    {
      "cell_type": "code",
      "execution_count": null,
      "metadata": {
        "id": "exHPchEH0H8k"
      },
      "outputs": [],
      "source": [
        "#Implante\n",
        "elec_array = GENERIC_MEDEL1\n",
        "MODE = ACE\n",
        "DISPERTION = 1\n",
        "CHANNEL_INTERACTION_INDEX = 0\n",
        "MAXIMA = 1\n",
        "ORDEN = 6\n",
        "\n",
        "freq = 2409\n",
        "import scipy\n",
        "t = [i/IMPLANT_SR for i in range(4*IMPLANT_SR)]\n",
        "s =  scipy.signal.chirp(t, f0=20, f1=IMPLANT_SR/2, t1=4, method='linear') #chirp\n",
        "\n",
        "#freq = 409\n",
        "print('Audio original')\n",
        "display(Audio(s, rate = IMPLANT_SR))\n",
        "plot_stft(s, elec_array, analisis = True, mini = True)\n",
        "\n",
        "#Procesamiento\n",
        "out = elec_array.CIS(s)\n",
        "\n",
        "outfile = 'Out: Generic MEDEL2 - CIS CONTINOUS PURETONE ' + str(freq) + 'hz.wav'\n",
        "wavfile.write(outfile, OUT_SR, out)\n",
        "\n",
        "print(outfile)\n",
        "display(Audio(out, rate = OUT_SR))\n",
        "plot_stft(out,elec_array, analisis = False, mini = True)\n",
        "\n",
        "#Todo: Logear los parámetros usados"
      ]
    },
    {
      "cell_type": "code",
      "execution_count": null,
      "metadata": {
        "id": "me-7Rxxu0H8k"
      },
      "outputs": [],
      "source": [
        "#Implante\n",
        "elec_array = GENERIC_MEDEL1\n",
        "MODE = ACE\n",
        "DISPERTION = 1\n",
        "CHANNEL_INTERACTION_INDEX = 0\n",
        "MAXIMA = 4\n",
        "ORDEN = 6\n",
        "\n",
        "freq = 2409\n",
        "import scipy\n",
        "t = [i/IMPLANT_SR for i in range(4*IMPLANT_SR)]\n",
        "s =  scipy.signal.chirp(t, f0=20, f1=IMPLANT_SR/2, t1=4, method='linear') #chirp\n",
        "\n",
        "#freq = 409\n",
        "print('Audio original')\n",
        "display(Audio(s, rate = IMPLANT_SR))\n",
        "plot_stft(s, elec_array, analisis = True, mini = True)\n",
        "\n",
        "#Procesamiento\n",
        "out = elec_array.CIS(s)\n",
        "\n",
        "outfile = 'Out: Generic MEDEL2 - CIS CONTINOUS PURETONE ' + str(freq) + 'hz.wav'\n",
        "wavfile.write(outfile, OUT_SR, out)\n",
        "\n",
        "print(outfile)\n",
        "display(Audio(out, rate = OUT_SR))\n",
        "plot_stft(out,elec_array, analisis = False, mini = True)\n",
        "\n",
        "#Todo: Logear los parámetros usados"
      ]
    },
    {
      "cell_type": "code",
      "execution_count": null,
      "metadata": {
        "id": "BD0KfukN0H8l"
      },
      "outputs": [],
      "source": [
        "ramp = [i/1000 for i in range(1100)]\n",
        "out = [compress_envelope_sample(ramp[i]) for i in range(120)]\n",
        "plt.plot(out)"
      ]
    },
    {
      "cell_type": "code",
      "execution_count": null,
      "metadata": {
        "id": "RN9XvwoV0H8l"
      },
      "outputs": [],
      "source": [
        "compress_envelope_sample(1)"
      ]
    },
    {
      "cell_type": "code",
      "execution_count": null,
      "metadata": {
        "id": "b21ASo8z0H8l"
      },
      "outputs": [],
      "source": [
        "10**((100-T_SPL)/20): sample = 0\n",
        "  if sample > 10**((C_SPL)/20):"
      ]
    },
    {
      "cell_type": "code",
      "execution_count": null,
      "metadata": {
        "id": "bBw4us0M0H8l"
      },
      "outputs": [],
      "source": [
        "10**(-(100-C_SPL)/20)"
      ]
    },
    {
      "cell_type": "markdown",
      "metadata": {
        "id": "Eftfrm8c0H8l"
      },
      "source": [
        "-------------------------------------"
      ]
    },
    {
      "cell_type": "markdown",
      "metadata": {
        "id": "xeZgDeic0H8l"
      },
      "source": [
        "# Paper"
      ]
    },
    {
      "cell_type": "code",
      "execution_count": null,
      "metadata": {
        "id": "Z6iiAyHE0H8t"
      },
      "outputs": [],
      "source": [
        "import os\n",
        "os.chdir(r'C:\\Users\\roman\\OneDrive\\Escritorio\\Cochlear Implants y Tesis MyT\\CODE ultima version')\n",
        "%run ./CIS_6.ipynb\n",
        "os.chdir(r'C:\\Users\\roman\\Desktop\\Audio_Code\\carriers')\n",
        "\n",
        "#Disclaimer esto no me anduvo mas.."
      ]
    },
    {
      "cell_type": "code",
      "execution_count": null,
      "metadata": {
        "id": "ZP4rLmt-0H8t"
      },
      "outputs": [],
      "source": [
        "freqs = GENERIC_MEDEL1.freqsAnalisis\n",
        "s = puretone(freqs[5],3,OUT_SR)\n",
        "\n",
        "for f in range(len(freqs)):\n",
        "   s += puretone(freqs[f], 3, OUT_SR)*GENERIC_MEDEL1.gs[5][f]\n",
        "\n",
        "display(Audio(s, rate  = OUT_SR))\n",
        "plot_fft(s, GENERIC_MEDEL1, f_from = 100, f_to = 5000, range_dB = 60)"
      ]
    },
    {
      "cell_type": "code",
      "execution_count": null,
      "metadata": {
        "id": "CjQFa1Ji0H8u"
      },
      "outputs": [],
      "source": [
        "CHANNEL_INTERACTION_INDEX  = 2\n",
        "ASYMMETRY_INDEX = 0\n",
        "DISPERTION = 0\n",
        "dur = 0.1\n",
        "order = 6\n",
        "elec_array = GENERIC_MEDEL1\n",
        "elec_array.setearParametros()\n",
        "A = 1\n",
        "\n",
        "def inter(A,g):\n",
        "   CII = CHANNEL_INTERACTION_INDEX\n",
        "   return CII* ( (1+A) ** g*CII)\n",
        "\n",
        "freqs = elec_array.freqsAnalisis\n",
        "s = A*filtered_noise(freqs[5], freqs[5]/10,order,dur,OUT_SR)\n",
        "\n",
        "for f in range(len(freqs)):\n",
        "   s += filtered_noise(freqs[f], freqs[f]/10,order,dur,OUT_SR)*inter(A,elec_array.gs[5][f])\n",
        "\n",
        "display(Audio(s, rate  = OUT_SR))\n",
        "plot_fft(s, elec_array, f_from = 100, f_to = 5000, range_dB = 60)"
      ]
    },
    {
      "cell_type": "code",
      "execution_count": null,
      "metadata": {
        "id": "A75-ui300H8u"
      },
      "outputs": [],
      "source": [
        "s = puretone(600, 3, 44100)\n",
        "x = [i/44100 for i in range(3*44100)]\n",
        "plot_fft(s, GENERIC_MEDEL1, 100, 2000, showElecs=True)"
      ]
    },
    {
      "cell_type": "markdown",
      "metadata": {
        "id": "3_1ilYgw0H8u"
      },
      "source": [
        "---------------"
      ]
    },
    {
      "cell_type": "markdown",
      "metadata": {
        "id": "TglnqoYh0H8u"
      },
      "source": [
        "Demostración de la interacción"
      ]
    },
    {
      "cell_type": "markdown",
      "metadata": {
        "id": "SVlZFww50H8u"
      },
      "source": [
        "A:  sin interaccion"
      ]
    },
    {
      "cell_type": "code",
      "execution_count": null,
      "metadata": {
        "id": "57Mcyp700H8u"
      },
      "outputs": [],
      "source": [
        "CHANNEL_INTERACTION_INDEX  = 0\n",
        "ASYMMETRY_INDEX = 1\n",
        "DISPERTION = 0\n",
        "dur = 0.1\n",
        "order = 6\n",
        "elec_array = GENERIC_MEDEL1\n",
        "elec_array.setearParametros()\n",
        "A = 1\n",
        "\n",
        "def inter(A,g):\n",
        "   return A*CHANNEL_INTERACTION_INDEX*g\n",
        "\n",
        "freqs = elec_array.freqsElectrodos\n",
        "s_orig = A*filtered_noise(freqs[5], freqs[5]/10,order,dur,OUT_SR)*80\n",
        "s_interacted = np.array( [ filtered_noise(freqs[f], freqs[f]/10,order,dur,OUT_SR) for f in range(len(freqs)) ] )\n",
        "s = s_orig.copy()\n",
        "\n",
        "for f in range(len(freqs)):\n",
        "   s += s_interacted[f]*inter(A,elec_array.gs[5][f])\n",
        "\n",
        "display(Audio(s, rate  = OUT_SR))\n",
        "fig, ax = plot_fft(s, elec_array, f_from = 100, f_to = 12000, range_dB = 50, showElecs = False)\n",
        "fig, ax = plot_fft(s, elec_array, f_from = 100, f_to = 12000, range_dB = 50, showElecs = True)"
      ]
    },
    {
      "cell_type": "markdown",
      "metadata": {
        "id": "2nUSCqdu0H8v"
      },
      "source": [
        "B: Con interaccion"
      ]
    },
    {
      "cell_type": "code",
      "execution_count": null,
      "metadata": {
        "id": "W9NylmoN0H8v"
      },
      "outputs": [],
      "source": [
        "CHANNEL_INTERACTION_INDEX  = 30\n",
        "ASYMMETRY_INDEX = 0\n",
        "elec_array.setearParametros()\n",
        "\n",
        "s = s_orig.copy()\n",
        "\n",
        "for f in range(len(freqs)):\n",
        "   s += s_interacted[f]*inter(A,elec_array.gs[5][f])\n",
        "\n",
        "display(Audio(s, rate  = OUT_SR))\n",
        "fig, ax = plot_fft(s, elec_array, f_from = 100, f_to = 12000, range_dB = 60)\n",
        "fig, ax = plot_fft(s, elec_array, f_from = 100, f_to = 12000, range_dB = 60, showElecs= True)"
      ]
    },
    {
      "cell_type": "markdown",
      "metadata": {
        "id": "znhckyYi0H8v"
      },
      "source": [
        "C: Con asimetria"
      ]
    },
    {
      "cell_type": "code",
      "execution_count": null,
      "metadata": {
        "id": "FIHaJ-110H8v"
      },
      "outputs": [],
      "source": [
        "CHANNEL_INTERACTION_INDEX  = 30\n",
        "ASYMMETRY_INDEX = 0.6\n",
        "elec_array.setearParametros()\n",
        "\n",
        "s = s_orig.copy()\n",
        "\n",
        "for f in range(len(freqs)):\n",
        "   s += s_interacted[f]*inter(A,elec_array.gs[5][f])\n",
        "\n",
        "display(Audio(s, rate  = OUT_SR))\n",
        "fig, ax = plot_fft(s, elec_array, f_from = 100, f_to = 12000, range_dB = 60)\n",
        "fig, ax = plot_fft(s, elec_array, f_from = 100, f_to = 12000, range_dB = 60, showElecs=True)"
      ]
    },
    {
      "cell_type": "markdown",
      "metadata": {
        "id": "qS1-BrHO0H8v"
      },
      "source": [
        "Ahora lo mismo, pero con el output real del sim"
      ]
    },
    {
      "cell_type": "code",
      "execution_count": null,
      "metadata": {
        "id": "PHiRdl8G0H8v"
      },
      "outputs": [],
      "source": [
        "CHANNEL_INTERACTION_INDEX  = 0.4\n",
        "ASYMMETRY_INDEX = 0\n",
        "DISPERTION = 0.4\n",
        "MODE = ACE\n",
        "MAXIMA = 1\n",
        "dur = 0.1\n",
        "order = 6\n",
        "elec_array = GENERIC_MEDEL1\n",
        "elec_array.setearParametros()\n",
        "A = 1\n",
        "\n",
        "freqs = elec_array.freqsAnalisis\n",
        "s = puretone(freqs[5], dur, IMPLANT_SR)\n",
        "out1 = elec_array.CIS(s)*100\n",
        "\n",
        "#display(Audio(out, rate  = OUT_SR))\n",
        "#fig, ax = plot_fft(out, elec_array, f_from = 100, f_to = 12000, range_dB = 50, showElecs = False)\n",
        "#fig, ax = plot_fft(out, elec_array, f_from = 100, f_to = 12000, range_dB = 50, showElecs = True)\n",
        "\n",
        "\n",
        "\n",
        "############################################################\n",
        "\n",
        "ASYMMETRY_INDEX = 0.8\n",
        "out2 = elec_array.CIS(s)*100\n",
        "\n",
        "\n",
        "##########################################################\n",
        "\n",
        "\n",
        "from scipy.fft import rfft, rfftfreq\n",
        "\n",
        "\n",
        "f_from = 100\n",
        "f_to = 10000\n",
        "range_dB = 50\n",
        "norm = 1\n",
        "logx = True\n",
        "\n",
        "sr = OUT_SR\n",
        "T = 1/sr #periodo\n",
        "N = len(out1)\n",
        "t = np.arange(0, N*T, T) # Sampling times\n",
        "\n",
        "# FFT and bin centers\n",
        "f = rfftfreq(N, T)\n",
        "\n",
        "y1 = rfft(out1)\n",
        "y1 = np.abs(y1)*2/N\n",
        "y1 /= norm\n",
        "#y = 20*np.log10(np.abs(y)) #dB\n",
        "y_db1 = 20*np.log10(y1)\n",
        "\n",
        "y2 = rfft(out2)\n",
        "y2 = np.abs(y2)*2/N\n",
        "y2 /= norm\n",
        "#y = 20*np.log10(np.abs(y)) #dB\n",
        "y_db2 = 20*np.log10(y2)\n",
        "\n",
        "\n",
        "#df : sr/N  --> f(i) = i* sr/N --> i = f*N/sr\n",
        "if(f_to == 0): fto = sr/2\n",
        "ifrom = round(f_from*N/sr)\n",
        "ito = round(f_to*N/sr)\n",
        "\n",
        "# Plot spectrum\n",
        "fig, ax = plt.subplots(dpi = 200)\n",
        "if(logx): ax.set_xscale('log')\n",
        "\n",
        "ax.plot(f[ifrom:ito], y_db1[ifrom:ito], color = 'black', linewidth = 0.5) #eje lineal, y logaritmico\n",
        "ax.plot(f[ifrom:ito], y_db2[ifrom:ito], color = 'red', linewidth = 0.5) #eje lineal, y logaritmico\n",
        "y_max =  max(y_db1) +5\n",
        "y_min = max(y_db1) -range_dB\n",
        "ax.set_ylim(y_min , y_max)\n",
        "\n",
        "ax.legend((f'I = {CHANNEL_INTERACTION_INDEX}, A = 0', f'I = {CHANNEL_INTERACTION_INDEX}, A = {ASYMMETRY_INDEX}'), loc=\"upper right\")\n",
        "\n",
        "showElecs = True\n",
        "if(showElecs):\n",
        "\n",
        "    color = 'blue'\n",
        "    secax = ax.secondary_xaxis('top') #eje secundario arriba\n",
        "    secax.set_xlabel('(Frecuencia característica de los electrodos)', color = 'dimgray', style = 'italic')\n",
        "\n",
        "\n",
        "    #Creo marquitas para los elec\n",
        "    elec_labels = ['$e_{' +str(i) +'}$ ' for i in range(elec_array.Nchann) ]\n",
        "\n",
        "    #Agrego marquitas\n",
        "    step =1\n",
        "    secax.set_xticks(elec_array.freqsElectrodos[::step], labels = elec_labels[::step])\n",
        "\n",
        "    #Les pongo color\n",
        "    for i in range(1,elec_array.Nchann//step+1):\n",
        "      secax.get_xticklabels()[-i].set_color('limegreen')\n",
        "      secax.get_xticklabels()[-i].set_rotation(45)\n",
        "      secax.get_xticklabels()[-i].set_rotation_mode('anchor')\n",
        "\n",
        "\n",
        "    ax.vlines(elec_array.freqsElectrodos,y_min , y_max , colors=color, linewidth = 1.3, linestyle = (0, (1,5)), alpha = 0.5)\n",
        "\n",
        "plt.xlabel('Frecuencia (Hz)')\n",
        "plt.ylabel('Amplitud (dB)')\n",
        "plt.grid(alpha  = 0.8)\n"
      ]
    },
    {
      "cell_type": "markdown",
      "metadata": {
        "id": "aBN5XEjf0H8w"
      },
      "source": [
        "--------------------------------------------------------------------"
      ]
    },
    {
      "cell_type": "markdown",
      "metadata": {
        "id": "RU5keTqO0H8w"
      },
      "source": [
        "Demostración del ancho de banda"
      ]
    },
    {
      "cell_type": "code",
      "execution_count": null,
      "metadata": {
        "id": "JFVP8or40H8w"
      },
      "outputs": [],
      "source": [
        "CHANNEL_INTERACTION_INDEX  = 0\n",
        "ASYMMETRY_INDEX = 0\n",
        "DISPERTION = 0.2\n",
        "MAXIMA = 1\n",
        "dur = 0.1\n",
        "order = 6\n",
        "elec_array = GENERIC_MEDEL1\n",
        "A = 60\n",
        "\n",
        "freqs = elec_array.freqsAnalisis\n",
        "#s = A*filtered_noise(freqs[5], freqs[5]/10,order,dur,OUT_SR)\n",
        "s = A*puretone(freqs[5], dur, IMPLANT_SR)\n",
        "out1 = elec_array.CIS(s)\n",
        "\n",
        "############################################################\n",
        "\n",
        "DISPERTION = 0.8\n",
        "out2 = elec_array.CIS(s)\n",
        "\n",
        "\n",
        "##########################################################\n",
        "\n",
        "\n",
        "from scipy.fft import rfft, rfftfreq\n",
        "\n",
        "\n",
        "f_from = 100\n",
        "f_to = 10000\n",
        "range_dB = 50\n",
        "norm = 1\n",
        "logx = True\n",
        "\n",
        "sr = OUT_SR\n",
        "T = 1/sr #periodo\n",
        "N = len(out1)\n",
        "t = np.arange(0, N*T, T) # Sampling times\n",
        "\n",
        "# FFT and bin centers\n",
        "f = rfftfreq(N, T)\n",
        "\n",
        "y1 = rfft(out1)\n",
        "y1 = np.abs(y1)*2/N\n",
        "y1 /= norm\n",
        "#y = 20*np.log10(np.abs(y)) #dB\n",
        "y_db1 = 20*np.log10(y1)\n",
        "\n",
        "y2 = rfft(out2)\n",
        "y2 = np.abs(y2)*2/N\n",
        "y2 /= norm\n",
        "#y = 20*np.log10(np.abs(y)) #dB\n",
        "y_db2 = 20*np.log10(y2)\n",
        "\n",
        "\n",
        "#df : sr/N  --> f(i) = i* sr/N --> i = f*N/sr\n",
        "if(f_to == 0): fto = sr/2\n",
        "ifrom = round(f_from*N/sr)\n",
        "ito = round(f_to*N/sr)\n",
        "\n",
        "# Plot spectrum\n",
        "fig, ax = plt.subplots(dpi = 200)\n",
        "if(logx): ax.set_xscale('log')\n",
        "\n",
        "ax.plot(f[ifrom:ito], y_db1[ifrom:ito], color = 'black', linewidth = 0.5) #eje lineal, y logaritmico\n",
        "ax.plot(f[ifrom:ito], y_db2[ifrom:ito], color = 'red', linewidth = 0.5) #eje lineal, y logaritmico\n",
        "y_max =  max(y_db1) +5\n",
        "y_min = max(y_db1) -range_dB\n",
        "ax.set_ylim(y_min , y_max)\n",
        "\n",
        "ax.legend(('D = 0.2', 'D = 0.8'), loc=\"upper right\")\n",
        "\n",
        "\n",
        "plt.xlabel('Frecuencia (Hz)')\n",
        "plt.ylabel('Amplitud (dB)')\n",
        "plt.grid()\n",
        "\n",
        "\n"
      ]
    },
    {
      "cell_type": "code",
      "execution_count": null,
      "metadata": {
        "id": "Y3jr4gEB0H8w"
      },
      "outputs": [],
      "source": [
        "fig, ax = plot_fft(out1, elec_array, f_from = 100, f_to = 10000, range_dB = 60)"
      ]
    },
    {
      "cell_type": "markdown",
      "metadata": {
        "id": "HTwdp6wl0H8x"
      },
      "source": [
        "Cantidad de canales"
      ]
    },
    {
      "cell_type": "code",
      "execution_count": null,
      "metadata": {
        "id": "NIs2DgAn0H8x"
      },
      "outputs": [],
      "source": [
        "#Probamos si el algoritmo funciona bien,\n",
        "#chequeando que en cada momento solo se activen la cantidad especificada de electrodos\n",
        "MODE = ACE\n",
        "CHANNEL_INTERACTION_INDEX = 0\n",
        "MAXIMA = 2\n",
        "DISPERTION = 0.1\n",
        "WIN_LEN_ACE = 4 #ms\n",
        "WIN_LEN_AUTO = False\n",
        "CDL_OC = 30\n",
        "EXP_OYENTE = False\n",
        "elec_array = GENERIC_COCHLEAR1\n",
        "elec_array.setearParametros()\n",
        "\n",
        "#Prueba con habla\n",
        "#hspeech1 48khz.wav\n",
        "i = np.random.randint(3900)\n",
        "s, sr = librosa.load(f'es_ar_female/ar_f ({i}).wav' , sr = IMPLANT_SR) #Hago el resampleo en este paso\n",
        "\n",
        "print('IN')\n",
        "display(Audio(s, rate = IMPLANT_SR))\n",
        "\n",
        "print('OUT C')\n",
        "out = elec_array.CIS(s)\n",
        "display(Audio(out, rate = OUT_SR))\n",
        "plot_stft(out,elec_array, analisis=False, top_db = 20)\n",
        "\n",
        "\n",
        "\n",
        "elec_array = GENERIC_MEDEL3\n",
        "elec_array.setearParametros()\n",
        "print('OUT M')\n",
        "out = elec_array.CIS(s)\n",
        "display(Audio(out, rate = OUT_SR))\n",
        "plot_stft(out,elec_array, analisis=False, top_db = 20)"
      ]
    },
    {
      "cell_type": "code",
      "execution_count": null,
      "metadata": {
        "id": "PruSA-gG0H8x"
      },
      "outputs": [],
      "source": [
        "#Probamos si el algoritmo funciona bien,\n",
        "#chequeando que en cada momento solo se activen la cantidad especificada de electrodos\n",
        "MODE = ACE\n",
        "CHANNEL_INTERACTION_INDEX = 0\n",
        "MAXIMA = 1\n",
        "DISPERTION = 0.8\n",
        "WIN_LEN_ACE = 4 #ms\n",
        "WIN_LEN_AUTO = False\n",
        "CDL_OC = 30\n",
        "EXP_OYENTE = False\n",
        "elec_array = GENERIC_COCHLEAR1\n",
        "elec_array.setearParametros()\n",
        "\n",
        "#Prueba con habla\n",
        "#hspeech1 48khz.wav\n",
        "i = np.random.randint(3900)\n",
        "s = puretone(elec_array.freqsAnalisis[4], 3, IMPLANT_SR)\n",
        "\n",
        "print('IN')\n",
        "display(Audio(s, rate = IMPLANT_SR))\n",
        "\n",
        "print('OUT C')\n",
        "out = elec_array.CIS(s)\n",
        "display(Audio(out, rate = OUT_SR))\n",
        "plot_stft(out,elec_array, analisis=False, top_db = 20)\n",
        "\n",
        "\n",
        "\n",
        "elec_array = GENERIC_MEDEL3\n",
        "elec_array.setearParametros()\n",
        "print('OUT M')\n",
        "out = elec_array.CIS(s)\n",
        "display(Audio(out, rate = OUT_SR))\n",
        "plot_stft(out,elec_array, analisis=False, top_db = 20)"
      ]
    },
    {
      "cell_type": "markdown",
      "metadata": {
        "id": "OOpi11lH0H8x"
      },
      "source": [
        "Frecuencias de los electrodos"
      ]
    },
    {
      "cell_type": "code",
      "execution_count": null,
      "metadata": {
        "id": "y1Rp2XnC0H8x"
      },
      "outputs": [],
      "source": [
        "GENERIC_MEDEL3 = Elec_Array(N=12, xi = 28, dx = 23.1/11) #El de Francisco, Flex28\n",
        "\n",
        "\n",
        "\n",
        "\n",
        "import matplotlib.ticker as ticker\n",
        "# Plot spectrum\n",
        "fig, ax = plt.subplots(dpi = 150) #default dpi is 100\n",
        "ax.set_xscale('log')\n",
        "ax.set_xlabel('Frecuencia (Hz)', labelpad = 20)\n",
        "ax.xaxis.set_tick_params(pad = 18)\n",
        "ax.set_xlim(150 , 15000)\n",
        "ax.set_ylim(-60 , 0)\n",
        "ax.set_yticks([])\n",
        "ax.set_xticks([])\n",
        "\n",
        "\n",
        "#####################################\n",
        "elec_array = GENERIC_MEDEL3\n",
        "\n",
        "MISMATCH = 0\n",
        "CDL_OC = 35\n",
        "\n",
        "elec_array.setearParametros()\n",
        "freqs = elec_array.freqsElectrodos\n",
        "\n",
        "color = 'blue'\n",
        "secax = ax.secondary_xaxis('top') #eje secundario arriba\n",
        "secax.set_xlabel('Frecuencias características calculadas para los electrodos', color = 'k', style = 'italic', labelpad = 20)\n",
        "\n",
        "#Creo marquitas para los elec\n",
        "elec_labels = ['$e_{' +str(i) +'}$ ' for i in range(elec_array.Nchann) ]\n",
        "\n",
        "#Creo texto con las freqs\n",
        "secax_freqs = ax.secondary_xaxis('top') #eje secundario arriba\n",
        "freq_labels = [f'${round(freq)}$ ' for freq in freqs ]\n",
        "\n",
        "\n",
        "#Agrego marquitas\n",
        "step = 1\n",
        "secax.set_xticks(elec_array.freqsElectrodos[::step], labels = elec_labels[::step])\n",
        "secax.xaxis.set_tick_params(pad = 0)\n",
        "secax_freqs.set_xticks(freqs, labels = freq_labels[::step])\n",
        "secax_freqs.xaxis.set_tick_params(pad = 11, labelcolor = color, labelsize= 7)\n",
        "\n",
        "\n",
        "#Les pongo color\n",
        "for i in range(1,elec_array.Nchann//step+1):\n",
        "    secax.get_xticklabels()[-i].set_color(color)\n",
        "    secax.get_xticklabels()[-i].set_rotation(45)\n",
        "    secax.get_xticklabels()[-i].set_rotation_mode('anchor')\n",
        "\n",
        "\n",
        "ax.vlines(elec_array.freqsElectrodos,-40 , 0 , colors=color, linewidth = 1.5, linestyle = 'solid', alpha = 0.85)\n",
        "#####################################################\n",
        "\n",
        "MISMATCH = 0.5\n",
        "CDL_OC = 37\n",
        "\n",
        "elec_array.setearParametros()\n",
        "freqs = elec_array.freqsElectrodos\n",
        "\n",
        "color = 'red'\n",
        "secax = ax.secondary_xaxis('bottom') #eje secundario arriba\n",
        "\n",
        "#Creo marquitas para los elec\n",
        "elec_labels = ['$e_{' +str(i) +'}$ ' for i in range(elec_array.Nchann) ]\n",
        "\n",
        "#Creo texto con las freqs\n",
        "secax_freqs = ax.secondary_xaxis('bottom') #eje secundario arriba\n",
        "freq_labels = [f'${round(freq)}$ ' for freq in freqs ]\n",
        "\n",
        "#Agrego marquitas\n",
        "step = 1\n",
        "secax.set_xticks(freqs[::step], labels = elec_labels[::step])\n",
        "secax.xaxis.set_tick_params(pad = 0)\n",
        "secax_freqs.set_xticks(freqs, labels = freq_labels[::step])\n",
        "secax_freqs.xaxis.set_tick_params(pad = 11, labelcolor = color, labelsize= 7)\n",
        "\n",
        "\n",
        "#Les pongo color\n",
        "for i in range(elec_array.Nchann):\n",
        "    secax.get_xticklabels()[i].set_color(color)\n",
        "    secax.get_xticklabels()[i].set_rotation(45)\n",
        "    secax.get_xticklabels()[i].set_rotation_mode('anchor')\n",
        "\n",
        "\n",
        "ax.vlines(elec_array.freqsElectrodos,-60 , -20 , colors=color, linewidth = 1.5, linestyle = 'solid', alpha = 0.85)\n",
        "\n",
        "############################################\n",
        "\n",
        "plt.grid(alpha  = 0.8)\n",
        "plt.show()\n",
        "\n"
      ]
    },
    {
      "cell_type": "markdown",
      "metadata": {
        "id": "leJt-oiq0H8x"
      },
      "source": [
        "Otra versión"
      ]
    },
    {
      "cell_type": "code",
      "execution_count": null,
      "metadata": {
        "id": "-RJ1EIYP0H8y"
      },
      "outputs": [],
      "source": [
        "#####################################\n",
        "GENERIC_MEDEL3 = Elec_Array(N=12, xi = 28, dx = 23.1/11) #El de Francisco, Flex28\n",
        "elec_array = GENERIC_MEDEL3\n",
        "\n",
        "MISMATCH = 0\n",
        "CDL_OC = 35\n",
        "elec_array.setearParametros()\n",
        "freqs1 = elec_array.freqsElectrodos\n",
        "y1 = [ 0.6 for f in freqs1]\n",
        "\n",
        "MISMATCH = 0.5\n",
        "CDL_OC = 37\n",
        "elec_array.setearParametros()\n",
        "freqs2 = elec_array.freqsElectrodos\n",
        "y2 = [ 0.4 for f in freqs2]\n",
        "\n",
        "###########\n",
        "\n",
        "import matplotlib.ticker as ticker\n",
        "xmin = 220\n",
        "xmax = 13000\n",
        "\n",
        "fig, ax = plt.subplots(figsize=(16,6), dpi= 130)\n",
        "ax.set_xscale('log')\n",
        "ax.set_xlabel('Frecuencia (Hz)', labelpad = 15,fontdict={'size':25} )\n",
        "ax.xaxis.set_tick_params(pad = 18)\n",
        "ax.set_xlim(xmin , xmax)\n",
        "ax.set_ylim(0 , 1)\n",
        "ax.set_yticks([])\n",
        "ax.set_xticks([])\n",
        "ax.hlines(y=[0.4,0.6], xmin=xmin, xmax=xmax, color='gray', alpha=0.85, linewidth=1, linestyles='dashdot')\n",
        "\n",
        "#cambiar esto a Title\n",
        "ax.set_title('Frecuencias características calculadas para cada electrodo', color = 'k', style = 'italic', pad = 20, fontdict={'size':32, 'font': 'Times New Roman'}, )\n",
        "\n",
        "#Creo marquitas para los elec\n",
        "elec_labels = ['$e_{' +str(i) +'}$ ' for i in range(elec_array.Nchann) ]\n",
        "\n",
        "#############################################3\n",
        "\n",
        "\n",
        "\n",
        "#Creo texto con las freqs\n",
        "secax = ax.secondary_xaxis('top') #eje secundario arriba (e_1, e_2, ...)\n",
        "secax_freqs = ax.secondary_xaxis('top') #eje secundario arriba    (100hz, 200hz, ...)\n",
        "freq_labels = [f'${round(freq)}$ ' for freq in freqs1 ]\n",
        "\n",
        "\n",
        "#Elecs de arriba\n",
        "color = 'red'\n",
        "step = 1\n",
        "secax.set_xticks(freqs1[::step], labels = elec_labels[::step])\n",
        "secax.xaxis.set_tick_params(pad = 25, labelcolor = color, labelsize = 20, rotation = 30)\n",
        "secax_freqs.set_xticks(freqs1, labels = freq_labels[::step])\n",
        "secax_freqs.xaxis.set_tick_params(pad = 6, labelcolor = color, labelsize= 20)\n",
        "ax.scatter(y=y1, x=freqs1, s=75, color=color, alpha=0.85, label = 'MM = 0 mm,    CDL = 35 mm') #Los puntitos\n",
        "ax.grid(alpha = 0.7)\n",
        "\n",
        "#Les pongo color\n",
        "for i in range(1,elec_array.Nchann//step+1):\n",
        "    secax.get_xticklabels()[-i].set_rotation_mode('anchor')\n",
        "\n",
        "#############################\n",
        "\n",
        "\n",
        "#Creo texto con las freqs\n",
        "secax_freqs = ax.secondary_xaxis('bottom') #eje secundario arriba\n",
        "freq_labels = [f'${round(freq)}$ ' for freq in freqs2 ]\n",
        "\n",
        "\n",
        "#Elecs de abajo\n",
        "color = 'blue'\n",
        "step = 1\n",
        "ax.set_xticks(freqs2[::step], labels = elec_labels[::step])\n",
        "ax.xaxis.set_tick_params(pad = 5, labelcolor = color, labelsize = 20, rotation = 30)\n",
        "secax_freqs.set_xticks(freqs2, labels = freq_labels[::step])\n",
        "secax_freqs.xaxis.set_tick_params(pad = 25, labelcolor = color, labelsize= 20)\n",
        "ax.scatter(y=y2, x=freqs2, s=75, color=color, alpha=0.85, label = 'MM = 0.5 mm, CDL = 37 mm' ) #Los puntitos\n",
        "ax.grid(alpha = 0.7)\n",
        "\n",
        "ax.set_xticks([], minor=True)\n",
        "\n",
        "#Les pongo color\n",
        "for i in range(1,elec_array.Nchann//step+1):\n",
        "    ax.get_xticklabels()[-i].set_rotation_mode('anchor')\n",
        "\n",
        "\n",
        "\n",
        "\n",
        "######################################\n",
        "\n",
        "# Title, Label, Ticks and Ylim\n",
        "#ax.set_yticks(df.index)\n",
        "#ax.set_yticklabels(df.manufacturer.str.title(), fontdict={'horizontalalignment': 'right'})\n",
        "plt.legend(framealpha=1, shadow=True,  loc = 'upper right',  prop={'size': 20})\n",
        "plt.show()"
      ]
    },
    {
      "cell_type": "markdown",
      "metadata": {
        "id": "CoahLkHA0H8y"
      },
      "source": [
        "-----------------------------------"
      ]
    },
    {
      "cell_type": "markdown",
      "metadata": {
        "id": "wr6U1GCT0H8y"
      },
      "source": [
        "Cantidad de canales"
      ]
    },
    {
      "cell_type": "code",
      "execution_count": null,
      "metadata": {
        "id": "Cf-AEY_c0H8y"
      },
      "outputs": [],
      "source": [
        "dur = 3\n",
        "sr = IMPLANT_SR\n",
        "from numpy import sin, pi\n",
        "def fmTone(fc, fm, I):\n",
        "  return  sin( [2*pi*fc*i/IMPLANT_SR + I*fc*sin(2*pi*fm*i/IMPLANT_SR) for i in range(round(3*IMPLANT_SR)) ] )"
      ]
    },
    {
      "cell_type": "code",
      "execution_count": null,
      "metadata": {
        "id": "nPMhT1Da0H8y"
      },
      "outputs": [],
      "source": [
        "#Probamos si el algoritmo funciona bien,\n",
        "#chequeando que en cada momento solo se activen la cantidad especificada de electrodos\n",
        "MODE = ACE\n",
        "CHANNEL_INTERACTION_INDEX = 0\n",
        "MAXIMA = 1\n",
        "DISPERTION = 0.05\n",
        "WIN_LEN_ACE = 4 #ms\n",
        "WIN_LEN_AUTO = False\n",
        "CDL_OC = 35\n",
        "EXP_OYENTE = True\n",
        "elec_array = GENERIC_MEDEL3\n",
        "elec_array.setearParametros()\n",
        "\n",
        "#Prueba con habla\n",
        "#hspeech1 48khz.wav\n",
        "\n",
        "s1 = fmTone(500, 1, 0.2)*0.25\n",
        "s2 = fmTone(2000, 1, 0.2)*0.5\n",
        "s3 = fmTone(5000, 1, 0.2)*0.8\n",
        "s = (s1+s2+s3) / 3\n",
        "\n",
        "print('IN')\n",
        "display(Audio(s, rate = IMPLANT_SR))\n",
        "plot_stft(s,elec_array, analisis=True, top_db = 20, mostrarLineas=False)\n",
        "\n",
        "print(f'OUT M = {MAXIMA}')\n",
        "out1 = elec_array.CIS(s)\n",
        "display(Audio(out1, rate = OUT_SR))\n",
        "plot_stft(out1,elec_array, analisis=False, top_db = 20, mostrarLineas=False)\n",
        "\n",
        "MAXIMA = 2\n",
        "elec_array.setearParametros()\n",
        "print(f'OUT M = {MAXIMA}')\n",
        "out2 = elec_array.CIS(s)\n",
        "display(Audio(out2, rate = OUT_SR))\n",
        "plot_stft(out2,elec_array, analisis=False, top_db = 20, mostrarLineas=False)"
      ]
    },
    {
      "cell_type": "markdown",
      "metadata": {
        "id": "P8rf5KPt0H8y"
      },
      "source": [
        "Mejor versión"
      ]
    },
    {
      "cell_type": "code",
      "execution_count": null,
      "metadata": {
        "id": "R0QxI4Lq0H8z"
      },
      "outputs": [],
      "source": [
        "#Grafico\n",
        "fig, ax = plt.subplots(3, 1, figsize = (15,11), dpi = 175, sharex= True)\n",
        "#ax.set_ylim([0, 1])\n",
        "S = [s, out1, out2]\n",
        "for i  in range(3):\n",
        "  x = S[i]\n",
        "  x = np.array(x)\n",
        "  n_fft = 512\n",
        "  win_length = n_fft\n",
        "  hop_length = n_fft//4\n",
        "  top_db = 30\n",
        "\n",
        "  #Espectro\n",
        "  x_stft = np.abs(librosa.stft(x, n_fft=n_fft, win_length = win_length, hop_length = hop_length)) #hop = n_fft//4\n",
        "  x_stft_db = librosa.amplitude_to_db(x_stft, ref=np.max, top_db = top_db)\n",
        "  n_frames = len(x_stft_db[0])\n",
        "\n",
        "  #Seteo samplig rate según si es señal de entrada al implante o salida del simulador\n",
        "  if i == 0: sampling_rate = IMPLANT_SR\n",
        "  else:\n",
        "    sampling_rate = OUT_SR\n",
        "\n",
        "  cmap = 'magma'\n",
        "  img = librosa.display.specshow(data=x_stft_db, y_axis='log', x_axis = 'time',ax=ax[i],\n",
        "                            sr=sampling_rate, cmap= cmap,\n",
        "                            n_fft=n_fft, win_length = win_length, hop_length = hop_length)\n",
        "\n",
        " # fig.colorbar(img, ax= ax[i], format='%+2.0f dB')\n",
        "  title = ''\n",
        "  if( i== 0): title = 'Señal de entrada'\n",
        "  if (i ==1): title = 'Frecuencia de los electrodos activados (M = 1)'\n",
        "  if (i ==2): title = 'Frecuencia de los electrodos activados (M = 2)'\n",
        "\n",
        "  ax[i].set_title('Espectrograma: ' + title, fontdict = {'size'   : 22} ) #'weight' : 'bold'\n",
        "  ax[i].label_outer()\n",
        "  ax[i].set_ylim(256,min(14000, sampling_rate/2))\n",
        "  ax[i].set_ylabel(\"Frecuencia (Hz)\", size = 20)\n",
        "  for tick in ax[i].yaxis.get_major_ticks():\n",
        "      tick.label.set_fontsize(16)\n",
        "\n",
        "fig.colorbar(img, ax=ax,  format='%+2.0f dB')\n",
        "ax[2].set_xlabel(\"Tiempo (s)\", size = 20)\n",
        "for tick in ax[2].xaxis.get_major_ticks():\n",
        "    tick.label.set_fontsize(14)\n",
        "plt.show()"
      ]
    },
    {
      "cell_type": "code",
      "execution_count": null,
      "metadata": {
        "id": "WMdJ6pJR0H8z"
      },
      "outputs": [],
      "source": [
        "s = np.zeros(10000)\n",
        "s[1000] = 1\n",
        "s[1001] = -1\n",
        "s[1002] = 1\n",
        "s[1003] = -1\n",
        "\n",
        "Audio(s, rate = 10000)\n"
      ]
    },
    {
      "cell_type": "code",
      "execution_count": null,
      "metadata": {
        "id": "y2evFRcE0H8z"
      },
      "outputs": [],
      "source": [
        "s = np.zeros(10000)\n",
        "s[1000] = 1\n",
        "s[1001] = 0\n",
        "s[1002] = -1\n",
        "s[1003] = 0\n",
        "\n",
        "Audio(s, rate = 10000)"
      ]
    },
    {
      "cell_type": "markdown",
      "metadata": {
        "id": "7qm9kw960H8z"
      },
      "source": [
        "## Vibrato"
      ]
    },
    {
      "cell_type": "code",
      "execution_count": null,
      "metadata": {
        "id": "JD_osq7e0H8z"
      },
      "outputs": [],
      "source": [
        "#Probamos si el algoritmo funciona bien,\n",
        "#chequeando que en cada momento solo se activen la cantidad especificada de electrodos\n",
        "MODE = ACE\n",
        "CHANNEL_INTERACTION_INDEX = 0\n",
        "MAXIMA = 1\n",
        "DISPERTION = 0.05\n",
        "WIN_LEN_ACE = 4 #ms\n",
        "WIN_LEN_AUTO = False\n",
        "CDL_OC = 35\n",
        "EXP_OYENTE = True\n",
        "elec_array = GENERIC_COCHLEAR1\n",
        "elec_array.setearParametros()\n",
        "\n",
        "freqs = elec_array.freqsAnalisis\n",
        "freqs2 =   elec_array.freqsElectrodos\n",
        "\n",
        "f0 = freqs[5][0]/2 + freqs[5][1]/2\n",
        "\n",
        "s0 = puretone(f0, 2, IMPLANT_SR)\n",
        "s = fmTone(f0, 2, 0.005)\n",
        "\n",
        "\n",
        "plot_stft(s, elec_array, analisis = True)\n",
        "\n",
        "print('orig')\n",
        "display(Audio(s0, rate = IMPLANT_SR))\n",
        "\n",
        "\n",
        "\n",
        "print('FM')\n",
        "display(Audio(s, rate = IMPLANT_SR))"
      ]
    },
    {
      "cell_type": "markdown",
      "metadata": {
        "id": "VD0G1M3B0H8z"
      },
      "source": [
        "Centro de un canal"
      ]
    },
    {
      "cell_type": "code",
      "execution_count": null,
      "metadata": {
        "id": "Ow2Tdmku0H80"
      },
      "outputs": [],
      "source": [
        "#Probamos si el algoritmo funciona bien,\n",
        "#chequeando que en cada momento solo se activen la cantidad especificada de electrodos\n",
        "MODE = ACE\n",
        "CHANNEL_INTERACTION_INDEX = 0\n",
        "MAXIMA = 1\n",
        "DISPERTION = 0.05\n",
        "WIN_LEN_ACE = 4 #ms\n",
        "WIN_LEN_AUTO = False\n",
        "CDL_OC = 35\n",
        "EXP_OYENTE = True\n",
        "elec_array = GENERIC_COCHLEAR1\n",
        "elec_array.setearParametros()\n",
        "\n",
        "freqs = elec_array.freqsAnalisis\n",
        "freqs2 =   elec_array.freqsElectrodos\n",
        "\n",
        "f0 = freqs[5][0]/2 + freqs[5][1]/2\n",
        "\n",
        "s0 = puretone(f0, 2, IMPLANT_SR)\n",
        "ss = []\n",
        "\n",
        "for i in range(1,10):\n",
        "    ss.append(fmTone(f0, 2, 0.004*i))\n",
        "\n",
        "\n",
        "plot_stft(s, elec_array, analisis = True)\n",
        "\n",
        "print('orig')\n",
        "display(Audio(s0, rate = IMPLANT_SR))\n",
        "\n",
        "for i in range(1,10):\n",
        "    print(f'FM {i}')\n",
        "    display(Audio(ss[i-1], rate = IMPLANT_SR))"
      ]
    },
    {
      "cell_type": "markdown",
      "metadata": {
        "id": "B5hcNo5y0H80"
      },
      "source": [
        "Entre dos canales"
      ]
    },
    {
      "cell_type": "code",
      "execution_count": null,
      "metadata": {
        "id": "1H7F3zFB0H80"
      },
      "outputs": [],
      "source": [
        "#Probamos si el algoritmo funciona bien,\n",
        "#chequeando que en cada momento solo se activen la cantidad especificada de electrodos\n",
        "MODE = ACE\n",
        "CHANNEL_INTERACTION_INDEX = 0\n",
        "MAXIMA = 1\n",
        "DISPERTION = 0.05\n",
        "WIN_LEN_ACE = 4 #ms\n",
        "WIN_LEN_AUTO = False\n",
        "CDL_OC = 35\n",
        "EXP_OYENTE = True\n",
        "elec_array = GENERIC_COCHLEAR1\n",
        "elec_array.setearParametros()\n",
        "\n",
        "freqs = elec_array.freqsAnalisis\n",
        "freqs2 =   elec_array.freqsElectrodos\n",
        "\n",
        "f1 = freqs[5][0]/2 + freqs[5][1]/2\n",
        "f2 = freqs[6][0]/2 + freqs[6][1]/2\n",
        "f0 = f1/2 + f2/2\n",
        "f0 = f1\n",
        "\n",
        "s0 = puretone(f0, 2, IMPLANT_SR)\n",
        "ss = []\n",
        "\n",
        "for i in range(1,5):\n",
        "    ss.append(fmTone(f0, 2, 0.004*i))\n",
        "\n",
        "\n",
        "\n",
        "plot_stft(s, elec_array, analisis = True)\n",
        "\n",
        "print('orig')\n",
        "display(Audio(s0, rate = IMPLANT_SR))\n",
        "\n",
        "for i in range(1,5):\n",
        "    print(f'FM {i}')\n",
        "    display(Audio(ss[i-1], rate = IMPLANT_SR))\n",
        "    print('Out')\n",
        "    out = elec_array.CIS(ss[i-1])\n",
        "    display(Audio(out, rate = OUT_SR))\n",
        "    plot_stft(out, elec_array, analisis = False)\n",
        ""
      ]
    },
    {
      "cell_type": "code",
      "execution_count": null,
      "metadata": {
        "id": "Nxo-VCsA0H80"
      },
      "outputs": [],
      "source": [
        "#Probamos si el algoritmo funciona bien,\n",
        "#chequeando que en cada momento solo se activen la cantidad especificada de electrodos\n",
        "MODE = ACE\n",
        "CHANNEL_INTERACTION_INDEX = 0\n",
        "MAXIMA = 3\n",
        "DISPERTION = 0.05\n",
        "WIN_LEN_ACE = 4 #ms\n",
        "WIN_LEN_AUTO = False\n",
        "CDL_OC = 35\n",
        "EXP_OYENTE = True\n",
        "elec_array = GENERIC_COCHLEAR1\n",
        "elec_array.setearParametros()\n",
        "\n",
        "freqs = elec_array.freqsAnalisis\n",
        "freqs2 =   elec_array.freqsElectrodos\n",
        "\n",
        "f1 = freqs[5][0]/2 + freqs[5][1]/2\n",
        "f2 = freqs[6][0]/2 + freqs[6][1]/2\n",
        "f0 = f1/2 + f2/2\n",
        "\n",
        "s0 = puretone(f0, 2, IMPLANT_SR)\n",
        "ss = []\n",
        "\n",
        "for i in range(1,10):\n",
        "    ss.append(fmTone(f0, 2, 0.004*i))\n",
        "\n",
        "\n",
        "\n",
        "plot_stft(s, elec_array, analisis = True)\n",
        "\n",
        "print('orig')\n",
        "display(Audio(s0, rate = IMPLANT_SR))\n",
        "\n",
        "for i in range(1,10):\n",
        "    print(f'FM {i}')\n",
        "    display(Audio(ss[i-1], rate = IMPLANT_SR))\n",
        "    print('Out')\n",
        "    out = elec_array.CIS(ss[i-1])\n",
        "    display(Audio(out, rate = OUT_SR))\n",
        "    plot_stft(out, elec_array, analisis = False)\n",
        ""
      ]
    },
    {
      "cell_type": "markdown",
      "metadata": {
        "id": "PF6k2LUY0H80"
      },
      "source": [
        "# Tesis"
      ]
    },
    {
      "cell_type": "code",
      "execution_count": null,
      "metadata": {
        "id": "vcL1zu380H81"
      },
      "outputs": [],
      "source": [
        "#pip install import-ipynb\n",
        "import import_ipynb\n",
        "#import CIS_6\n",
        "from CIS_6 import *"
      ]
    },
    {
      "cell_type": "code",
      "execution_count": null,
      "metadata": {
        "id": "Qzx426pu0H81"
      },
      "outputs": [],
      "source": [
        "GENERIC_MEDEL2b.setearParametros()\n",
        "IMPLANT_SR = 17000"
      ]
    },
    {
      "cell_type": "markdown",
      "metadata": {
        "id": "RsvM2yU70H81"
      },
      "source": [
        "## Banco de filtros H(S)"
      ]
    },
    {
      "cell_type": "code",
      "execution_count": null,
      "metadata": {
        "id": "W2j6oiBx0H81"
      },
      "outputs": [],
      "source": [
        "fig, ax = plt.subplots(figsize = (12, 7), layout='constrained')\n",
        "IMPLANT_SR = 17000\n",
        "GENERIC_MEDEL2b.setearParametros()\n",
        "\n",
        "\n",
        "s = [1] + [0] * 4095 #delta\n",
        "outs = filter_bank_analisis(s, GENERIC_MEDEL2b, 6)\n",
        "\n",
        "for out in outs:\n",
        "    x = out\n",
        "    sr = 17000\n",
        "    fs = np.linspace(0,sr/2, len(x)//2)\n",
        "    #F = np.abs(fft(x)[:len(x)//2]) / len(x)*2\n",
        "    F = np.abs(fft(x)[:len(x)//2])\n",
        "    ax.plot(fs, F)\n",
        "\n",
        "\n",
        "ax.set_xscale('log')\n",
        "ax.set_xlim(40)\n",
        "ax.set_xlabel('Frecuencia $f$ (Hz)', fontsize = 20, font = 'Times New Roman')\n",
        "ax.set_ylabel('$| H(f) |$', fontsize = 20, font = 'Times New Roman')\n",
        "\n",
        "ax.set_xticks([50, 100, 200, 500, 1000, 2000, 5000, 8000])\n",
        "ax.tick_params(axis='both', which='major', labelsize=13)\n",
        "\n",
        "ax.text\n",
        "#ax.hlines(1/np.sqrt(2), 0, 8000)  #puntos de interseccion\n",
        "\n",
        "from matplotlib.ticker import ScalarFormatter\n",
        "#Hago que los numeros del eje x sean mas lindos\n",
        "for axis in [ax.xaxis, ax.yaxis]:\n",
        "    formatter = ScalarFormatter()\n",
        "    formatter.set_scientific(False)\n",
        "    axis.set_major_formatter(formatter)\n",
        "\n",
        "#Numero de canal\n",
        "for i in range(0,GENERIC_MEDEL2b.Nchann):\n",
        "    fc = GENERIC_MEDEL2b.freqsAnalisis[i][0] + GENERIC_MEDEL2b.freqsAnalisis[i][1]\n",
        "    fc /= 2\n",
        "    plt.text(fc*0.95, 0.9, f'{i+1}')\n",
        "\n",
        "\n",
        "plt.show()"
      ]
    },
    {
      "cell_type": "markdown",
      "metadata": {
        "id": "ati67XKc0H81"
      },
      "source": [
        "Coclear"
      ]
    },
    {
      "cell_type": "code",
      "execution_count": null,
      "metadata": {
        "id": "dILPh7zN0H81"
      },
      "outputs": [],
      "source": [
        "fig, ax = plt.subplots(figsize = (12, 7), layout='constrained')\n",
        "IMPLANT_SR = 16000\n",
        "Cochlear_Axel_Izq.setearParametros()\n",
        "\n",
        "\n",
        "s = [1] + [0] * 4095 #delta\n",
        "outs = filter_bank_analisis(s, Cochlear_Axel_Izq, 6)\n",
        "\n",
        "for out in outs:\n",
        "    x = out\n",
        "    sr = 17000\n",
        "    fs = np.linspace(0,sr/2, len(x)//2)\n",
        "    #F = np.abs(fft(x)[:len(x)//2]) / len(x)*2\n",
        "    F = np.abs(fft(x)[:len(x)//2])\n",
        "    ax.plot(fs, F)\n",
        "\n",
        "\n",
        "ax.set_xscale('log')\n",
        "ax.set_xlim(40)\n",
        "ax.set_xlabel('Frecuencia $f$ (Hz)', fontsize = 20, font = 'Times New Roman')\n",
        "ax.set_ylabel('$| H(f) |$', fontsize = 20, font = 'Times New Roman')\n",
        "\n",
        "ax.set_xticks([50, 100, 200, 500, 1000, 2000, 5000, 8000])\n",
        "ax.tick_params(axis='both', which='major', labelsize=13)\n",
        "\n",
        "ax.text\n",
        "#ax.hlines(1/np.sqrt(2), 0, 8000)  #puntos de interseccion\n",
        "\n",
        "from matplotlib.ticker import ScalarFormatter\n",
        "#Hago que los numeros del eje x sean mas lindos\n",
        "for axis in [ax.xaxis, ax.yaxis]:\n",
        "    formatter = ScalarFormatter()\n",
        "    formatter.set_scientific(False)\n",
        "    axis.set_major_formatter(formatter)\n",
        "\n",
        "for i in range(0,Cochlear_Axel_Izq.Nchann, 3):\n",
        "#for i in [0,4,9,14,19]:\n",
        "    fc = Cochlear_Axel_Izq.freqsAnalisis[i][0] + Cochlear_Axel_Izq.freqsAnalisis[i][1]\n",
        "    fc /= 2\n",
        "    plt.text(fc*1.02, 0.9, f'{i+1}')\n",
        "\n",
        "plt.show()"
      ]
    },
    {
      "cell_type": "markdown",
      "metadata": {
        "id": "YlQ_qUDG0H82"
      },
      "source": [
        "## Banco de filtros + mismatch de electrodos"
      ]
    },
    {
      "cell_type": "code",
      "execution_count": null,
      "metadata": {
        "id": "BCfogea50H82"
      },
      "outputs": [],
      "source": [
        "LASTCHANNELHP = True\n",
        "## Todo esto igual que lo anterior --------------------------------------------------------------------\n",
        "fig, ax = plt.subplots(figsize = (12, 7), layout='constrained')\n",
        "IMPLANT_SR = 17000\n",
        "elec_array = GENERIC_MEDEL3\n",
        "elec_array.setearParametros()\n",
        "\n",
        "\n",
        "s = [1] + [0] * 4095 #delta\n",
        "outs = filter_bank_analisis(s, elec_array, 6)\n",
        "\n",
        "for out in outs:\n",
        "    x = out\n",
        "    sr = 17000\n",
        "    fs = np.linspace(0,sr/2, len(x)//2)\n",
        "    #F = np.abs(fft(x)[:len(x)//2]) / len(x)*2\n",
        "    F = np.abs(fft(x)[:len(x)//2])\n",
        "    ax.plot(fs, F)\n",
        "\n",
        "\n",
        "ax.set_xscale('log')\n",
        "ax.set_xlim(40)\n",
        "ax.set_xlabel('Frecuencia $f$ (Hz)', fontsize = 20, font = 'Times New Roman')\n",
        "ax.set_ylabel('$| H(f) |$', fontsize = 20, font = 'Times New Roman')\n",
        "\n",
        "ax.set_xticks([50, 100, 200, 500, 1000, 2000, 5000, 8500, 12000])\n",
        "ax.tick_params(axis='both', which='major', labelsize=13)\n",
        "\n",
        "ax.text\n",
        "#ax.hlines(1/np.sqrt(2), 0, 8000)  #puntos de interseccion\n",
        "\n",
        "from matplotlib.ticker import ScalarFormatter\n",
        "#Hago que los numeros del eje x sean mas lindos\n",
        "for axis in [ax.xaxis, ax.yaxis]:\n",
        "    formatter = ScalarFormatter()\n",
        "    formatter.set_scientific(False)\n",
        "    axis.set_major_formatter(formatter)\n",
        "\n",
        "#Numero de canal\n",
        "for i in range(0,elec_array.Nchann -1):\n",
        "    fc = elec_array.freqsAnalisis[i]\n",
        "    plt.text(fc, 0.9, f'{i+1}', fontsize = 12)\n",
        "plt.text(elec_array.freqsAnalisis[-1]*1.1, 0.9, f'{12}')\n",
        "\n",
        "## Agrego ahora frecuencias estimadadas de los electrodos   --------------------------------------------------------------------\n",
        "ax.vlines(elec_array.freqsElectrodos,1.1, 1, linestyles= '--', color = 'r')\n",
        "for i in range(0,elec_array.Nchann):\n",
        "    fe = elec_array.freqsElectrodos[i]\n",
        "    plt.text(fe*0.95, 1.12, \"$e_{{{}}}$\".format(str(i+1)), color = 'r', fontsize= 15)\n"
      ]
    },
    {
      "cell_type": "markdown",
      "metadata": {
        "id": "iL1WQCrO0H82"
      },
      "source": [
        "Rehago un grafico del informe"
      ]
    },
    {
      "cell_type": "markdown",
      "metadata": {
        "id": "PMMuhuIM0H82"
      },
      "source": [
        "## Descomposicion en canales 1"
      ]
    },
    {
      "cell_type": "code",
      "execution_count": null,
      "metadata": {
        "id": "RmIltzlu0H82"
      },
      "outputs": [],
      "source": [
        "#Entrada de señal y banco de filtros\n",
        "GENERIC_MEDEL2b.setearParametros()\n",
        "IMPLANT_SR = 17000\n",
        "s, _ = librosa.load('cello B3.wav', sr = IMPLANT_SR)\n",
        "s/= np.max(np.abs(s)) #Normalizo\n",
        "outs = filter_bank_CIS(s, GENERIC_MEDEL2b)\n",
        "\n",
        "#Creo grafico\n",
        "fig, axs = plt.subplots(9,2, figsize=(10,12))\n",
        "axs[0][0].plot(s, label = 'Señal de entrada')\n",
        "axs[0][0].legend(framealpha=1, shadow=True, loc = 'lower left',  prop={'size': 10})\n",
        "axs[0][0].get_xaxis().set_visible(False)\n",
        "\n",
        "#Primer grafico\n",
        "ts = [i/IMPLANT_SR for i in range(len(s))]\n",
        "F = np.abs(fft(s)/len(s))\n",
        "freqsfft = [IMPLANT_SR/len(s)*i for i in range(len(s)//2) ]\n",
        "\n",
        "\n",
        "\n",
        "#Segundo Grafico\n",
        "axs[0][1].plot(freqsfft, F[:len(s)//2], color = 'darkcyan', label = 'Señal de entrada')\n",
        "axs[0][1].grid(alpha = 0.5)\n",
        "axs[0][1].legend(framealpha=1, shadow=True, loc = 'upper right')\n",
        "axs[0][1].get_xaxis().set_visible(False)\n",
        "axs[0][1].set_xlim(-120, 3500)\n",
        "\n",
        "#Canales del banco\n",
        "for i in range(1,9):\n",
        "  si = outs[i]\n",
        "  Fi = np.abs(fft(si)/len(s))\n",
        "\n",
        "  #Graficos\n",
        "  axs[i][0].plot(ts, si, color = 'orange', label = 'Canal '+ str(i) + ' ( ' + str(GENERIC_MEDEL2b.freqsAnalisis[i][0]) + 'Hz - ' +str(GENERIC_MEDEL2b.freqsAnalisis[i][1])+ ' Hz)')\n",
        "  axs[i][1].plot(freqsfft, Fi[:len(s)//2], color = 'fuchsia', label = 'Canal ' + str(i))\n",
        "\n",
        "  axs[i][1].plot(freqsfft, F[:len(s)//2], color = 'darkcyan', label = 'Señal de entrada', alpha = 0.2)\n",
        "\n",
        "  axs[i][0].set_ylim(-1,1)\n",
        "  axs[i][1].set_ylim(-0.01,0.06)\n",
        "  axs[i][1].set_xlim(-120, 3500)\n",
        "\n",
        "  axs[i][0].get_xaxis().set_visible(False)\n",
        "  axs[i][1].get_xaxis().set_visible(False)\n",
        "  axs[i][0].legend(framealpha=1, shadow=True, loc = 'lower left')\n",
        "  axs[i][1].legend(framealpha=1, shadow=True, loc = 'upper right')\n",
        "  axs[i][1].grid(alpha = 0.5)\n",
        "\n",
        "\n",
        "  #Escucho el audio\n",
        "  print(f'Canal {i}')\n",
        "  display(Audio(si, rate = IMPLANT_SR, normalize= False))\n",
        "  #axs[i][1].plot(si, label = 'Banda ' + str(i+1), alpha = 0.85)\n",
        "\n",
        "\n",
        "\n",
        "#Nombres de los ejes (abajo de todo)\n",
        "axs[8][0].set_xlabel('Tiempo (s)', fontsize = 13, font = 'Times New Roman')\n",
        "axs[8][0].get_xaxis().set_visible(True)\n",
        "axs[8][1].set_xlabel('Freq (Hz) [DFT]', fontsize = 13, font = 'Times New Roman')\n",
        "axs[8][1].get_xaxis().set_visible(True)\n",
        "\n",
        "\n",
        "plt.show()"
      ]
    },
    {
      "cell_type": "markdown",
      "metadata": {
        "id": "dXN0d8P90H83"
      },
      "source": [
        "## Descomposicion en canales 2 espectrograma"
      ]
    },
    {
      "cell_type": "code",
      "execution_count": null,
      "metadata": {
        "id": "ygfuUJWR0H83"
      },
      "outputs": [],
      "source": [
        "f, t, Sxx = signal.spectrogram(s, IMPLANT_SR,  nperseg=512, noverlap=128)\n",
        "\n",
        "\n",
        "Sxx_dB = 10 * np.log10(Sxx)\n",
        "Sxx_dB = np.clip(Sxx_dB, -50, 0)  # Limitar valores entre -100 dB y 0 dB\n",
        "\n",
        "plt.pcolormesh(t, f, Sxx_dB, cmap = 'magma')\n",
        "plt.yscale('log')\n",
        "plt.colorbar(label='Densidad espectral de potencia (dB)')\n",
        "plt.ylim(100, IMPLANT_SR / 2)  # Establecer límites del eje de frecuencia\n",
        "\n"
      ]
    },
    {
      "cell_type": "markdown",
      "metadata": {
        "id": "-Kka-bd00H83"
      },
      "source": [
        "Rehago pero con STFT - ESTO ESTA CASI CASI BIEN - el problema es que la escala se resetea en cada grafico. Esto es algo de librosa y es casi"
      ]
    },
    {
      "cell_type": "code",
      "execution_count": null,
      "metadata": {
        "id": "6h3q_gri0H83"
      },
      "outputs": [],
      "source": [
        "def draw_stft(x, ax):\n",
        "  n_fft = 512\n",
        "  win_length = n_fft\n",
        "  hop_length = n_fft//4\n",
        "  top_db = 35\n",
        "\n",
        "  #matplotlib.colorizer.vmin = -40\n",
        "  #matplotlib.colorizer.vmax = 0\n",
        "\n",
        "  #Espectro\n",
        "  x_stft = np.abs(librosa.stft(x, n_fft=n_fft, win_length = win_length, hop_length = hop_length))\n",
        "  x_stft_db = librosa.amplitude_to_db(x_stft, top_db = top_db) # ref=np.max normaliza, no quiero\n",
        "  n_frames = len(x_stft_db[0])\n",
        "\n",
        "  global vmin\n",
        "  vmin = min(np.min(x_stft_db),vmin)\n",
        "\n",
        "  global vmax\n",
        "  vmax = max(np.max(x_stft_db), vmax)\n",
        "  print(vmin, vmax)\n",
        "\n",
        "  sampling_rate = IMPLANT_SR\n",
        "  cmap = 'magma'\n",
        "  img = librosa.display.specshow(data=x_stft_db, y_axis='log', x_axis = 'time',ax=ax,\n",
        "                            sr=sampling_rate, cmap= cmap,\n",
        "                            n_fft=n_fft, win_length = win_length, hop_length = hop_length, vmin = -0, vmax = 37)\n",
        "  ax.set_ylim(100,min(14000, sampling_rate/2))\n",
        "\n",
        "  #ax.pcolormesh(t, f, 10*np.log10(S), shading='gouraud',\n",
        "  #                vmin=-40, vmax=0)\n",
        "\n",
        "  return img\n",
        "\n",
        "\n",
        "\n",
        "#Entrada de señal y banco de filtros\n",
        "GENERIC_MEDEL2b.setearParametros()\n",
        "IMPLANT_SR = 17000\n",
        "s, _ = librosa.load('cornoi.wav', sr = IMPLANT_SR)\n",
        "s = s[8000:32000]\n",
        "s/= np.max(np.abs(s)) #Normalizo\n",
        "outs = filter_bank_CIS(s, GENERIC_MEDEL2b)\n",
        "\n",
        "#Creo grafico\n",
        "fig, axs = plt.subplots(3,3, figsize=(10,12),  dpi = 175, sharex = True, sharey = True, layout = 'constrained')\n",
        "axs = axs.flatten()\n",
        "\n",
        "\n",
        "#Señal de entrada\n",
        "draw_stft(s, axs[0])\n",
        "axs[0].get_xaxis().set_visible(False)\n",
        "axs[0].set_ylabel(\"Frec. (Hz)\", size = 12)\n",
        "axs[0].set_title('Señal de entrada')\n",
        "\n",
        "#Canales del banco\n",
        "for i in range(1,9):\n",
        "\n",
        "  x = outs[i]\n",
        "  x = np.array(x)\n",
        "\n",
        "  im = draw_stft(x, axs[i] )\n",
        "\n",
        "\n",
        "  if( i% 3 == 0) :\n",
        "    axs[i].set_ylabel(\"Frec. (Hz)\", size = 12)\n",
        "  #for tick in axs[i].yaxis.get_major_ticks():\n",
        "   #   tick.label.set_fontsize(16)\n",
        "\n",
        "  label = 'Canal '+ str(i) + '\\n (' + str(GENERIC_MEDEL2b.freqsAnalisis[i][0]) + 'Hz - ' +str(GENERIC_MEDEL2b.freqsAnalisis[i][1])+ ' Hz)'\n",
        "  #Graficos\n",
        "\n",
        "\n",
        "  #axs[i].set_title(f'Canal {i}' , fontdict = {'size'   : 12} ) #'weight' : 'bold'\n",
        "  #axs[i].legend(framealpha=1, shadow=True, loc = 'upper right', labels = [label])\n",
        "  axs[i].set_title(label, fontsize = 11)\n",
        "\n",
        "\n",
        "\n",
        "  axs[i].grid(alpha = 0.5, axis = 'y')\n",
        "  if( i<6):\n",
        "    axs[i].get_xaxis().set_visible(False)\n",
        "  else:\n",
        "    axs[i].set_xlabel('Tiempo (s)', fontsize = 13)\n",
        "    axs[i].set_xticks([0,0.7,1.4])\n",
        "\n",
        "\n",
        "\n",
        "\n",
        "  #Escucho el audio\n",
        "  print(f'Canal {i}')\n",
        "  #display(Audio(x, rate = IMPLANT_SR, normalize= False))\n",
        "\n",
        "fig.colorbar(im, ax=axs,  format='%+2.0f dB')\n",
        "\n",
        "#for tick in axs[8].xaxis.get_major_ticks():\n",
        "#    tick.label.set_fontsize(14)\n",
        "plt.show()\n",
        "\n",
        "\n"
      ]
    },
    {
      "cell_type": "code",
      "execution_count": null,
      "metadata": {
        "id": "AE-RmULS0H83"
      },
      "outputs": [],
      "source": [
        "def draw_stft_alt(x, ax):\n",
        "  f, t, Sxx = signal.spectrogram(x, fs=IMPLANT_SR, window='hann', nperseg=8192,\n",
        "                                scaling='spectrum')\n",
        "  mx = np.abs(10 * np.log10(Sxx)).max()\n",
        "  ax.pcolormesh(t, f / 1000, 10 * np.log10(Sxx), shading='gouraud',\n",
        "                  vmin=-mx, vmax=0)\n",
        "\n",
        "  return"
      ]
    },
    {
      "cell_type": "markdown",
      "metadata": {
        "id": "s135rX3V0H84"
      },
      "source": [
        "## Y acá si hecho bien"
      ]
    },
    {
      "cell_type": "markdown",
      "metadata": {
        "id": "X-4JYD4n0H84"
      },
      "source": [
        "HORAS, HORAS, COMO 4 HS O MASS!! Para hacer este grafico de M"
      ]
    },
    {
      "cell_type": "code",
      "execution_count": null,
      "metadata": {
        "id": "NxnOVMJj0H84"
      },
      "outputs": [],
      "source": [
        "vmin, vmax = float('inf'), float('-inf')"
      ]
    },
    {
      "cell_type": "code",
      "execution_count": null,
      "metadata": {
        "id": "eJ3TGUiD0H84"
      },
      "outputs": [],
      "source": [
        "def draw_stft(x, ax):\n",
        "  n_fft = 512\n",
        "  win_length = n_fft\n",
        "  hop_length = n_fft//4\n",
        "  top_db = 35\n",
        "\n",
        "  #matplotlib.colorizer.vmin = -40\n",
        "  #matplotlib.colorizer.vmax = 0\n",
        "\n",
        "  #Espectro\n",
        "  x_stft = np.abs(librosa.stft(x, n_fft=n_fft, win_length = win_length, hop_length = hop_length))\n",
        "  x_stft_db = librosa.amplitude_to_db(x_stft, top_db = top_db) # ref=np.max normaliza, no quiero\n",
        "  x_stft_db -= 38 #normalizo a 0db el maximo. Este 38 ya lo averigue al correr antes, es vmax\n",
        "  n_frames = len(x_stft_db[0])\n",
        "\n",
        "  global vmin\n",
        "  vmin = min(np.min(x_stft_db),vmin)\n",
        "\n",
        "  global vmax\n",
        "  vmax = max(np.max(x_stft_db), vmax)\n",
        "  print(vmin, vmax)\n",
        "\n",
        "  sampling_rate = IMPLANT_SR\n",
        "  cmap = 'magma'\n",
        "  img = librosa.display.specshow(data=x_stft_db, y_axis='log', x_axis = 'time',ax=ax,\n",
        "                            sr=sampling_rate, cmap= cmap,\n",
        "                            n_fft=n_fft, win_length = win_length, hop_length = hop_length, vmin = -38, vmax = 0)\n",
        "  ax.set_ylim(100,min(14000, sampling_rate/2))\n",
        "\n",
        "  #ax.pcolormesh(t, f, 10*np.log10(S), shading='gouraud',\n",
        "  #                vmin=-40, vmax=0)\n",
        "\n",
        "  return img\n",
        "\n",
        "\n",
        "\n",
        "#Entrada de señal y banco de filtros\n",
        "GENERIC_MEDEL2b.setearParametros()\n",
        "IMPLANT_SR = 17000\n",
        "s, _ = librosa.load('cornoi.wav', sr = IMPLANT_SR)\n",
        "s = s[8000:32000]\n",
        "s/= np.max(np.abs(s)) #Normalizo\n",
        "outs = filter_bank_CIS(s, GENERIC_MEDEL2b)\n",
        "\n",
        "#Creo grafico\n",
        "fig, axs = plt.subplots(3,3, figsize=(10,12),  dpi = 175, sharex = True, sharey = True, layout = 'constrained')\n",
        "axs = axs.flatten()\n",
        "\n",
        "\n",
        "#Señal de entrada\n",
        "draw_stft(s, axs[0])\n",
        "axs[0].get_xaxis().set_visible(False)\n",
        "axs[0].set_ylabel(\"Frec. (Hz)\", size = 12)\n",
        "axs[0].set_title('Señal de entrada')\n",
        "\n",
        "#Canales del banco\n",
        "for i in range(8):\n",
        "\n",
        "  ax = axs[i+1]\n",
        "\n",
        "  x = outs[i]\n",
        "  x = np.array(x)\n",
        "\n",
        "  im = draw_stft(x, ax )\n",
        "\n",
        "\n",
        "  if( (i+1)% 3 == 0) :\n",
        "    ax.set_ylabel(\"Frec. (Hz)\", size = 12)\n",
        "  else:\n",
        "    ax.set_ylabel('')\n",
        "  #for tick in axs[i].yaxis.get_major_ticks():\n",
        "   #   tick.label.set_fontsize(16)\n",
        "\n",
        "  label = 'Canal '+ str(i+1) + '\\n (' + str(GENERIC_MEDEL2b.freqsAnalisis[i][0]) + 'Hz - ' +str(GENERIC_MEDEL2b.freqsAnalisis[i][1])+ ' Hz)'\n",
        "  #Graficos\n",
        "\n",
        "\n",
        "  #axs[i].set_title(f'Canal {i}' , fontdict = {'size'   : 12} ) #'weight' : 'bold'\n",
        "  #axs[i].legend(framealpha=1, shadow=True, loc = 'upper right', labels = [label])\n",
        "  ax.set_title(label, fontsize = 11)\n",
        "\n",
        "\n",
        "\n",
        "  ax.grid(alpha = 0.5, axis = 'y')\n",
        "  if( i+1<6):\n",
        "    ax.get_xaxis().set_visible(False)\n",
        "  else:\n",
        "    ax.set_xlabel('Tiempo (s)', fontsize = 13)\n",
        "    ax.set_xticks([0,0.7,1.4])\n",
        "\n",
        "\n",
        "\n",
        "\n",
        "  #Escucho el audio\n",
        "  print(f'Canal {i+1}')\n",
        "  display(Audio(x, rate = IMPLANT_SR, normalize= False))\n",
        "\n",
        "fig.colorbar(im, ax=axs,  format='%+2.0f dB', aspect = 40)\n",
        "\n",
        "#for tick in axs[8].xaxis.get_major_ticks():\n",
        "#    tick.label.set_fontsize(14)\n",
        "plt.show()\n"
      ]
    },
    {
      "cell_type": "code",
      "execution_count": null,
      "metadata": {
        "id": "FZJai-SR0H84"
      },
      "outputs": [],
      "source": [
        "plt.plot(outs[6][:1000])"
      ]
    },
    {
      "cell_type": "markdown",
      "metadata": {
        "id": "-pRNgKRJ0H84"
      },
      "source": [
        "## Envolventes Medel"
      ]
    },
    {
      "cell_type": "code",
      "execution_count": null,
      "metadata": {
        "id": "KwvIIUnk0H85"
      },
      "outputs": [],
      "source": [
        "def analytic(x, circular=True):\n",
        "\n",
        "  n = len(x) #Voy a apendear n zeros, así que duplico el tamaño\n",
        "  if(not circular): n *= 2\n",
        "  Z = np.zeros(n, dtype='complex')\n",
        "\n",
        "  #Aplico una ventana para que la función periodizada sea continua - sino la envolvente exlplota si se extrae sobre muestras muy largas\n",
        "  #x = np.array(x)* Tukey_window(len(x), 0.1)\n",
        "\n",
        "  if(circular): X  = fft(x)\n",
        "  else: X = fft( list(x) + len(x)*[0]) #acá appendeo los n 0's\n",
        "\n",
        "  for i in range(1,n//2): Z[i] = 2.*X[i]\n",
        "  Z[n//2] = X[n//2]\n",
        "  z = ifft(Z)\n",
        "  return z\n",
        "\n",
        "def HT(x, circular = True):\n",
        "  return np.imag(analytic(x, circular))\n",
        "\n",
        "def lowpass_zerophase(x):\n",
        "      b,a = signal.butter(2, 0.01, 'lp', output='ba')\n",
        "      return signal.filtfilt(b,a, x)\n",
        "\n",
        "FILTER_ENVELOPE = False"
      ]
    },
    {
      "cell_type": "code",
      "execution_count": null,
      "metadata": {
        "id": "59eIciaB0H85"
      },
      "outputs": [],
      "source": [
        "def graficarTodo(x, sr, ti = 0, tf = None):\n",
        "  a = analytic(x)\n",
        "  env = np.abs(a)\n",
        "  if(FILTER_ENVELOPE): env = lowpass_zerophase(env)\n",
        "\n",
        "  t = np.linspace(0, len(x)/sr, len(x))\n",
        "\n",
        "  fig, axs = plt.subplots(1, figsize = (15,4))\n",
        "  #axs.set_title('Señal x(t) ;  Envolvente', fontsize = 13)\n",
        "  axs.plot(t, x, color ='b', label= 'x(t)')\n",
        "  axs.set_xlim([ti, tf])\n",
        "\n",
        "  axs.plot(t, env, 'r--', label='Envolvente', linewidth = 2, alpha = 0.6) # color='r'\n",
        "  axs.set_xlabel('Tiempo (s)', fontsize = 14)\n",
        "  axs.set_ylabel('Amplitud', fontsize = 14)\n",
        "  #axs.plot(-1*env[:rango], 'r--') # color='r'\n",
        "  plt.legend(prop={'size': 12})\n",
        "\n",
        "  plt.show()"
      ]
    },
    {
      "cell_type": "code",
      "execution_count": null,
      "metadata": {
        "id": "42yxNI_-0H85"
      },
      "outputs": [],
      "source": [
        "x = outs[3]\n",
        "\n",
        "\n",
        "display(Audio(x, rate = IMPLANT_SR, normalize= False))\n",
        "\n",
        "graficarTodo(x, IMPLANT_SR,  ti = 0, tf = 1.2)\n",
        "graficarTodo(x, IMPLANT_SR,  ti = 0.4, tf = 0.5)"
      ]
    },
    {
      "cell_type": "code",
      "execution_count": null,
      "metadata": {
        "id": "fJrgKj6P0H85"
      },
      "outputs": [],
      "source": [
        "x = outs[4]\n",
        "\n",
        "\n",
        "display(Audio(x, rate = IMPLANT_SR, normalize= False))\n",
        "\n",
        "graficarTodo(x, IMPLANT_SR,  ti = 0, tf = 1.2)\n",
        "graficarTodo(x, IMPLANT_SR,  ti = 0.4, tf = 0.5)"
      ]
    },
    {
      "cell_type": "markdown",
      "metadata": {
        "id": "TadbxFD10H85"
      },
      "source": [
        "## Envolventes Cochlear"
      ]
    },
    {
      "cell_type": "markdown",
      "metadata": {
        "id": "dw0VcEQB0H85"
      },
      "source": [
        "Tener en cuenta que este método, para sinusoides, necesita un factor de escala de pi/2 para compensar"
      ]
    },
    {
      "cell_type": "code",
      "execution_count": null,
      "metadata": {
        "id": "Zt1y7h-00H86"
      },
      "outputs": [],
      "source": [
        "x = puretone(500, 2, IMPLANT_SR)\n",
        "env = envelope_Cochlear(x, 50, fullwave = True)\n",
        "plt.plot(x)\n",
        "plt.plot(env)\n",
        "plt.plot(env*np.pi/2, color = 'r')"
      ]
    },
    {
      "cell_type": "code",
      "execution_count": null,
      "metadata": {
        "id": "yel9_VXa0H86"
      },
      "outputs": [],
      "source": [
        "IMPLANT_SR = 16000\n",
        "ENVELOPE_ZERO_PHASE = False\n",
        "\n",
        "x=outs[2]\n",
        "display(Audio(x, rate =IMPLANT_SR, normalize=False))\n",
        "\n",
        "env_calc = envelope_Cochlear(x, fc = 200, fullwave = True, gain_compensation= False)\n",
        "\n",
        "t = np.linspace(0, len(x)/IMPLANT_SR, len(x))\n",
        "\n",
        "plt.plot(t,x, label ='Señal')\n",
        "#plt.plot(env_calc)\n",
        "plt.plot(t,env_calc*np.pi/2, label = 'Envolvente', color = 'r', alpha = 0.8)\n",
        "\n",
        "plt.xlabel('Tiempo (s)', fontsize = 13)\n",
        "plt.ylabel('Amplitud', fontsize = 13)\n",
        "\n",
        "plt.legend(prop = {'size': 11})"
      ]
    },
    {
      "cell_type": "markdown",
      "metadata": {
        "id": "0jNniocy0H86"
      },
      "source": [
        "A partir de abajo ya uso la version corregida de env, que agrega este factorcito cuando se hace fullwave rect"
      ]
    },
    {
      "cell_type": "code",
      "execution_count": null,
      "metadata": {
        "id": "rSg8uZhq0H86"
      },
      "outputs": [],
      "source": [
        "elec_array = GENERIC_COCHLEAR1\n",
        "\n",
        "#Entrada de señal y banco de filtros\n",
        "elec_array.setearParametros()\n",
        "IMPLANT_SR = 16000\n",
        "\n",
        "s, _ = librosa.load('cornoi.wav', sr = IMPLANT_SR)\n",
        "s = s[8000:30000]\n",
        "s/= np.max(np.abs(s)) #Normalizo\n",
        "outs = filter_bank_CIS(s, elec_array)\n",
        "\n",
        "#Creo grafico\n",
        "fig, axs = plt.subplots(3,3, figsize=(10,12),  dpi = 175, sharex = True, sharey = True, layout = 'constrained')\n",
        "axs = axs.flatten()\n",
        "\n",
        "\n",
        "#Señal de entrada\n",
        "draw_stft(s, axs[0])\n",
        "axs[0].get_xaxis().set_visible(False)\n",
        "axs[0].set_ylabel(\"Frec. (Hz)\", size = 12)\n",
        "axs[0].set_title('Señal de entrada')\n",
        "\n",
        "#Canales del banco\n",
        "for i in range(8):\n",
        "\n",
        "  ax = axs[i+1]\n",
        "\n",
        "  x = outs[i*2]\n",
        "  x = np.array(x)\n",
        "\n",
        "  im = draw_stft(x, ax )\n",
        "\n",
        "\n",
        "  if( (i+1)% 3 == 0) :\n",
        "    ax.set_ylabel(\"Frec. (Hz)\", size = 12)\n",
        "  else:\n",
        "    ax.set_ylabel('')\n",
        "  #for tick in axs[i].yaxis.get_major_ticks():\n",
        "   #   tick.label.set_fontsize(16)\n",
        "\n",
        "  label = 'Canal '+ str(i*2+1) + '\\n (' + str(elec_array.freqsAnalisis[2*i][0]) + 'Hz - ' +str(elec_array.freqsAnalisis[2*i][1])+ ' Hz)'\n",
        "  #Graficos\n",
        "\n",
        "\n",
        "  #axs[i].set_title(f'Canal {i}' , fontdict = {'size'   : 12} ) #'weight' : 'bold'\n",
        "  #axs[i].legend(framealpha=1, shadow=True, loc = 'upper right', labels = [label])\n",
        "  ax.set_title(label, fontsize = 11)\n",
        "\n",
        "\n",
        "\n",
        "  ax.grid(alpha = 0.5, axis = 'y')\n",
        "  if( i+1<6):\n",
        "    ax.get_xaxis().set_visible(False)\n",
        "  else:\n",
        "    ax.set_xlabel('Tiempo (s)', fontsize = 13)\n",
        "    ax.set_xticks([0,0.7,1.4])\n",
        "\n",
        "\n",
        "\n",
        "\n",
        "  #Escucho el audio\n",
        "  print(f'Canal {2*i+1}')\n",
        "  display(Audio(x, rate = IMPLANT_SR, normalize= False))\n",
        "\n",
        "fig.colorbar(im, ax=axs,  format='%+2.0f dB', aspect = 40)\n",
        "\n",
        "#for tick in axs[8].xaxis.get_major_ticks():\n",
        "#    tick.label.set_fontsize(14)\n",
        "plt.show()\n"
      ]
    },
    {
      "cell_type": "code",
      "execution_count": null,
      "metadata": {
        "id": "nBetyKWp0H86"
      },
      "outputs": [],
      "source": [
        "ENVELOPE_ZERO_PHASE = False\n",
        "\n",
        "x=outs[6]\n",
        "display(Audio(x, rate =IMPLANT_SR, normalize=False))\n",
        "\n",
        "env_calc = envelope_Cochlear(x, fc = 200, fullwave = True, gain_compensation= False)\n",
        "\n",
        "t = np.linspace(0, len(x)/IMPLANT_SR, len(x))\n",
        "fig, ax = plt.subplots(1, figsize = (5,3))\n",
        "\n",
        "plt.plot(t,x, label ='Salida Canal 7')\n",
        "#plt.plot(env_calc)\n",
        "plt.plot(t,env_calc*np.pi/2, label = 'Envolvente', color = 'r', alpha = 0.8)\n",
        "\n",
        "plt.xlabel('Tiempo (s)', fontsize = 13)\n",
        "plt.ylabel('Amplitud', fontsize = 13)\n",
        "\n",
        "plt.legend(prop = {'size': 11}, loc = 'lower left')"
      ]
    },
    {
      "cell_type": "markdown",
      "metadata": {
        "id": "3lZN4QOn0H86"
      },
      "source": [
        "## N of M"
      ]
    },
    {
      "cell_type": "code",
      "execution_count": null,
      "metadata": {
        "id": "zN733blo0H87"
      },
      "outputs": [],
      "source": [
        "def nofm(envs, elec_array, power, m):\n",
        "\n",
        "    #Recibe envolventes de cada canal normal y deveulve las mismas envolventes pero haciendo 0 todo lo que ACE no selecciona\n",
        "\n",
        "    #power = 1 me dice usá promedio\n",
        "    #power = 2 me dice usa RMS\n",
        "\n",
        "    nSamps = len(envs[0])\n",
        "    outs = np.zeros([elec_array.Nchann, nSamps])\n",
        "\n",
        "    WIN_SIZE = round(WIN_LEN_ACE * IMPLANT_SR/1000) #en sampless, Win len en ms\n",
        "\n",
        "    envACE = Tukey(WIN_SIZE, 0.25) #para encender los nuevos\n",
        "    envOn = envACE.copy()\n",
        "    envOn[WIN_SIZE//2: WIN_SIZE] = np.ones(WIN_SIZE//2)\n",
        "\n",
        "    envOff = envACE.copy()\n",
        "    envOff[0:WIN_SIZE//2] = np.ones(WIN_SIZE//2)\n",
        "\n",
        "\n",
        "    encendidosAnterior = [] #canales seleccionados en el ciclo anterior. No se les aplica ventana.\n",
        "    i = 0\n",
        "    while(i+WIN_SIZE<nSamps):\n",
        "\n",
        "      #Extraigo las envolventes de mayor amplitud\n",
        "      amplitudes_promedio = [ sum(np.array(envs[c][i: i+WIN_SIZE]**power))**(1/power)  for c in range(elec_array.Nchann)] #Tomo la amplitud promedio en el ciclo de estimulación de cada envolvente\n",
        "      indices_max = np.argpartition(amplitudes_promedio, -m)[-m:] #Indices de las M envolventes de mayor amplitud\n",
        "\n",
        "      #Estimulo bandas maximas\n",
        "      for max_channel in indices_max:\n",
        "\n",
        "        outs[max_channel][i: i+WIN_SIZE] = envs[max_channel][i: i+WIN_SIZE]\n",
        "\n",
        "      i+=WIN_SIZE\n",
        "\n",
        "    return outs\n"
      ]
    },
    {
      "cell_type": "code",
      "execution_count": null,
      "metadata": {
        "id": "hbYFEh-c0H87"
      },
      "outputs": [],
      "source": [
        "elec_array = GENERIC_COCHLEAR1\n",
        "\n",
        "WIN_LEN_ACE = 4 #ms\n",
        "IMPLANT_SR = 16000\n",
        "MAXIMA = 5\n",
        "\n",
        "elec_array.setearParametros()\n",
        "\n",
        "#Señal a usar\n",
        "s, _ = librosa.load('cornoi.wav', sr = IMPLANT_SR)\n",
        "\n",
        "ni = 8000 #sample inicial\n",
        "nf = 12000 #sample final\n",
        "\n",
        "s = s[ni:nf]\n",
        "s/= np.max(np.abs(s)) #Normalizo\n",
        "outs = filter_bank_CIS(s, elec_array) #Obtengo la salida de los filtros\n",
        "t = [i/IMPLANT_SR for i in range(ni, nf)]\n",
        "\n",
        "envs =[]\n",
        "for out in outs:\n",
        "  envs.append(envelope_Cochlear(out, fc = 200, fullwave = True, gain_compensation= False))\n",
        "\n",
        "\n",
        "#Calculo envolventes seleccionadaas con ACE\n",
        "envs_out = nofm(envs,elec_array, 1, MAXIMA)\n",
        "\n",
        "\n",
        "\n",
        "#Grafico original\n",
        "fig, axs = plt.subplots(9,1, figsize = (12,9))\n",
        "axs[0].plot(t, s, label = 'Señal de entrada')\n",
        "axs[0].legend(framealpha=0.8, shadow=True, loc = 'lower right',  prop={'size': 9})\n",
        "axs[0].set_xticks([]) #saco ticks\n",
        "\n",
        "#Grafico envolvente de los canales\n",
        "for i in range(8):\n",
        "\n",
        "  ax = axs[i+1]\n",
        "\n",
        "  ax.plot(t, envs_out[i], color = 'black', label = 'Canal' + str(i+1))\n",
        "  ax.set_ylim(-0.08, 0.5)\n",
        "\n",
        "  ax.legend(framealpha=0.8, shadow=True, loc = 'lower right',  prop={'size': 9})\n",
        "\n",
        "  ax.hlines(0, ni/IMPLANT_SR, nf/IMPLANT_SR, color = 'grey', alpha = 0.4, linestyle='--')\n",
        "\n",
        "  ax.set_xticks([]) #saco ticks\n",
        "  #axs[i].grid(alpha = 0.5)\n",
        "\n",
        "\n",
        "from matplotlib.ticker import AutoLocator\n",
        "axs[-1].xaxis.set_major_locator(AutoLocator()) #Pongo ticks por defectos de tiempo abajo de todo\n",
        "\n",
        "plt.xlabel('Tiempo (s)', fontsize = 14)\n",
        "axs[4].set_ylabel('Amplitud', fontsize = 14)\n",
        "plt.show()\n",
        "display(Audio(s, rate = IMPLANT_SR))\n"
      ]
    },
    {
      "cell_type": "markdown",
      "metadata": {
        "id": "BARV4ZDD0H87"
      },
      "source": [
        "Canales impares"
      ]
    },
    {
      "cell_type": "code",
      "execution_count": null,
      "metadata": {
        "id": "xIJAlU1T0H87"
      },
      "outputs": [],
      "source": [
        "elec_array = GENERIC_COCHLEAR1\n",
        "\n",
        "WIN_LEN_ACE = 4 #ms\n",
        "IMPLANT_SR = 16000\n",
        "MAXIMA = 5\n",
        "\n",
        "elec_array.setearParametros()\n",
        "\n",
        "#Señal a usar\n",
        "s, _ = librosa.load('cornoi.wav', sr = IMPLANT_SR)\n",
        "\n",
        "ni = 8000 #sample inicial\n",
        "nf = 12000 #sample final\n",
        "\n",
        "s = s[ni:nf]\n",
        "s/= np.max(np.abs(s)) #Normalizo\n",
        "outs = filter_bank_CIS(s, elec_array) #Obtengo la salida de los filtros\n",
        "t = [i/IMPLANT_SR for i in range(ni, nf)]\n",
        "\n",
        "envs =[]\n",
        "for out in outs:\n",
        "  envs.append(envelope_Cochlear(out, fc = 200, fullwave = True, gain_compensation= False))\n",
        "\n",
        "\n",
        "#Calculo envolventes seleccionadaas con ACE\n",
        "envs_out = nofm(envs,elec_array, 1, MAXIMA)\n",
        "\n",
        "\n",
        "\n",
        "#Grafico original\n",
        "fig, axs = plt.subplots(9,1, figsize = (12,9))\n",
        "axs[0].plot(t, s, label = 'Señal de entrada')\n",
        "axs[0].legend(framealpha=0.8, shadow=True, loc = 'lower right',  prop={'size': 9})\n",
        "axs[0].set_xticks([]) #saco ticks\n",
        "\n",
        "#Grafico envolvente de los canales\n",
        "for i in range(8):\n",
        "\n",
        "  ax = axs[i+1]\n",
        "\n",
        "  ax.plot(t, envs_out[2*i], color = 'black', label = 'Canal' + str(2*i+1))\n",
        "  ax.set_ylim(-0.08, 0.5)\n",
        "\n",
        "  ax.legend(framealpha=0.8, shadow=True, loc = 'lower right',  prop={'size': 9})\n",
        "\n",
        "  ax.hlines(0, ni/IMPLANT_SR, nf/IMPLANT_SR, color = 'grey', alpha = 0.4, linestyle='--')\n",
        "\n",
        "  ax.set_xticks([]) #saco ticks\n",
        "  #axs[i].grid(alpha = 0.5)\n",
        "\n",
        "\n",
        "from matplotlib.ticker import AutoLocator\n",
        "axs[-1].xaxis.set_major_locator(AutoLocator()) #Pongo ticks por defectos de tiempo abajo de todo\n",
        "\n",
        "plt.xlabel('Tiempo (s)', fontsize = 14)\n",
        "axs[4].set_ylabel('Amplitud', fontsize = 14)\n",
        "plt.show()\n",
        "display(Audio(s, rate = IMPLANT_SR))\n"
      ]
    },
    {
      "cell_type": "markdown",
      "metadata": {
        "id": "x4OdCvOj0H87"
      },
      "source": [
        "Todos los canales"
      ]
    },
    {
      "cell_type": "code",
      "execution_count": null,
      "metadata": {
        "id": "i3NFa63s0H87"
      },
      "outputs": [],
      "source": [
        "elec_array = GENERIC_COCHLEAR1\n",
        "\n",
        "WIN_LEN_ACE = 4 #ms\n",
        "IMPLANT_SR = 16000\n",
        "MAXIMA = 5\n",
        "\n",
        "elec_array.setearParametros()\n",
        "\n",
        "#Señal a usar\n",
        "s, _ = librosa.load('cornoi.wav', sr = IMPLANT_SR)\n",
        "\n",
        "ni = 8000 #sample inicial\n",
        "nf = 12000 #sample final\n",
        "\n",
        "s = s[ni:nf]\n",
        "s/= np.max(np.abs(s)) #Normalizo\n",
        "outs = filter_bank_CIS(s, elec_array) #Obtengo la salida de los filtros\n",
        "t = [i/IMPLANT_SR for i in range(ni, nf)]\n",
        "\n",
        "envs =[]\n",
        "for out in outs:\n",
        "  envs.append(envelope_Cochlear(out, fc = 200, fullwave = True, gain_compensation= False))\n",
        "\n",
        "\n",
        "#Calculo envolventes seleccionadaas con ACE\n",
        "envs_out = nofm(envs,elec_array, 1, MAXIMA)\n",
        "\n",
        "\n",
        "\n",
        "#Grafico original\n",
        "fig, axs = plt.subplots(23,1, figsize = (12,9))\n",
        "axs[0].plot(t, s, label = 'Señal de entrada')\n",
        "axs[0].legend(framealpha=0.8, shadow=True, loc = 'lower right',  prop={'size': 9})\n",
        "axs[0].set_xticks([]) #saco ticks\n",
        "\n",
        "#Grafico envolvente de los canales\n",
        "for i in range(22):\n",
        "\n",
        "  ax = axs[i+1]\n",
        "\n",
        "  ax.plot(t, envs_out[i], color = 'black', label = 'Canal' + str(i+1))\n",
        "  ax.set_ylim(-0.08, 0.5)\n",
        "\n",
        "  ax.legend(framealpha=0.8, shadow=True, loc = 'lower right',  prop={'size': 9})\n",
        "\n",
        "  ax.hlines(0, ni/IMPLANT_SR, nf/IMPLANT_SR, color = 'grey', alpha = 0.4, linestyle='--')\n",
        "\n",
        "  ax.set_xticks([]) #saco ticks\n",
        "  #axs[i].grid(alpha = 0.5)\n",
        "\n",
        "\n",
        "from matplotlib.ticker import AutoLocator\n",
        "axs[-1].xaxis.set_major_locator(AutoLocator()) #Pongo ticks por defectos de tiempo abajo de todo\n",
        "\n",
        "plt.xlabel('Tiempo (s)', fontsize = 14)\n",
        "axs[4].set_ylabel('Amplitud', fontsize = 14)\n",
        "plt.show()\n",
        "display(Audio(s, rate = IMPLANT_SR))\n"
      ]
    },
    {
      "cell_type": "markdown",
      "metadata": {
        "id": "twfqlM8H0H88"
      },
      "source": [
        "Medel"
      ]
    },
    {
      "cell_type": "code",
      "execution_count": null,
      "metadata": {
        "id": "ab35Mwtc0H88"
      },
      "outputs": [],
      "source": [
        "elec_array = GENERIC_MEDEL3\n",
        "\n",
        "WIN_LEN_ACE = 4 #ms\n",
        "IMPLANT_SR = 17000\n",
        "MAXIMA = 6\n",
        "\n",
        "elec_array.setearParametros()\n",
        "\n",
        "#Señal a usar\n",
        "s, _ = librosa.load('cornoi.wav', sr = IMPLANT_SR)\n",
        "\n",
        "ni = 8000 #sample inicial\n",
        "nf = 12000 #sample final\n",
        "\n",
        "s = s[ni:nf]\n",
        "s/= np.max(np.abs(s)) #Normalizo\n",
        "outs = filter_bank_CIS(s, elec_array) #Obtengo la salida de los filtros\n",
        "t = [i/IMPLANT_SR for i in range(ni, nf)]\n",
        "\n",
        "envs =[]\n",
        "for out in outs:\n",
        "  envs.append(envelope_Cochlear(out, fc = 200, fullwave = True, gain_compensation= False))\n",
        "\n",
        "\n",
        "#Calculo envolventes seleccionadaas con ACE\n",
        "envs_out = nofm(envs,elec_array, 1, MAXIMA)\n",
        "\n",
        "\n",
        "\n",
        "#Grafico original\n",
        "fig, axs = plt.subplots(9,1, figsize = (12,9))\n",
        "axs[0].plot(t, s, label = 'Señal de entrada')\n",
        "axs[0].legend(framealpha=0.8, shadow=True, loc = 'lower right',  prop={'size': 9})\n",
        "axs[0].set_xticks([]) #saco ticks\n",
        "\n",
        "#Grafico envolvente de los canales\n",
        "for i in range(1,9):\n",
        "\n",
        "  axs[i].plot(t, envs_out[i-1], color = 'black', label = 'Canal' + str(i))\n",
        "  axs[i].set_ylim(-0.08, 0.5)\n",
        "\n",
        "  axs[i].legend(framealpha=0.8, shadow=True, loc = 'lower right',  prop={'size': 9})\n",
        "\n",
        "  axs[i].hlines(0, ni/IMPLANT_SR, nf/IMPLANT_SR, color = 'grey', alpha = 0.4, linestyle='--')\n",
        "\n",
        "  axs[i].set_xticks([]) #saco ticks\n",
        "  #axs[i].grid(alpha = 0.5)\n",
        "\n",
        "\n",
        "from matplotlib.ticker import AutoLocator\n",
        "axs[-1].xaxis.set_major_locator(AutoLocator()) #Pongo ticks por defectos de tiempo abajo de todo\n",
        "\n",
        "plt.xlabel('Tiempo (s)', fontsize = 14)\n",
        "axs[4].set_ylabel('Amplitud', fontsize = 14)\n",
        "plt.show()\n",
        "display(Audio(s, rate = IMPLANT_SR))"
      ]
    },
    {
      "cell_type": "markdown",
      "metadata": {
        "id": "WQvkWkOE0H88"
      },
      "source": [
        "## Frequency maps en OC y SG"
      ]
    },
    {
      "cell_type": "code",
      "execution_count": null,
      "metadata": {
        "id": "J9xh16K00H88"
      },
      "outputs": [],
      "source": [
        "#pip install import-ipynb\n",
        "import import_ipynb\n",
        "#import CIS_6\n",
        "from CIS_6 import *"
      ]
    },
    {
      "cell_type": "markdown",
      "metadata": {
        "id": "KtiS7kCT0H88"
      },
      "source": [
        "Ajuste cubico de procentaje de distancia entre OC y SG (Divya Sridhar, Olga Stakhovskaya 2005)"
      ]
    },
    {
      "cell_type": "markdown",
      "metadata": {
        "id": "n55xREo20H88"
      },
      "source": [
        "Ajuste de procentaje de distancia entre OC y SG v2 (Olga Stakhovskaya 2006)"
      ]
    },
    {
      "cell_type": "code",
      "execution_count": null,
      "metadata": {
        "id": "T5NasrCQ0H88"
      },
      "outputs": [],
      "source": [
        "OC_p = np.linspace(1,100,100)\n",
        "\n",
        "MW_p = OC_to_MW_p(OC_p)\n",
        "SG_p_old= OC_to_SG_p(OC_p, metodo = 1)\n",
        "SG_p    = OC_to_SG_p(OC_p, metodo = 2)\n",
        "\n",
        "plt.plot(OC_p, SG_p, label = 'SG (2006)', alpha = 0.7)\n",
        "plt.plot(OC_p, SG_p_old, label = 'SG (2005)', alpha = 0.7)\n",
        "plt.plot(OC_p, MW_p, label = 'MW', alpha = 0.7)\n",
        "plt.xlabel('Proporcion de OC distance (%)')\n",
        "plt.ylabel('Proporcion de SG distance (%)')\n",
        "plt.legend()\n",
        "plt.grid()\n",
        "plt.show()\n"
      ]
    },
    {
      "cell_type": "code",
      "execution_count": null,
      "metadata": {
        "id": "kppZT1iw0H89"
      },
      "outputs": [],
      "source": [
        "angs = np.linspace(0,360*2.5,100)\n",
        "\n",
        "OC_p = ang_to_OC_p(angs)\n",
        "SG_p = ang_to_SG_p(angs)\n",
        "\n",
        "plt.plot(angs, OC_p, label = 'OC', alpha = 0.7)\n",
        "plt.plot(angs, SG_p, label = 'SG', alpha = 0.7)\n",
        "plt.xlabel('Ángulo de inserción (°)')\n",
        "plt.ylabel('Proporcion recorrida (%)')\n",
        "plt.legend()\n",
        "plt.grid()\n",
        "plt.show()\n"
      ]
    },
    {
      "cell_type": "markdown",
      "metadata": {
        "id": "r9L9andd0H89"
      },
      "source": [
        "Inversa de esto: Dos métodos (metodo numerico y metodo de modelo de angulos)"
      ]
    },
    {
      "cell_type": "code",
      "execution_count": null,
      "metadata": {
        "id": "22i1Si_n0H89"
      },
      "outputs": [],
      "source": [
        "pip install pynverse"
      ]
    },
    {
      "cell_type": "code",
      "execution_count": null,
      "metadata": {
        "id": "gPgFB3oe0H89"
      },
      "outputs": [],
      "source": [
        "p_SG = np.linspace(1, 100, 100)\n",
        "\n",
        "\n",
        "#Metodo 1: Inversa numerica\n",
        "p_OC1 = SG_p_to_OC_p(p_SG, metodo = 1)\n",
        "\n",
        "#Metodo 2: Composicion de funciones y el modelo del angulo\n",
        "p_OC2 = SG_p_to_OC_p(p_SG, metodo = 2)\n",
        "\n",
        "plt.plot(p_SG, p_OC1, label = 'Metodo 1 (inversa numérica)')\n",
        "plt.plot(p_SG, p_OC2, label = 'Metodo 2 (inversa con modelo)')\n",
        "\n",
        "\n",
        "plt.xlabel('Proporcion SG (%)')\n",
        "plt.ylabel('Proporcion OC (%)')\n",
        "plt.legend()\n",
        "plt.grid()\n",
        "plt.show()"
      ]
    },
    {
      "cell_type": "code",
      "execution_count": null,
      "metadata": {
        "id": "zlf2t4Q50H89"
      },
      "outputs": [],
      "source": [
        "p = np.linspace(0.001, 1, 100)\n",
        "\n",
        "\n",
        "#Metodo 1: Inversa numerica\n",
        "freqs_SG1 = Greenwood_Perimodiolar_SG_p(p, metodo = 1)\n",
        "\n",
        "#Metodo 2: Composicion de funciones y el modelo del angulo\n",
        "freqs_SG2 = Greenwood_Perimodiolar_SG_p(p, metodo = 2)\n",
        "\n",
        "#Organo de Corti\n",
        "freqs_OC = Greenwood_p(p)\n",
        "\n",
        "\n",
        "plt.plot(p*100, freqs_SG1, label = 'SG (inversa numérica)')\n",
        "plt.plot(p*100, freqs_SG2, label = 'SG (inversa con modelo)')\n",
        "plt.plot(p*100, freqs_OC, label = 'OC')\n",
        "\n",
        "\n",
        "\n",
        "plt.xlabel('Proporcion recorrida desde la base (%)')\n",
        "plt.ylabel('Freq (Hz)')\n",
        "plt.legend()\n",
        "\n",
        "\n",
        "plt.grid()\n",
        "plt.show()"
      ]
    },
    {
      "cell_type": "markdown",
      "metadata": {
        "id": "c5GExm_x0H89"
      },
      "source": [
        "Lo mismo pero en logaritmico y para usar en la tesis"
      ]
    },
    {
      "cell_type": "code",
      "execution_count": null,
      "metadata": {
        "id": "zS0xEewS0H8-"
      },
      "outputs": [],
      "source": [
        "p = np.linspace(0.001, 1, 100)\n",
        "\n",
        "\n",
        "#Metodo 1: Inversa numerica\n",
        "freqs_SG1 = Greenwood_Perimodiolar_SG_p(p, metodo = 1)\n",
        "\n",
        "#Metodo 2: Composicion de funciones y el modelo del angulo\n",
        "freqs_SG2 = Greenwood_Perimodiolar_SG_p(p, metodo = 2)\n",
        "\n",
        "#Organo de Corti\n",
        "freqs_OC = Greenwood_p(p)\n",
        "\n",
        "#pared modilar\n",
        "freqs_MW = Greenwood_Perimodiolar_MW_p(p)\n",
        "\n",
        "\n",
        "plt.plot(p*100, freqs_SG1, label = 'Ganglio espiral (Método numérico)', linestyle = ':')\n",
        "plt.plot(p*100, freqs_SG2, label = 'Ganglio espiral (Modelo angular)', linestyle = '-.')\n",
        "plt.plot(p*100, freqs_OC, label = 'Órgano de Corti (Greenwood)', linestyle = '--')\n",
        "plt.plot(p*100, freqs_MW, label = 'Pared Modiolar (Método numérico)', color = 'r', linestyle = '-')\n",
        "\n",
        "\n",
        "\n",
        "plt.xlabel('Proporcion recorrida desde la base (%)', fontsize = 12)\n",
        "plt.ylabel('Frec. (Hz)', fontsize = 12)\n",
        "plt.legend()\n",
        "plt.yscale('log')\n",
        "plt.yticks([20,100,500,1000,2000,5000,10000, 15000])\n",
        "\n",
        "ax = plt.gca()\n",
        "ax.tick_params(axis='both', which='major', labelsize=11)\n",
        "\n",
        "#ax.set_ylim(40)\n",
        "\n",
        "from matplotlib.ticker import ScalarFormatter\n",
        "#Hago que los numeros del eje x sean mas lindos\n",
        "for axis in [ax.xaxis, ax.yaxis]:\n",
        "    formatter = ScalarFormatter()\n",
        "    formatter.set_scientific(False)\n",
        "    axis.set_major_formatter(formatter)\n",
        "\n",
        "plt.grid()\n",
        "plt.show()"
      ]
    },
    {
      "cell_type": "code",
      "execution_count": null,
      "metadata": {
        "id": "9IDynwi00H8-"
      },
      "outputs": [],
      "source": [
        "\n",
        "p = np.linspace(0.001, 1, 100)\n",
        "\n",
        "\n",
        "#Metodo 1: Inversa numerica\n",
        "freqs_SG1 = Greenwood_Perimodiolar_SG_p(p, metodo = 1)\n",
        "\n",
        "#Metodo 2: Composicion de funciones y el modelo del angulo\n",
        "freqs_SG2 = Greenwood_Perimodiolar_SG_p(p, metodo = 2)\n",
        "\n",
        "#Organo de Corti\n",
        "freqs_OC = Greenwood_p(p)\n",
        "\n",
        "#pared modilar\n",
        "freqs_MW = Greenwood_Perimodiolar_MW_p(p)\n",
        "\n",
        "\n",
        "plt.plot(p*100, freqs_SG1, label = 'Ganglio espiral', linestyle = ':')\n",
        "plt.plot(p*100, freqs_OC, label = 'Órgano de Corti', linestyle = '--', color = 'g')\n",
        "plt.plot(p*100, freqs_MW, label = 'Pared Modiolar', color = 'r', linestyle = '-')\n",
        "\n",
        "\n",
        "\n",
        "plt.xlabel('Proporcion recorrida desde la base (%)', fontsize = 12)\n",
        "plt.ylabel('Frec. (Hz)', fontsize = 12)\n",
        "plt.legend()\n",
        "plt.yscale('log')\n",
        "plt.yticks([20,100,500,1000,2000,5000,10000, 15000])\n",
        "\n",
        "ax = plt.gca()\n",
        "ax.tick_params(axis='both', which='major', labelsize=11)\n",
        "\n",
        "#ax.set_ylim(40)\n",
        "\n",
        "from matplotlib.ticker import ScalarFormatter\n",
        "#Hago que los numeros del eje x sean mas lindos\n",
        "for axis in [ax.xaxis, ax.yaxis]:\n",
        "    formatter = ScalarFormatter()\n",
        "    formatter.set_scientific(False)\n",
        "    axis.set_major_formatter(formatter)\n",
        "\n",
        "plt.grid()\n",
        "plt.show()"
      ]
    },
    {
      "cell_type": "markdown",
      "metadata": {
        "id": "XE-QdsuI0H8-"
      },
      "source": [
        "## |F(s)| de un pulso muy cortito"
      ]
    },
    {
      "cell_type": "code",
      "execution_count": null,
      "metadata": {
        "id": "cb5JWlBm0H8-"
      },
      "outputs": [],
      "source": [
        "dur = 156* 10**-6 #duracion del pulso en ms\n",
        "def sinc(x):\n",
        "    if x==0 : return 1\n",
        "    return np.sin(pi*x) / pi/x\n",
        "\n",
        "fs = np.linspace(0,20000, 500)\n",
        "F =  [sinc(f*dur) for f in fs] #tecnicamente hay que multiplicar por dur pero lo normalizo a 1 acá\n",
        "\n",
        "plt.plot(fs,20*np.log10(np.abs(F)))\n",
        "plt.xlabel('Frec. (Hz)')\n",
        "plt.ylabel('$|F|$ (dB)')\n"
      ]
    },
    {
      "cell_type": "markdown",
      "metadata": {
        "id": "I1SDTLMZ0H8-"
      },
      "source": [
        "## Frecuencias en un perimodilar vs Lateral"
      ]
    },
    {
      "cell_type": "code",
      "execution_count": null,
      "metadata": {
        "id": "3w6_hViA0H8-"
      },
      "outputs": [],
      "source": [
        "n = range(22)\n",
        "plt.errorbar(n, Cochlear_Axel_Izq.freqsElectrodos, xerr = 0, yerr = 200, label = 'Modiolar',  capsize=3, fmt=\"c--o\", ecolor = \"black\", capthick=1, ms = 3)\n",
        "plt.errorbar(n, Cochlear_Axel_Der.freqsElectrodos, label = 'Lateral')\n",
        "plt.xlabel('N° Electrodo')\n",
        "plt.ylabel('Frec. (Hz)')\n",
        "plt.grid()\n",
        "plt.yscale('log')\n",
        "plt.legend()"
      ]
    },
    {
      "cell_type": "code",
      "execution_count": null,
      "metadata": {
        "id": "sA-1KWGt0H8_"
      },
      "outputs": [],
      "source": [
        "n = range(22)\n",
        "plt.errorbar(n, Cochlear_Axel_Izq.freqsElectrodos, xerr = 0, yerr = 200, label = 'Modiolar',  capsize=3, fmt=\"c--o\", ecolor = \"black\", capthick=1, ms = 3)\n",
        "plt.errorbar(n, Cochlear_Axel_Der.freqsElectrodos, label = 'Lateral')\n",
        "plt.xlabel('N° Electrodo')\n",
        "plt.ylabel('Frec. (Hz)')\n",
        "plt.grid()\n",
        "plt.yscale('log')\n",
        "plt.legend()"
      ]
    },
    {
      "cell_type": "code",
      "execution_count": null,
      "metadata": {
        "id": "z8ZzuWoN0H8_"
      },
      "outputs": [],
      "source": []
    },
    {
      "cell_type": "markdown",
      "metadata": {
        "id": "l5dgCzw90H8_"
      },
      "source": [
        "## Dispersion v2"
      ]
    },
    {
      "cell_type": "code",
      "execution_count": null,
      "metadata": {
        "id": "6HBlLW1W0H8_"
      },
      "outputs": [],
      "source": [
        "import numpy as np\n",
        "from numpy import pi, sin, cos, abs, log2\n",
        "from scipy.fft import fft, ifft\n",
        "from scipy.io import wavfile\n",
        "from scipy.signal import lfilter\n",
        "from scipy import signal\n",
        "import librosa, librosa.display\n",
        "import matplotlib.pyplot as plt\n",
        "import os\n",
        "\n",
        "import import_ipynb\n",
        "import CIS_6"
      ]
    },
    {
      "cell_type": "markdown",
      "metadata": {
        "id": "8sQtmTPY0H8_"
      },
      "source": [
        "Dispersion de antes"
      ]
    },
    {
      "cell_type": "code",
      "execution_count": null,
      "metadata": {
        "id": "y7VbKsaR0H8_"
      },
      "outputs": [],
      "source": [
        "\n",
        "d = [1] + [0]*50000 #delta\n",
        "\n",
        "elec_array = CIS_6.Cochlear_Axel_Der\n",
        "CIS_6.DISPERTION = 0.5 #parametro de dispersion\n",
        "CIS_6.EXP_OYENTE = True #lo hago para mi\n",
        "\n",
        "outs = CIS_6.filter_bank_sintesis(d, elec_array, orden = 1)\n",
        "fs = np.linspace(0, CIS_6.OUT_SR/2, len(outs[0])//2)\n",
        "\n",
        "for out in outs:\n",
        "    F = fft(out)[0:len(out)//2]\n",
        "    plt.plot(fs, np.abs(F))\n",
        "\n",
        "plt.xlim(0,12000)\n",
        "plt.xlabel('Freq')\n",
        "plt.ylabel('Amp')\n",
        "plt.title(f'Dispertion = {CIS_6.DISPERTION}')"
      ]
    },
    {
      "cell_type": "markdown",
      "metadata": {
        "id": "F88ReD630H8_"
      },
      "source": [
        "Dispersion nueva"
      ]
    },
    {
      "cell_type": "code",
      "execution_count": null,
      "metadata": {
        "id": "xPW7YCxO0H8_"
      },
      "outputs": [],
      "source": [
        "import import_ipynb\n",
        "import CIS_6\n",
        "\n",
        "d = [1] + [0]*96000 #delta\n",
        "\n",
        "elec_array = CIS_6.Cochlear_Axel_Der\n",
        "CIS_6.D = 0.2 #parametro de dispersion\n",
        "#CIS_6.EXP_OYENTE = True #no hace nada en v2 esto\n",
        "CIS_6.ASYMMETRY_INDEX = 0 #simetria\n",
        "\n",
        "outs = CIS_6.filter_bank_sintesis2(d, elec_array)\n",
        "fs = np.linspace(0, CIS_6.OUT_SR/2, len(outs[0])//2)\n",
        "\n",
        "for out in outs:\n",
        "    F = fft(out)[0:len(out)//2]\n",
        "    plt.plot(fs, np.abs(F))\n",
        "\n",
        "plt.xlim(0,12000)\n",
        "plt.xlabel('Freq')\n",
        "plt.ylabel('Amp')\n",
        "plt.title(f'D = {CIS_6.D}')\n",
        "\n"
      ]
    },
    {
      "cell_type": "code",
      "execution_count": null,
      "metadata": {
        "id": "oxfvmJ5g0H9A"
      },
      "outputs": [],
      "source": [
        "import import_ipynb\n",
        "import CIS_6\n",
        "\n",
        "d = [1/0.6] + [0]*96000 #delta\n",
        "\n",
        "CIS_6.OUT_SR = 44100\n",
        "\n",
        "elec_array = CIS_6.GENERIC_MEDEL3\n",
        "CIS_6.D = 0.3 #parametro de dispersion\n",
        "#CIS_6.EXP_OYENTE = True #no hace nada en v2 esto\n",
        "CIS_6.ASYMMETRY_INDEX = 0.9 #simetria\n",
        "\n",
        "outs_medel = CIS_6.filter_bank_sintesis2(d, elec_array)\n",
        "fs = np.linspace(0, CIS_6.OUT_SR/2, len(outs_medel[0])//2)\n",
        "\n",
        "elec_array = CIS_6.Cochlear_Axel_Der\n",
        "outs_cochlear = CIS_6.filter_bank_sintesis2(d, elec_array)\n",
        "\n",
        "\n",
        "fig, axs = plt.subplots(1,2 , figsize =(12,5), layout = 'constrained')\n",
        "\n",
        "for out in outs_medel:\n",
        "    F = fft(out)[0:len(out)//2]\n",
        "    axs[0].plot(fs, np.abs(F))\n",
        "\n",
        "for out in outs_cochlear:\n",
        "    F = fft(out)[0:len(out)//2]\n",
        "    axs[1].plot(fs, np.abs(F))\n",
        "\n",
        "from matplotlib.ticker import ScalarFormatter\n",
        "\n",
        "for ax in axs:\n",
        "\n",
        "    ax.set_xlim(40,20000)\n",
        "    ax.set_xlabel('Frec. (Hz)', fontsize = 12)\n",
        "    ax.set_xscale('log')\n",
        "\n",
        "    ax.set_xticks([50,100, 200, 500, 1000, 2000, 5000, 10000, 20000])\n",
        "    ax.tick_params(axis='both', which='major', labelsize=11)\n",
        "    ax.get_xaxis().set_major_formatter(ScalarFormatter())\n",
        "\n",
        "axs[0].set_title(f'Flex28 - D = {CIS_6.D} mm (dx = {CIS_6.GENERIC_MEDEL3.dx}mm )')\n",
        "axs[1].set_title(f'Nucleus24 - D = {CIS_6.D} mm (dx = {CIS_6.Cochlear_Axel_Der.dx}mm)')\n",
        "\n",
        "axs[0].set_ylabel('Amp', fontsize = 12)\n",
        "\n",
        "\n"
      ]
    },
    {
      "cell_type": "markdown",
      "metadata": {
        "id": "wNKB7rOs0H9A"
      },
      "source": [
        "Esto es raro??? Es asi realmente????"
      ]
    },
    {
      "cell_type": "code",
      "execution_count": null,
      "metadata": {
        "id": "tjYNkAIY0H9A"
      },
      "outputs": [],
      "source": [
        "import import_ipynb\n",
        "import CIS_6\n",
        "\n",
        "d = [1/0.6] + [0]*96000 #delta\n",
        "\n",
        "CIS_6.OUT_SR = 44100\n",
        "\n",
        "elec_array = CIS_6.GENERIC_MEDEL3\n",
        "CIS_6.D = 0.3 #parametro de dispersion\n",
        "#CIS_6.EXP_OYENTE = True #no hace nada en v2 esto\n",
        "CIS_6.ASYMMETRY_INDEX = 0.95 #simetria\n",
        "\n",
        "outs_medel = CIS_6.filter_bank_sintesis2(d, elec_array)\n",
        "fs = np.linspace(0, CIS_6.OUT_SR/2, len(outs_medel[0])//2)\n",
        "\n",
        "elec_array = CIS_6.Cochlear_Axel_Der\n",
        "outs_cochlear = CIS_6.filter_bank_sintesis2(d, elec_array)\n",
        "\n",
        "\n",
        "fig, axs = plt.subplots(1,2 , figsize =(12,5), layout = 'constrained')\n",
        "\n",
        "for out in outs_medel:\n",
        "    F = fft(out)[0:len(out)//2]\n",
        "    axs[0].plot(fs, 20*np.log10(np.abs(F)))\n",
        "\n",
        "for out in outs_cochlear:\n",
        "    F = fft(out)[0:len(out)//2]\n",
        "    axs[1].plot(fs, 20*np.log10(np.abs(F)))\n",
        "\n",
        "from matplotlib.ticker import ScalarFormatter\n",
        "\n",
        "for ax in axs:\n",
        "\n",
        "    ax.set_xlim(40,20000)\n",
        "    ax.set_xlabel('Frec. (Hz)', fontsize = 12)\n",
        "    ax.set_xscale('log')\n",
        "\n",
        "    ax.set_xticks([50,100, 200, 500, 1000, 2000, 5000, 10000, 20000])\n",
        "    ax.tick_params(axis='both', which='major', labelsize=11)\n",
        "    ax.get_xaxis().set_major_formatter(ScalarFormatter())\n",
        "    ax.set_ylim(-60,6)\n",
        "\n",
        "axs[0].set_title(f'Flex28 - D = {CIS_6.D} mm (dx = {CIS_6.GENERIC_MEDEL3.dx}mm )')\n",
        "axs[1].set_title(f'Nucleus24 - D = {CIS_6.D} mm (dx = {CIS_6.Cochlear_Axel_Der.dx}mm)')\n",
        "\n",
        "axs[0].set_ylabel('Amp (dB)', fontsize = 12)\n",
        "\n",
        "\n"
      ]
    },
    {
      "cell_type": "code",
      "execution_count": null,
      "metadata": {
        "id": "BixB_oWS0H9A"
      },
      "outputs": [],
      "source": [
        "from scipy import signal\n",
        "\n",
        "d = [1]*100000\n",
        "sos = signal.butter(20, 4285, 'highpass', fs=44100, output='sos')\n",
        "h = signal.sosfilt(sos, d)\n",
        "sos = signal.butter(20, 4285, 'lowpass', fs=44100, output='sos')\n",
        "h = signal.sosfilt(sos, h)\n",
        "\n",
        "s = CIS_6.puretone(4285, 2, 44100)\n",
        "CIS_6.plot_fft(h, elec_array, f_from = 0, f_to = 5000, range_dB = 60, sr = 44100, showElecs= True, show= False, logx=False)"
      ]
    },
    {
      "cell_type": "markdown",
      "metadata": {
        "id": "UjInv62t0H9A"
      },
      "source": [
        "## Reasignacion (redo)"
      ]
    },
    {
      "cell_type": "code",
      "execution_count": null,
      "metadata": {
        "id": "52R2ABIc0H9A"
      },
      "outputs": [],
      "source": [
        "import import_ipynb\n",
        "from CIS_6 import *\n",
        "from CIS_6_Best_Match_v4 import *"
      ]
    },
    {
      "cell_type": "code",
      "execution_count": null,
      "metadata": {
        "id": "zpZcVl8a0H9B"
      },
      "outputs": [],
      "source": [
        "#Hago la dft de s en frecuencias especificas\n",
        "#Bien, pero si la señal es de ruido puede andar mal.... mejor integrar la fft en un rango de frecuencias como hago abajo\n",
        "def espectrosEspecificos(s, freqs, sr, norm = True):\n",
        "\n",
        "    dur = len(s)/sr\n",
        "    Fs = []\n",
        "    for f in freqs:\n",
        "        sinsig = puretone(f,dur, sr, phase = 0)\n",
        "        cossig = puretone(f,dur, sr, phase = 90)\n",
        "\n",
        "        A = np.dot(sinsig, s)**2 + np.dot(cossig, s)**2\n",
        "        A = np.sqrt(A)\n",
        "        Fs.append(A)\n",
        "    Fs = np.array(Fs)\n",
        "    if(norm): Fs/=max(Fs)\n",
        "    return Fs"
      ]
    },
    {
      "cell_type": "code",
      "execution_count": null,
      "metadata": {
        "id": "9AOeZIsI0H9B"
      },
      "outputs": [],
      "source": [
        "from scipy.fft import fft, fftfreq\n",
        "def integrate_fft(signal, sampling_rate, fcs, bw=20): #copiado para acelerar\n",
        "    Fs = []\n",
        "    for fc in fcs:\n",
        "        fmin = fc-bw/2\n",
        "        fmax = fc + bw/2\n",
        "        \"\"\"Computes the integral (sum) of the FFT magnitude in the frequency range [f_min, f_max].\"\"\"\n",
        "        N = len(signal)\n",
        "        freq = fftfreq(N, d=1/sampling_rate)  # Frequency bins\n",
        "        fft_values = fft(signal)\n",
        "        magnitude = np.abs(fft_values)[:N//2]  # Take positive frequencies only\n",
        "        freq = freq[:N//2]  # Positive frequency range\n",
        "\n",
        "        # Select indices within the given frequency range\n",
        "        mask = (freq >= fmin) & (freq <= fmax)\n",
        "        Fs.append(np.sum(magnitude[mask]))\n",
        "    return np.array(Fs)\n",
        "\n",
        "def integrate_fft_bins(signal, sr, fcs, nbins=5):\n",
        "    Fs = []\n",
        "    N = len(signal)\n",
        "    freq = fftfreq(N, d=1/sr)  # Frequency bins\n",
        "    dbin = sr/N\n",
        "\n",
        "    for fc in fcs:\n",
        "        fmin = fc- nbins*dbin/2\n",
        "        fmax = fc + nbins*dbin/2\n",
        "        \"\"\"Computes the integral (sum) of the FFT magnitude in the frequency range [f_min, f_max].\"\"\"\n",
        "        fft_values = fft(signal)\n",
        "        magnitude = np.abs(fft_values)[:N//2]  # Take positive frequencies only\n",
        "        freq = freq[:N//2]  # Positive frequency range\n",
        "\n",
        "        # Select indices within the given frequency range\n",
        "        mask = (freq >= fmin) & (freq <= fmax)\n",
        "        Fs.append(np.sum(magnitude[mask]))\n",
        "    return np.array(Fs)\n",
        "\n",
        "def espectrosEspecificos2(s, freqs, sr, norm = True):\n",
        "    dur = len(s)/sr\n",
        "\n",
        "    Fs = integrate_fft_bins(s, sr, freqs)\n",
        "\n",
        "    if(norm): Fs/=max(Fs)\n",
        "    return Fs\n"
      ]
    },
    {
      "cell_type": "code",
      "execution_count": null,
      "metadata": {
        "id": "wtDYD77n0H9B"
      },
      "outputs": [],
      "source": [
        "#Defino la nota que quiero\n",
        "import pickle\n",
        "with open('output una nota Medel.pkl', 'rb') as f:  # Python 3: open(..., 'rb')\n",
        "    nota_puntuada_porclase = pickle.load(f)\n",
        "\n",
        "\n",
        "\n",
        "N = 6\n",
        "puesto = 0\n",
        "\n",
        "CIS_6.DEBUG = True\n",
        "\n",
        "elec_array = GENERIC_MEDEL3\n",
        "melo_nota = nota_puntuada_porclase[N][puesto]\n",
        "melo_nota.printInformeScores()\n",
        "\n",
        "nota = melo_nota.notas[0]\n",
        "nota.vibDepth=0\n",
        "nota.dur = 2 #hago que dure mas solo para tener mas puntos en las fft despues\n",
        "melo_nota.dur = 2\n",
        "\n",
        "sig = melo_nota.sintetizar(44100)\n",
        "\n",
        "\n",
        "origSin, origNoise, outOyenteSin, outOyenteNoise , outCISin2, outCINoise2 = elec_array.generarSenialesMelodia(melo_nota, sr = 44100)\n",
        "# 44100    44100        44100           44100          elecSR      elecSR\n",
        "#sig == origSin\n",
        "\n",
        "#genero la señal en los electrodos y desp analizo la energia en cada uno con y sin reasignacion\n",
        "CIS_6.D = 0.02\n",
        "out_normal = elec_array.CIS(sig, 44100)\n",
        "out_reasignada = elec_array.CIS(outCISin2, elec_array.SR)\n",
        "\n",
        "elec_array.generarTodasSeniales(melo_nota, sr = 44100)"
      ]
    },
    {
      "cell_type": "markdown",
      "metadata": {
        "id": "O3YmGCfC0H9B"
      },
      "source": [
        "Esta nota de por si sola esta casi totalmente alineada con los electrodos"
      ]
    },
    {
      "cell_type": "code",
      "execution_count": null,
      "metadata": {
        "id": "Bs4eoNBo0H9B"
      },
      "outputs": [],
      "source": [
        "plot_fft(nota.sintetizar3(44100)*15, elec_array, f_from = 100, f_to = 5000, range_dB = 60, sr = 44100, showElecs= True, show= False, norm = True, step =1)\n"
      ]
    },
    {
      "cell_type": "markdown",
      "metadata": {
        "id": "RVQQkAZv0H9B"
      },
      "source": [
        "Aca vemos como se alinean las freqs de analisis con las del sonido reasignado para ser procesado por el implante"
      ]
    },
    {
      "cell_type": "code",
      "execution_count": null,
      "metadata": {
        "id": "-wMKROUI0H9C"
      },
      "outputs": [],
      "source": [
        "plot_fft(outCISin2, elec_array, f_from = 100, f_to = 5000, range_dB = 60, sr = elec_array.SR, show = False)\n",
        "plt.vlines(elec_array.freqsAnalisis, -80, -60)\n",
        "elec_array.freqsAnalisis"
      ]
    },
    {
      "cell_type": "markdown",
      "metadata": {
        "id": "-kEYFzoN0H9C"
      },
      "source": [
        "### Prueba de CIS nueva (con todos los addons y cambios de la tesis)"
      ]
    },
    {
      "cell_type": "markdown",
      "metadata": {
        "id": "vzLMyzbQ0H9C"
      },
      "source": [
        "Lo siguiente nos muestra que el implante analiza bien las frecuencias que quería estimular\n",
        "\n",
        "Mando el input reasignado que deberia estimular\n",
        "\n",
        "Canales 2,4,5,6,8,9 con amps 1/n"
      ]
    },
    {
      "cell_type": "code",
      "execution_count": null,
      "metadata": {
        "id": "i882L1e00H9C"
      },
      "outputs": [],
      "source": [
        "envs = CIS_6.filter_bank_analisis(outCISin2, elec_array, CIS_6.ORDEN) #el rippling se reduce con el orden de los filtros\n",
        "envs = [envelope_Hilbert(envs[i]) for i in range(12)]\n",
        "fig, axs = plt.subplots(1,4, figsize = (12,5), sharey= True)\n",
        "for i, env in enumerate(envs):\n",
        "    axs[i//3].plot(env, label = f'{i+1}', alpha = 0.8)\n",
        "for ax in axs: ax.legend()\n",
        "\n",
        "Amps = np.sum(envs, axis = 1)\n",
        "print(np.round(Amps))"
      ]
    },
    {
      "cell_type": "markdown",
      "metadata": {
        "id": "_BRIBOQP0H9C"
      },
      "source": [
        "Veo si el CIS_ACE aplica bien las envolventes capturadas o si hace cualquier cosa"
      ]
    },
    {
      "cell_type": "code",
      "execution_count": null,
      "metadata": {
        "id": "r27-hPKR0H9D"
      },
      "outputs": [],
      "source": [
        "us = [ [1]*len(envs[i]) for i in range(len(envs))] #aplico las envolventes a estos unit steps\n",
        "\n",
        "outs = CIS_6.simulate_CIS_ACE2(envs, us, elec_array, 6, separate = True)\n",
        "\n",
        "fig, axs = plt.subplots(1,4, figsize = (12,5), sharey= True)\n",
        "for i, env in enumerate(outs):\n",
        "    axs[i//3].plot(env, label = f'{i+1}', alpha = 0.85)\n",
        "for ax in axs: ax.legend()\n",
        "\n",
        "Amps = np.sum(envs, axis = 1)\n",
        "print(np.round(Amps))"
      ]
    },
    {
      "cell_type": "markdown",
      "metadata": {
        "id": "qDpVbIPN0H9D"
      },
      "source": [
        "Lo hace bien. Elije unos canales, preserva sus amplitudes, y mata los otros\n",
        "\n",
        "Mata canales 3, 7,9, 10,11,12 (mata el 9 porque ya eligió 6: 1,2,4,5,6,8)"
      ]
    },
    {
      "cell_type": "markdown",
      "metadata": {
        "id": "4Nj6ZOgx0H9D"
      },
      "source": [
        "Veamos ahora las amplitudes de las carriers que se le da a cada envolvente (los ruidos filtrados), a ver si tienen la misma amp:"
      ]
    },
    {
      "cell_type": "code",
      "execution_count": null,
      "metadata": {
        "id": "kSu0eneN0H9D"
      },
      "outputs": [],
      "source": [
        "wnoise = wnoise_sig(len(envs[0]*10))\n",
        "CIS_6.D = 0.005\n",
        "filtered_noises = CIS_6.filter_bank_sintesis2(wnoise, elec_array)\n",
        "out = np.sum(filtered_noises, axis = 0)\n",
        "F = np.abs(fft(out))\n",
        "F = F[0:len(out)//2]\n",
        "plt.plot(F[0:5000])\n"
      ]
    },
    {
      "cell_type": "markdown",
      "metadata": {
        "id": "vTnMX12s0H9D"
      },
      "source": [
        "El banco de filtros de outs no es lineal en amplitud, fijate... que raro. Pero esto debe ser consecuencia de como estoy sintetizando las señales en este metodo (ancho de banda de sintesis proporcional a los anchos de bandas criticos, que se agrandan con la frecuencia)\n",
        "\n",
        "En dB esa diferencia no se nota"
      ]
    },
    {
      "cell_type": "code",
      "execution_count": null,
      "metadata": {
        "id": "kqu9CqbF0H9D"
      },
      "outputs": [],
      "source": [
        "wnoise = wnoise_sig(len(envs[0]*10))\n",
        "filtered_noises = CIS_6.filter_bank_sintesis2(wnoise, elec_array)\n",
        "out = np.sum(filtered_noises, axis = 0)\n",
        "F = np.abs(fft(out))\n",
        "F = F[0:len(out)//2]\n",
        "plt.plot(20*np.log10(F[0:5000]))\n",
        "plt.xlabel('n')"
      ]
    },
    {
      "cell_type": "code",
      "execution_count": null,
      "metadata": {
        "id": "RQqQfmyM0H9D"
      },
      "outputs": [],
      "source": [
        "wnoise = wnoise_sig(len(envs[0]))\n",
        "filtered_noises = CIS_6.filter_bank_sintesis2(wnoise, elec_array)\n",
        "out = np.sum(filtered_noises, axis = 0)\n",
        "plot_fft(out, elec_array, f_from = 100, f_to = 5000, range_dB = 60, sr = CIS_6.OUT_SR, showElecs= True, show= False, logx = False)\n",
        "\n"
      ]
    },
    {
      "cell_type": "markdown",
      "metadata": {
        "id": "S-mPIWw00H9E"
      },
      "source": [
        "Finalmente, hago el chequeo completo (recien hice paso a paso): Mando la señal reasignada y veo que solo se prenden esos canales que elijo"
      ]
    },
    {
      "cell_type": "code",
      "execution_count": null,
      "metadata": {
        "id": "Qpv0259K0H9E"
      },
      "outputs": [],
      "source": [
        "CIS_6.DEBUG = True\n",
        "CIS_6.D = 0.001\n",
        "CIS_6.MAXIMA = 1\n",
        "CIS_6.MODE = CIS_6.ACE\n",
        "CIS_6.WIN_LEN_ACE = 400\n",
        "outs = elec_array.CIS(outCISin2, input_sr= elec_array.SR)\n",
        "\n",
        "fig, axs = plt.subplots(1,4, figsize = (12,5), sharey= True)\n",
        "for i, env in enumerate(outs):\n",
        "    axs[i//3].plot(env, label = f'{i+1}', alpha = 0.85)\n",
        "for ax in axs: ax.legend()\n",
        "\n",
        "\n"
      ]
    },
    {
      "cell_type": "markdown",
      "metadata": {
        "id": "g9ZLc6NC0H9E"
      },
      "source": [
        "Esto esta mal. No entiendo por que el canal 4 se selecciona antes que el 2... Eso si para mi no tiene sentido\n",
        "\n",
        "Edit: Ya sé!! El Filtro inverso!!\n",
        "\n",
        "Se lo agrego a las señales sintetizadas abajo y rehago las pruebas"
      ]
    },
    {
      "cell_type": "code",
      "execution_count": null,
      "metadata": {
        "id": "JUdPeFv80H9E"
      },
      "outputs": [],
      "source": [
        "CIS_6.DEBUG = False\n",
        "CIS_6.MAXIMA = 1\n",
        "out = elec_array.CIS(outCISin2, input_sr= elec_array.SR)\n",
        "plot_fft(out, elec_array, f_from = 100, f_to = 8000, range_dB = 60, sr = CIS_6.OUT_SR, showElecs= True, show= False, logx = True)"
      ]
    },
    {
      "cell_type": "markdown",
      "metadata": {
        "id": "TxXRUc2P0H9E"
      },
      "source": [
        "### Nuevo generador de ruido blanco"
      ]
    },
    {
      "cell_type": "code",
      "execution_count": null,
      "metadata": {
        "id": "ufIa6MRt0H9E"
      },
      "outputs": [],
      "source": [
        "#Genera una señal de ruido blanco de n samples\n",
        "def wnoise_sig2(n):\n",
        "    phases = np.random.rand(n)*2*np.pi\n",
        "    return ifft(np.cos(phases) + 1j*np.sin(phases))\n",
        "Audio(wnoise_sig2(44100) , rate = 44100)"
      ]
    },
    {
      "cell_type": "code",
      "execution_count": null,
      "metadata": {
        "id": "XnfTrJQ-0H9E"
      },
      "outputs": [],
      "source": [
        "wnoise = wnoise_sig2(len(envs[0]*10))\n",
        "CIS_6.D = 0.001\n",
        "filtered_noises = CIS_6.filter_bank_sintesis2(wnoise, elec_array)\n",
        "out = np.sum(filtered_noises, axis = 0)\n",
        "F = np.abs(fft(out))\n",
        "F = F[0:len(out)//2]\n",
        "plt.plot(F[0:5000])\n"
      ]
    },
    {
      "cell_type": "markdown",
      "metadata": {
        "id": "p6oP-TXu0H9F"
      },
      "source": [
        "Cada vez que corro esto último, los picos suben y bajan random parece.."
      ]
    },
    {
      "cell_type": "code",
      "execution_count": null,
      "metadata": {
        "id": "zjKld-QO0H9F"
      },
      "outputs": [],
      "source": [
        "wnoise = wnoise_sig2(len(envs[0]*10))\n",
        "filtered_noises = CIS_6.filter_bank_sintesis2(wnoise, elec_array)\n",
        "out = np.sum(filtered_noises, axis = 0)\n",
        "F = np.abs(fft(out))\n",
        "F = F[0:len(out)//2]\n",
        "plt.plot(20*np.log10(F[0:5000]))\n",
        "plt.xlabel('n')"
      ]
    },
    {
      "cell_type": "markdown",
      "metadata": {
        "id": "KGsz06uM0H9F"
      },
      "source": [
        "### Reasignacion (sin compensar preenfasis)"
      ]
    },
    {
      "cell_type": "code",
      "execution_count": null,
      "metadata": {
        "id": "ecB7dqsZ0H9F"
      },
      "outputs": [],
      "source": [
        "#origSin, origNoise, outOyenteSin, outOyenteNoise , outCISin2, outCINoise2 = elec_array.generarSenialesMelodia(melo_nota, sr = 44100)\n",
        "plot_fft(origSin, elec_array, f_from = 100, f_to = 5000, range_dB = 60, sr = 44100)\n",
        "plot_fft(origNoise, elec_array, f_from = 100, f_to = 5000, range_dB = 60, sr = 44100)\n",
        "plot_fft(outOyenteSin, elec_array, f_from = 100, f_to = 5000, range_dB = 60, sr = 44100, showElecs= True, show=False)\n",
        "plt.xlim(100)\n",
        "plot_fft(outOyenteNoise, elec_array, f_from = 100, f_to = 5000, range_dB = 60, sr = 44100, showElecs= True, show= False)\n",
        "plt.xlim(100)\n",
        "plot_fft(out_reasignada, elec_array, f_from = 100, f_to = 5000, range_dB = 60, sr = CIS_6.OUT_SR, showElecs= True, show= False)\n",
        "plt.xlim(100)"
      ]
    },
    {
      "cell_type": "markdown",
      "metadata": {
        "id": "GEXbU0dP0H9F"
      },
      "source": [
        "Todos los siguientes pares de scatter deberian ser iguales o casi iguales... dale"
      ]
    },
    {
      "cell_type": "code",
      "execution_count": null,
      "metadata": {
        "id": "ZFRWBXFb0H9F"
      },
      "outputs": [],
      "source": [
        "ies = [i for i in range(len(nota.parciales))]\n",
        "saw = [1/i for i in range(1,len(nota.parciales)+1)]\n",
        "saw2 = [1/i**2 for i in range(1,len(nota.parciales)+1)]\n",
        "\n",
        "\n",
        "FpruebaA = espectrosEspecificos(sig, nota.parciales, 44100, norm = True)\n",
        "FpruebaA2 = espectrosEspecificos(origSin, nota.parciales, 44100, norm = True)\n",
        "FpruebaB = espectrosEspecificos(origNoise, nota.parciales, 44100, norm = True)\n",
        "FpruebaC = espectrosEspecificos(nota.sintetizar3(44100), nota.parciales, 44100, norm = True)\n",
        "\n",
        "\n",
        "plt.scatter(ies, FpruebaA) #azul\n",
        "plt.scatter(ies, FpruebaA2) #naranja\n",
        "plt.scatter(ies, FpruebaB) #verde\n",
        "plt.scatter(ies, FpruebaC) #rojo\n",
        "plt.plot(ies, saw, linestyle = '--', color = 'purple')\n"
      ]
    },
    {
      "cell_type": "code",
      "execution_count": null,
      "metadata": {
        "id": "joqOaFRe0H9F"
      },
      "outputs": [],
      "source": [
        "ies = [i for i in range(len(nota.parciales))]\n",
        "saw = [1/i for i in range(1,len(nota.parciales)+1)]\n",
        "saw2 = [1/i**2 for i in range(1,len(nota.parciales)+1)]\n",
        "\n",
        "\n",
        "FpruebaA = espectrosEspecificos2(sig, nota.parciales, 44100, norm = True)\n",
        "FpruebaA2 = espectrosEspecificos2(origSin, nota.parciales, 44100, norm = True)\n",
        "FpruebaB = espectrosEspecificos2(origNoise, nota.parciales, 44100, norm = True)\n",
        "FpruebaC = espectrosEspecificos2(nota.sintetizar3(44100), nota.parciales, 44100, norm = True)\n",
        "\n",
        "\n",
        "plt.scatter(ies, FpruebaA) #azul\n",
        "plt.scatter(ies, FpruebaA2) #naranja\n",
        "plt.scatter(ies, FpruebaB) #verde\n",
        "plt.scatter(ies, FpruebaC) #rojo\n",
        "plt.plot(ies, saw, linestyle = '--', color = 'purple')\n"
      ]
    },
    {
      "cell_type": "code",
      "execution_count": null,
      "metadata": {
        "id": "mYIGMCto0H9G"
      },
      "outputs": [],
      "source": [
        "ies = [i for i in range(12)]\n",
        "\n",
        "Fprueba3 = espectrosEspecificos(outOyenteSin, elec_array.freqsElectrodos, 44100, norm = True)\n",
        "Fprueba4 = espectrosEspecificos(outOyenteNoise, elec_array.freqsElectrodos, 44100, norm = True)\n",
        "plt.scatter(ies, Fprueba3)\n",
        "plt.scatter(ies, Fprueba4)"
      ]
    },
    {
      "cell_type": "code",
      "execution_count": null,
      "metadata": {
        "id": "xtv639Px0H9G"
      },
      "outputs": [],
      "source": [
        "ies = [i for i in range(12)]\n",
        "\n",
        "Fprueba3 = espectrosEspecificos2(outOyenteSin, elec_array.freqsElectrodos, 44100, norm = True)\n",
        "Fprueba4 = espectrosEspecificos2(outOyenteNoise, elec_array.freqsElectrodos, 44100, norm = True)\n",
        "plt.scatter(ies, Fprueba3)\n",
        "plt.scatter(ies, Fprueba4)"
      ]
    },
    {
      "cell_type": "code",
      "execution_count": null,
      "metadata": {
        "id": "yHChOB4V0H9G"
      },
      "outputs": [],
      "source": [
        "ies = [i for i in range(12)]\n",
        "\n",
        "Fprueba1 = espectrosEspecificos(outCISin2, elec_array.freqsAnalisis, elec_array.SR, norm = True)\n",
        "Fprueba2 = espectrosEspecificos(outCINoise2, elec_array.freqsAnalisis, elec_array.SR, norm = True)\n",
        "\n",
        "plt.scatter(ies, Fprueba1)\n",
        "plt.scatter(ies, Fprueba2)"
      ]
    },
    {
      "cell_type": "code",
      "execution_count": null,
      "metadata": {
        "id": "z130PFPo0H9G"
      },
      "outputs": [],
      "source": [
        "ies = [i for i in range(12)]\n",
        "\n",
        "Fprueba1 = espectrosEspecificos2(outCISin2, elec_array.freqsAnalisis, elec_array.SR, norm = True)\n",
        "Fprueba2 = espectrosEspecificos2(outCINoise2, elec_array.freqsAnalisis, elec_array.SR, norm = True)\n",
        "\n",
        "plt.scatter(ies, Fprueba1)\n",
        "plt.scatter(ies, Fprueba2)"
      ]
    },
    {
      "cell_type": "markdown",
      "metadata": {
        "id": "Ja0MkL350H9G"
      },
      "source": [
        "Y estos no, son los que quiero comparar (con vs sin reasignacion)"
      ]
    },
    {
      "cell_type": "code",
      "execution_count": null,
      "metadata": {
        "id": "Mu0nm7lh0H9H"
      },
      "outputs": [],
      "source": [
        "ies = [i for i in range(12)]\n",
        "\n",
        "F2 = espectrosEspecificos(out_normal, elec_array.freqsElectrodos, CIS_6.OUT_SR, norm = True)\n",
        "F3 = espectrosEspecificos(out_reasignada, elec_array.freqsElectrodos, CIS_6.OUT_SR, norm  = True)\n",
        "plt.scatter(ies, F2)\n",
        "plt.scatter(ies, F3)"
      ]
    },
    {
      "cell_type": "code",
      "execution_count": null,
      "metadata": {
        "id": "suIRdxPH0H9H"
      },
      "outputs": [],
      "source": [
        "ies = [i for i in range(12)]\n",
        "\n",
        "F2 = espectrosEspecificos2(out_normal, elec_array.freqsElectrodos, CIS_6.OUT_SR, norm = True)\n",
        "F3 = espectrosEspecificos2(out_reasignada, elec_array.freqsElectrodos, CIS_6.OUT_SR, norm  = True)\n",
        "plt.scatter(ies, F2)\n",
        "plt.scatter(ies, F3)"
      ]
    },
    {
      "cell_type": "markdown",
      "metadata": {
        "id": "pURJXnM90H9H"
      },
      "source": [
        "Ahi va... en conclusion, el metodo original que usaba (de sacar la DFT en puntos aislados) es MALISIMO para lo que queria hacer si la nota dura poco. Recien cuando empezo a durar 2 o mas segundos mejoro. Integrar la FFT en una region (acá usé fc +- 2.5Hz) funcionó infinitamente mejor para duraciones cortas.\n",
        "Sin embargo, para las señales que quiero comparar (con vs sin reasignacion), ahi si empezó a funcionar peor..."
      ]
    },
    {
      "cell_type": "markdown",
      "metadata": {
        "id": "2c5hlFEn0H9H"
      },
      "source": [
        "### Reasignacion (compensando preenfasis)"
      ]
    },
    {
      "cell_type": "code",
      "execution_count": null,
      "metadata": {
        "id": "uQcPZudL0H9H"
      },
      "outputs": [],
      "source": [
        "import import_ipynb\n",
        "from CIS_6 import *\n",
        "from CIS_6_Best_Match_v5 import * #notar el v5"
      ]
    },
    {
      "cell_type": "code",
      "execution_count": null,
      "metadata": {
        "id": "h5w_ZEN70H9H"
      },
      "outputs": [],
      "source": [
        "#Defino la nota que quiero\n",
        "import pickle\n",
        "with open('output una nota Medel.pkl', 'rb') as f:  # Python 3: open(..., 'rb')\n",
        "    nota_puntuada_porclase = pickle.load(f)\n",
        "\n",
        "actualizarInstanciaClasesN(nota_puntuada_porclase) #agrego el codigo actualizado de nota, porque la instancia se guardó con el codigo viejo\n",
        "\n",
        "\n",
        "\n",
        "N = 6\n",
        "puesto = 0\n",
        "\n",
        "CIS_6.DEBUG = False\n",
        "\n",
        "elec_array = GENERIC_MEDEL3\n",
        "melo_nota = nota_puntuada_porclase[N][puesto]\n",
        "melo_nota.printInformeScores()\n",
        "\n",
        "nota = melo_nota.notas[0]\n",
        "nota.vibDepth=0\n",
        "nota.dur = 2 #hago que dure mas solo para tener mas puntos en las fft despues\n",
        "melo_nota.dur = 2\n",
        "\n",
        "sig = melo_nota.sintetizar(44100)\n",
        "\n",
        "\n",
        "origSin, origNoise, outOyenteSin, outOyenteNoise , outCISin2, outCINoise2 = elec_array.generarSenialesMelodia(melo_nota, sr = 44100)\n",
        "# 44100    44100        44100           44100          elecSR      elecSR\n",
        "#sig == origSin\n",
        "\n",
        "#genero la señal en los electrodos y desp analizo la energia en cada uno con y sin reasignacion\n",
        "CIS_6.D = 0.02\n",
        "out_normal = elec_array.CIS(sig, 44100)\n",
        "out_reasignada = elec_array.CIS(outCISin2, elec_array.SR)\n",
        "\n",
        "elec_array.generarTodasSeniales(melo_nota, sr = 44100)"
      ]
    },
    {
      "cell_type": "code",
      "execution_count": null,
      "metadata": {
        "id": "9pENy03E0H9I"
      },
      "outputs": [],
      "source": [
        "CIS_6.DEBUG = True\n",
        "CIS_6.D = 0.001\n",
        "CIS_6.MAXIMA = 1\n",
        "CIS_6.MODE = CIS_6.ACE\n",
        "CIS_6.WIN_LEN_ACE = 400\n",
        "outs = elec_array.CIS(outCISin2, input_sr= elec_array.SR)\n",
        "\n",
        "fig, axs = plt.subplots(1,4, figsize = (12,5), sharey= True)\n",
        "for i, env in enumerate(outs):\n",
        "    axs[i//3].plot(env, label = f'{i+1}', alpha = 0.85)\n",
        "for ax in axs: ax.legend()"
      ]
    },
    {
      "cell_type": "markdown",
      "metadata": {
        "id": "Cd9Qhqcu0H9I"
      },
      "source": [
        "Aleluya!!! Anda!!"
      ]
    },
    {
      "cell_type": "markdown",
      "metadata": {
        "id": "gYDiELNn0H9I"
      },
      "source": [
        "### Grafico\n",
        "\n",
        "Por lo que dije arriba, voy a hacer la amplitud de los cuadrados (parciales) proporcional al dB, y no la amplitud, para reflejar todo esto"
      ]
    },
    {
      "cell_type": "code",
      "execution_count": null,
      "metadata": {
        "id": "Ke98F5bu0H9I"
      },
      "outputs": [],
      "source": [
        "def grafico_reasignacion(nota, normal, reasignada, xmin=250, xmax = 6500, elabelsize = 20):\n",
        "    #####################################\n",
        "    #Arriba: Electrodos activados (sin reasignación)\n",
        "    #Medio:  Nota y sus armónicos\n",
        "    #Abajo: Electrodos activados (con reasignación)\n",
        "\n",
        "    #Para calcular las frecuencias máximas, voy a usar \"find_peaks\", sobre la fft\n",
        "\n",
        "    ###########\n",
        "\n",
        "    import matplotlib.ticker as ticker\n",
        "\n",
        "    fes = elec_array.freqsElectrodos\n",
        "\n",
        "    (y1, y2, y3) = (0.58,0.5, 0.42)\n",
        "\n",
        "    #Generalidades gráfico\n",
        "    fig, ax = plt.subplots(figsize=(16,6), dpi= 130)\n",
        "    ax.set_xscale('log')\n",
        "    ax.set_xlabel('Frecuencia (Hz)', labelpad = 50,fontdict={'size':25} )\n",
        "    ax.xaxis.set_tick_params(pad = 7)\n",
        "    ax.set_xlim(xmin , xmax)\n",
        "    ax.set_ylim(0.35 , 0.8)\n",
        "    ax.set_yticks([])\n",
        "    ax.set_xticks([])\n",
        "    ax.hlines(y=[y1, y2, y3], xmin=xmin, xmax=xmax, color='gray', alpha=0.85, linewidth=1, linestyles='dashdot')\n",
        "    ax.vlines(x=fes, ymin=0, ymax=1, color='gray', alpha=0.6, linewidth=1.8, linestyles='dashdot')\n",
        "    ax.vlines(x=nota.parciales, ymin=0, ymax=1, color='maroon', alpha=0.5, linewidth=1, linestyles='dashed')\n",
        "    #ax.vlines(x=elec_array.freqsElectrodos, ymin=0.3, ymax=0.6, color='darkgray', alpha=0.95, linewidth=2, linestyles='dashdot') #Igual pero más corta y marcada\n",
        "\n",
        "    #Title\n",
        "    #ax.set_title('Simulación de electrodos estimulados con el esquema de reasignación', color = 'k', style = 'italic', pad = 20, fontdict={'size':32, 'font': 'Times New Roman'}, )\n",
        "\n",
        "    #Texto para cada marquita de los elec\n",
        "    elec_labels = ['$e_{' +str(i+1) +'}$ ' for i in range(elec_array.Nchann) ]\n",
        "\n",
        "    #############################################3\n",
        "    step = 1\n",
        "\n",
        "    F1 = np.array(nota.amps)\n",
        "    F2 = espectrosEspecificos2(normal, fes, CIS_6.OUT_SR, norm = True)\n",
        "    F3 = espectrosEspecificos2(reasignada, fes, CIS_6.OUT_SR, norm  = True)\n",
        "\n",
        "    #Paso a dB\n",
        "    F2 = 20*np.log10(F2, where = (F2 != 0))\n",
        "    F3 = 20*np.log10(F3, where = (F3 != 0))\n",
        "\n",
        "    #\"Normalizo\" con el minimo ( a 0)\n",
        "    #F1 -= min(F1)\n",
        "    F2 -= min(F2)\n",
        "    F3 -= min(F3)\n",
        "\n",
        "    #Normalizo con el maximo (a 1)\n",
        "    #F1 /= max(F1) /1000\n",
        "    F2 /= max(F2)\n",
        "    F3 /= max(F3)\n",
        "\n",
        "    #a F2 y F3 hago mas drastico el contraste para visualizar mejor\n",
        "    F1 *= 1000\n",
        "    F2 = 1000*F2**10\n",
        "    F3 = 1000*F3**10\n",
        "\n",
        "\n",
        "    tuple_nota = (nota.parciales,F1, 'maroon', 'Componentes de la nota objetivo' , _, y1,'s')\n",
        "    tuple_normal = (fes, F2, 'navy', 'Activaciones (sin reasignación)' , elec_labels, y2, 'D')\n",
        "    tuple_realoc = (fes, F3, 'darkgreen', 'Activaciones (con reasignación)', elec_labels, y3, 'D')\n",
        "\n",
        "    #Grafico las tres lineas de puntitos\n",
        "    #El tamaño de los puntos es proporcional a la amplitud del espectro\n",
        "    for frecuencias_amplitudes_color_label_ticklabels_y_marker in [tuple_nota, tuple_normal , tuple_realoc]:\n",
        "\n",
        "        (freqs, amps, color, label, ticklabels, y0, forma) = frecuencias_amplitudes_color_label_ticklabels_y_marker #unpack\n",
        "\n",
        "        #Grafico\n",
        "        y = [ y0 for f in freqs]\n",
        "        ax.scatter(y=y, x=freqs, s=np.array(amps), color=color, alpha=0.85, label = label, marker=forma) #Los puntitos\n",
        "        ax.grid(alpha = 0.7)\n",
        "\n",
        "    #Para los electodos apagados en la linea 3, repito más transparente la última linea y le agrego cositas:\n",
        "    #ax.scatter(y=[0.3 for f in elec_array.freqsElectrodos], x=elec_array.freqsElectrodos, s=125, color='navy', alpha=0.45) #Los puntitos chiquitos y transparentes\n",
        "\n",
        "    #Eje de abajo: e1, e2...\n",
        "    secax = ax.secondary_xaxis('bottom') #eje secundario (texto)\n",
        "    secax.set_xticks(fes[::step], labels = elec_labels[::step])\n",
        "    secax.xaxis.set_tick_params(pad = 5, labelcolor = 'navy', labelsize = elabelsize*1.25, rotation = 30)\n",
        "    for i in range(1,len(fes)//step+1):\n",
        "        secax.get_xticklabels()[-i].set_rotation_mode('anchor')\n",
        "\n",
        "    #Eje de abajo: Freqs electrodos\n",
        "    secax_freqs = ax.secondary_xaxis('bottom') #eje secundario (numeros)\n",
        "    freq_labels = [f'${round(freq)}$ ' for freq in fes ]\n",
        "    secax_freqs.set_xticks(fes*1.025, labels = freq_labels[::step])\n",
        "    secax_freqs.xaxis.set_tick_params(pad = 30, labelcolor = 'navy', labelsize= elabelsize)\n",
        "\n",
        "\n",
        "    #Eje de arriba: freqs nota\n",
        "    secax_freqs_nota = ax.secondary_xaxis('top') #eje secundario (numeros)\n",
        "    freq_labels = [f'${round(freq)}$ ' for freq in nota.parciales ]\n",
        "    secax_freqs_nota.set_xticks(nota.parciales, labels = freq_labels[::step])\n",
        "    secax_freqs_nota.xaxis.set_tick_params(pad = 7, labelcolor = 'maroon', labelsize= 20)\n",
        "\n",
        "    #ax.set_xticks([], minor=True)\n",
        "\n",
        "    #Freqs de los armónicos\n",
        "    for i, freq in enumerate(nota.parciales):\n",
        "        plt.text(freq*0.975, y1*0.985, str(int(freq/nota.freq))+'°', fontdict={'size':20, 'font': 'Times New Roman', 'color':'yellow'})\n",
        "\n",
        "\n",
        "    ######################################\n",
        "\n",
        "    # Title, Label, Ticks and Ylim\n",
        "    #ax.set_yticks(df.index)\n",
        "    #ax.set_yticklabels(df.manufacturer.str.title(), fontdict={'horizontalalignment': 'right'})\n",
        "    plt.legend(framealpha=1, shadow=True,  loc = 'upper left',  prop={'size': 24})\n",
        "    plt.show()"
      ]
    },
    {
      "cell_type": "code",
      "execution_count": null,
      "metadata": {
        "id": "ktxU5zw10H9J"
      },
      "outputs": [],
      "source": [
        "nota = melo_nota.notas[0]\n",
        "grafico_reasignacion(nota, out_normal, out_reasignada, xmin =, xmax =)"
      ]
    },
    {
      "cell_type": "code",
      "execution_count": null,
      "metadata": {
        "id": "IQNAZIYp0H9J"
      },
      "outputs": [],
      "source": []
    },
    {
      "cell_type": "markdown",
      "metadata": {
        "id": "65_Fi3mY0H9J"
      },
      "source": [
        "Rehago pero las amps de la nota son [1,1,1,1,1]..."
      ]
    },
    {
      "cell_type": "code",
      "execution_count": null,
      "metadata": {
        "id": "bk-szRNp0H9J"
      },
      "outputs": [],
      "source": [
        "\n",
        "nota.amps = [1,1,1,1,1,1]\n",
        "\n",
        "sig = melo_nota.sintetizar(44100)\n",
        "\n",
        "\n",
        "origSin, origNoise, outOyenteSin, outOyenteNoise , outCISin2, outCINoise2 = elec_array.generarSenialesMelodia(melo_nota, sr = 44100)\n",
        "# 44100    44100        44100           44100          elecSR      elecSR\n",
        "#sig == origSin\n",
        "\n",
        "#genero la señal en los electrodos y desp analizo la energia en cada uno con y sin reasignacion\n",
        "CIS_6.D = 0.02\n",
        "CIS_6.DEBUG = False\n",
        "CIS_6.MAXIMA = 8\n",
        "out_normal = elec_array.CIS(sig, 44100)\n",
        "out_reasignada = elec_array.CIS(outCISin2, elec_array.SR)\n",
        "\n",
        "elec_array.generarTodasSeniales(melo_nota, sr = 44100)"
      ]
    },
    {
      "cell_type": "code",
      "execution_count": null,
      "metadata": {
        "id": "WEi0oamM0H9J"
      },
      "outputs": [],
      "source": [
        "grafico_reasignacion(nota, out_normal, out_reasignada)"
      ]
    },
    {
      "cell_type": "markdown",
      "metadata": {
        "id": "-4lpPBK_0H9J"
      },
      "source": [
        "### Grafico 2 (para Cochlear)"
      ]
    },
    {
      "cell_type": "code",
      "execution_count": null,
      "metadata": {
        "id": "9bMG89MI0H9K"
      },
      "outputs": [],
      "source": [
        "import pickle\n",
        "with open('output una nota Cochlear Derecho.pkl', 'rb') as f:  # Python 3: open(..., 'rb')\n",
        "    nota_puntuada_porclase = pickle.load(f)\n",
        "\n",
        "actualizarInstanciaClasesN(nota_puntuada_porclase) #agrego el codigo actualizado de nota, porque la instancia se guardó con el codigo viejo\n",
        "\n",
        "nota_puntuada_porclase[5][4].printInformeScores()\n",
        "nota_puntuada_porclase[5][2].printInformeScores()\n",
        "nota_puntuada_porclase[6][11].printInformeScores()"
      ]
    },
    {
      "cell_type": "code",
      "execution_count": null,
      "metadata": {
        "id": "U3ehDLru0H9K"
      },
      "outputs": [],
      "source": [
        "N = 5\n",
        "puesto = 4\n",
        "\n",
        "elec_array = Cochlear_Axel_Der\n",
        "melo_nota = nota_puntuada_porclase[N][puesto]\n",
        "melo_nota.printInformeScores()\n",
        "\n",
        "nota = melo_nota.notas[0]\n",
        "nota.vibDepth=0\n",
        "nota.dur = 2 #hago que dure mas solo para tener mas puntos en las fft despues\n",
        "melo_nota.dur = 2\n",
        "\n",
        "sig = melo_nota.sintetizar(44100)\n",
        "nota.amps = [1]* N\n",
        "\n",
        "origSin, origNoise, outOyenteSin, outOyenteNoise , outCISin2, outCINoise2 = elec_array.generarSenialesMelodia(melo_nota, sr = 44100)\n",
        "# 44100    44100        44100           44100          elecSR      elecSR\n",
        "#sig == origSin\n",
        "\n",
        "#genero la señal en los electrodos y desp analizo la energia en cada uno con y sin reasignacion\n",
        "CIS_6.D = 0.001\n",
        "CIS_6.DEBUG = False\n",
        "CIS_6.MAXIMA = 8\n",
        "out_normal = elec_array.CIS(sig, 44100)\n",
        "out_reasignada = elec_array.CIS(outCISin2, elec_array.SR)\n",
        "\n",
        "#elec_array.generarTodasSeniales(melo_nota, sr = 44100)"
      ]
    },
    {
      "cell_type": "code",
      "execution_count": null,
      "metadata": {
        "id": "GM-urNOU0H9K"
      },
      "outputs": [],
      "source": [
        "grafico_reasignacion(nota, out_normal, out_reasignada, xmin =1000, xmax = 7000, elabelsize = 15)"
      ]
    },
    {
      "cell_type": "code",
      "execution_count": null,
      "metadata": {
        "id": "D3r3p9920H9K"
      },
      "outputs": [],
      "source": [
        "len(melodias_puntuadas_porclase3[3])"
      ]
    },
    {
      "cell_type": "code",
      "execution_count": null,
      "metadata": {
        "id": "8fhR3lYu0H9K"
      },
      "outputs": [],
      "source": [
        "# Getting back the objects:\n",
        "import pickle\n",
        "with open('output seis notas Cochlear Derecho.pkl', 'rb') as f:  # Python 3: open(..., 'rb')\n",
        "    melodias_puntuadas_porclase3 = pickle.load(f)\n",
        "actualizarInstanciaClasesN(melodias_puntuadas_porclase3) #agrego el codigo actualizado de nota, porque la instancia se guardó con el codigo viejo\n"
      ]
    },
    {
      "cell_type": "code",
      "execution_count": null,
      "metadata": {
        "id": "4BFtwrWU0H9K"
      },
      "outputs": [],
      "source": [
        "melodias_puntuadas_porclase3[6][4].printInformeScores()"
      ]
    },
    {
      "cell_type": "code",
      "execution_count": null,
      "metadata": {
        "id": "TtJyHPrl0H9L"
      },
      "outputs": [],
      "source": [
        "# Getting back the objects:\n",
        "import pickle\n",
        "with open('output seis notas Cochlear Derecho.pkl', 'rb') as f:  # Python 3: open(..., 'rb')\n",
        "    melodias_puntuadas_porclase3 = pickle.load(f)\n",
        "actualizarInstanciaClasesN(melodias_puntuadas_porclase3) #agrego el codigo actualizado de nota, porque la instancia se guardó con el codigo viejo\n"
      ]
    }
  ],
  "metadata": {
    "kernelspec": {
      "display_name": "Python 3",
      "language": "python",
      "name": "python3"
    },
    "language_info": {
      "codemirror_mode": {
        "name": "ipython",
        "version": 3
      },
      "file_extension": ".py",
      "mimetype": "text/x-python",
      "name": "python",
      "nbconvert_exporter": "python",
      "pygments_lexer": "ipython3",
      "version": "3.13.1"
    },
    "orig_nbformat": 4,
    "colab": {
      "provenance": []
    }
  },
  "nbformat": 4,
  "nbformat_minor": 0
}