{
  "cells": [
    {
      "cell_type": "markdown",
      "metadata": {
        "id": "oU8MuyRZxL_Q"
      },
      "source": [
        "Ejecutar: Lo que tiene un *"
      ]
    },
    {
      "cell_type": "markdown",
      "metadata": {
        "id": "n099a_8VXOcU"
      },
      "source": [
        "# Importamos Librerías (*)"
      ]
    },
    {
      "cell_type": "code",
      "execution_count": null,
      "metadata": {
        "id": "IytupdDAoHey"
      },
      "outputs": [],
      "source": [
        "import numpy as np\n",
        "import matplotlib.pyplot as plt\n",
        "from IPython.display import Audio\n",
        "from numpy import pi, sin, cos\n",
        "from scipy.fft import fft, ifft\n",
        "from scipy.io import wavfile\n",
        "from scipy.signal import convolve,correlate,fftconvolve,lfilter\n",
        "from scipy import signal\n",
        "#from ipywidgets import interactive, interact\n",
        "from matplotlib import rc\n",
        "#import matplotlib.animation as animation\n",
        "import librosa\n",
        "rc('animation', html='jshtml')"
      ]
    },
    {
      "cell_type": "code",
      "execution_count": null,
      "metadata": {
        "id": "6rU7QZAsoOnQ"
      },
      "outputs": [],
      "source": [
        "import os\n",
        "from google.colab import drive\n",
        "drive.mount('/content/drive')\n",
        "os.chdir('drive/MyDrive/Beca UNQ/Notebooks Python/')"
      ]
    },
    {
      "cell_type": "code",
      "execution_count": null,
      "metadata": {
        "id": "DiD4yeb308gh"
      },
      "outputs": [],
      "source": [
        "import os\n",
        "pathCarriers = r\"C:/Users/roman/OneDrive/Escritorio/Audio_Code/carriers/\"\n",
        "os.chdir(pathCarriers)"
      ]
    },
    {
      "cell_type": "markdown",
      "metadata": {
        "id": "9NpvE5N0XOEq"
      },
      "source": [
        "# Comparación de dos métodos"
      ]
    },
    {
      "cell_type": "code",
      "execution_count": null,
      "metadata": {
        "id": "ykTPZs-wzBuI"
      },
      "outputs": [],
      "source": [
        "sr = 48000\n",
        "dur = 1\n",
        "N = round(sr*dur)"
      ]
    },
    {
      "cell_type": "markdown",
      "metadata": {
        "id": "Yy0oeTyBcRb8"
      },
      "source": [
        "Generamos unas sinusoides"
      ]
    },
    {
      "cell_type": "code",
      "execution_count": null,
      "metadata": {
        "id": "GZAMR4UEKjfw"
      },
      "outputs": [],
      "source": [
        "#Señal original\n",
        "x = [.6*np.sin(2*np.pi*i/sr*200) + .4*np.sin(2*np.pi*i/sr*380 +0.2) for i in range(N)]\n",
        "X = fft(x)\n",
        "fs = [ sr/N*i for i in range(0, N//2) ] + [ sr/N*i for i in range(-N//2, 0) ]\n",
        "\n",
        "fig, axs = plt.subplots(1,2, figsize = (12,5))\n",
        "\n",
        "axs[0].set_title('Señal')\n",
        "axs[0].plot(x[0:500])\n",
        "axs[1].set_title('|DFT|')\n",
        "axs[1].plot(fs, np.abs(X))\n",
        "axs[1].set_xlim([-400,400])\n",
        "\n",
        "\n",
        "display(Audio(x, rate =sr))"
      ]
    },
    {
      "cell_type": "markdown",
      "metadata": {
        "id": "oLD9TnPzcTS7"
      },
      "source": [
        "Hacemos 0 las frec negativas de la DFT, y tomamos IDFT para obtener la señal analítica derivada de la original.\n",
        "La parte imaginaria es la transformada de Hilbert"
      ]
    },
    {
      "cell_type": "code",
      "execution_count": null,
      "metadata": {
        "id": "d8JZy3CrK-aA"
      },
      "outputs": [],
      "source": [
        "#Señal analitica\n",
        "Z = np.zeros(N, dtype='complex')\n",
        "for i in range(1,N//2): Z[i] = 2.*X[i]\n",
        "z = ifft(Z)\n",
        "H = np.imag(z)  #Transformada de Hilbert de x(t)\n",
        "\n",
        "fig, axs = plt.subplots(1,4, figsize = (15,5))\n",
        "axs[0].set_title('Señal Original')\n",
        "axs[0].plot(x[0:500]) #Igual a x(t)\n",
        "axs[1].set_title('Re(Señal Analítica)')\n",
        "axs[1].plot(np.real(z[0:500])) #Igual a x(t)\n",
        "axs[2].set_title('Im(Señal Analítica)')\n",
        "axs[2].plot(H[0:500])\n",
        "axs[3].set_title('|DFT(Señal Analítica)|')\n",
        "axs[3].plot(fs, np.abs(Z))\n",
        "axs[3].set_xlim([-400,400])\n",
        "\n",
        "display(Audio(np.real(z), rate =sr))\n",
        "display(Audio(H, rate =sr))"
      ]
    },
    {
      "cell_type": "markdown",
      "metadata": {
        "id": "ql5IJB84ciLU"
      },
      "source": [
        "Obtenemos ahora la transformada de Hilbert a partir de una aproximación FIR"
      ]
    },
    {
      "cell_type": "code",
      "execution_count": null,
      "metadata": {
        "id": "zo2jP8-jchvR"
      },
      "outputs": [],
      "source": [
        "M = 800 #Cantidad de puntos del FIR.\n",
        "h = np.zeros(M)\n",
        "for i in range(-M+1, M, 2): h[i] =  2/i/np.pi\n",
        "\n",
        "H2 = np.convolve(x, h)[M-1:]\n",
        "\n",
        "fig, axs = plt.subplots(3,3, figsize = (20,8))\n",
        "\n",
        "axs[0][0].set_title('Señal original (x)')\n",
        "axs[0][0].plot(x[2000:2500])\n",
        "axs[1][0].set_title('Re(X(s)))')\n",
        "axs[1][0].plot(fs, np.real(X))\n",
        "axs[1][0].set_xlim([-400,400])\n",
        "axs[2][0].set_title('Im(X(s))')\n",
        "axs[2][0].plot(fs, np.imag(X))\n",
        "axs[2][0].set_xlim([-400,400])\n",
        "\n",
        "\n",
        "axs[0][1].set_title('HT -- IFFT (H)')\n",
        "axs[0][1].plot(H[2000:2500])\n",
        "axs[1][1].set_title('Re(DFT(H))')\n",
        "axs[1][1].plot(fs, np.real(fft(H)))\n",
        "axs[1][1].set_xlim([-400,400])\n",
        "axs[2][1].set_title('Im(DFT(H))')\n",
        "axs[2][1].plot(fs, np.imag(fft(H)))\n",
        "axs[2][1].set_xlim([-400,400])\n",
        "\n",
        "axs[0][2].set_title('HT -- FIR (H2)')\n",
        "axs[0][2].plot(H2[2000:2500])\n",
        "axs[1][2].set_title('Re(DFT(H2))')\n",
        "axs[1][2].plot(fs, np.real(fft(H2)))\n",
        "axs[1][2].set_xlim([-400,400])\n",
        "axs[2][2].set_title('Im(DFT(H2))')\n",
        "axs[2][2].plot(fs, np.imag(fft(H2)))\n",
        "axs[2][2].set_xlim([-400,400])\n",
        "\n",
        "\n",
        "\n",
        "display(Audio(H, rate =sr))\n",
        "display(Audio(H2, rate =sr))"
      ]
    },
    {
      "cell_type": "markdown",
      "metadata": {
        "id": "-yQSCZ8aSUIb"
      },
      "source": [
        "Voy entonces con el método FFT que parece ser el que mejor anda cuando hay buena resolución espectral"
      ]
    },
    {
      "cell_type": "markdown",
      "metadata": {
        "id": "inqnKF0wZtfi"
      },
      "source": [
        "# **Encapsulo los métodos en una función (*):**"
      ]
    },
    {
      "cell_type": "markdown",
      "metadata": {
        "id": "XLC1ybrcmH8M"
      },
      "source": [
        "## Método principal (FFT)"
      ]
    },
    {
      "cell_type": "code",
      "execution_count": null,
      "metadata": {
        "id": "aS9EwPYfZoEl"
      },
      "outputs": [],
      "source": [
        "def analytic(x, circular=True):\n",
        "\n",
        "  n = len(x) #Voy a apendear n zeros, así que duplico el tamaño\n",
        "  if(not circular): n *= 2\n",
        "  Z = np.zeros(n, dtype='complex')\n",
        "\n",
        "  #Aplico una ventana para que la función periodizada sea continua - sino la envolvente exlplota si se extrae sobre muestras muy largas\n",
        "  #x = np.array(x)* Tukey_window(len(x), 0.1)\n",
        "\n",
        "  if(circular): X  = fft(x)\n",
        "  else: X = fft( list(x) + len(x)*[0]) #acá appendeo los n 0's\n",
        "\n",
        "  for i in range(1,n//2): Z[i] = 2.*X[i]\n",
        "  Z[n//2] = X[n//2]\n",
        "  z = ifft(Z)\n",
        "  return z\n",
        "\n",
        "def HT(x, circular = True):\n",
        "  return np.imag(analytic(x, circular))\n",
        "\n",
        "def lowpass_zerophase(x):\n",
        "      b,a = signal.butter(2, 0.01, 'lp', output='ba')\n",
        "      return signal.filtfilt(b,a, x)\n"
      ]
    },
    {
      "cell_type": "code",
      "execution_count": null,
      "metadata": {
        "id": "NgeaC9i-aVRO"
      },
      "outputs": [],
      "source": [
        "FILTER_ENVELOPE = False"
      ]
    },
    {
      "cell_type": "code",
      "execution_count": null,
      "metadata": {
        "id": "JLUxUiLq41dJ"
      },
      "outputs": [],
      "source": [
        "def graficarTodo(x, rango = 0, showFreq = True):\n",
        "  if(rango==0): rango=len(x) #que cantidad de muestras del total grafico , [0:rango]\n",
        "  a = analytic(x)\n",
        "  env = np.abs(a)\n",
        "  if(FILTER_ENVELOPE): env = lowpass_zerophase(env)\n",
        "\n",
        "  if(showFreq):\n",
        "\n",
        "    #Calculo frecuencia instantánea\n",
        "    ph = np.angle(a)\n",
        "    ph = np.unwrap(ph)\n",
        "    #ph = signal.medfilt(ph, 3) #saco picos\n",
        "    f = np.diff(ph)*sr/np.pi/2\n",
        "    #f = signal.medfilt(f, 3) #saco picos\n",
        "\n",
        "    #Descarto los valores basura\n",
        "    #Si la amplitud es muy baja, la fase pierde su sentido. Hago un criterio muy simple: Si la amplitud promedio en un umbral es menor a tal valor, en ese ciclo dejo la frecuencia como \"0\"\n",
        "    for i in range(0,len(f), 500):\n",
        "      n = len(f[i:i+500])\n",
        "      energy = np.sum(env[i:i+n])/n\n",
        "      if(energy < 0.01): f[i:i+n] = np.zeros(n)\n",
        "\n",
        "\n",
        "    #fig, axs = plt.subplots(3, figsize = (18,6))\n",
        "    fig, axs = plt.subplots(2, figsize = (15,6))\n",
        "\n",
        "    axs[0].set_title('Señal x(t) ;  Envolvente')\n",
        "    axs[0].plot(x, color ='b', label= 'x(t)')\n",
        "    axs[0].set_xlim([0,rango])\n",
        "\n",
        "  # axs[1].set_title('Envolvente')\n",
        "    axs[0].plot(env[:rango], 'r--', label='envelope') # color='r'\n",
        "    axs[0].plot(-1*env[:rango], 'r--', label='envelope') # color='r'\n",
        "    #axs[1].set_xlim([0,500])\n",
        "\n",
        "    #axs[1].set_title('Fase')\n",
        "    #axs[1].plot(ph[:rango])\n",
        "    #axs[2].set_xlim([0,500])\n",
        "\n",
        "    axs[1].set_title('Frecuencia')\n",
        "    axs[1].plot(f[1:rango], color = 'orange', label = 'Frecuencia Instantánea')\n",
        "    #axs[1].set_ylim([0,500])\n",
        "    axs[1].plot(0)\n",
        "    axs[1].set_xlim([0,rango])\n",
        "\n",
        "  else:\n",
        "    fig, axs = plt.subplots(1, figsize = (15,4))\n",
        "    axs.set_title('Señal x(t) ;  Envolvente')\n",
        "    axs.plot(x, color ='b', label= 'x(t)')\n",
        "    axs.set_xlim([0,rango])\n",
        "\n",
        "    axs.plot(env[:rango], 'r--', label='envelope') # color='r'\n",
        "    axs.plot(-1*env[:rango], 'r--', label='envelope') # color='r'\n",
        "\n",
        "  plt.show()"
      ]
    },
    {
      "cell_type": "markdown",
      "metadata": {
        "id": "PrfuOwngmLJl"
      },
      "source": [
        "## Métodos alternativos (FIR)"
      ]
    },
    {
      "cell_type": "markdown",
      "metadata": {
        "id": "ogz4tXoYuMC_"
      },
      "source": [
        "\n",
        "\n",
        "---\n",
        "\n",
        "\n",
        "Explicación: El método 1 proviene de samplear la rta  impulso (infinita) y hacer convolución.  Dejo una demo abajo, de como se puede obtener un aproximado a esa rta definiendo el espectro de esa IR con una FFT de N puntos y tomando ifft. Cuantos más puntos, más se parece a la respuesta del caso límite.\n",
        "\n",
        "\n",
        "El método 2 es aplicar directamente la definición analógica a la discreta\n",
        "\n",
        "Estudio abajo el método 1"
      ]
    },
    {
      "cell_type": "markdown",
      "metadata": {
        "id": "sXtZnLN9k3lC"
      },
      "source": [
        "Método 1:"
      ]
    },
    {
      "cell_type": "code",
      "execution_count": null,
      "metadata": {
        "id": "XqpxV01vmBqm"
      },
      "outputs": [],
      "source": [
        "def HT_FIR(x):\n",
        "  M = 1024 #Cantidad de puntos del FIR.\n",
        "  h = np.zeros(M)\n",
        "  #for i in range(-M+1,M): h[i] = 2/i/np.pi\n",
        "  for i in range(-(M//2)+1, M//2+1, 2): h[i-M//2] =  2/i/np.pi  #respuesta a impulso discreta\n",
        "  h *= Tukey_window(M, 0.1)\n",
        "\n",
        "  H2 = np.convolve(x, h)\n",
        "  return H2[M//2+1: len(x) + M//2+1]\n",
        "\n",
        "def analyticFIR(x):\n",
        "  return x + np.j*HT_FIR(x)\n"
      ]
    },
    {
      "cell_type": "code",
      "execution_count": null,
      "metadata": {
        "id": "Aqr9Rqs1mCrV"
      },
      "outputs": [],
      "source": [
        "def HT_FIR2(x):\n",
        "  M = 1024//2 #Cantidad de puntos del FIR.\n",
        "  h1 = [1/i/np.pi for i in range(-M,0)]\n",
        "  h2 = [1/i/np.pi for i in range(1,M+1)]\n",
        "  h = np.array(h1+h2)\n",
        "  h *= Tukey_window(2*M, 0.1)\n",
        "\n",
        "  H2 = np.convolve(x, h)\n",
        "  return H2[M+1: len(x) + M+1]\n",
        "\n",
        "def analyticFIR2(x):\n",
        "  return x + np.j*HT_FIR(x)"
      ]
    },
    {
      "cell_type": "code",
      "execution_count": null,
      "metadata": {
        "id": "Gy5UMHWdufER"
      },
      "outputs": [],
      "source": [
        "#Demostración: Tomo la respuesta a impulso a partir de la definición del espectro, y después calculo  lo mismo usando la fórmula cerrada\n",
        "#Veo que ambas coinciden\n",
        "N = 32\n",
        "x = np.zeros(N, dtype='complex')\n",
        "x[0]=0\n",
        "for i in range(1,N//2): x[i]= -1j\n",
        "for i in range(N//2+1,N): x[i]= 1j\n",
        "h = ifft(x)\n",
        "plt.plot(h)\n",
        "\n",
        "h2 = np.zeros(N)\n",
        "for i in range(1,N//2,2): h2[i] = 2/np.pi/i #términos positivos\n",
        "for i in range(-N//2+1,0,2): h2[i] = 2/np.pi/(i) #términos negativos\n",
        "plt.plot(h2)\n",
        "\n",
        "err = np.array(h)-np.array(h2)\n",
        "plt.plot(err)\n",
        "errMax = max( (v, i) for i, v in enumerate(abs(err)) )\n",
        "print('El máximo error relativo es ' + str(errMax[0]/ h[errMax[1]] ))"
      ]
    },
    {
      "cell_type": "code",
      "execution_count": null,
      "metadata": {
        "id": "8Py89qnnzE7e"
      },
      "outputs": [],
      "source": [
        "fig, axs = plt.subplots(2)\n",
        "\n",
        "H = fft(h)\n",
        "axs[0].plot(np.real(H))\n",
        "axs[0].plot(np.imag(H))\n",
        "\n",
        "H2 = fft(h2)\n",
        "axs[1].plot(np.real(H2))\n",
        "axs[1].plot(np.imag(H2))"
      ]
    },
    {
      "cell_type": "markdown",
      "metadata": {
        "id": "fObVFjn1ytSO"
      },
      "source": [
        "Y el método FFT es similar al Método FIR usando una respuesta a impulso del mismo largo que la señal de entrada y aplicando **circular convolution**. Esto se ve porque, si por ej, la señal de entrada y la IR tienen ambas 32 samples por ej, la DFT de la IR es exactamente -isgn(w), como se ve arriba"
      ]
    },
    {
      "cell_type": "code",
      "execution_count": null,
      "metadata": {
        "id": "c-G42ScrytDd"
      },
      "outputs": [],
      "source": [
        "wnoise = 2*(np.random.rand(N) - .5) #ruido del mismo largo de la señal\n",
        "out = np.convolve(wnoise, h) #convolucion - ambas tienen la misma longitud, y diseñé h para que su fft sea justo la función signo que está arriba\n",
        "#out tiene 2N-1 puntos\n",
        "\n",
        "#Comparo contra el método fft:\n",
        "out2 = HT(wnoise)  #Tiene N puntos\n",
        "\n",
        "#ahora, la manera en que la fft hace el wrap-around es la siguiente:\n",
        "out3 = np.array(out[:N-1])+ np.array(out[N:]) #suma de la primer mitad + segunda mitad invertida\n",
        "\n",
        "\n",
        "#ahora sí: La convolución con la IR diseñada del mismo largo que la señal de entrada + sumarse a si misma invertida\n",
        "# coincide con aplicar la FFT y\n",
        "\n",
        "plt.plot(out2)\n",
        "plt.plot(out3)"
      ]
    },
    {
      "cell_type": "markdown",
      "metadata": {
        "id": "hpYqWru2jqGc"
      },
      "source": [
        "## Ventanas"
      ]
    },
    {
      "cell_type": "code",
      "execution_count": null,
      "metadata": {
        "id": "HW1fu_mYjpXO"
      },
      "outputs": [],
      "source": [
        "def Tukey_window(N, alpha):\n",
        "  w = np.ones(N)\n",
        "  for i in range(int(alpha*N//2)):\n",
        "    v = .5 - .5*np.cos(2*pi*i/N/alpha)\n",
        "    w[i] =  v\n",
        "    w[N-i-1] = v\n",
        "  return w\n",
        "\n",
        "def Planck_window(N, eps):\n",
        "  w = np.ones(N)\n",
        "  w[0] = 0.\n",
        "  for i in range(1,int(eps*N)):\n",
        "    en = eps*N\n",
        "    v = 1+ np.exp(en/i - en/(en-i))\n",
        "    v= 1/v\n",
        "    w[i] =  v\n",
        "    w[N-i] = v\n",
        "  return w"
      ]
    },
    {
      "cell_type": "code",
      "execution_count": null,
      "metadata": {
        "id": "bBTs85Nej3I2"
      },
      "outputs": [],
      "source": [
        "#prueba de las ventanas\n",
        "plt.figure(0)\n",
        "plt.title('Planck Window')\n",
        "plt.plot(Planck_window(1000,0.1))\n",
        "\n",
        "plt.figure(1)\n",
        "plt.title('Tukey Window')\n",
        "plt.plot(Tukey_window(1000,0.1))"
      ]
    },
    {
      "cell_type": "markdown",
      "metadata": {
        "id": "Trjl2sNIxk91"
      },
      "source": [
        "#Pruebas"
      ]
    },
    {
      "cell_type": "code",
      "execution_count": null,
      "metadata": {
        "id": "Re7J0ZLxacUo"
      },
      "outputs": [],
      "source": [
        "FILTER_ENVELOPE = True"
      ]
    },
    {
      "cell_type": "code",
      "execution_count": null,
      "metadata": {
        "id": "qjaNT0KRmWYl"
      },
      "outputs": [],
      "source": [
        "def compararMetodos(x, senialEsperada, envolvente =False, logScale = False, n =None, envRef = None):\n",
        "  #n es la entrada\n",
        "  fig, axs = plt.subplots(1,4, sharey= True)\n",
        "  fig.set_size_inches(26, 8)\n",
        "  for i in range(4):\n",
        "     axs[i].set_ylim(-1.1,1.1)\n",
        "     if(envolvente):\n",
        "      axs[i].set_ylim(-.1,1.2)\n",
        "     if(logScale): axs[i].set_yscale('log')\n",
        "\n",
        "  if(envolvente): axs[0].set_title('Envolvente Esperada')\n",
        "  else: axs[0].set_title('Señal Esperada')\n",
        "\n",
        "  axs[0].plot(senialEsperada)\n",
        "\n",
        "  for i, method, name in [(1,HT, \"FFT\"), (2, HT_FIR, \"FIR 1\"), (3, HT_FIR2, \"FIR 2\")]:\n",
        "\n",
        "    out = method(x)\n",
        "    if(envolvente):\n",
        "      out = np.sqrt(x**2 + out**2)\n",
        "      if(FILTER_ENVELOPE): out = lowpass_zerophase(out)\n",
        "\n",
        "\n",
        "    axs[i].set_title(f'Método {name} \\n Error RMS: {calcularErrorRMS(senialEsperada, out)}')\n",
        "    axs[i].set_xlabel('Muestras [n]', fontsize = 15)\n",
        "    if(n):\n",
        "      axs[i].plot(n, out, label = 'Obtenida')\n",
        "      axs[i].plot(n, senialEsperada, alpha = 0.4, color = 'red', label ='Esperada')\n",
        "    else:\n",
        "       axs[i].plot(out, label = 'Obtenida')\n",
        "       axs[i].plot(senialEsperada, alpha = 0.4, color = 'red', label = 'Esperada')\n",
        "    axs[i].legend()\n",
        "\n",
        "def calcularErrorRMS(a,b, strng = True, recortarBordes = 0):\n",
        "  i = recortarBordes\n",
        "  f = len(a) - recortarBordes-1\n",
        "  err = sum((np.array(a[i:f])-np.array(b[i:f]))**2)\n",
        "  if(strng): return \"{:0.2f}\".format(err)\n",
        "  else: return np.sqrt(err/len(a))"
      ]
    },
    {
      "cell_type": "markdown",
      "metadata": {
        "id": "ZBfQ1hlNzLr5"
      },
      "source": [
        "## Sobre Seniales Básicas"
      ]
    },
    {
      "cell_type": "markdown",
      "metadata": {
        "id": "xoGX90gAT4P8"
      },
      "source": [
        "Verificación de que se cumplan las propiedades básicas"
      ]
    },
    {
      "cell_type": "markdown",
      "metadata": {
        "id": "O9Fcw7_VoUP9"
      },
      "source": [
        "Verifico: La transformada de Hilbert de una constante es 0"
      ]
    },
    {
      "cell_type": "code",
      "execution_count": null,
      "metadata": {
        "id": "QTVw82jSm5mV"
      },
      "outputs": [],
      "source": [
        "x=np.ones(5000)\n",
        "esperada = np.zeros(5000)\n",
        "compararMetodos(x, esperada)"
      ]
    },
    {
      "cell_type": "markdown",
      "metadata": {
        "id": "d2eZEF16oXLO"
      },
      "source": [
        "Verifico: La transformada de Hilbert doble es \"-\" la original"
      ]
    },
    {
      "cell_type": "code",
      "execution_count": null,
      "metadata": {
        "id": "U-nF7UlZcNax"
      },
      "outputs": [],
      "source": [
        "files = ['hspeech1 48khz.wav','hspeech2 48khz.wav', 'beatles-001.wav', 'cornoi.wav', 'popper1.wav', 'sample.wav']\n",
        "s, sr = librosa.load(files[3])\n",
        "compararMetodos(s,-s)"
      ]
    },
    {
      "cell_type": "markdown",
      "metadata": {
        "id": "QbgFbupgwzj2"
      },
      "source": [
        "Verifico: La transformada de coseno es seno"
      ]
    },
    {
      "cell_type": "code",
      "execution_count": null,
      "metadata": {
        "id": "YXygdDR5onAd"
      },
      "outputs": [],
      "source": [
        "x = [np.cos(2*np.pi*i/sr*200)  for i in range(500)]\n",
        "esperada =  [np.sin(2*np.pi*i/sr*200)  for i in range(500)]\n",
        "compararMetodos(x, esperada)"
      ]
    },
    {
      "cell_type": "markdown",
      "metadata": {
        "id": "lkJc-nHuzug7"
      },
      "source": [
        "Verifico: La transformada de 1/x^2+1 es x/x^2+1"
      ]
    },
    {
      "cell_type": "code",
      "execution_count": null,
      "metadata": {
        "id": "MQ7orweG0qhU"
      },
      "outputs": [],
      "source": [
        "x = np.array([1/(i**2+1)  for i in range(-100,100)])\n",
        "esperada =  [i/(i**2+1) for i in range(-100,100)]\n",
        "compararMetodos(x, esperada)"
      ]
    },
    {
      "cell_type": "markdown",
      "metadata": {
        "id": "6z0XVBUy1u45"
      },
      "source": [
        "Verifico: La transformada de sinc(x) es 1-cos(x)/x"
      ]
    },
    {
      "cell_type": "code",
      "execution_count": null,
      "metadata": {
        "id": "2zVqBcVw1vK4"
      },
      "outputs": [],
      "source": [
        "x = np.array([np.sin(i)/i  for i in range(-1001,1000,2)])\n",
        "esperada =  [(1-np.cos(i))/i for i in range(-1001,1000,2)]\n",
        "compararMetodos(x, esperada)"
      ]
    },
    {
      "cell_type": "markdown",
      "metadata": {
        "id": "VgT2r3KUw3WC"
      },
      "source": [
        "Verifico: La transformada de exp.cos es exp.sin"
      ]
    },
    {
      "cell_type": "code",
      "execution_count": null,
      "metadata": {
        "id": "SRZxP4M9w3AK"
      },
      "outputs": [],
      "source": [
        "sr = 44100\n",
        "N = sr\n",
        "x = np.array([np.cos(2*np.pi*i/sr*200) for i in range(N)])\n",
        "env = np.array([np.exp(-i/10000) for i in range(N)])\n",
        "s = np.array([np.sin(2*np.pi*i/sr*200) for i in range(N)])\n",
        "compararMetodos(env*x, env*s, logScale= True)"
      ]
    },
    {
      "cell_type": "markdown",
      "metadata": {
        "id": "JegbaSTIzH5U"
      },
      "source": [
        "## Sobre envolventes"
      ]
    },
    {
      "cell_type": "markdown",
      "metadata": {
        "id": "5iDKyFv0qgCS"
      },
      "source": [
        "Extracción de la envolvente exp.sin"
      ]
    },
    {
      "cell_type": "code",
      "execution_count": null,
      "metadata": {
        "id": "7yNKfw5cqfcQ"
      },
      "outputs": [],
      "source": [
        "sr = 44100\n",
        "N = sr\n",
        "x = np.array([np.cos(2*np.pi*i/sr*200) for i in range(N)])\n",
        "env = np.array([np.exp(-i/10000) for i in range(N)])\n",
        "compararMetodos(env*x, env, envolvente = True)"
      ]
    },
    {
      "cell_type": "markdown",
      "metadata": {
        "id": "56iKVU4btnTE"
      },
      "source": [
        "Exponencial doble exp(-|t|)"
      ]
    },
    {
      "cell_type": "code",
      "execution_count": null,
      "metadata": {
        "id": "OI-tX1xVtqL-"
      },
      "outputs": [],
      "source": [
        "sr = 44100\n",
        "N = sr\n",
        "x = np.array([np.cos(2*np.pi*i/sr*200) for i in range(-N//2, N//2)])\n",
        "env = np.array([np.exp(-abs(i)/10000) for i in range(-N//2, N//2)])\n",
        "compararMetodos(env*x, env, envolvente = True)"
      ]
    },
    {
      "cell_type": "markdown",
      "metadata": {
        "id": "Z2KM4k4Mqj3a"
      },
      "source": [
        "Extracción de exp(-t^2).sin(t)"
      ]
    },
    {
      "cell_type": "code",
      "execution_count": null,
      "metadata": {
        "id": "id1VmlwJgR3M"
      },
      "outputs": [],
      "source": [
        "sr = 44100\n",
        "N = 2000\n",
        "FILTER_ENVELOPE= False\n",
        "x = np.array([np.cos(2*np.pi*i/sr*600) for i in range(-N//2, N//2)])\n",
        "env = np.array([np.exp(-i*i/N/N*15) for i in range(-N//2, N//2)])\n",
        "compararMetodos(env*x, env, envolvente = True)"
      ]
    },
    {
      "cell_type": "markdown",
      "metadata": {
        "id": "lLFyl64fWuxW"
      },
      "source": [
        "Aplicando un pasabajos para suavizar la onda obtenida:"
      ]
    },
    {
      "cell_type": "code",
      "execution_count": null,
      "metadata": {
        "id": "Se2BiHa3NdRF"
      },
      "outputs": [],
      "source": [
        "plt.plot(x*env)"
      ]
    },
    {
      "cell_type": "code",
      "execution_count": null,
      "metadata": {
        "id": "C109MMgC08gr"
      },
      "outputs": [],
      "source": [
        "sr = 44100\n",
        "N = 2000\n",
        "\n",
        "#t = np.linspace(0, sr/N, N)\n",
        "\n",
        "FILTER_ENVELOPE= False\n",
        "x = np.array([np.cos(2*np.pi*i/sr*600) for i in range(-N//2, N//2)]) + np.array([np.cos(2*np.pi*i/sr*700) for i in range(-N//2, N//2)])\n",
        "env = np.array([np.exp(-i*i/N/N*15) for i in range(-N//2, N//2)])\n",
        "\n",
        "\n",
        "fig, axs = plt.subplots(1,2, sharex= True)\n",
        "fig.set_size_inches(13, 5)\n",
        "axs[0].set_ylim(-1.1,1.1)\n",
        "axs[1].set_ylim(-.1,1.2)\n",
        "\n",
        "axs[0].set_title('Señal  $s[n] = e^{-n^2/100}.cos(2n\\pi $ / 70)')\n",
        "axs[1].set_title('Envolvente Esperada')\n",
        "\n",
        "axs[0].set_xlabel('Muestras [n]')\n",
        "axs[0].set_ylabel('Amplitud')\n",
        "axs[1].set_xlabel('Muestras [n]')\n",
        "\n",
        "axs[0].plot(x*env)\n",
        "axs[1].plot(env)\n",
        "\n",
        "plt.show()\n"
      ]
    },
    {
      "cell_type": "code",
      "execution_count": null,
      "metadata": {
        "id": "JGwbUIRT08gr"
      },
      "outputs": [],
      "source": [
        "sr = 44100\n",
        "N = 2000\n",
        "\n",
        "#t = np.linspace(0, sr/N, N)\n",
        "\n",
        "FILTER_ENVELOPE= False\n",
        "x = np.array([np.cos(2*np.pi *i/sr*600 + (np.sin(2*np.pi*i/sr*500))) for i in range(-N//2, N//2)])\n",
        "env = np.array([np.exp(-i*i/N/N*15) for i in range(-N//2, N//2)])\n",
        "\n",
        "\n",
        "fig, axs = plt.subplots(1,2, sharex= True)\n",
        "fig.set_size_inches(13, 5)\n",
        "axs[0].set_ylim(-1.1,1.1)\n",
        "axs[1].set_ylim(-.1,1.2)\n",
        "\n",
        "axs[0].set_title('Señal  $s[n] = e^{-n^2/100}.cos(2n\\pi $ / 70)')\n",
        "axs[1].set_title('Envolvente Esperada')\n",
        "\n",
        "axs[0].set_xlabel('Muestras [n]')\n",
        "axs[0].set_ylabel('Amplitud')\n",
        "axs[1].set_xlabel('Muestras [n]')\n",
        "\n",
        "axs[0].plot(x*env)\n",
        "axs[1].plot(env)\n",
        "\n",
        "plt.show()"
      ]
    },
    {
      "cell_type": "code",
      "execution_count": null,
      "metadata": {
        "id": "AXsfYy1R08gs"
      },
      "outputs": [],
      "source": [
        "compararMetodos(env*x, env, envolvente = True)"
      ]
    },
    {
      "cell_type": "code",
      "execution_count": null,
      "metadata": {
        "id": "YAOzS1htmYpP"
      },
      "outputs": [],
      "source": [
        "sr = 44100\n",
        "N = 2000\n",
        "\n",
        "#t = np.linspace(0, sr/N, N)\n",
        "\n",
        "FILTER_ENVELOPE= False\n",
        "\n",
        "dom = range(-N//2, N//2)\n",
        "\n",
        "x = np.array([np.cos(2*np.pi*i/sr*600) for i in dom ])\n",
        "env = np.array([np.exp(-i*i/N/N*15) for i in dom ])\n",
        "\n",
        "\n",
        "fig, axs = plt.subplots(1,2, sharex= True)\n",
        "fig.set_size_inches(13, 5)\n",
        "axs[0].set_ylim(-1.1,1.1)\n",
        "axs[1].set_ylim(-.1,1.2)\n",
        "\n",
        "axs[0].set_title('Señal de entrada \\n $s[n] = e^{-n^2/100}.cos(2n\\pi $ / 70)', fontsize = 15)\n",
        "axs[1].set_title('Envolvente Esperada \\n  env[n] = $e^{-n^2/100}$', fontsize = 15)\n",
        "\n",
        "axs[0].set_xlabel('Muestras [n]', fontsize = 14)\n",
        "axs[0].set_ylabel('Amplitud', fontsize = 14)\n",
        "axs[1].set_xlabel('Muestras [n]', fontsize = 14)\n",
        "\n",
        "axs[0].plot(dom, x*env)\n",
        "axs[1].plot(dom, env)\n",
        "\n",
        "plt.show()\n"
      ]
    },
    {
      "cell_type": "code",
      "execution_count": null,
      "metadata": {
        "id": "jMp3viRp08gs"
      },
      "outputs": [],
      "source": [
        "compararMetodos(env*x, env, envolvente = True, n = dom)"
      ]
    },
    {
      "cell_type": "code",
      "execution_count": null,
      "metadata": {
        "id": "JtnuWD3s08gs"
      },
      "outputs": [],
      "source": [
        "FILTER_ENVELOPE = True\n",
        "compararMetodos(env*x, env, envolvente = True, n = dom)"
      ]
    },
    {
      "cell_type": "code",
      "execution_count": null,
      "metadata": {
        "id": "AmGRNYHdRNV9"
      },
      "outputs": [],
      "source": [
        "H =HT_FIR2(x*env)\n",
        "E = np.sqrt(H**2 + (x*env)**2)\n",
        "plt.plot(E)"
      ]
    },
    {
      "cell_type": "code",
      "execution_count": null,
      "metadata": {
        "id": "muwgh750WmFJ"
      },
      "outputs": [],
      "source": [
        "sos = signal.butter(2, 0.01, 'lp', output='sos')\n",
        "filtered = signal.sosfilt(sos, E)\n",
        "plt.plot(filtered)\n",
        "(max(filtered))"
      ]
    },
    {
      "cell_type": "markdown",
      "metadata": {
        "id": "XsVuB8Ror70i"
      },
      "source": [
        "Y filtradas"
      ]
    },
    {
      "cell_type": "code",
      "execution_count": null,
      "metadata": {
        "id": "lCPDzOlor7bj"
      },
      "outputs": [],
      "source": [
        "sr = 44100\n",
        "N = 2000\n",
        "FILTER_ENVELOPE= True\n",
        "x = np.array([np.cos(2*np.pi*i/sr*600) for i in range(-N//2, N//2)])\n",
        "env = np.array([np.exp(-i*i/N/N*15) for i in range(-N//2, N//2)])\n",
        "compararMetodos(env*x, env, envolvente = True)"
      ]
    },
    {
      "cell_type": "markdown",
      "metadata": {
        "id": "I7xEUMSnqnf3"
      },
      "source": [
        "extraccion de rampa lineal"
      ]
    },
    {
      "cell_type": "code",
      "execution_count": null,
      "metadata": {
        "id": "fcT2AJEWgidT"
      },
      "outputs": [],
      "source": [
        "sr = 44100\n",
        "N = sr\n",
        "x = np.array([np.cos(2*np.pi*i/sr*200) for i in range(-N//2, N//2)])\n",
        "env = np.array([abs(i)/N for i in range(-N//2, N//2)])\n",
        "compararMetodos(env*x, env, envolvente = True)"
      ]
    },
    {
      "cell_type": "code",
      "execution_count": null,
      "metadata": {
        "id": "mtkqHJoihfOF"
      },
      "outputs": [],
      "source": [
        "sr = 44100\n",
        "N = sr\n",
        "x = np.array([np.cos(2*np.pi*i/sr*200) for i in range(-N//2, N//2)])\n",
        "env = np.array([i/N for i in range(N//2)]+ [i/N for i in range(N//2,0,-1)])\n",
        "compararMetodos(env*x, env, envolvente = True)"
      ]
    },
    {
      "cell_type": "markdown",
      "metadata": {
        "id": "fxf_7OT3qpwD"
      },
      "source": [
        "extraccion de parábola"
      ]
    },
    {
      "cell_type": "code",
      "execution_count": null,
      "metadata": {
        "id": "0YBAFcBmhu5S"
      },
      "outputs": [],
      "source": [
        "sr = 44100\n",
        "N = sr\n",
        "x = np.array([np.cos(2*np.pi*i/sr*200) for i in range(-N//2, N//2)])\n",
        "env = np.array([8*i*i/N/N for i in range(N//2)]+ [8*i*i/N/N for i in range(N//2,0,-1)])\n",
        "compararMetodos(env*x, env, envolvente = True)"
      ]
    },
    {
      "cell_type": "markdown",
      "metadata": {
        "id": "gtLt9u2Lwg0s"
      },
      "source": [
        "## Sobre transientes"
      ]
    },
    {
      "cell_type": "code",
      "execution_count": null,
      "metadata": {
        "id": "HrrntJoNwiYM"
      },
      "outputs": [],
      "source": [
        "sr = 44100\n",
        "N = sr*2\n",
        "zer = np.zeros(N)\n",
        "x = zer\n",
        "env = zer\n",
        "x[20000:40000] += np.array([np.cos(2*np.pi*i/sr*200) for i in range(20000)])\n",
        "env[20000:40000] = np.array([np.exp(-abs(i)/10000) for i in range(20000)])\n",
        "\n",
        "compararMetodos(env*x, env, envolvente = True)"
      ]
    },
    {
      "cell_type": "code",
      "execution_count": null,
      "metadata": {
        "id": "LVJW17t2j8Oa"
      },
      "outputs": [],
      "source": [
        "sr = 44100\n",
        "N = sr\n",
        "x = np.array([np.cos(2*np.pi*i/sr*200) for i in range(-N//2, N//2)])\n",
        "env = np.array([3*i*i/N/N for i in range(N//2)]+ [i*i/N/N for i in range(N//2,0,-1)])\n",
        "compararMetodos(env*x, env, envolvente = True)"
      ]
    },
    {
      "cell_type": "markdown",
      "metadata": {
        "id": "6dQ5AsXkvbvg"
      },
      "source": [
        "Sin filtrar"
      ]
    },
    {
      "cell_type": "code",
      "execution_count": null,
      "metadata": {
        "id": "jsK0EXY_kGrT"
      },
      "outputs": [],
      "source": [
        "sr = 44100\n",
        "N = sr\n",
        "FILTER_ENVELOPE = False\n",
        "x = np.array([np.cos(2*np.pi*i/sr*200) for i in range(-N//2, N//2)])\n",
        "env = np.array([i/N for i in range(N//2)]+ [2*i/N for i in range(N//2,0,-1)])\n",
        "compararMetodos(env*x, env, envolvente = True)"
      ]
    },
    {
      "cell_type": "markdown",
      "metadata": {
        "id": "6GlB9qbpvc3m"
      },
      "source": [
        "Filtrando"
      ]
    },
    {
      "cell_type": "code",
      "execution_count": null,
      "metadata": {
        "id": "sYnFI3DUsFx0"
      },
      "outputs": [],
      "source": [
        "sr = 44100\n",
        "N = sr\n",
        "FILTER_ENVELOPE = True\n",
        "x = np.array([np.cos(2*np.pi*i/sr*200) for i in range(-N//2, N//2)])\n",
        "env = np.array([i/N for i in range(N//2)]+ [2*i/N for i in range(N//2,0,-1)])\n",
        "compararMetodos(env*x, env, envolvente = True)"
      ]
    },
    {
      "cell_type": "code",
      "execution_count": null,
      "metadata": {
        "id": "U_nOByZK08gv"
      },
      "outputs": [],
      "source": [
        "sr = 44100\n",
        "N = 2000\n",
        "FILTER_ENVELOPE = True\n",
        "dom = range(-N//2, N//2)\n",
        "x = np.array([np.cos(2*np.pi*i/sr*200) for i in dom])\n",
        "env = np.array([i/N for i in range(N//2)]+ [2*i/N for i in range(N//2,0,-1)])\n",
        "\n",
        "\n",
        "plt.plot(dom, env*x)\n",
        "plt.plot(dom,env)"
      ]
    },
    {
      "cell_type": "code",
      "execution_count": null,
      "metadata": {
        "id": "-3Su-rRG08gv"
      },
      "outputs": [],
      "source": [
        "FILTER_ENVELOPE = True\n",
        "compararMetodos(env*x, env, envolvente = True)"
      ]
    },
    {
      "cell_type": "code",
      "execution_count": null,
      "metadata": {
        "id": "jQzZSze808gv"
      },
      "outputs": [],
      "source": [
        "sr = 44100\n",
        "N = 2000\n",
        "FILTER_ENVELOPE = True\n",
        "dom = range(-N//2, N//2)\n",
        "x = np.array([np.cos(2*np.pi*i/sr*200) for i in dom])\n",
        "env = np.array([i for i in range(950)]+ [i +(i-950)*i/30 for i in range(950,1000)] + [i +50*1000/30 +(i-1000)*i/20 for i in range(1000,1050)] + [1050+50*1000/30+50*1050/20-3*(i-1050) for i in range(1050,2000)])/N/2.5\n",
        "\n",
        "fig, ax = plt.subplots(1, figsize = (6,8))\n",
        "\n",
        "plt.plot(dom, env*x, label ='s[n]')\n",
        "plt.plot(dom,env, label = 'env[n]')\n",
        "plt.title('$s[n]$ = cos($2\\pi.n/220$). $env[n]$', fontsize = 16)\n",
        "plt.xlabel('Muestras [n]', fontsize=13)\n",
        "plt.ylabel('Amplitud', fontsize = 13)\n",
        "plt.legend()\n"
      ]
    },
    {
      "cell_type": "code",
      "execution_count": null,
      "metadata": {
        "id": "85smLvcA08gv"
      },
      "outputs": [],
      "source": [
        "FILTER_ENVELOPE = False\n",
        "compararMetodos(env*x, env, envolvente = True, n = dom)"
      ]
    },
    {
      "cell_type": "code",
      "execution_count": null,
      "metadata": {
        "id": "J2DtQgDV08gw"
      },
      "outputs": [],
      "source": [
        "FILTER_ENVELOPE = True\n",
        "compararMetodos(env*x, env, envolvente = True, n = dom)"
      ]
    },
    {
      "cell_type": "markdown",
      "metadata": {
        "id": "1u7h9q_OsfkV"
      },
      "source": [
        "Pruebas básicas sobre el método FFT"
      ]
    },
    {
      "cell_type": "code",
      "execution_count": null,
      "metadata": {
        "id": "zi--Ql8gw7Jb"
      },
      "outputs": [],
      "source": [
        "x = [np.exp(-i/1000)*np.sin(2*np.pi*i/sr*200) for i in range(N)]\n",
        "graficarTodo(x, rango = 5000)"
      ]
    },
    {
      "cell_type": "code",
      "execution_count": null,
      "metadata": {
        "id": "FG2mW9eXvy1a"
      },
      "outputs": [],
      "source": [
        "files = ['hspeech1 48khz.wav','hspeech2 48khz.wav', 'beatles-001.wav', 'cornoi.wav', 'popper1.wav', 'sample.wav']\n",
        "s, sr = librosa.load(files[3])\n",
        "x = HT(HT(s))\n",
        "display(Audio(x, rate = sr))\n",
        "plt.plot(s[4000:5000])\n",
        "plt.plot(x[4000:5000])\n",
        "plt.plot((np.array(s)+np.array(x))[4000:5000]) #si la suma se cancela, es que está bien!"
      ]
    },
    {
      "cell_type": "code",
      "execution_count": null,
      "metadata": {
        "id": "IoxDsaKMsiA2"
      },
      "outputs": [],
      "source": [
        "#Verifico: La transformada de Hilbert de cos es sen:\n",
        "x = [np.cos(2*np.pi*i/sr*200)  for i in range(500)]\n",
        "H = HT(x)\n",
        "env = [np.sqrt(x[i]**2+H[i]**2)  for i in range(len(x))]\n",
        "plt.plot(x)\n",
        "plt.plot(H)\n",
        "plt.plot(env)"
      ]
    },
    {
      "cell_type": "markdown",
      "metadata": {
        "id": "Y_MNnPKhXEqb"
      },
      "source": [
        "# Análisis de señales sintetizadas (método FFT)\n",
        "Analizo frecuencia y amplitud de algunas señales"
      ]
    },
    {
      "cell_type": "code",
      "execution_count": null,
      "metadata": {
        "id": "BVbzCRMqbEFD"
      },
      "outputs": [],
      "source": [
        "sr = 48000\n",
        "dur = 1\n",
        "N = round(sr*dur)"
      ]
    },
    {
      "cell_type": "code",
      "execution_count": null,
      "metadata": {
        "id": "33Jc936paMry"
      },
      "outputs": [],
      "source": [
        "x = [np.sin(2*np.pi*i/sr*200) + np.sin(2*np.pi*i/sr*380 +0.2) for i in range(N)]\n",
        "graficarTodo(x, range = 1000)"
      ]
    },
    {
      "cell_type": "code",
      "execution_count": null,
      "metadata": {
        "id": "KAEQBkNZamdr"
      },
      "outputs": [],
      "source": [
        "x = [np.sin(2*np.pi*i/sr*200) for i in range(N)]\n",
        "graficarTodo(x, range = 5000)"
      ]
    },
    {
      "cell_type": "code",
      "execution_count": null,
      "metadata": {
        "id": "8tqzkgpqyFBg"
      },
      "outputs": [],
      "source": [
        "x = [np.exp(-i/1000)*np.sin(2*np.pi*i/sr*200) for i in range(N)]\n",
        "graficarTodo(x, range = 5000)"
      ]
    },
    {
      "cell_type": "code",
      "execution_count": null,
      "metadata": {
        "id": "TUAKtVLO05oH"
      },
      "outputs": [],
      "source": [
        "x = [np.exp(-np.abs((i-5000)/1000))*np.sin(2*np.pi*i/sr*200) for i in range(N)]\n",
        "graficarTodo(x, range = 10000)"
      ]
    },
    {
      "cell_type": "code",
      "execution_count": null,
      "metadata": {
        "id": "DkRnLY5v1LyY"
      },
      "outputs": [],
      "source": [
        "graficarTodo(x, range = 20000)"
      ]
    },
    {
      "cell_type": "markdown",
      "metadata": {
        "id": "Ri1z9Jzc1j0H"
      },
      "source": [
        "Vemos que la información de la frecuencia y fase hay que ignorarla una vez que la amplitud de la señal es muy chica, en un intervalo grande, pero también en un sampl.\n",
        "Esto nos evita tener que descartar saltos abruptos en la señal de frecuencia instantánea, que nacen de saltos grandes en la señal de fase instantánea)"
      ]
    },
    {
      "cell_type": "code",
      "execution_count": null,
      "metadata": {
        "id": "-LqISGtk10-4"
      },
      "outputs": [],
      "source": [
        "x = [np.sin(2*np.pi*i/sr*200)*np.cos(2*np.pi*i/sr*10) for i in range(N)]\n",
        "graficarTodo(x, range=8000)"
      ]
    },
    {
      "cell_type": "code",
      "execution_count": null,
      "metadata": {
        "id": "xvyY9IdK64xZ"
      },
      "outputs": [],
      "source": [
        "x = [np.sin(2*np.pi*i/sr*200)+np.cos(2*np.pi*i/sr*10) for i in range(N)]\n",
        "graficarTodo(x, range=8000)"
      ]
    },
    {
      "cell_type": "code",
      "execution_count": null,
      "metadata": {
        "id": "EeKuisUh7Q54"
      },
      "outputs": [],
      "source": [
        "x = [np.sin(2*np.pi*i/sr*200)+np.cos(2*np.pi*i/sr*100) for i in range(N)]\n",
        "graficarTodo(x, range=5000)"
      ]
    },
    {
      "cell_type": "code",
      "execution_count": null,
      "metadata": {
        "id": "GbAG6iAL7uhx"
      },
      "outputs": [],
      "source": [
        "x = [np.sin(2*np.pi*i/sr*200)*np.cos(2*np.pi*i/sr*50) for i in range(N)]\n",
        "graficarTodo(x, range=8000)"
      ]
    },
    {
      "cell_type": "code",
      "execution_count": null,
      "metadata": {
        "id": "4AFa5_nk7sgK"
      },
      "outputs": [],
      "source": [
        "x = [np.sin(2*np.pi*i/sr*250)*(1-i*i/N/N) for i in range(N)]\n",
        "graficarTodo(x, range = N)"
      ]
    },
    {
      "cell_type": "code",
      "execution_count": null,
      "metadata": {
        "id": "GRJvhL27Cc9s"
      },
      "outputs": [],
      "source": [
        "from ipywidgets import interact\n",
        "\n",
        "def f(freq):\n",
        "  x = [np.exp(-i/4000)*np.sin(2*np.pi*i/sr*200) + np.exp(-i/2500)*np.sin(2*np.pi*i/sr*freq) for i in range(2*N)]\n",
        "  graficarTodo(x, range = 7000)\n",
        "  display(Audio(x, rate = sr))\n",
        "\n",
        "  #Envolvente de la envolvente:\n",
        "  '''\n",
        "  env = np.abs(analytic(x))\n",
        "  env = np.abs(analytic(env**2)) #Envolvente de la norma al cuadrado\n",
        "  env = np.sqrt(env)\n",
        "  plt.plot(x[:2000])\n",
        "  plt.plot(env[0:2000])\n",
        "  '''\n",
        "\n",
        "  return\n",
        "\n",
        "interact(f, freq=300)\n",
        "\n",
        "#Tiende a calcular la frecuencia promedio como la frecuencia, y la sinusoide de frecuencia diferencial como envolvente.\n",
        "#O sea, a usar la fórmula sen(f1) + sen(f2) = sen(f1+f2 /2).cos(f1-f2 /2)"
      ]
    },
    {
      "cell_type": "markdown",
      "metadata": {
        "id": "g0qQ2jDmVgOv"
      },
      "source": [
        "Si la función no es suave, la envolvente se vuelve loca: pruebas con |sin(t)|"
      ]
    },
    {
      "cell_type": "code",
      "execution_count": null,
      "metadata": {
        "id": "7OKExFqTVmiX"
      },
      "outputs": [],
      "source": [
        "x = [np.abs(np.sin(2*np.pi*i/sr*150)) for i in range(N)]\n",
        "graficarTodo(x, range = 10000)\n",
        "Audio(x, rate = sr)"
      ]
    },
    {
      "cell_type": "markdown",
      "metadata": {
        "id": "u1h8agx6vVyv"
      },
      "source": [
        "|sin(t)|.exp(-t)"
      ]
    },
    {
      "cell_type": "code",
      "execution_count": null,
      "metadata": {
        "id": "AO5yYhtoVy95"
      },
      "outputs": [],
      "source": [
        "x = [np.abs(np.sin(2*np.pi*i/sr*250))*np.exp(-i/10000) for i in range(N)]\n",
        "graficarTodo(x, range = 6000)"
      ]
    },
    {
      "cell_type": "code",
      "execution_count": null,
      "metadata": {
        "id": "zmXVRtRuvdSz"
      },
      "outputs": [],
      "source": []
    },
    {
      "cell_type": "markdown",
      "metadata": {
        "id": "svT9BpnTvZX9"
      },
      "source": [
        "|sin(t)|.exp(-t)(1-t^2)"
      ]
    },
    {
      "cell_type": "code",
      "execution_count": null,
      "metadata": {
        "id": "Rz2W5SovU9ch"
      },
      "outputs": [],
      "source": [
        "x = [np.abs(np.sin(2*np.pi*i/sr*250))*(1-i/N)*np.exp(-i/10000) for i in range(N)]\n",
        "graficarTodo(x, range = 10000)"
      ]
    },
    {
      "cell_type": "markdown",
      "metadata": {
        "id": "Um08wZo0SDGN"
      },
      "source": [
        "Probando con dos pasadas: Tomamos la envolvente de la envolvente y vemos si eso resulta en algo"
      ]
    },
    {
      "cell_type": "code",
      "execution_count": null,
      "metadata": {
        "id": "J51NQHseR2lW"
      },
      "outputs": [],
      "source": [
        "from ipywidgets import interact\n",
        "\n",
        "def f(freq):\n",
        "  x = [np.sin(2*np.pi*i/sr*200)*np.cos(2*np.pi*i/sr*freq) for i in range(N)]\n",
        "  graficarTodo(x, range = 10000)\n",
        "  display(Audio(x, rate = sr))\n",
        "  env = np.abs(analytic(x))\n",
        "  env = env**2 #norma al cuadrado, para ser diferenciable y que no se vuelva loca\n",
        "  env = np.abs(analytic(env))\n",
        "  plt.figure(figsize = (15,6))\n",
        "  plt.plot(np.sqrt(2*env)) #Tomo raíz cuadrada, no porque sea correcto, sino para compensar un poco el haber elevado al cuadrado antes. La constante la puse a mano después de ver el gráfico\n",
        "  plt.plot(x)\n",
        "  return\n",
        "\n",
        "interact(f, freq=10)"
      ]
    },
    {
      "cell_type": "markdown",
      "metadata": {
        "id": "qVZr8PwxWVkP"
      },
      "source": [
        "Y, resulta bárbaro, pero no tira la amplitud real, sino una escalada por una constante.\n",
        "Hacemos otra prueba con la suma de tres sinusoides en relación armónica:"
      ]
    },
    {
      "cell_type": "markdown",
      "metadata": {
        "id": "KSxMhAtKwp_Y"
      },
      "source": [
        "  ## Análisis de señales transientes"
      ]
    },
    {
      "cell_type": "markdown",
      "metadata": {
        "id": "GzlMisVW12Lu"
      },
      "source": [
        "Envolvente filtrada"
      ]
    },
    {
      "cell_type": "code",
      "execution_count": null,
      "metadata": {
        "id": "Q4y9jQIKws1F"
      },
      "outputs": [],
      "source": [
        "sr = 44100\n",
        "N = round(sr*0.1)\n",
        "fase1 = [2*pi*800*i/sr +0.2 + 0.2*cos(i*0.2) for i in range(N)]\n",
        "fase2 = [2*pi*930*i/sr +0.4 + 0.1*sin(i*0.12) for i in range(N)]\n",
        "\n",
        "s1 = cos(fase1) *.5\n",
        "s2 = cos(fase2) *.5\n",
        "\n",
        "env = [0 for i in range(N//4)] + [np.exp(-i*6/N) for i in range(N//2)] + [np.exp(-i*2/N) for i in range(N//4+1)]\n",
        "s= np.array(env)*(s1+s2)\n",
        "FILTER_ENVELOPE = True\n",
        "graficarTodo(s, showFreq=False)"
      ]
    },
    {
      "cell_type": "markdown",
      "metadata": {
        "id": "Eg8HP9rq14Iu"
      },
      "source": [
        "Sin filtrar"
      ]
    },
    {
      "cell_type": "code",
      "execution_count": null,
      "metadata": {
        "id": "Qb460j9dzDU8"
      },
      "outputs": [],
      "source": [
        "#Sin filtrar:\n",
        "FILTER_ENVELOPE = False\n",
        "graficarTodo(s, showFreq=False)"
      ]
    },
    {
      "cell_type": "markdown",
      "metadata": {
        "id": "zzMRgbJOWy1J"
      },
      "source": [
        "# Análisis de señales sintetizadas periódicas"
      ]
    },
    {
      "cell_type": "code",
      "execution_count": null,
      "metadata": {
        "id": "_x3SDQE-W3a_"
      },
      "outputs": [],
      "source": [
        "sr = 48000\n",
        "dur = 1\n",
        "N = round(sr*dur)\n",
        "\n",
        "def sinSig(freq, Amp=0.5, phase=0, damp=5, len = N):\n",
        "  x = [Amp*np.sin(2*np.pi*i/sr*freq+phase)*np.exp(-i*damp/sr) for i in range(N)]\n",
        "  return np.array(x)\n",
        "\n",
        "def buzz(freq, Amp):\n",
        "  x = np.ones(N)\n",
        "  for i in range(N):\n",
        "     if(i % (sr/freq) == 0): x[i]=-1.\n",
        "  return np.array(x)\n",
        "\n",
        "def sq(freq, Amp):\n",
        "  x = [1. for i in range(sr//freq)] #primer ciclo\n",
        "  for i in range(round(sr/freq/2)):\n",
        "    x[i] = -1. #primer medio ciclo\n",
        "  x *= round(freq/sr*N) #periodizo hasta la cantidad de samples necesaria\n",
        "  while(len(x)<N): x += [0]\n",
        "  return np.array(x)"
      ]
    },
    {
      "cell_type": "code",
      "execution_count": null,
      "metadata": {
        "id": "lMu8mgx9Wrgo"
      },
      "outputs": [],
      "source": [
        "x = sinSig(400, 0.5, 0, 7) + sinSig(800, 0.3, 0, 9)\n",
        "graficarTodo(x, range = 5000)\n",
        "Audio(x, rate = sr)"
      ]
    },
    {
      "cell_type": "code",
      "execution_count": null,
      "metadata": {
        "id": "sX9Ka80aY0qP"
      },
      "outputs": [],
      "source": [
        "x = buzz(400, 0.2)\n",
        "graficarTodo(x, range = 200)\n",
        "Audio(x, rate = sr)"
      ]
    },
    {
      "cell_type": "code",
      "execution_count": null,
      "metadata": {
        "id": "Rh9UdfQsanNA"
      },
      "outputs": [],
      "source": [
        "x = sq(400, 0.2)\n",
        "graficarTodo(x, range = 2000)\n",
        "Audio(x, rate = sr)"
      ]
    },
    {
      "cell_type": "code",
      "execution_count": null,
      "metadata": {
        "id": "u1hTQp7ld7z4"
      },
      "outputs": [],
      "source": [
        "x = sq(400, 0.2) + sq(600, 0.1)\n",
        "graficarTodo(x, range = 2000)\n",
        "Audio(x, rate = sr)"
      ]
    },
    {
      "cell_type": "code",
      "execution_count": null,
      "metadata": {
        "id": "iPK2EEJ-gDNC"
      },
      "outputs": [],
      "source": [
        "x = sq(400, 0.4) + sq(600, 0.2) + sq(800, 0.1)\n",
        "graficarTodo(x, range = 2000)\n",
        "Audio(x, rate = sr)"
      ]
    },
    {
      "cell_type": "code",
      "execution_count": null,
      "metadata": {
        "id": "5yWYz57MwR1_"
      },
      "outputs": [],
      "source": [
        "x = sinSig(400, Amp=0.4, damp = 0) + sinSig(600, Amp=0.3, damp=0) + sinSig(800, Amp=0.2, damp=0)\n",
        "graficarTodo(x, range = 2000)\n",
        "display(Audio(x, rate = sr))\n",
        "\n",
        "#Envolvente de la envolvente:\n",
        "print('Envolvente de la envolvente')\n",
        "env = np.abs(analytic(x)) #Envolvente\n",
        "env = np.abs(analytic(env**2)) #Envolvente del cuadrado de la envolvente\n",
        "env = np.sqrt(env) #Raiz para compensar\n",
        "plt.figure(figsize = (17,3))\n",
        "plt.plot(x[:2000])\n",
        "plt.plot(env[0:2000])"
      ]
    },
    {
      "cell_type": "code",
      "execution_count": null,
      "metadata": {
        "id": "TmO-y2oFwhvU"
      },
      "outputs": [],
      "source": [
        "plt.plot(x[:2000])\n",
        "plt.plot(env[0:2000])\n",
        "\n",
        "#Envolvente de la envolvente de la envolvente:\n",
        "print('Envolvente de la envolvente de la envolvente:')\n",
        "env = np.abs(analytic(env**2)) #Envolvente de la norma al cuadrado\n",
        "env = np.sqrt(env)*2\n",
        "\n",
        "plt.plot(env[0:2000])"
      ]
    },
    {
      "cell_type": "code",
      "execution_count": null,
      "metadata": {
        "id": "1zA5ruJegbup"
      },
      "outputs": [],
      "source": [
        "x = sinSig(400, Amp=0.4, damp = 4) + sinSig(600, Amp=0.3, damp=6) + sinSig(800, Amp=0.2, damp=8)\n",
        "graficarTodo(x, range = 2000)\n",
        "display(Audio(x, rate = sr))\n",
        "\n",
        "#Envolvente de la envolvente:\n",
        "env = np.abs(analytic(x))\n",
        "env = np.abs(analytic(env**2)) #Envolvente de la norma al cuadrado\n",
        "env = np.sqrt(env)\n",
        "plt.plot(x[:2000])\n",
        "plt.plot(env[0:2000])"
      ]
    },
    {
      "cell_type": "code",
      "execution_count": null,
      "metadata": {
        "id": "8d12vLiLs8T-"
      },
      "outputs": [],
      "source": [
        "#Envolvente de la envolvente de la envolvente (ya no mejora...)\n",
        "env = np.abs(analytic(env**2)) #Envolvente de la norma al cuadrado\n",
        "env = np.sqrt(env)\n",
        "plt.plot(x[:2000])\n",
        "plt.plot(env[0:2000])"
      ]
    },
    {
      "cell_type": "markdown",
      "metadata": {
        "id": "-vEJcI3sjd1S"
      },
      "source": [
        "Ruido filtrado con pasabanda butter:"
      ]
    },
    {
      "cell_type": "code",
      "execution_count": null,
      "metadata": {
        "id": "d4_ioQztjdNK"
      },
      "outputs": [],
      "source": [
        "from ipywidgets import interact\n",
        "\n",
        "def f(fc, bw):\n",
        "  orden = 6\n",
        "  fizq = fc -bw/2\n",
        "  fder = fc +bw/2\n",
        "  wnoise = 2*(np.random.rand(N) - .5) #ruido del mismo largo de la señal\n",
        "  sos = signal.butter(orden/2, [fizq,fder], 'bandpass', fs=sr, output='sos') #divido por 2 porque la implementación pide la cantidad de secciones de orden 2 para filtros BP\n",
        "  x = signal.sosfilt(sos, wnoise) * 10\n",
        "\n",
        "  graficarTodo(x)\n",
        "  display(Audio(x, rate = sr))\n",
        "  return\n",
        "\n",
        "interact(f, fc=(200, 400), bw = (20, 100))\n"
      ]
    },
    {
      "cell_type": "markdown",
      "metadata": {
        "id": "FW8145X5nP6_"
      },
      "source": [
        "Esto anda bastante bien! Funciona mucho mejor de lo esperado, tanto para la envolvente, como para la frecuencia (que debe ser promediada)\n",
        "Si, de vuelta, pedimos la envolvente de la envolvente:"
      ]
    },
    {
      "cell_type": "code",
      "execution_count": null,
      "metadata": {
        "id": "w1Xa8b7EnbB6"
      },
      "outputs": [],
      "source": [
        "#Envolvente de la envolvente:\n",
        "env = np.abs(analytic(x))**2\n",
        "env = np.abs(analytic(env))\n",
        "env = np.sqrt(env)\n",
        "plt.plot(env)\n",
        "plt.plot(x)"
      ]
    },
    {
      "cell_type": "markdown",
      "metadata": {
        "id": "fq993ksSV1fW"
      },
      "source": [
        "#Definición del banco de filtros (*)"
      ]
    },
    {
      "cell_type": "code",
      "execution_count": null,
      "metadata": {
        "id": "jsL8ldd9V5NP"
      },
      "outputs": [],
      "source": [
        "def filter_bank(s, freqs, fs=sr, orden = 6, bw = 1): #bw va entre 0 y 1. Hace más angostas las bandas centraadas en las frecuencias \"freqs\"\n",
        "  N = len(freqs)\n",
        "\n",
        "  #Out (array con todas las señales filtradas)\n",
        "  filtered_bank = []\n",
        "\n",
        "  fizq = 150 # freq izq de la primer banda, la asumo\n",
        "\n",
        "  #e1 --> N-1\n",
        "  for i in range(N-1):\n",
        "\n",
        "\n",
        "    fc = freqs[i]\n",
        "    fder = freqs[i+1]\n",
        "\n",
        "    f1 = fc - (fc-fizq)/2*bw\n",
        "    f2 = fc + (fder-fc)/2*bw\n",
        "    fizq = fc\n",
        "\n",
        "    sos = signal.butter(orden/2, [f1,f2], 'bandpass', fs=fs, output='sos') #divido por 2 porque la implementación pide la cantidad de secciones de orden 2 para filtros BP\n",
        "    filtered_bank.append(signal.sosfilt(sos, s))\n",
        "\n",
        "  #eN --> Nyquist\n",
        "\n",
        "  #Pasaaltos\n",
        "  sos = signal.butter(orden, freqs[-1], 'highpass', fs=fs, output='sos')\n",
        "  filtered_bank.append(signal.sosfilt(sos, s))\n",
        "\n",
        "  return filtered_bank"
      ]
    },
    {
      "cell_type": "code",
      "execution_count": null,
      "metadata": {
        "id": "7s1ceh0PWcU-"
      },
      "outputs": [],
      "source": [
        "freqs_AB = [333, 455, 540, 642, 762, 906, 1076, 1278, 1518, 1803, 2142, 2544, 3022, 3590, 4264, 6645]\n",
        "freqs_MED = [120,235,384,579,836, 1175,1624,2222,3019,4084,5507,7410]"
      ]
    },
    {
      "cell_type": "markdown",
      "metadata": {
        "id": "not4Qu9eXX1C"
      },
      "source": [
        "# Análisis de señales reales\n",
        "\n",
        "Analizo señales melódicas, primero como vienen, y luego filtradas a través de un banco de filtros pasabanda.\n",
        "Sacar la envolvente de la señal completa, antes de pasarla por el banco de filtros, no tiene ninguna utilidad ni importancia. Dejo algunas a modo de curiosidad simplemente."
      ]
    },
    {
      "cell_type": "markdown",
      "metadata": {
        "id": "gf5y8uVTIAvg"
      },
      "source": [
        "## Melodía localmente estacionaria (corno inglés)"
      ]
    },
    {
      "cell_type": "code",
      "execution_count": null,
      "metadata": {
        "id": "XyEcGX1mTfiw"
      },
      "outputs": [],
      "source": [
        "s, sr = librosa.load('cornoi.wav') #Fundamental comprendida entre 250hz y 415hz\n",
        "x = s[:sr*6]\n",
        "graficarTodo(x)\n",
        "display(Audio(x, rate = sr))"
      ]
    },
    {
      "cell_type": "markdown",
      "metadata": {
        "id": "_pxXg-_CEPQy"
      },
      "source": [
        "Analizamos más de cerca esta forma de onda..."
      ]
    },
    {
      "cell_type": "code",
      "execution_count": null,
      "metadata": {
        "id": "LZcYvtFVhdip"
      },
      "outputs": [],
      "source": [
        "from ipywidgets import interact\n",
        "\n",
        "def g(i,n):\n",
        "  x = s[round(sr*i):round(sr*i + n)]\n",
        "  plt.plot(x)\n",
        "  xperiodic = []\n",
        "  while(len(xperiodic) < sr): xperiodic += list(x) #append\n",
        "  display(Audio(xperiodic, rate = sr))\n",
        "  return\n",
        "\n",
        "interact(g, i = (0, len(x)/sr), n=(0, sr))"
      ]
    },
    {
      "cell_type": "markdown",
      "metadata": {
        "id": "tiC5-HT_bxpP"
      },
      "source": [
        "Pasándola por el banco de filtros:"
      ]
    },
    {
      "cell_type": "code",
      "execution_count": null,
      "metadata": {
        "id": "t9Vgo3xwb0m0"
      },
      "outputs": [],
      "source": [
        "from ipywidgets import interact\n",
        "\n",
        "def g(i,n, fi):\n",
        "  filtradas = filter_bank(s, freqs_AB, sr, orden = 10, bw = 0.5)\n",
        "  x= filtradas[fi]\n",
        "  print('Frecuencia Central del filtro: ' + str(freqs_AB[fi]))\n",
        "  graficarTodo(x[i:i+n], showFreq=True)\n",
        "  display(Audio(x, rate = sr))\n",
        "\n",
        "interact(g, i = (0, len(x)), n = (0, sr), fi = (0, len(freqs_AB)))"
      ]
    },
    {
      "cell_type": "markdown",
      "metadata": {
        "id": "vpU7pLQQ1lCm"
      },
      "source": [
        "Comentarios:\n",
        "\n",
        "1) Al usar una banda angosta, la señal resultante termina pareciéndose a una sinusoide y la envolvente es dentro de todo fiel\n",
        "\n",
        "\n",
        "2) Una melodía simple como esta (Db3 - Ab3) tiene su fundamental siempre adentro de la primer banda de análisis, con lo cual, a falta de estructura fina, con la envolvente sola de esa banda no hago NADA.\n",
        "\n"
      ]
    },
    {
      "cell_type": "markdown",
      "metadata": {
        "id": "OnD2cL6XII9A"
      },
      "source": [
        "##Melodía localmente percusiva (cello stacc)"
      ]
    },
    {
      "cell_type": "code",
      "execution_count": null,
      "metadata": {
        "id": "b9LDWEhIIMsf"
      },
      "outputs": [],
      "source": [
        "s, sr = librosa.load('drive/MyDrive/Audios/' + 'popper1.wav')\n",
        "x = s[:sr*6]\n",
        "graficarTodo(x, showFreq=False)\n",
        "display(Audio(x, rate = sr))"
      ]
    },
    {
      "cell_type": "code",
      "execution_count": null,
      "metadata": {
        "id": "Np5S2TQ0IQvj"
      },
      "outputs": [],
      "source": [
        "from ipywidgets import interact\n",
        "\n",
        "def g(ti,n):\n",
        "  x = s[round(sr*ti):round(sr*ti + n)]\n",
        "  graficarTodo(x, showFreq = False)\n",
        "  display(Audio(x, rate = sr))\n",
        "  return\n",
        "\n",
        "interact(g, ti = (0, len(s)/sr), n=(0, sr))"
      ]
    },
    {
      "cell_type": "markdown",
      "metadata": {
        "id": "FlCg5j-_JBfp"
      },
      "source": [
        "## Melodía localmente percusiva (clave)\n",
        "\n"
      ]
    },
    {
      "cell_type": "code",
      "execution_count": null,
      "metadata": {
        "id": "7Hu9giTqJA7Y"
      },
      "outputs": [],
      "source": [
        "s, sr = librosa.load('drive/MyDrive/Audios/' + 'bach8.wav')\n",
        "x = s[:sr*6]\n",
        "graficarTodo(x, showFreq = False)\n",
        "display(Audio(x, rate = sr))"
      ]
    },
    {
      "cell_type": "code",
      "execution_count": null,
      "metadata": {
        "id": "TNPxQxg6J_sR"
      },
      "outputs": [],
      "source": [
        "from ipywidgets import interact\n",
        "\n",
        "def g(ti,n):\n",
        "  x = s[round(sr*ti):round(sr*ti + n)]\n",
        "  graficarTodo(x, showFreq=False)\n",
        "  display(Audio(x, rate = sr))\n",
        "  return\n",
        "\n",
        "interact(g, ti = (0, len(s)/sr), n=(0, sr))"
      ]
    },
    {
      "cell_type": "markdown",
      "metadata": {
        "id": "fap4jpvs7Ckd"
      },
      "source": [
        "## Oboe Staccato"
      ]
    },
    {
      "cell_type": "code",
      "execution_count": null,
      "metadata": {
        "id": "rb1hA_1n7B71"
      },
      "outputs": [],
      "source": [
        "s, sr = librosa.load('obStacc.wav')\n",
        "x = s[sr*8:sr*9]\n",
        "graficarTodo(x, showFreq = False)\n",
        "display(Audio(x, rate = sr))"
      ]
    },
    {
      "cell_type": "code",
      "execution_count": null,
      "metadata": {
        "id": "UFmiJL-RbbK_"
      },
      "outputs": [],
      "source": [
        "from ipywidgets import interact\n",
        "\n",
        "def g(i,n, fi):\n",
        "  filtradas = filter_bank(s, freqs_AB, sr, orden = 10, bw = 0.5)\n",
        "  x= filtradas[fi]\n",
        "  print('Frecuencia Central del filtro: ' + str(freqs_AB[fi]))\n",
        "  graficarTodo(x[i:i+n], showFreq=True)\n",
        "  display(Audio(x, rate = sr))\n",
        "\n",
        "interact(g, i = (0, len(x)), n = (0, sr), fi = (0, len(freqs_AB)))"
      ]
    },
    {
      "cell_type": "markdown",
      "metadata": {
        "id": "IR1z2Y5GSBQy"
      },
      "source": [
        "# Conclusiones"
      ]
    },
    {
      "cell_type": "markdown",
      "metadata": {
        "id": "XGd5Wzdu8ZkP"
      },
      "source": [
        "El método es excelente cuando se trata de una ÚNICA sinusoide dampeada o modulada en amplitud muy lentamente o por una función monótona y suave. Es decir, cuando se cumplen las condiciones del teorema de Bedrossian: f(t)= s(t)*env(t), con s(t) una señal cuya F.T. tiene todas frecuencias mayores que las de env(t)\n",
        "\n",
        "En el caso particular de que s(t) sea una sinusoide y e(t) cualquier señal de variación lenta, digamos, menor a 200hz o 100hz, anda muy bien la extracción de envolvente e incluso de frecuencia (que en este caso no nos interesa obtener).\n",
        "\n",
        "En el caso de la salida de un filtro pasabandas, de vuelta, funciona muy bien si el filtro es angosto o si justo se puede descomponer en \"una unica sinusoide modulada\".\n",
        "\n",
        "El problema está en la suma de dos sinusoides: Por la identidad de la suma = dif*sum etc, se va a tomar como envolvente a una señal que, para nosotros, puede ser también de alta frecuencia. En la matemática anda bien, pero en lo que queremos lograr no, no es lo que queremos.\n",
        "(se toma como \"envolvente\" a la señal lenta en la identidad sin(f1t)+sin(f2t)= cos(f1-f2 /2 t)sen(f1+f2 /2 t) )\n",
        "\n",
        "\n",
        "Algo similar puede ocurrir en la salida del pasabandas según la señal de entrada o si la banda no es muy angosta. Ya se pierde un poco la interpretación de \"envolvente\" y ni siquiera se puede obtener la frecuencia instantánea (o frecuencia real, si la función que resulta es periódica) en la generalidad de los casos. A tener en cuenta a la hora de estudiar donde falla esta extracción.\n",
        "\n",
        "\n",
        "-Si la señal tiene picos o es muy discontinua, la extracción de envolvente anda mal en las transientes, pero mejora bastante con un filtro aplicado a la envolvente.\n",
        "\n",
        "-Si se trata de suma de dos sinusoides, extraer la envolvente de la envolvente anda bien en algunos casos.\n",
        "No exploro y dejo de lado ese camino.\n",
        "\n",
        "-Si se trata de ruido blanco filtrado por un pasabanda, también anda muy bien.\n",
        "Con señales musicales, en la parte estacionaria anda muy bien. En la transiente también, mejor de lo esperado, para instrumentos que no sean de percusión (no estudié estos últimos)."
      ]
    },
    {
      "cell_type": "markdown",
      "metadata": {
        "id": "KHH3WY3iemea"
      },
      "source": []
    },
    {
      "cell_type": "markdown",
      "metadata": {
        "id": "J4CWBvYnh5tY"
      },
      "source": [
        "# Comparación con la librería scipy"
      ]
    },
    {
      "cell_type": "code",
      "execution_count": null,
      "metadata": {
        "id": "1fKqEjmmh5fV"
      },
      "outputs": [],
      "source": [
        "import scipy"
      ]
    },
    {
      "cell_type": "code",
      "execution_count": null,
      "metadata": {
        "id": "e5HiRJOUemFS"
      },
      "outputs": [],
      "source": [
        "x = np.exp([-np.abs(i)/500 for i in range(-1000,1000)])* np.sin([i*2*pi*200/44100 for i in range(2000)])\n",
        "smia = HT(x)\n",
        "sotra = scipy.signal.hilbert(x)\n",
        "#plt.plot(x)\n",
        "plt.plot(np.sqrt(smia**2 + x**2))\n",
        "plt.plot(np.abs(sotra))\n",
        "plt.plot(smia-np.imag(sotra))"
      ]
    },
    {
      "cell_type": "code",
      "execution_count": null,
      "metadata": {
        "id": "rz5AB5mSiwyp"
      },
      "outputs": [],
      "source": [
        "print(max(smia-np.imag(sotra)))"
      ]
    }
  ],
  "metadata": {
    "colab": {
      "provenance": [],
      "toc_visible": true
    },
    "kernelspec": {
      "display_name": "Python 3",
      "name": "python3"
    },
    "language_info": {
      "codemirror_mode": {
        "name": "ipython",
        "version": 3
      },
      "file_extension": ".py",
      "mimetype": "text/x-python",
      "name": "python",
      "nbconvert_exporter": "python",
      "pygments_lexer": "ipython3",
      "version": "3.13.1"
    }
  },
  "nbformat": 4,
  "nbformat_minor": 0
}